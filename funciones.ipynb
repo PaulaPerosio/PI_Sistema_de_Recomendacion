{
 "cells": [
  {
   "cell_type": "code",
   "execution_count": 1,
   "metadata": {},
   "outputs": [],
   "source": [
    "import pandas as pd"
   ]
  },
  {
   "cell_type": "code",
   "execution_count": null,
   "metadata": {},
   "outputs": [],
   "source": [
    "\n",
    "#df_item_user_group.to_json(\"DataSets/df_item_user_group.json\", orient=\"records\", lines=True)\n"
   ]
  },
  {
   "cell_type": "code",
   "execution_count": 64,
   "metadata": {},
   "outputs": [],
   "source": [
    "def userdata( user_id : str ): \n",
    "    '''Esta funcion devuelve la cantidad de dinero gastado por el usuario, \n",
    "    el porcentaje de recomendación en base a reviews.recommend \n",
    "    y cantidad de items'''\n",
    "\n",
    "    try:\n",
    "        df_1 = pd.read_json(\"DataSets/df_user_price.json\", lines=True)\n",
    "        dinero_gastado = df_1['price'][df_1['user_id']==user_id]\n",
    "\n",
    "        df_2 = pd.read_json(\"DataSets/df_porc_recomm.json\", lines=True)\n",
    "        recomendacion = df_2['Recomendacion'][df_2['user_id']==user_id]\n",
    "\n",
    "        df_3 = pd.read_json(\"DataSets/df_item_user_group.json\", lines=True)\n",
    "        cantidad_item_id = df_3['Cantidad_item_id'][df_3['user_id']==user_id]\n",
    "\n",
    "        \n",
    "        # Verifico si el genero existe\n",
    "        if dinero_gastado.empty or recomendacion.empty or cantidad_item_id.empty:\n",
    "            return {\"error\": f\"No se encontraron resultados para el usuario '{user_id}'.\"}\n",
    "\n",
    "        resultado = {\n",
    "                     \"Usuario\": user_id,\n",
    "                     \"Dinero gastado\": dinero_gastado.iloc[0],\n",
    "                     \"Porcentaje de recomendacion\": recomendacion.iloc[0],\n",
    "                     \"Cantidad de items\": cantidad_item_id.iloc[0]\n",
    "                    }\n",
    "\n",
    "        return resultado\n",
    "\n",
    "    except Exception as e:\n",
    "        return {\"error\": str(e)}"
   ]
  },
  {
   "cell_type": "code",
   "execution_count": 67,
   "metadata": {},
   "outputs": [
    {
     "data": {
      "text/plain": [
       "{'Usuario': '--000--',\n",
       " 'Dinero gastado': 402.77,\n",
       " 'Porcentaje de recomendacion': 100.0,\n",
       " 'Cantidad de items': 58}"
      ]
     },
     "execution_count": 67,
     "metadata": {},
     "output_type": "execute_result"
    }
   ],
   "source": [
    "user_id = '--000--'\n",
    "userdata(user_id)"
   ]
  },
  {
   "cell_type": "code",
   "execution_count": null,
   "metadata": {},
   "outputs": [],
   "source": []
  },
  {
   "cell_type": "code",
   "execution_count": 44,
   "metadata": {},
   "outputs": [],
   "source": [
    "def funcion_countreviews(fecha_inicio_str, fecha_fin_str): # 'YYYY-MM-DD' y 'YYYY-MM-DD' : str\n",
    "    '''Esta funcion devuelve la cantidad de usuarios que realizaron reviews entre las fechas dadas y,\n",
    "    el porcentaje de recomendación de los mismos en base a reviews.recommend'''\n",
    "\n",
    "    try:\n",
    "        df = pd.read_json(\"DataSets/df_countreviews.json\", lines=True)\n",
    "\n",
    "        # Verifica el formato 'aaaa-mm-dd'\n",
    "        if not fecha_inicio_str.count('-') == fecha_fin_str.count('-') == 2:\n",
    "            return {\"error\": \"El formato de fecha es incorrecto. Debe ser YYYY-MM-DD.\"}\n",
    "        \n",
    "        # Verifico si las fechan existen\n",
    "        if df[df['posted_ok'] == fecha_inicio_str].empty:\n",
    "            return {\"error\": f\"La fecha '{fecha_inicio_str}' de inicio no existe.\"}\n",
    "        \n",
    "        if df[df['posted_ok'] == fecha_fin_str].empty:\n",
    "            return {\"error\": f\"La fecha '{fecha_fin_str}' de fin no existe.\"}\n",
    "\n",
    "        condicion = (df['posted_ok'] >= fecha_inicio_str) & (df['posted_ok'] <= fecha_fin_str)\n",
    "        recomendacion = df[condicion][df[condicion]['recommend']==True].shape[0]\n",
    "        porc_recomendacion = recomendacion / df[condicion].shape[0] * 100\n",
    "\n",
    "        resultado = {\n",
    "                     \"Cantidad de usuarios\": df[condicion].shape[0],\n",
    "                     \"Porcentaje de recomendación\": round(porc_recomendacion, 2)\n",
    "                    }\n",
    "        \n",
    "        return resultado\n",
    "\n",
    "    except Exception as e:\n",
    "        return {\"error\": str(e)}\n"
   ]
  },
  {
   "cell_type": "code",
   "execution_count": 45,
   "metadata": {},
   "outputs": [
    {
     "data": {
      "text/plain": [
       "{'Cantidad de usuarios': 60, 'Porcentaje de recomendación': 96.67}"
      ]
     },
     "execution_count": 45,
     "metadata": {},
     "output_type": "execute_result"
    }
   ],
   "source": [
    "fecha_inicio_str = '2011-12-27'\n",
    "fecha_fin_str = '2011-12-27'\n",
    "\n",
    "funcion_countreviews(fecha_inicio_str, fecha_fin_str)"
   ]
  },
  {
   "cell_type": "code",
   "execution_count": null,
   "metadata": {},
   "outputs": [],
   "source": []
  },
  {
   "cell_type": "code",
   "execution_count": 13,
   "metadata": {},
   "outputs": [],
   "source": [
    "def genre(genero): \n",
    "    '''Devuelve el puesto en el que se encuentra un género sobre el ranking de los mismos \n",
    "    analizado bajo la columna PlayTimeForever.'''\n",
    "    try:\n",
    "        df = pd.read_json(\"DataSets/df_genre.json\", lines=True)\n",
    "        genero = genero.lower()  # Convertir a minúsculas\n",
    "\n",
    "        # Verifico si el género existe\n",
    "        if df[df['genres'] == genero].empty:\n",
    "            return {\"error\": f\"No se encontraron resultados para el género '{genero}'.\"}\n",
    "\n",
    "        result = df['ranking'][df['genres'] == genero].iloc[0]\n",
    "        return {\"Genero\": genero, \"Ranking\": result}\n",
    "    except Exception as e:\n",
    "        return {\"error\": str(e)}\n"
   ]
  },
  {
   "cell_type": "code",
   "execution_count": 14,
   "metadata": {},
   "outputs": [
    {
     "data": {
      "text/plain": [
       "{'Genero': 'action', 'Ranking': 1}"
      ]
     },
     "execution_count": 14,
     "metadata": {},
     "output_type": "execute_result"
    }
   ],
   "source": [
    "genre('ActIon')"
   ]
  },
  {
   "cell_type": "code",
   "execution_count": null,
   "metadata": {},
   "outputs": [],
   "source": []
  },
  {
   "cell_type": "code",
   "execution_count": 39,
   "metadata": {},
   "outputs": [],
   "source": [
    "def userforgenre(genero): \n",
    "    \n",
    "    '''Esta funcion devuelve el top 5 de usuarios con más horas de juego \n",
    "    en el género dado, con su URL (del user) y user_id'''\n",
    "\n",
    "    try:\n",
    "        df = pd.read_json(\"DataSets/df_userforgenre.json\", lines=True)\n",
    "        genero = genero.lower()  # Convierto a minúsculas\n",
    "        ranking = df[['ranking']][df['genres']==genero]\n",
    "        user = df[['user_id']][df['genres']==genero]\n",
    "        url = df[['user_url']][df['genres']==genero]\n",
    "        \n",
    "        # Verifico si el genero existe\n",
    "        if ranking.empty or user.empty or url.empty:\n",
    "            return {\"error\": f\"No se encontraron resultados para el género '{genero}'.\"}\n",
    "        \n",
    "        # Creao un diccionario con los resultados\n",
    "        resultados = {\n",
    "            \"Ranking\": ranking.values.tolist(),\n",
    "            \"User_ID\": user.values.tolist(),\n",
    "            \"User_URL\": url.values.tolist()\n",
    "                    }\n",
    "        return resultados\n",
    "    \n",
    "    except Exception as e:\n",
    "        return {\"error\": str(e)}"
   ]
  },
  {
   "cell_type": "code",
   "execution_count": 41,
   "metadata": {},
   "outputs": [
    {
     "data": {
      "text/plain": [
       "{'Ranking': [[1], [2], [3], [4], [5]],\n",
       " 'User_ID': [['76561197995725436'],\n",
       "  ['76561198065902279'],\n",
       "  ['express157'],\n",
       "  ['76561198045342815'],\n",
       "  ['1silentsniper1']],\n",
       " 'User_URL': [['http://steamcommunity.com/profiles/76561197995725436'],\n",
       "  ['http://steamcommunity.com/profiles/76561198065902279'],\n",
       "  ['http://steamcommunity.com/id/express157'],\n",
       "  ['http://steamcommunity.com/profiles/76561198045342815'],\n",
       "  ['http://steamcommunity.com/id/1silentsniper1']]}"
      ]
     },
     "execution_count": 41,
     "metadata": {},
     "output_type": "execute_result"
    }
   ],
   "source": [
    "userforgenre('Sports')"
   ]
  },
  {
   "cell_type": "code",
   "execution_count": null,
   "metadata": {},
   "outputs": [],
   "source": []
  },
  {
   "cell_type": "code",
   "execution_count": 2,
   "metadata": {},
   "outputs": [],
   "source": [
    "def developer(desarrollador): \n",
    "    '''Esta funcion devuelve la cantidad de items y porcentaje de contenido Free por año \n",
    "    según empresa desarrolladora.'''\n",
    "    try:\n",
    "        df = pd.read_json(\"DataSets/df_developer.json\", lines=True)\n",
    "        desarrollador = desarrollador.lower()  # Convierto a minúsculas\n",
    "        \n",
    "        # Filtro el DF por desarrollador y verifico si el desarrollador existe\n",
    "        df_filtrado = df[df['developer'] == desarrollador]\n",
    "\n",
    "        if df_filtrado.empty:\n",
    "            return {\"error\": f\"No se encontraron resultados para el desarrollador '{desarrollador}'.\"}\n",
    "        \n",
    "        # Agrupo por año y cuento los registros\n",
    "        registros = df_filtrado.groupby('año')['item_id'].count().reset_index(name='cantidad_item')\n",
    "        \n",
    "        # Cuento los registros donde el precio = cero\n",
    "        free = df_filtrado[df_filtrado['price'] == 0.0].groupby('año')['price'].count().reset_index(name='contenido_free')\n",
    "        \n",
    "        # Combino ambos DataFrames\n",
    "        resultados = registros.merge(free, on='año', how='left')\n",
    "        \n",
    "        # Calculo el porcentaje de contenido gratuito\n",
    "        resultados['porcentaje_free'] = (resultados['contenido_free'] / resultados['cantidad_item']) * 100\n",
    "        \n",
    "        # Si no hay valores price, le ongo cero\n",
    "        resultados['porcentaje_free'].fillna(0, inplace=True)\n",
    "        \n",
    "        # Diccionario de resultados\n",
    "        resultados_dict = {\n",
    "            \"Año\": resultados['año'].tolist(),\n",
    "            \"Cantidad de Items\": resultados['cantidad_item'].tolist(),\n",
    "            \"Porcentaje de contenido Free\": resultados['porcentaje_free'].tolist()\n",
    "        }\n",
    "        return resultados_dict\n",
    "    \n",
    "    except Exception as e:\n",
    "        return {\"error\": str(e)}\n"
   ]
  },
  {
   "cell_type": "code",
   "execution_count": 6,
   "metadata": {},
   "outputs": [
    {
     "data": {
      "text/plain": [
       "{'Año': [2013, 2018],\n",
       " 'Cantidad de Items': [1, 5],\n",
       " 'Porcentaje de contenido Free': [100.0, 0.0]}"
      ]
     },
     "execution_count": 6,
     "metadata": {},
     "output_type": "execute_result"
    }
   ],
   "source": [
    "developer('poppErmost productions')"
   ]
  },
  {
   "cell_type": "code",
   "execution_count": null,
   "metadata": {},
   "outputs": [],
   "source": []
  },
  {
   "cell_type": "code",
   "execution_count": 19,
   "metadata": {},
   "outputs": [],
   "source": [
    "def sentiment_analysis(año_str: str): \n",
    "    '''Esta funcion devuelve una lista con la cantidad de registros de reseñas de usuarios \n",
    "    que se encuentren categorizados con un análisis de sentimiento según el año de lanzamiento.\n",
    "    '''\n",
    "    try:\n",
    "        # Convierto el año a entero\n",
    "        año = int(año_str)\n",
    "        \n",
    "        df = pd.read_json(\"DataSets/df_sentiment.json\", lines=True)\n",
    "        \n",
    "        # Verifico que el año este en el DataFrame\n",
    "        if año not in df['ano'].unique():\n",
    "            return {\"error\": f\"No se encontraron registros para el año {año}\"}\n",
    "\n",
    "        negativos = int(df['cantidad_0'][df['ano']==año].iloc[0])\n",
    "        neutros = int(df['cantidad_1'][df['ano']==año].iloc[0])\n",
    "        positivos = int(df['cantidad_2'][df['ano']==año].iloc[0])\n",
    "\n",
    "        return {\"Negativos\": negativos, \"Neutros\": neutros, \"Positivos\" : positivos}\n",
    "    \n",
    "    except Exception as e:\n",
    "        return {\"error\": str(e)}\n"
   ]
  },
  {
   "cell_type": "code",
   "execution_count": 25,
   "metadata": {},
   "outputs": [
    {
     "data": {
      "text/plain": [
       "{'Negativos': 2, 'Neutros': 66, 'Positivos': 14}"
      ]
     },
     "execution_count": 25,
     "metadata": {},
     "output_type": "execute_result"
    }
   ],
   "source": [
    "sentiment_analysis(1998)"
   ]
  },
  {
   "cell_type": "code",
   "execution_count": null,
   "metadata": {},
   "outputs": [],
   "source": []
  },
  {
   "cell_type": "code",
   "execution_count": null,
   "metadata": {},
   "outputs": [],
   "source": []
  }
 ],
 "metadata": {
  "kernelspec": {
   "display_name": "Python 3",
   "language": "python",
   "name": "python3"
  },
  "language_info": {
   "codemirror_mode": {
    "name": "ipython",
    "version": 3
   },
   "file_extension": ".py",
   "mimetype": "text/x-python",
   "name": "python",
   "nbconvert_exporter": "python",
   "pygments_lexer": "ipython3",
   "version": "3.10.3"
  },
  "orig_nbformat": 4
 },
 "nbformat": 4,
 "nbformat_minor": 2
}
