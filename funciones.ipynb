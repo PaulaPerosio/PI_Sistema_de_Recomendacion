{
 "cells": [
  {
   "cell_type": "code",
   "execution_count": 1,
   "metadata": {},
   "outputs": [],
   "source": [
    "import pandas as pd"
   ]
  },
  {
   "cell_type": "code",
   "execution_count": 15,
   "metadata": {},
   "outputs": [],
   "source": [
    "def sentiment_analysis(año:int): \n",
    "    '''Esta funcion devuelve una lista con la cantidad de registros de reseñas de usuarios \n",
    "    que se encuentren categorizados con un análisis de sentimiento según el año de lanzamiento.\n",
    "        Ejemplo de retorno: {Negative = 182, Neutral = 120, Positive = 278}'''\n",
    "    try:\n",
    "        df = pd.read_csv(\"DataSets/df_sentiment.csv\")\n",
    "        negativos = int(df['cantidad_0'][df['ano']==año].iloc[0])\n",
    "        neutros = int(df['cantidad_1'][df['ano']==año].iloc[0])\n",
    "        positivos = int(df['cantidad_2'][df['ano']==año].iloc[0])\n",
    "\n",
    "        return {\"Negativos\": negativos, \"Neutros\": neutros, \"Positivos\" : positivos}\n",
    "    except Exception as e:\n",
    "        return {\"error\", e}"
   ]
  },
  {
   "cell_type": "code",
   "execution_count": 16,
   "metadata": {},
   "outputs": [
    {
     "data": {
      "text/plain": [
       "{'error', IndexError('single positional indexer is out-of-bounds')}"
      ]
     },
     "execution_count": 16,
     "metadata": {},
     "output_type": "execute_result"
    }
   ],
   "source": [
    "sentiment_analysis(1000)"
   ]
  }
 ],
 "metadata": {
  "kernelspec": {
   "display_name": "Python 3",
   "language": "python",
   "name": "python3"
  },
  "language_info": {
   "codemirror_mode": {
    "name": "ipython",
    "version": 3
   },
   "file_extension": ".py",
   "mimetype": "text/x-python",
   "name": "python",
   "nbconvert_exporter": "python",
   "pygments_lexer": "ipython3",
   "version": "3.10.3"
  },
  "orig_nbformat": 4
 },
 "nbformat": 4,
 "nbformat_minor": 2
}
