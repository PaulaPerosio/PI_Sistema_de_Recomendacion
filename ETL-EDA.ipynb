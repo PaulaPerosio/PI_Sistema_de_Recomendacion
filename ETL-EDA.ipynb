{
 "cells": [
  {
   "cell_type": "markdown",
   "metadata": {},
   "source": [
    "Se importan todas las librerias necesaria para el desarrollo de este trabajo"
   ]
  },
  {
   "cell_type": "code",
   "execution_count": 1,
   "metadata": {},
   "outputs": [],
   "source": [
    "import pandas as pd\n",
    "import numpy as np\n",
    "import json\n",
    "import gzip\n",
    "import ast\n",
    "from textblob import TextBlob\n",
    "from datetime import datetime\n",
    "import matplotlib.pyplot as plt\n",
    "import seaborn as sns\n",
    "sns.set()"
   ]
  },
  {
   "cell_type": "markdown",
   "metadata": {},
   "source": [
    "# Apertura y lectura de archivos"
   ]
  },
  {
   "cell_type": "markdown",
   "metadata": {},
   "source": [
    "- Después de varias pruebas de apertura de los 3 archivos, se desarrollaron dos funciones utilizando diferentes librerías ya que no fue posible abrir los tres archivos con el mismo código.\n",
    "- def abrir_archivo_comprimido_1(nombre_archivo): utiliza json.loads(). Función ideal si los datos en el archivo comprimido están en formato JSON válido, ya que es específica para ese propósito y proporciona una mayor seguridad al garantizar que los datos estén en el formato correcto.\n",
    "- def abrir_archivo_comprimido_2(nombre_archivo): utiliza ast.literal_eval(), la cual puede interpretar expresiones más complejas que podrían no ser JSON válido. Esto se usó para los archivos user_reviews.json.gz y users_items.json.gz donde no fue posible usar la otra función."
   ]
  },
  {
   "cell_type": "code",
   "execution_count": 2,
   "metadata": {},
   "outputs": [],
   "source": [
    "def abrir_archivo_comprimido_1(nombre_archivo):\n",
    "    '''\n",
    "    Esta función abre un archivo comprimido y luego interpreta cada línea como un objeto JSON. \n",
    "    Utiliza la función json.loads() para hacer esto, la cual toma una cadena y \n",
    "    la convierte en un objeto Python utilizando el formato JSON. \n",
    "    line.strip() elimina los espacios en blanco al principio y al final de la línea.\n",
    "    '''\n",
    "    with gzip.open(nombre_archivo, 'rt', encoding=\"UTF-8\") as archivo:\n",
    "        return [json.loads(line.strip()) for line in archivo]"
   ]
  },
  {
   "cell_type": "code",
   "execution_count": 3,
   "metadata": {},
   "outputs": [],
   "source": [
    "def abrir_archivo_comprimido_2(nombre_archivo):\n",
    "    '''\n",
    "    Esta función abre un archivo comprimido y luego interpreta cada línea. \n",
    "    Utiliza la funcion ast.literal_eval(), la cual evalúa una expresión literal de Python \n",
    "    que se encuentra en la cadena. \n",
    "    '''\n",
    "    with gzip.open(nombre_archivo, 'rt', encoding=\"UTF-8\") as archivo:\n",
    "        return [ast.literal_eval(line.strip()) for line in archivo]"
   ]
  },
  {
   "cell_type": "markdown",
   "metadata": {},
   "source": [
    "# EDA y ETL"
   ]
  },
  {
   "cell_type": "markdown",
   "metadata": {},
   "source": [
    "Para la realizacion del EDA (Exploratory Data Analysis) y ETL (Extraction, Transformation, and Loading) se decidio trabajar en cada archivo de manera independiente.\n",
    "\n",
    "Después de abrir cada uno de estos archivos, se exploró su tamaño con .shape, las columnas y su contenido, la cantidad de valores nulos y el tipo de dato usando .info() y la funcion conocer_archivo(df, fila). Este proceso se realizó de manera iterativa durante el desarrollo del ETL-EDA. \n",
    "\n",
    "Luego se desanidaron los datos utilizando la función explode() que toma las líneas de código con diccionarios y las descompone en filas individuales. Luego la función pd.json_normalize() toma los datos JSON anidados y los transforma en un DataFrame, donde cada atributo del JSON se convierte en una columna separada.\n",
    "\n",
    "Después de esta transformación, se volvió a analizar el contenido y el tipo de dato de las columnas. Se exploró la presencia de registros completamente nulos con .isna().all(axis=1) o completamente duplicados con .duplicated(). En estos casos, dichos registros fueron eliminados. Este proceso se repitió de manera iterativa durante el desarrollo del ETL-EDA.\n",
    "\n",
    "Con acceso al contenido completo de los archivos y tras haber realizado una pequeña exploración y limpieza, se procedió a analizar detenidamente los requisitos de las funciones y del modelo a desarrollar. Se definió qué columnas serían necesarias para el desarrollo de la API estableciendo asi cuales considerar de importancia para continuar con el proceso de EDA y ETL.\n",
    "\n",
    "Se exploró cada columna de manera independiente respecto a su cantidad de nulos, duplicados, contenido y tipo de dato utilizando la funcion conocer_columna (df,columna) y demas funciones necesarias. \n",
    "\n",
    "Se llevaron a cabo diferentes transformaciones específicas:\n",
    "- Análisis de sentimientos en la columna ‘review’ utilizando la función TextBlob().\n",
    "- Cambio de formato de fecha en la columna ‘posted’ utilizando la función strptime().\n",
    "- Tranformacion de datos nulos en la columna ‘release_date’ utilizando la función pd.to_datetime().\n",
    "- Transformación de los datos tipo textos en la columna ‘price’ utilizando la función startswith().\n",
    "- Conversión de columnas a un solo tipo de dato.\n",
    "- Otros\n",
    "\n",
    "Se eliminaron:\n",
    "- Registros nulos y duplicados completos.\n",
    "- Registros con datos no adecuados, outliers o incompletos. Por ejemplo, fechas sin años.\n",
    "- Registros donde la falta de datos en ciertas columnas hacía que el registro no fuera útil para el desarrollo de las funciones. Por ejemplo, tener ‘item_id’ pero no tener ‘playtime_forever’.\n",
    "- Registros donde la cantidad de datos a eliminar eran pocos en comparacion con el total.\n",
    "- Otros"
   ]
  },
  {
   "cell_type": "code",
   "execution_count": 23,
   "metadata": {},
   "outputs": [],
   "source": [
    "def conocer_archivo(df, fila):\n",
    "    ''' \n",
    "    Esta función recorre las columnas de un DF y obtiene el tipo de dato \n",
    "    y el contenido de cada elemento en una fila especificada. \n",
    "    '''\n",
    "    informacion = []\n",
    "    for columna in df.columns:\n",
    "        tipo_dato = type(df.loc[fila, columna])\n",
    "        valor = df.loc[fila, columna]\n",
    "        info = f\"Columna: {columna}   // Tipo dato: {tipo_dato}   //  Informacion: {valor}\"\n",
    "        informacion.append(info)\n",
    "    return informacion"
   ]
  },
  {
   "cell_type": "code",
   "execution_count": 136,
   "metadata": {},
   "outputs": [],
   "source": [
    "def conocer_columna (df,columna):\n",
    "    '''\n",
    "    Esta función devuelve la cantidad de valores nulos \n",
    "    y la distribución de tipos de datos en la columna especificada.\n",
    "    '''\n",
    "    nulos = df[columna].isna().sum()\n",
    "    tipos = df[columna].apply(type).value_counts()\n",
    "\n",
    "    return f\"Cantidad nulos: {nulos}\\nTipo de dato y cantidad:\\n{tipos}\""
   ]
  },
  {
   "cell_type": "markdown",
   "metadata": {},
   "source": [
    "# Trabajamos con el DF de \"user_reviews.json.gz\""
   ]
  },
  {
   "cell_type": "code",
   "execution_count": 80,
   "metadata": {},
   "outputs": [
    {
     "data": {
      "text/html": [
       "<div>\n",
       "<style scoped>\n",
       "    .dataframe tbody tr th:only-of-type {\n",
       "        vertical-align: middle;\n",
       "    }\n",
       "\n",
       "    .dataframe tbody tr th {\n",
       "        vertical-align: top;\n",
       "    }\n",
       "\n",
       "    .dataframe thead th {\n",
       "        text-align: right;\n",
       "    }\n",
       "</style>\n",
       "<table border=\"1\" class=\"dataframe\">\n",
       "  <thead>\n",
       "    <tr style=\"text-align: right;\">\n",
       "      <th></th>\n",
       "      <th>user_id</th>\n",
       "      <th>user_url</th>\n",
       "      <th>reviews</th>\n",
       "    </tr>\n",
       "  </thead>\n",
       "  <tbody>\n",
       "    <tr>\n",
       "      <th>0</th>\n",
       "      <td>76561197970982479</td>\n",
       "      <td>http://steamcommunity.com/profiles/76561197970...</td>\n",
       "      <td>[{'funny': '', 'posted': 'Posted November 5, 2...</td>\n",
       "    </tr>\n",
       "  </tbody>\n",
       "</table>\n",
       "</div>"
      ],
      "text/plain": [
       "             user_id                                           user_url  \\\n",
       "0  76561197970982479  http://steamcommunity.com/profiles/76561197970...   \n",
       "\n",
       "                                             reviews  \n",
       "0  [{'funny': '', 'posted': 'Posted November 5, 2...  "
      ]
     },
     "execution_count": 80,
     "metadata": {},
     "output_type": "execute_result"
    }
   ],
   "source": [
    "df_review = pd.DataFrame (abrir_archivo_comprimido_2 (\"Datos\\\\user_reviews.json.gz\")) \n",
    "df_review.head(1)"
   ]
  },
  {
   "cell_type": "code",
   "execution_count": 81,
   "metadata": {},
   "outputs": [
    {
     "data": {
      "text/plain": [
       "(25799, 3)"
      ]
     },
     "execution_count": 81,
     "metadata": {},
     "output_type": "execute_result"
    }
   ],
   "source": [
    "df_review.shape"
   ]
  },
  {
   "cell_type": "code",
   "execution_count": 82,
   "metadata": {},
   "outputs": [
    {
     "name": "stdout",
     "output_type": "stream",
     "text": [
      "<class 'pandas.core.frame.DataFrame'>\n",
      "RangeIndex: 25799 entries, 0 to 25798\n",
      "Data columns (total 3 columns):\n",
      " #   Column    Non-Null Count  Dtype \n",
      "---  ------    --------------  ----- \n",
      " 0   user_id   25799 non-null  object\n",
      " 1   user_url  25799 non-null  object\n",
      " 2   reviews   25799 non-null  object\n",
      "dtypes: object(3)\n",
      "memory usage: 604.8+ KB\n"
     ]
    }
   ],
   "source": [
    "df_review.info()"
   ]
  },
  {
   "cell_type": "code",
   "execution_count": 83,
   "metadata": {},
   "outputs": [
    {
     "data": {
      "text/plain": [
       "[\"Columna: user_id   // Tipo dato: <class 'str'>   //  Informacion: js41637\",\n",
       " \"Columna: user_url   // Tipo dato: <class 'str'>   //  Informacion: http://steamcommunity.com/id/js41637\",\n",
       " 'Columna: reviews   // Tipo dato: <class \\'list\\'>   //  Informacion: [{\\'funny\\': \\'\\', \\'posted\\': \\'Posted June 24, 2014.\\', \\'last_edited\\': \\'\\', \\'item_id\\': \\'251610\\', \\'helpful\\': \\'15 of 20 people (75%) found this review helpful\\', \\'recommend\\': True, \\'review\\': \\'I know what you think when you see this title \"Barbie Dreamhouse Party\" but do not be intimidated by it\\\\\\'s title, this is easily one of my GOTYs. You don\\\\\\'t get any of that cliche game mechanics that all the latest games have, this is simply good core gameplay. Yes, you can\\\\\\'t 360 noscope your friends, but what you can do is show them up with your bad ♥♥♥ dance moves and put them to shame as you show them what true fashion and color combinations are.I know this game says for kids but, this is easily for any age range and any age will have a blast playing this.8/8\\'}, {\\'funny\\': \\'\\', \\'posted\\': \\'Posted September 8, 2013.\\', \\'last_edited\\': \\'\\', \\'item_id\\': \\'227300\\', \\'helpful\\': \\'0 of 1 people (0%) found this review helpful\\', \\'recommend\\': True, \\'review\\': \"For a simple (it\\'s actually not all that simple but it can be!) truck driving Simulator, it is quite a fun and relaxing game. Playing on simple (or easy?) its just the basic WASD keys for driving but (if you want) the game can be much harder and realistic with having to manually change gears, much harder turning, etc. And reversing in this game is a ♥♥♥♥♥, as I imagine it would be with an actual truck. Luckily, you don\\'t have to reverse park it but you get extra points if you do cause it is bloody hard. But this is suprisingly a nice truck driving game and I had a bit of fun with it.\"}, {\\'funny\\': \\'\\', \\'posted\\': \\'Posted November 29, 2013.\\', \\'last_edited\\': \\'\\', \\'item_id\\': \\'239030\\', \\'helpful\\': \\'1 of 4 people (25%) found this review helpful\\', \\'recommend\\': True, \\'review\\': \\'Very fun little game to play when your bored or as a time passer. Very gud. Do Recommend. pls buy\\'}]']"
      ]
     },
     "execution_count": 83,
     "metadata": {},
     "output_type": "execute_result"
    }
   ],
   "source": [
    "conocer_archivo (df_review,1)"
   ]
  },
  {
   "cell_type": "code",
   "execution_count": 84,
   "metadata": {},
   "outputs": [
    {
     "data": {
      "text/plain": [
       "{'funny': '',\n",
       " 'posted': 'Posted July 15, 2011.',\n",
       " 'last_edited': '',\n",
       " 'item_id': '22200',\n",
       " 'helpful': 'No ratings yet',\n",
       " 'recommend': True,\n",
       " 'review': \"It's unique and worth a playthrough.\"}"
      ]
     },
     "execution_count": 84,
     "metadata": {},
     "output_type": "execute_result"
    }
   ],
   "source": [
    "# Entro en un registro de la columna 'reviews'\n",
    "df_review.iloc[0,2][1]"
   ]
  },
  {
   "cell_type": "code",
   "execution_count": 85,
   "metadata": {},
   "outputs": [],
   "source": [
    "###  Desanidar los datos de la columna 'reviews' \n",
    "\n",
    "# Abro el dicc que hay en 'reviews' para que cada elemento esté en una fila separada\n",
    "df_review = df_review.explode('reviews').reset_index(drop=True)\n",
    "\n",
    "# Desanido la 'reviews' en múltiples 'reviews's\n",
    "df_review_des = pd.json_normalize(df_review['reviews'])\n",
    "\n",
    "# Combino los dataframe\n",
    "df_review_des= pd.concat([df_review.drop(columns=['reviews']), df_review_des], axis=1)"
   ]
  },
  {
   "cell_type": "code",
   "execution_count": 86,
   "metadata": {},
   "outputs": [
    {
     "data": {
      "text/html": [
       "<div>\n",
       "<style scoped>\n",
       "    .dataframe tbody tr th:only-of-type {\n",
       "        vertical-align: middle;\n",
       "    }\n",
       "\n",
       "    .dataframe tbody tr th {\n",
       "        vertical-align: top;\n",
       "    }\n",
       "\n",
       "    .dataframe thead th {\n",
       "        text-align: right;\n",
       "    }\n",
       "</style>\n",
       "<table border=\"1\" class=\"dataframe\">\n",
       "  <thead>\n",
       "    <tr style=\"text-align: right;\">\n",
       "      <th></th>\n",
       "      <th>user_id</th>\n",
       "      <th>user_url</th>\n",
       "      <th>funny</th>\n",
       "      <th>posted</th>\n",
       "      <th>last_edited</th>\n",
       "      <th>item_id</th>\n",
       "      <th>helpful</th>\n",
       "      <th>recommend</th>\n",
       "      <th>review</th>\n",
       "    </tr>\n",
       "  </thead>\n",
       "  <tbody>\n",
       "    <tr>\n",
       "      <th>0</th>\n",
       "      <td>76561197970982479</td>\n",
       "      <td>http://steamcommunity.com/profiles/76561197970...</td>\n",
       "      <td></td>\n",
       "      <td>Posted November 5, 2011.</td>\n",
       "      <td></td>\n",
       "      <td>1250</td>\n",
       "      <td>No ratings yet</td>\n",
       "      <td>True</td>\n",
       "      <td>Simple yet with great replayability. In my opi...</td>\n",
       "    </tr>\n",
       "  </tbody>\n",
       "</table>\n",
       "</div>"
      ],
      "text/plain": [
       "             user_id                                           user_url funny  \\\n",
       "0  76561197970982479  http://steamcommunity.com/profiles/76561197970...         \n",
       "\n",
       "                     posted last_edited item_id         helpful recommend  \\\n",
       "0  Posted November 5, 2011.                1250  No ratings yet      True   \n",
       "\n",
       "                                              review  \n",
       "0  Simple yet with great replayability. In my opi...  "
      ]
     },
     "execution_count": 86,
     "metadata": {},
     "output_type": "execute_result"
    }
   ],
   "source": [
    "df_review_des.head(1)"
   ]
  },
  {
   "cell_type": "code",
   "execution_count": 87,
   "metadata": {},
   "outputs": [
    {
     "data": {
      "text/plain": [
       "(59333, 9)"
      ]
     },
     "execution_count": 87,
     "metadata": {},
     "output_type": "execute_result"
    }
   ],
   "source": [
    "df_review_des.shape"
   ]
  },
  {
   "cell_type": "code",
   "execution_count": null,
   "metadata": {},
   "outputs": [],
   "source": [
    "# Registros completamente vacios\n",
    "df_review_des[df_review_des.isna().all(axis=1)].count()"
   ]
  },
  {
   "cell_type": "code",
   "execution_count": null,
   "metadata": {},
   "outputs": [],
   "source": [
    "# Registros duplicados\n",
    "df_review_des[df_review_des.duplicated()].count()"
   ]
  },
  {
   "cell_type": "code",
   "execution_count": 91,
   "metadata": {},
   "outputs": [],
   "source": [
    "# Elimino Registros duplicados\n",
    "df_review_des = df_review_des.drop_duplicates()"
   ]
  },
  {
   "cell_type": "code",
   "execution_count": null,
   "metadata": {},
   "outputs": [],
   "source": [
    "conocer_archivo (df_review_des,1)"
   ]
  },
  {
   "cell_type": "code",
   "execution_count": 96,
   "metadata": {},
   "outputs": [],
   "source": [
    "# Me quedo con las columnas que usare\n",
    "df_review_des = df_review_des[['user_id', 'user_url', 'posted', 'item_id', 'recommend', 'review']]"
   ]
  },
  {
   "cell_type": "markdown",
   "metadata": {},
   "source": [
    "Analisis columna 'user_id:\n",
    "- Los duplicados no se eliminan, ya que luego de desanidar la columna review, hay varias 'review' de un mismo 'user_id'"
   ]
  },
  {
   "cell_type": "code",
   "execution_count": 137,
   "metadata": {},
   "outputs": [
    {
     "name": "stdout",
     "output_type": "stream",
     "text": [
      "Cantidad nulos: 0\n",
      "Tipo de dato y cantidad:\n",
      "<class 'str'>    58431\n",
      "Name: user_id, dtype: int64\n"
     ]
    }
   ],
   "source": [
    "print(conocer_columna (df_review_des,'user_id'))"
   ]
  },
  {
   "cell_type": "markdown",
   "metadata": {},
   "source": [
    "Analisis columna 'item_id':\n",
    "- Como todos los registros que tienen el item_id nulo, tambien tienen nulos los campos: posted, recommend y review, se decide eliminar todos esos registros con item_id nulo"
   ]
  },
  {
   "cell_type": "code",
   "execution_count": 138,
   "metadata": {},
   "outputs": [
    {
     "name": "stdout",
     "output_type": "stream",
     "text": [
      "Cantidad nulos: 0\n",
      "Tipo de dato y cantidad:\n",
      "<class 'str'>    58431\n",
      "Name: item_id, dtype: int64\n"
     ]
    }
   ],
   "source": [
    "print(conocer_columna (df_review_des,'item_id'))"
   ]
  },
  {
   "cell_type": "code",
   "execution_count": null,
   "metadata": {},
   "outputs": [],
   "source": [
    "df_review_des[df_review_des['item_id'].isna()]"
   ]
  },
  {
   "cell_type": "code",
   "execution_count": 100,
   "metadata": {},
   "outputs": [],
   "source": [
    "# eliminar todos esos registros con item_id nulo\n",
    "df_review_des = df_review_des.dropna(subset=['item_id'])"
   ]
  },
  {
   "cell_type": "markdown",
   "metadata": {},
   "source": [
    "Analisis columna 'recommend':\n",
    "- Se convierten los valores booleanos True y False a enteros (0) y (1)"
   ]
  },
  {
   "cell_type": "code",
   "execution_count": 139,
   "metadata": {},
   "outputs": [
    {
     "name": "stdout",
     "output_type": "stream",
     "text": [
      "Cantidad nulos: 0\n",
      "Tipo de dato y cantidad:\n",
      "<class 'bool'>    58431\n",
      "Name: recommend, dtype: int64\n"
     ]
    }
   ],
   "source": [
    "print(conocer_columna (df_review_des,'recommend'))"
   ]
  },
  {
   "cell_type": "code",
   "execution_count": 102,
   "metadata": {},
   "outputs": [
    {
     "data": {
      "text/plain": [
       "array([True, False], dtype=object)"
      ]
     },
     "execution_count": 102,
     "metadata": {},
     "output_type": "execute_result"
    }
   ],
   "source": [
    "# se corrobora que los valores sean solo True y False\n",
    "df_review_des['recommend'].unique()"
   ]
  },
  {
   "cell_type": "markdown",
   "metadata": {},
   "source": [
    "En el siguiente gráfico podemos ver con claridad que la mayoría de las recomendaciones son buenas ('True')"
   ]
  },
  {
   "cell_type": "code",
   "execution_count": 195,
   "metadata": {},
   "outputs": [
    {
     "data": {
      "image/png": "[encoded data removed]",
      "text/plain": [
       "<Figure size 720x432 with 1 Axes>"
      ]
     },
     "metadata": {},
     "output_type": "display_data"
    }
   ],
   "source": [
    "plt.figure(figsize=(10, 6))\n",
    "sns.countplot(x=df_review_des['recommend'])\n",
    "\n",
    "plt.xlabel('Recomendación')\n",
    "plt.ylabel('Cantidad')\n",
    "plt.title('Cantidad de recomendaciones', fontsize=20)\n",
    "plt.show()"
   ]
  },
  {
   "cell_type": "code",
   "execution_count": 156,
   "metadata": {},
   "outputs": [],
   "source": [
    "#Se convierte a valores cero y uno \n",
    "df_review_des['recommend'] = df_review_des['recommend'].astype(int)"
   ]
  },
  {
   "cell_type": "markdown",
   "metadata": {},
   "source": [
    "Analisis columna 'Review':\n",
    "- Se realizó el análisis de sentimientos utilizando la función analisis_sentimientos(review). Esta función utiliza la biblioteca TextBlob para evaluar la polaridad del sentimiento de cada texto. Devuelve (0) si el sentimiento es negativo, (1) si es neutral o (2) si es positivo. Después de un proceso iterativo y comparativo entre los resultados obtenidos, los textos analizados y la cantidad de ítems recomendados por los usuarios, se decidió que la función consideraría una polaridad < -0.3 para Negativo y una polaridad > 0 para Positivo."
   ]
  },
  {
   "cell_type": "code",
   "execution_count": 140,
   "metadata": {},
   "outputs": [
    {
     "name": "stdout",
     "output_type": "stream",
     "text": [
      "Cantidad nulos: 0\n",
      "Tipo de dato y cantidad:\n",
      "<class 'str'>    58431\n",
      "Name: review, dtype: int64\n"
     ]
    }
   ],
   "source": [
    "print(conocer_columna (df_review_des,'review'))"
   ]
  },
  {
   "cell_type": "code",
   "execution_count": 104,
   "metadata": {},
   "outputs": [
    {
     "data": {
      "text/plain": [
       "0    Simple yet with great replayability. In my opi...\n",
       "1                 It's unique and worth a playthrough.\n",
       "2    Great atmosphere. The gunplay can be a bit chu...\n",
       "3    I know what you think when you see this title ...\n",
       "4    For a simple (it's actually not all that simpl...\n",
       "Name: review, dtype: object"
      ]
     },
     "execution_count": 104,
     "metadata": {},
     "output_type": "execute_result"
    }
   ],
   "source": [
    "df_review_des['review'].head()"
   ]
  },
  {
   "cell_type": "code",
   "execution_count": 118,
   "metadata": {},
   "outputs": [],
   "source": [
    "# Funcion para el analisis de sentimientos de la columna review\n",
    "\n",
    "def analisis_sentimientos(review):\n",
    "        ''' \n",
    "         esta función utiliza la biblioteca TextBlob para analizar la polaridad \n",
    "         del sentimiento de cada texto de la columna 'review'. \n",
    "         Devuelve un valor numérico que indica si el sentimiento es negativo (0), neutral (1) o positivo (2).\n",
    "        '''\n",
    "        analizador = TextBlob(review)\n",
    "        if analizador.sentiment.polarity < -0.3: # Negativo\n",
    "            return 0  \n",
    "        elif analizador.sentiment.polarity > 0: # Positivo\n",
    "            return 2  \n",
    "        else:\n",
    "            return 1  # Neutral\n",
    "df_review_des['sentiment_analysis'] = df_review_des['review'].apply(analisis_sentimientos)"
   ]
  },
  {
   "cell_type": "code",
   "execution_count": 119,
   "metadata": {},
   "outputs": [
    {
     "data": {
      "text/plain": [
       "2    33053\n",
       "1    21492\n",
       "0     3886\n",
       "Name: sentiment_analysis, dtype: int64"
      ]
     },
     "execution_count": 119,
     "metadata": {},
     "output_type": "execute_result"
    }
   ],
   "source": [
    "df_review_des['sentiment_analysis'].value_counts()"
   ]
  },
  {
   "cell_type": "code",
   "execution_count": 128,
   "metadata": {},
   "outputs": [
    {
     "name": "stdout",
     "output_type": "stream",
     "text": [
      "Calificacion:2  Polaridad:0.34  Texto:It's unique and worth a playthrough.\n",
      "\n",
      "Calificacion:1  Polaridad:-0.1  Texto:Very fun little game to play when your bored or as a time passer. Very gud. Do Recommend. pls buy\n",
      "\n",
      "Calificacion:1  Polaridad:-0.04  Texto:For a simple (it's actually not all that simple but it can be!) truck driving Simulator, it is quite a fun and relaxing game. Playing on simple (or easy?) its just the basic WASD keys for driving but (if you want) the game can be much harder and realistic with having to manually change gears, much harder turning, etc. And reversing in this game is a ♥♥♥♥♥, as I imagine it would be with an actual truck. Luckily, you don't have to reverse park it but you get extra points if you do cause it is bloody hard. But this is suprisingly a nice truck driving game and I had a bit of fun with it.\n",
      "\n",
      "Calificacion:0  Polaridad:-0.33  Texto:Random drops and random quests, with stat points.  Animation style reminiscent of the era before the Voodoo card.\n",
      "\n",
      "Calificacion:2  Polaridad:0.19  Texto:Fun balance of tactics and strategy.  Potential for very rewarding battles on smaller maps.  Can become a bit of a grind on larger maps (>200 stars).\n",
      "\n",
      "Calificacion:0  Polaridad:-0.33  Texto:The ending to this game is.... ♥♥♥♥♥♥♥.... Just buy it, you'll be invested, im automatically preordering season two of the walking dead game.\n",
      "\n"
     ]
    }
   ],
   "source": [
    "# Comparo el valor numero obtenido para los sentimientos, la polaridad y el texto analizado\n",
    "\n",
    "registros = [1,5,4,9,10,16]\n",
    "\n",
    "for i in registros:\n",
    "    calificacion = df_review_des['sentiment_analysis'][i]\n",
    "    polaridad = round(TextBlob(df_review_des['review'][i]).sentiment.polarity,2)\n",
    "    texto = df_review_des['review'][i]\n",
    "\n",
    "    print(f\"Calificacion:{calificacion}  Polaridad:{polaridad}  Texto:{texto}\\n\")"
   ]
  },
  {
   "cell_type": "markdown",
   "metadata": {},
   "source": [
    "En el siguiente gráfico podemos ver de manera conjunta que la mayor cantidad de registros analizados fueron catalogados como Positivos o Neutros, lo cual está en concordancia con las recomendaciones generadas por los usuarios, las cuales son en su mayoría Positivas"
   ]
  },
  {
   "cell_type": "code",
   "execution_count": 194,
   "metadata": {},
   "outputs": [
    {
     "data": {
      "image/png": "[encoded data removed]",
      "text/plain": [
       "<Figure size 720x432 with 1 Axes>"
      ]
     },
     "metadata": {},
     "output_type": "display_data"
    }
   ],
   "source": [
    "plt.figure(figsize=(10, 6))\n",
    "sns.countplot(data=df_review_des, x='sentiment_analysis', hue=\"recommend\")\n",
    "\n",
    "plt.xticks(ticks=[0, 1, 2], labels=['Negativo', 'Neutral', 'Positivo'])\n",
    "plt.legend(title='Recomendado', labels=['No','Si'])\n",
    "\n",
    "plt.xlabel('Sentimientos')\n",
    "plt.ylabel('Cantidad')\n",
    "plt.title('Sentimientos y Recomendaciones', fontsize=20)\n",
    "\n",
    "plt.show()"
   ]
  },
  {
   "cell_type": "markdown",
   "metadata": {},
   "source": [
    "Análisis columna 'posted':\n",
    "- Se exploró el formato de los datos y se diseñó la función convertir_fecha(cadena_fecha) para transformar las fechas tipo 'Posted %B %d, %Y.' en un formato '%Y/%m/%d'.\n",
    "- Se decidió eliminar los registros que no tenían año, ya que la información era incompleta."
   ]
  },
  {
   "cell_type": "code",
   "execution_count": 141,
   "metadata": {},
   "outputs": [
    {
     "name": "stdout",
     "output_type": "stream",
     "text": [
      "Cantidad nulos: 0\n",
      "Tipo de dato y cantidad:\n",
      "<class 'str'>    58431\n",
      "Name: posted, dtype: int64\n"
     ]
    }
   ],
   "source": [
    "print(conocer_columna (df_review_des,'posted'))"
   ]
  },
  {
   "cell_type": "code",
   "execution_count": 160,
   "metadata": {},
   "outputs": [
    {
     "name": "stdout",
     "output_type": "stream",
     "text": [
      "Posted June 24, 2014.\n",
      "Posted July 10.\n"
     ]
    }
   ],
   "source": [
    "# registros en diferentes formatos\n",
    "print(df_review_des['posted'][3])\n",
    "print(df_review_des['posted'][59328])"
   ]
  },
  {
   "cell_type": "code",
   "execution_count": 161,
   "metadata": {},
   "outputs": [],
   "source": [
    "def convertir_fecha(cadena_fecha):\n",
    "    '''\n",
    "    Esta funcion convierte una fecha tipo 'Posted %B %d, %Y.' en una fecha tipo '%Y/%m/%d' \n",
    "    Si el formato inicial de fecha es distinto, no hace nada'''\n",
    "    try:\n",
    "        fecha_objeto = datetime.strptime(cadena_fecha, 'Posted %B %d, %Y.')\n",
    "        return fecha_objeto.strftime('%Y/%m/%d')\n",
    "    except ValueError:\n",
    "        return cadena_fecha"
   ]
  },
  {
   "cell_type": "code",
   "execution_count": 162,
   "metadata": {},
   "outputs": [],
   "source": [
    "df_review_des['posted_ok'] = df_review_des['posted'].apply(convertir_fecha)"
   ]
  },
  {
   "cell_type": "code",
   "execution_count": 163,
   "metadata": {},
   "outputs": [
    {
     "data": {
      "text/plain": [
       "9933"
      ]
     },
     "execution_count": 163,
     "metadata": {},
     "output_type": "execute_result"
    }
   ],
   "source": [
    "# Cantidad de registros que no se modificaron\n",
    "df_review_des['posted_ok'].str.startswith('Post').sum()"
   ]
  },
  {
   "cell_type": "code",
   "execution_count": 164,
   "metadata": {},
   "outputs": [],
   "source": [
    "# Se decide eliminar esos registros, ya que la informacion esta incompleta\n",
    "# Tal vez se podria tomar una decision mas acertada y e imputar esos registros desde alguna otra columna \n",
    "\n",
    "df_review_des_ano = df_review_des.drop(df_review_des[df_review_des['posted_ok'].str.startswith('Post')].index)"
   ]
  },
  {
   "cell_type": "code",
   "execution_count": null,
   "metadata": {},
   "outputs": [],
   "source": [
    "# Convierto a formatos fecha la columna 'posted_ok' y agrego una columna de año\n",
    "df_review_des_ano['posted_ok'] = pd.to_datetime(df_review_des_ano['posted_ok'])\n",
    "df_review_des_ano['año'] = df_review_des_ano['posted_ok'].dt.year"
   ]
  },
  {
   "cell_type": "markdown",
   "metadata": {},
   "source": [
    "Teniendo en cuenta la información brindada en los datos; un usuario realizó varias reseñas (reviews) para diferentes juegos/items. Cada reseña está relacionada con un ítem y con una fecha de posteo 'posted_ok'. En el siguiente gráfico vemos que la cantidad de reseñas realizadas por los usuarios ha aumentado considerablemente con los años."
   ]
  },
  {
   "cell_type": "code",
   "execution_count": 193,
   "metadata": {},
   "outputs": [
    {
     "data": {
      "image/png": "[encoded data removed]",
      "text/plain": [
       "<Figure size 720x432 with 1 Axes>"
      ]
     },
     "metadata": {},
     "output_type": "display_data"
    }
   ],
   "source": [
    "df_review_por_año = df_review_des_ano.groupby('año')['review'].nunique()\n",
    "\n",
    "\n",
    "plt.figure(figsize=(10, 6))\n",
    "plt.bar(df_review_por_año.index, df_review_por_año.values)\n",
    "plt.xlabel('Año')\n",
    "plt.ylabel('Cantidad de Reviews')\n",
    "plt.title('Cantidad de Reviews por Año', fontsize=20)\n",
    "plt.show()"
   ]
  },
  {
   "cell_type": "code",
   "execution_count": 192,
   "metadata": {},
   "outputs": [],
   "source": [
    "# df final \n",
    "df_review_final = df_review_des_ano.drop(columns=['posted','review'])"
   ]
  },
  {
   "cell_type": "code",
   "execution_count": 500,
   "metadata": {},
   "outputs": [
    {
     "data": {
      "text/plain": [
       "(48498, 7)"
      ]
     },
     "execution_count": 500,
     "metadata": {},
     "output_type": "execute_result"
    }
   ],
   "source": [
    "df_review_final.shape"
   ]
  },
  {
   "cell_type": "code",
   "execution_count": 501,
   "metadata": {},
   "outputs": [
    {
     "data": {
      "text/html": [
       "<div>\n",
       "<style scoped>\n",
       "    .dataframe tbody tr th:only-of-type {\n",
       "        vertical-align: middle;\n",
       "    }\n",
       "\n",
       "    .dataframe tbody tr th {\n",
       "        vertical-align: top;\n",
       "    }\n",
       "\n",
       "    .dataframe thead th {\n",
       "        text-align: right;\n",
       "    }\n",
       "</style>\n",
       "<table border=\"1\" class=\"dataframe\">\n",
       "  <thead>\n",
       "    <tr style=\"text-align: right;\">\n",
       "      <th></th>\n",
       "      <th>user_id</th>\n",
       "      <th>user_url</th>\n",
       "      <th>item_id</th>\n",
       "      <th>recommend</th>\n",
       "      <th>sentiment_analysis</th>\n",
       "      <th>posted_ok</th>\n",
       "      <th>año</th>\n",
       "    </tr>\n",
       "  </thead>\n",
       "  <tbody>\n",
       "    <tr>\n",
       "      <th>0</th>\n",
       "      <td>76561197970982479</td>\n",
       "      <td>http://steamcommunity.com/profiles/76561197970...</td>\n",
       "      <td>1250</td>\n",
       "      <td>1</td>\n",
       "      <td>2</td>\n",
       "      <td>2011-11-05</td>\n",
       "      <td>2011</td>\n",
       "    </tr>\n",
       "  </tbody>\n",
       "</table>\n",
       "</div>"
      ],
      "text/plain": [
       "             user_id                                           user_url  \\\n",
       "0  76561197970982479  http://steamcommunity.com/profiles/76561197970...   \n",
       "\n",
       "  item_id  recommend  sentiment_analysis  posted_ok   año  \n",
       "0    1250          1                   2 2011-11-05  2011  "
      ]
     },
     "execution_count": 501,
     "metadata": {},
     "output_type": "execute_result"
    }
   ],
   "source": [
    "df_review_final.head(1)"
   ]
  },
  {
   "cell_type": "markdown",
   "metadata": {},
   "source": [
    "# Trabajamos con el DF de \"users_items.json.gz\""
   ]
  },
  {
   "cell_type": "code",
   "execution_count": 196,
   "metadata": {},
   "outputs": [
    {
     "data": {
      "text/html": [
       "<div>\n",
       "<style scoped>\n",
       "    .dataframe tbody tr th:only-of-type {\n",
       "        vertical-align: middle;\n",
       "    }\n",
       "\n",
       "    .dataframe tbody tr th {\n",
       "        vertical-align: top;\n",
       "    }\n",
       "\n",
       "    .dataframe thead th {\n",
       "        text-align: right;\n",
       "    }\n",
       "</style>\n",
       "<table border=\"1\" class=\"dataframe\">\n",
       "  <thead>\n",
       "    <tr style=\"text-align: right;\">\n",
       "      <th></th>\n",
       "      <th>user_id</th>\n",
       "      <th>items_count</th>\n",
       "      <th>steam_id</th>\n",
       "      <th>user_url</th>\n",
       "      <th>items</th>\n",
       "    </tr>\n",
       "  </thead>\n",
       "  <tbody>\n",
       "    <tr>\n",
       "      <th>0</th>\n",
       "      <td>76561197970982479</td>\n",
       "      <td>277</td>\n",
       "      <td>76561197970982479</td>\n",
       "      <td>http://steamcommunity.com/profiles/76561197970...</td>\n",
       "      <td>[{'item_id': '10', 'item_name': 'Counter-Strik...</td>\n",
       "    </tr>\n",
       "  </tbody>\n",
       "</table>\n",
       "</div>"
      ],
      "text/plain": [
       "             user_id  items_count           steam_id  \\\n",
       "0  76561197970982479          277  76561197970982479   \n",
       "\n",
       "                                            user_url  \\\n",
       "0  http://steamcommunity.com/profiles/76561197970...   \n",
       "\n",
       "                                               items  \n",
       "0  [{'item_id': '10', 'item_name': 'Counter-Strik...  "
      ]
     },
     "execution_count": 196,
     "metadata": {},
     "output_type": "execute_result"
    }
   ],
   "source": [
    "df_items = pd.DataFrame (abrir_archivo_comprimido_2 (\"Datos\\\\users_items.json.gz\")) \n",
    "df_items.head(1)"
   ]
  },
  {
   "cell_type": "code",
   "execution_count": 197,
   "metadata": {},
   "outputs": [
    {
     "data": {
      "text/plain": [
       "(88310, 5)"
      ]
     },
     "execution_count": 197,
     "metadata": {},
     "output_type": "execute_result"
    }
   ],
   "source": [
    "df_items.shape"
   ]
  },
  {
   "cell_type": "code",
   "execution_count": 198,
   "metadata": {},
   "outputs": [
    {
     "name": "stdout",
     "output_type": "stream",
     "text": [
      "<class 'pandas.core.frame.DataFrame'>\n",
      "RangeIndex: 88310 entries, 0 to 88309\n",
      "Data columns (total 5 columns):\n",
      " #   Column       Non-Null Count  Dtype \n",
      "---  ------       --------------  ----- \n",
      " 0   user_id      88310 non-null  object\n",
      " 1   items_count  88310 non-null  int64 \n",
      " 2   steam_id     88310 non-null  object\n",
      " 3   user_url     88310 non-null  object\n",
      " 4   items        88310 non-null  object\n",
      "dtypes: int64(1), object(4)\n",
      "memory usage: 3.4+ MB\n"
     ]
    }
   ],
   "source": [
    "df_items.info()"
   ]
  },
  {
   "cell_type": "code",
   "execution_count": null,
   "metadata": {},
   "outputs": [],
   "source": [
    "conocer_archivo (df_items,1)"
   ]
  },
  {
   "cell_type": "code",
   "execution_count": 200,
   "metadata": {},
   "outputs": [
    {
     "data": {
      "text/plain": [
       "{'item_id': '20',\n",
       " 'item_name': 'Team Fortress Classic',\n",
       " 'playtime_forever': 0,\n",
       " 'playtime_2weeks': 0}"
      ]
     },
     "execution_count": 200,
     "metadata": {},
     "output_type": "execute_result"
    }
   ],
   "source": [
    "df_items.iloc[0,4][1]"
   ]
  },
  {
   "cell_type": "code",
   "execution_count": 201,
   "metadata": {},
   "outputs": [],
   "source": [
    "###  Desanidar los datos de la columna 'items' \n",
    "\n",
    "# Abro el dicc que hay en 'items' para que cada elemento esté en una fila separada\n",
    "df_items = df_items.explode('items').reset_index(drop=True)\n",
    "\n",
    "# Desanido la 'reviews' en múltiples 'reviews's\n",
    "df_items_des = pd.json_normalize(df_items['items'])\n",
    "\n",
    "# Combino los dataframe\n",
    "df_items_des= pd.concat([df_items.drop(columns=['items']), df_items_des], axis=1)"
   ]
  },
  {
   "cell_type": "code",
   "execution_count": 202,
   "metadata": {},
   "outputs": [
    {
     "data": {
      "text/plain": [
       "(5170015, 8)"
      ]
     },
     "execution_count": 202,
     "metadata": {},
     "output_type": "execute_result"
    }
   ],
   "source": [
    "df_items_des.shape"
   ]
  },
  {
   "cell_type": "code",
   "execution_count": 203,
   "metadata": {},
   "outputs": [
    {
     "data": {
      "text/plain": [
       "Index(['user_id', 'items_count', 'steam_id', 'user_url', 'item_id',\n",
       "       'item_name', 'playtime_forever', 'playtime_2weeks'],\n",
       "      dtype='object')"
      ]
     },
     "execution_count": 203,
     "metadata": {},
     "output_type": "execute_result"
    }
   ],
   "source": [
    "df_items_des.columns"
   ]
  },
  {
   "cell_type": "code",
   "execution_count": null,
   "metadata": {},
   "outputs": [],
   "source": [
    "# Registros completamente vacios\n",
    "df_items_des[df_items_des.isna().all(axis=1)].sum()"
   ]
  },
  {
   "cell_type": "code",
   "execution_count": null,
   "metadata": {},
   "outputs": [],
   "source": [
    "# Registros duplicados\n",
    "df_items_des[df_items_des.duplicated()].count()"
   ]
  },
  {
   "cell_type": "code",
   "execution_count": 206,
   "metadata": {},
   "outputs": [],
   "source": [
    "# Elimino Registros duplicados\n",
    "df_items_des = df_items_des.drop_duplicates()"
   ]
  },
  {
   "cell_type": "code",
   "execution_count": 207,
   "metadata": {},
   "outputs": [
    {
     "data": {
      "text/html": [
       "<div>\n",
       "<style scoped>\n",
       "    .dataframe tbody tr th:only-of-type {\n",
       "        vertical-align: middle;\n",
       "    }\n",
       "\n",
       "    .dataframe tbody tr th {\n",
       "        vertical-align: top;\n",
       "    }\n",
       "\n",
       "    .dataframe thead th {\n",
       "        text-align: right;\n",
       "    }\n",
       "</style>\n",
       "<table border=\"1\" class=\"dataframe\">\n",
       "  <thead>\n",
       "    <tr style=\"text-align: right;\">\n",
       "      <th></th>\n",
       "      <th>user_id</th>\n",
       "      <th>item_id</th>\n",
       "      <th>user_url</th>\n",
       "      <th>playtime_forever</th>\n",
       "    </tr>\n",
       "  </thead>\n",
       "  <tbody>\n",
       "    <tr>\n",
       "      <th>0</th>\n",
       "      <td>76561197970982479</td>\n",
       "      <td>10</td>\n",
       "      <td>http://steamcommunity.com/profiles/76561197970...</td>\n",
       "      <td>6.0</td>\n",
       "    </tr>\n",
       "  </tbody>\n",
       "</table>\n",
       "</div>"
      ],
      "text/plain": [
       "             user_id item_id  \\\n",
       "0  76561197970982479      10   \n",
       "\n",
       "                                            user_url  playtime_forever  \n",
       "0  http://steamcommunity.com/profiles/76561197970...               6.0  "
      ]
     },
     "execution_count": 207,
     "metadata": {},
     "output_type": "execute_result"
    }
   ],
   "source": [
    "# me quedo con un df mas pequeño, solo con las columnas que necesitare\n",
    "df_items_des_small = df_items_des[['user_id','item_id','user_url','playtime_forever']]\n",
    "df_items_des_small.head(1)"
   ]
  },
  {
   "cell_type": "markdown",
   "metadata": {},
   "source": [
    "Analisis de la columna 'user_id'"
   ]
  },
  {
   "cell_type": "code",
   "execution_count": 208,
   "metadata": {},
   "outputs": [
    {
     "name": "stdout",
     "output_type": "stream",
     "text": [
      "Cantidad nulos: 0\n",
      "Tipo de dato y cantidad:\n",
      "<class 'str'>    5110819\n",
      "Name: user_id, dtype: int64\n"
     ]
    }
   ],
   "source": [
    "print(conocer_columna (df_items_des_small,'user_id'))"
   ]
  },
  {
   "cell_type": "markdown",
   "metadata": {},
   "source": [
    "Analisis columna 'user_url'"
   ]
  },
  {
   "cell_type": "code",
   "execution_count": 209,
   "metadata": {},
   "outputs": [
    {
     "name": "stdout",
     "output_type": "stream",
     "text": [
      "Cantidad nulos: 0\n",
      "Tipo de dato y cantidad:\n",
      "<class 'str'>    5110819\n",
      "Name: user_url, dtype: int64\n"
     ]
    }
   ],
   "source": [
    "print(conocer_columna (df_items_des_small,'user_url'))"
   ]
  },
  {
   "cell_type": "markdown",
   "metadata": {},
   "source": [
    "Analisis columna item_id y Analisis de la columna 'playtime_forever':\n",
    "- Luego de comprobar que la cantidad de nulos en la columna 'item_id' también son nulos en la columna 'playtime_forever', se decide eliminar estos registros, ya que para los fines prácticos de las funciones no me sirve tener 'user_id' o 'user_url' si no tengo datos en 'item_id' o 'playtime_forever'"
   ]
  },
  {
   "cell_type": "code",
   "execution_count": 210,
   "metadata": {},
   "outputs": [
    {
     "name": "stdout",
     "output_type": "stream",
     "text": [
      "Cantidad nulos: 16714\n",
      "Tipo de dato y cantidad:\n",
      "<class 'str'>      5094105\n",
      "<class 'float'>      16714\n",
      "Name: item_id, dtype: int64\n"
     ]
    }
   ],
   "source": [
    "print(conocer_columna (df_items_des_small,'item_id'))"
   ]
  },
  {
   "cell_type": "code",
   "execution_count": 211,
   "metadata": {},
   "outputs": [
    {
     "name": "stdout",
     "output_type": "stream",
     "text": [
      "Cantidad nulos: 16714\n",
      "Tipo de dato y cantidad:\n",
      "<class 'float'>    5110819\n",
      "Name: playtime_forever, dtype: int64\n"
     ]
    }
   ],
   "source": [
    "print(conocer_columna (df_items_des_small,'playtime_forever'))"
   ]
  },
  {
   "cell_type": "code",
   "execution_count": 212,
   "metadata": {},
   "outputs": [
    {
     "data": {
      "text/plain": [
       "user_id             16714\n",
       "item_id                 0\n",
       "user_url            16714\n",
       "playtime_forever        0\n",
       "dtype: int64"
      ]
     },
     "execution_count": 212,
     "metadata": {},
     "output_type": "execute_result"
    }
   ],
   "source": [
    "# evaluo si los registros con 'item_id' null tambien tienen 'playtime_forever' null\n",
    "nulos = df_items_des_small['item_id'].isna() & df_items_des_small['playtime_forever'].isna()\n",
    "\n",
    "df_items_des_small[nulos].count()"
   ]
  },
  {
   "cell_type": "code",
   "execution_count": 213,
   "metadata": {},
   "outputs": [],
   "source": [
    "# se eliminan los registros con datos nulos en las columna 'item_id' y 'playtime_forever'\n",
    "df_items_final= df_items_des_small.drop(df_items_des_small[nulos].index)"
   ]
  },
  {
   "cell_type": "code",
   "execution_count": 507,
   "metadata": {},
   "outputs": [
    {
     "data": {
      "text/plain": [
       "count    5.094105e+06\n",
       "mean     9.905511e+02\n",
       "std      5.414297e+03\n",
       "min      0.000000e+00\n",
       "25%      0.000000e+00\n",
       "50%      3.400000e+01\n",
       "75%      3.550000e+02\n",
       "max      6.427730e+05\n",
       "Name: playtime_forever, dtype: float64"
      ]
     },
     "execution_count": 507,
     "metadata": {},
     "output_type": "execute_result"
    }
   ],
   "source": [
    "# exploramos los datos estadisticos\n",
    "df_items_final['playtime_forever'].describe()"
   ]
  },
  {
   "cell_type": "code",
   "execution_count": 54,
   "metadata": {},
   "outputs": [
    {
     "data": {
      "text/plain": [
       "(5094105, 4)"
      ]
     },
     "execution_count": 54,
     "metadata": {},
     "output_type": "execute_result"
    }
   ],
   "source": [
    "df_items_final.shape"
   ]
  },
  {
   "cell_type": "code",
   "execution_count": 56,
   "metadata": {},
   "outputs": [
    {
     "data": {
      "text/html": [
       "<div>\n",
       "<style scoped>\n",
       "    .dataframe tbody tr th:only-of-type {\n",
       "        vertical-align: middle;\n",
       "    }\n",
       "\n",
       "    .dataframe tbody tr th {\n",
       "        vertical-align: top;\n",
       "    }\n",
       "\n",
       "    .dataframe thead th {\n",
       "        text-align: right;\n",
       "    }\n",
       "</style>\n",
       "<table border=\"1\" class=\"dataframe\">\n",
       "  <thead>\n",
       "    <tr style=\"text-align: right;\">\n",
       "      <th></th>\n",
       "      <th>user_id</th>\n",
       "      <th>item_id</th>\n",
       "      <th>user_url</th>\n",
       "      <th>playtime_forever</th>\n",
       "    </tr>\n",
       "  </thead>\n",
       "  <tbody>\n",
       "    <tr>\n",
       "      <th>0</th>\n",
       "      <td>76561197970982479</td>\n",
       "      <td>10</td>\n",
       "      <td>http://steamcommunity.com/profiles/76561197970...</td>\n",
       "      <td>6.0</td>\n",
       "    </tr>\n",
       "  </tbody>\n",
       "</table>\n",
       "</div>"
      ],
      "text/plain": [
       "             user_id item_id  \\\n",
       "0  76561197970982479      10   \n",
       "\n",
       "                                            user_url  playtime_forever  \n",
       "0  http://steamcommunity.com/profiles/76561197970...               6.0  "
      ]
     },
     "execution_count": 56,
     "metadata": {},
     "output_type": "execute_result"
    }
   ],
   "source": [
    "df_items_final.head(1)"
   ]
  },
  {
   "cell_type": "markdown",
   "metadata": {},
   "source": [
    "# Trabajamos con el DF de \"steam_games.json.gz\""
   ]
  },
  {
   "cell_type": "code",
   "execution_count": 217,
   "metadata": {},
   "outputs": [
    {
     "data": {
      "text/html": [
       "<div>\n",
       "<style scoped>\n",
       "    .dataframe tbody tr th:only-of-type {\n",
       "        vertical-align: middle;\n",
       "    }\n",
       "\n",
       "    .dataframe tbody tr th {\n",
       "        vertical-align: top;\n",
       "    }\n",
       "\n",
       "    .dataframe thead th {\n",
       "        text-align: right;\n",
       "    }\n",
       "</style>\n",
       "<table border=\"1\" class=\"dataframe\">\n",
       "  <thead>\n",
       "    <tr style=\"text-align: right;\">\n",
       "      <th></th>\n",
       "      <th>publisher</th>\n",
       "      <th>genres</th>\n",
       "      <th>app_name</th>\n",
       "      <th>title</th>\n",
       "      <th>url</th>\n",
       "      <th>release_date</th>\n",
       "      <th>tags</th>\n",
       "      <th>reviews_url</th>\n",
       "      <th>discount_price</th>\n",
       "      <th>specs</th>\n",
       "      <th>price</th>\n",
       "      <th>early_access</th>\n",
       "      <th>id</th>\n",
       "      <th>metascore</th>\n",
       "      <th>developer</th>\n",
       "      <th>user_id</th>\n",
       "      <th>steam_id</th>\n",
       "      <th>items</th>\n",
       "      <th>items_count</th>\n",
       "    </tr>\n",
       "  </thead>\n",
       "  <tbody>\n",
       "    <tr>\n",
       "      <th>0</th>\n",
       "      <td>NaN</td>\n",
       "      <td>NaN</td>\n",
       "      <td>NaN</td>\n",
       "      <td>NaN</td>\n",
       "      <td>NaN</td>\n",
       "      <td>NaN</td>\n",
       "      <td>NaN</td>\n",
       "      <td>NaN</td>\n",
       "      <td>NaN</td>\n",
       "      <td>NaN</td>\n",
       "      <td>NaN</td>\n",
       "      <td>NaN</td>\n",
       "      <td>NaN</td>\n",
       "      <td>NaN</td>\n",
       "      <td>NaN</td>\n",
       "      <td>76561197970982479</td>\n",
       "      <td>76561197970982479</td>\n",
       "      <td>[{'item_id': '10', 'item_name': 'Counter-Strik...</td>\n",
       "      <td>277.0</td>\n",
       "    </tr>\n",
       "  </tbody>\n",
       "</table>\n",
       "</div>"
      ],
      "text/plain": [
       "  publisher genres app_name title  url release_date tags reviews_url  \\\n",
       "0       NaN    NaN      NaN   NaN  NaN          NaN  NaN         NaN   \n",
       "\n",
       "   discount_price specs price early_access   id metascore developer  \\\n",
       "0             NaN   NaN   NaN          NaN  NaN       NaN       NaN   \n",
       "\n",
       "             user_id           steam_id  \\\n",
       "0  76561197970982479  76561197970982479   \n",
       "\n",
       "                                               items  items_count  \n",
       "0  [{'item_id': '10', 'item_name': 'Counter-Strik...        277.0  "
      ]
     },
     "execution_count": 217,
     "metadata": {},
     "output_type": "execute_result"
    }
   ],
   "source": [
    "df_steam = pd.DataFrame (abrir_archivo_comprimido_1 (\"Datos\\\\steam_games.json.gz\")) \n",
    "df_steam.head(1)"
   ]
  },
  {
   "cell_type": "code",
   "execution_count": 218,
   "metadata": {},
   "outputs": [
    {
     "data": {
      "text/plain": [
       "(120445, 19)"
      ]
     },
     "execution_count": 218,
     "metadata": {},
     "output_type": "execute_result"
    }
   ],
   "source": [
    "df_steam.shape"
   ]
  },
  {
   "cell_type": "code",
   "execution_count": 59,
   "metadata": {},
   "outputs": [
    {
     "name": "stdout",
     "output_type": "stream",
     "text": [
      "<class 'pandas.core.frame.DataFrame'>\n",
      "RangeIndex: 120445 entries, 0 to 120444\n",
      "Data columns (total 19 columns):\n",
      " #   Column          Non-Null Count  Dtype  \n",
      "---  ------          --------------  -----  \n",
      " 0   publisher       24083 non-null  object \n",
      " 1   genres          28852 non-null  object \n",
      " 2   app_name        32133 non-null  object \n",
      " 3   title           30085 non-null  object \n",
      " 4   url             32135 non-null  object \n",
      " 5   release_date    30068 non-null  object \n",
      " 6   tags            31972 non-null  object \n",
      " 7   reviews_url     32133 non-null  object \n",
      " 8   discount_price  225 non-null    float64\n",
      " 9   specs           31465 non-null  object \n",
      " 10  price           30758 non-null  object \n",
      " 11  early_access    32135 non-null  object \n",
      " 12  id              32133 non-null  object \n",
      " 13  metascore       2677 non-null   object \n",
      " 14  developer       28836 non-null  object \n",
      " 15  user_id         88310 non-null  object \n",
      " 16  steam_id        88310 non-null  object \n",
      " 17  items           88310 non-null  object \n",
      " 18  items_count     88310 non-null  float64\n",
      "dtypes: float64(2), object(17)\n",
      "memory usage: 17.5+ MB\n"
     ]
    }
   ],
   "source": [
    "df_steam.info()"
   ]
  },
  {
   "cell_type": "code",
   "execution_count": null,
   "metadata": {},
   "outputs": [],
   "source": [
    "conocer_archivo (df_steam,1)"
   ]
  },
  {
   "cell_type": "code",
   "execution_count": 220,
   "metadata": {},
   "outputs": [
    {
     "data": {
      "text/plain": [
       "{'item_id': '20',\n",
       " 'item_name': 'Team Fortress Classic',\n",
       " 'playtime_forever': 0,\n",
       " 'playtime_2weeks': 0}"
      ]
     },
     "execution_count": 220,
     "metadata": {},
     "output_type": "execute_result"
    }
   ],
   "source": [
    "df_steam.iloc[0,17][1]"
   ]
  },
  {
   "cell_type": "code",
   "execution_count": 221,
   "metadata": {},
   "outputs": [
    {
     "data": {
      "text/plain": [
       "Index(['publisher', 'genres', 'app_name', 'title', 'url', 'release_date',\n",
       "       'tags', 'reviews_url', 'discount_price', 'specs', 'price',\n",
       "       'early_access', 'id', 'metascore', 'developer', 'user_id', 'steam_id',\n",
       "       'items', 'items_count'],\n",
       "      dtype='object')"
      ]
     },
     "execution_count": 221,
     "metadata": {},
     "output_type": "execute_result"
    }
   ],
   "source": [
    "df_steam.columns"
   ]
  },
  {
   "cell_type": "code",
   "execution_count": 222,
   "metadata": {},
   "outputs": [],
   "source": [
    "# luego de ver las funciones que se piden y los datos que tengo, decido quedarme con las siguientes columnas\n",
    "df_steam_redu = df_steam[['genres','release_date', 'price','id', 'developer']]\n",
    "df_steam_redu = df_steam_redu.rename(columns={'id': 'item_id'})"
   ]
  },
  {
   "cell_type": "code",
   "execution_count": 224,
   "metadata": {},
   "outputs": [
    {
     "data": {
      "text/plain": [
       "(120445, 5)"
      ]
     },
     "execution_count": 224,
     "metadata": {},
     "output_type": "execute_result"
    }
   ],
   "source": [
    "df_steam_redu.shape"
   ]
  },
  {
   "cell_type": "code",
   "execution_count": 232,
   "metadata": {},
   "outputs": [
    {
     "data": {
      "text/plain": [
       "88310"
      ]
     },
     "execution_count": 232,
     "metadata": {},
     "output_type": "execute_result"
    }
   ],
   "source": [
    "## cantidad de filas completamente vacias\n",
    "df_steam_redu.isna().all(axis=1).sum()"
   ]
  },
  {
   "cell_type": "code",
   "execution_count": 233,
   "metadata": {},
   "outputs": [],
   "source": [
    "# elimino las filas que estan completamnete bacias\n",
    "df_steam_redu = df_steam_redu.dropna(how='all')"
   ]
  },
  {
   "cell_type": "code",
   "execution_count": null,
   "metadata": {},
   "outputs": [],
   "source": [
    "# Registros duplicados\n",
    "df_items_des[df_items_des.duplicated()].count()"
   ]
  },
  {
   "cell_type": "code",
   "execution_count": 235,
   "metadata": {},
   "outputs": [
    {
     "data": {
      "text/plain": [
       "genres          3283\n",
       "release_date    2067\n",
       "price           1377\n",
       "item_id            2\n",
       "developer       3299\n",
       "dtype: int64"
      ]
     },
     "execution_count": 235,
     "metadata": {},
     "output_type": "execute_result"
    }
   ],
   "source": [
    "df_steam_redu.isna().sum()"
   ]
  },
  {
   "cell_type": "markdown",
   "metadata": {},
   "source": [
    "Analisis columna 'item_id':\n",
    "- Se exploro cantidad de nulos y duplicados. Se eliminaron dichos registros\n",
    "- Se exploro registros que tienen todos los campos nulos exepto 'item_id'. Se eliminaron"
   ]
  },
  {
   "cell_type": "code",
   "execution_count": 236,
   "metadata": {},
   "outputs": [
    {
     "name": "stdout",
     "output_type": "stream",
     "text": [
      "Cantidad nulos: 2\n",
      "Tipo de dato y cantidad:\n",
      "<class 'str'>      32133\n",
      "<class 'float'>        2\n",
      "Name: item_id, dtype: int64\n"
     ]
    }
   ],
   "source": [
    "print(conocer_columna (df_steam_redu,'item_id'))"
   ]
  },
  {
   "cell_type": "code",
   "execution_count": 237,
   "metadata": {},
   "outputs": [],
   "source": [
    "# elimino valores nulos\n",
    "df_steam_redu = df_steam_redu.dropna(subset=['item_id'])"
   ]
  },
  {
   "cell_type": "code",
   "execution_count": 240,
   "metadata": {},
   "outputs": [
    {
     "data": {
      "text/plain": [
       "1"
      ]
     },
     "execution_count": 240,
     "metadata": {},
     "output_type": "execute_result"
    }
   ],
   "source": [
    "# Analisis de elementos duplicados\n",
    "df_steam_redu['item_id'].duplicated().sum()"
   ]
  },
  {
   "cell_type": "code",
   "execution_count": 241,
   "metadata": {},
   "outputs": [],
   "source": [
    "# elimino duplicados\n",
    "df_steam_redu = df_steam_redu.drop_duplicates(subset=['item_id'])"
   ]
  },
  {
   "cell_type": "code",
   "execution_count": 248,
   "metadata": {},
   "outputs": [
    {
     "name": "stdout",
     "output_type": "stream",
     "text": [
      "genres            0\n",
      "release_date      0\n",
      "price             0\n",
      "item_id         116\n",
      "developer         0\n",
      "dtype: int64\n"
     ]
    }
   ],
   "source": [
    "# Evaluo si tengo registros que tienen todos los campos nulos exepto 'item_id'\n",
    "nulos = df_steam_redu[['release_date', 'genres', 'price', 'developer']].isna().all(axis=1)\n",
    "print(df_steam_redu[nulos].count())"
   ]
  },
  {
   "cell_type": "code",
   "execution_count": 249,
   "metadata": {},
   "outputs": [],
   "source": [
    "# Se eliminan estos registros ya que si no tengo 'ited_id' no me sirve\n",
    "df_steam_redu = df_steam_redu.drop(df_steam_redu[nulos].index)"
   ]
  },
  {
   "cell_type": "markdown",
   "metadata": {},
   "source": [
    "Analisis columna 'release_date':\n",
    "- Se realizó un análisis exploratorio para revisar los datos existentes.\n",
    "- Se reemplazaron los datos nulos por \"1900-01-01\".\n",
    "- Se realizaron reemplazos de fechas específicas que arrojaban errores.\n",
    "- Se transformaron los datos posibles al formato de fecha.\n",
    "- Los datos que no pudieron ser transformados al formato de fecha debido a la falta de información (por ejemplo, 'Oct 2010') o por que eran outliers se convirtieron en nulos y se reemplazaron por \"1900-01-01\".\n",
    "- Se agregó una columna año.\n",
    "- Se evaluo la cantidad que presentaba la fecha \"1900-01-01\" en relacion al total de los datos. Se decidio eliminar esos datos, ya que son pocos en comparación con el total de datos"
   ]
  },
  {
   "cell_type": "code",
   "execution_count": 301,
   "metadata": {},
   "outputs": [
    {
     "name": "stdout",
     "output_type": "stream",
     "text": [
      "Cantidad nulos: 1950\n",
      "Tipo de dato y cantidad:\n",
      "<class 'str'>      30066\n",
      "<class 'float'>     1950\n",
      "Name: release_date, dtype: int64\n"
     ]
    }
   ],
   "source": [
    "print(conocer_columna (df_steam_redu,'release_date'))"
   ]
  },
  {
   "cell_type": "code",
   "execution_count": null,
   "metadata": {},
   "outputs": [],
   "source": [
    "# Se exportan los datos para poder ver mas detalles\n",
    "#df_steam_redu[['release_date','item_id']].to_json(\"DataSets/release_date.json\", orient=\"records\", lines=True)"
   ]
  },
  {
   "cell_type": "code",
   "execution_count": 302,
   "metadata": {},
   "outputs": [],
   "source": [
    "df_steam_redu_fecha = df_steam_redu.copy()"
   ]
  },
  {
   "cell_type": "code",
   "execution_count": 303,
   "metadata": {},
   "outputs": [],
   "source": [
    "# Se observaron varios errores en los datos de esta columna\n",
    "\n",
    "# remplazo los nulos por \"1900-01-01\"\n",
    "df_steam_redu_fecha['release_date']=df_steam_redu_fecha['release_date'].fillna(\"1900-01-01\")\n",
    "\n",
    "# hay un registro que tiene cambiado el formato de fecha, se lo arregla\n",
    "indice = df_steam_redu_fecha[df_steam_redu_fecha['release_date']=='15.01.2018'].index[0]\n",
    "df_steam_redu_fecha.loc[indice, 'release_date'] = '2018/01/15'\n",
    "\n",
    "# llevo a formato fecha\n",
    "# los registros que son'Oct 2010' o algun oulier se convierten en nulos\n",
    "df_steam_redu_fecha['release_date'] = pd.to_datetime(df_steam_redu_fecha['release_date'], errors='coerce')\n",
    "\n",
    "# los registros nulos se remplazan por \"1900-01-01\"\n",
    "df_steam_redu_fecha['release_date']=df_steam_redu_fecha['release_date'].fillna(\"1900-01-01\")"
   ]
  },
  {
   "cell_type": "code",
   "execution_count": 304,
   "metadata": {},
   "outputs": [
    {
     "name": "stdout",
     "output_type": "stream",
     "text": [
      "Cantidad nulos: 0\n",
      "Tipo de dato y cantidad:\n",
      "<class 'pandas._libs.tslibs.timestamps.Timestamp'>    32016\n",
      "Name: release_date, dtype: int64\n"
     ]
    }
   ],
   "source": [
    "print(conocer_columna (df_steam_redu_fecha,'release_date'))"
   ]
  },
  {
   "cell_type": "markdown",
   "metadata": {},
   "source": [
    "En el siguiente gráfico se pueden observar que la cantidad de datos que fueron reemplazados por \"1900-01-01\" podrían eliminarse, ya que son pocos en comparación con el total de datos"
   ]
  },
  {
   "cell_type": "code",
   "execution_count": 333,
   "metadata": {},
   "outputs": [
    {
     "data": {
      "image/png": "[encoded data removed]",
      "text/plain": [
       "<Figure size 576x432 with 1 Axes>"
      ]
     },
     "metadata": {},
     "output_type": "display_data"
    }
   ],
   "source": [
    "# Calculo la cantidad total de fechas y la cantidad que son igual a '1900-01-01'\n",
    "fechas_1900 = (df_steam_redu_fecha['release_date'] == pd.to_datetime('1900-01-01')).sum()\n",
    "fechas_total = df_steam_redu_fecha.shape[0]\n",
    "\n",
    "plt.figure(figsize=(8, 6))\n",
    "sns.barplot(x=['1900-01-01', 'Total Fechas'], y=[fechas_1900, fechas_total])\n",
    "\n",
    "plt.xlabel('Fechas')\n",
    "plt.ylabel('Cantidad de Fechas')\n",
    "plt.title('Total de fechas vs Fecha \"1900-01-01\" ', fontsize=20)\n",
    "plt.show()\n"
   ]
  },
  {
   "cell_type": "code",
   "execution_count": 334,
   "metadata": {},
   "outputs": [],
   "source": [
    "# se eliminan las fechas = '1900-01-01'\n",
    "df_steam_redu_fecha = df_steam_redu_fecha[df_steam_redu_fecha['release_date'] != pd.to_datetime('1900-01-01')]"
   ]
  },
  {
   "cell_type": "code",
   "execution_count": 336,
   "metadata": {},
   "outputs": [
    {
     "data": {
      "text/plain": [
       "(29892, 6)"
      ]
     },
     "execution_count": 336,
     "metadata": {},
     "output_type": "execute_result"
    }
   ],
   "source": [
    "df_steam_redu_fecha.shape"
   ]
  },
  {
   "cell_type": "code",
   "execution_count": null,
   "metadata": {},
   "outputs": [],
   "source": [
    "# agrego una columna 'Año'\n",
    "df_steam_redu_fecha['año'] = df_steam_redu_fecha['release_date'].dt.year"
   ]
  },
  {
   "cell_type": "markdown",
   "metadata": {},
   "source": [
    "En el siguiente gráfico vemos un notorio aumento en la cantidad de juegos lanzados en la plataforma a medida que pasan los años."
   ]
  },
  {
   "cell_type": "code",
   "execution_count": 340,
   "metadata": {},
   "outputs": [
    {
     "data": {
      "image/png": "[encoded data removed]",
      "text/plain": [
       "<Figure size 720x432 with 1 Axes>"
      ]
     },
     "metadata": {},
     "output_type": "display_data"
    }
   ],
   "source": [
    "# agrupo la cantidad de items por año\n",
    "df_item_por_año = df_steam_redu_fecha.groupby('año')['item_id'].nunique()\n",
    "\n",
    "\n",
    "plt.figure(figsize=(10, 6))\n",
    "plt.bar(df_item_por_año.index, df_item_por_año.values)\n",
    "plt.xlim(2000, 2018)\n",
    "plt.xlabel('Año')\n",
    "plt.ylabel('Cantidad de Juegos lanzados')\n",
    "plt.title('Cantidad de Juegos lanzados por Año', fontsize=20)\n",
    "plt.show()"
   ]
  },
  {
   "cell_type": "markdown",
   "metadata": {},
   "source": [
    "Analisis columna 'genres'"
   ]
  },
  {
   "cell_type": "code",
   "execution_count": 341,
   "metadata": {},
   "outputs": [
    {
     "name": "stdout",
     "output_type": "stream",
     "text": [
      "Cantidad nulos: 1234\n",
      "Tipo de dato y cantidad:\n",
      "<class 'list'>     28658\n",
      "<class 'float'>     1234\n",
      "Name: genres, dtype: int64\n"
     ]
    }
   ],
   "source": [
    "print(conocer_columna (df_steam_redu_fecha,'genres'))"
   ]
  },
  {
   "cell_type": "markdown",
   "metadata": {},
   "source": [
    "Analisis columna 'developer'"
   ]
  },
  {
   "cell_type": "code",
   "execution_count": 342,
   "metadata": {},
   "outputs": [
    {
     "name": "stdout",
     "output_type": "stream",
     "text": [
      "Cantidad nulos: 1250\n",
      "Tipo de dato y cantidad:\n",
      "<class 'str'>      28642\n",
      "<class 'float'>     1250\n",
      "Name: developer, dtype: int64\n"
     ]
    }
   ],
   "source": [
    "print(conocer_columna (df_steam_redu_fecha,'developer'))"
   ]
  },
  {
   "cell_type": "markdown",
   "metadata": {},
   "source": [
    "Analisis de la columna 'price':\n",
    "- Se exploró si existían datos con valor igual a cero y la cantidad de valores que empezaban con la palabra 'Free'.\n",
    "- Se reemplazaron todos los valores que fueran tipo string y contenían la palabra 'Free' por cero.\n",
    "- Se exploró qué valores de tipo string quedaban, los que hacían referencia a valores \"FREE\" se los reemplazó por cero y los demás se eliminaron."
   ]
  },
  {
   "cell_type": "code",
   "execution_count": 343,
   "metadata": {},
   "outputs": [
    {
     "name": "stdout",
     "output_type": "stream",
     "text": [
      "Cantidad nulos: 1076\n",
      "Tipo de dato y cantidad:\n",
      "<class 'float'>    28313\n",
      "<class 'str'>       1579\n",
      "Name: price, dtype: int64\n"
     ]
    }
   ],
   "source": [
    "print(conocer_columna (df_steam_redu_fecha,'price'))"
   ]
  },
  {
   "cell_type": "code",
   "execution_count": 344,
   "metadata": {},
   "outputs": [
    {
     "data": {
      "text/plain": [
       "Series([], Name: price, dtype: object)"
      ]
     },
     "execution_count": 344,
     "metadata": {},
     "output_type": "execute_result"
    }
   ],
   "source": [
    "# evaluo los datoas flotates\n",
    "numero= df_steam_redu_fecha[df_steam_redu_fecha['price'].apply(lambda x: isinstance(x, float))]['price']\n",
    "# veo si hay flotantes igual a cero \n",
    "numero[numero==float(0)]"
   ]
  },
  {
   "cell_type": "code",
   "execution_count": 345,
   "metadata": {},
   "outputs": [
    {
     "data": {
      "text/plain": [
       "1579"
      ]
     },
     "execution_count": 345,
     "metadata": {},
     "output_type": "execute_result"
    }
   ],
   "source": [
    "# evaluo la cantidad de valores free\n",
    "df_steam_redu_fecha['price'].str.startswith('Free').count()"
   ]
  },
  {
   "cell_type": "code",
   "execution_count": 346,
   "metadata": {},
   "outputs": [],
   "source": [
    "# remplazo todos los str que sean free por cero en formato float\n",
    "\n",
    "df_steam_redu_fecha_price=df_steam_redu_fecha.copy()\n",
    "free_str = (df_steam_redu_fecha_price['price'].str.startswith('Free')) & (df_steam_redu_fecha_price['price'].apply(type) == str)\n",
    "df_steam_redu_fecha_price.loc[free_str, 'price'] = 0.0"
   ]
  },
  {
   "cell_type": "code",
   "execution_count": 347,
   "metadata": {},
   "outputs": [
    {
     "name": "stdout",
     "output_type": "stream",
     "text": [
      "Cantidad nulos: 1076\n",
      "Tipo de dato y cantidad:\n",
      "<class 'float'>    29880\n",
      "<class 'str'>         12\n",
      "Name: price, dtype: int64\n"
     ]
    }
   ],
   "source": [
    "print(conocer_columna (df_steam_redu_fecha_price,'price'))"
   ]
  },
  {
   "cell_type": "code",
   "execution_count": 348,
   "metadata": {},
   "outputs": [
    {
     "data": {
      "text/plain": [
       "89279                    Play for Free!\n",
       "89291                    Play for Free!\n",
       "90715                       Install Now\n",
       "91181     Play WARMACHINE: Tactics Demo\n",
       "92142                     Install Theme\n",
       "92228                       Third-party\n",
       "92336                          Play Now\n",
       "111044                    Play the Demo\n",
       "113310              Starting at $499.00\n",
       "113311              Starting at $449.00\n",
       "114527                         Play Now\n",
       "120148                      Third-party\n",
       "Name: price, dtype: object"
      ]
     },
     "execution_count": 348,
     "metadata": {},
     "output_type": "execute_result"
    }
   ],
   "source": [
    "# veo cuales son los str que quedaron\n",
    "df_steam_redu_fecha_price['price'][df_steam_redu_fecha_price['price'].apply(type) == str]"
   ]
  },
  {
   "cell_type": "code",
   "execution_count": 349,
   "metadata": {},
   "outputs": [],
   "source": [
    "# Play for Free! lo pongo 0.0\n",
    "free = df_steam_redu_fecha_price['price'] == 'Play for Free!'\n",
    "df_steam_redu_fecha_price.loc[free, 'price'] = 0.0"
   ]
  },
  {
   "cell_type": "code",
   "execution_count": 350,
   "metadata": {},
   "outputs": [],
   "source": [
    "# elimino el resto de outliers\n",
    "eliminar = ['Play WARMACHINE: Tactics Demo', 'Install Theme', 'Third-party', 'Play Now', 'Starting at $499.00',\n",
    "            'Install Now', 'Play the Demo']\n",
    "df_steam_redu_fecha_price = df_steam_redu_fecha_price[~df_steam_redu_fecha_price['price'].isin(eliminar)]"
   ]
  },
  {
   "cell_type": "code",
   "execution_count": 351,
   "metadata": {},
   "outputs": [
    {
     "data": {
      "text/plain": [
       "113311    Starting at $449.00\n",
       "Name: price, dtype: object"
      ]
     },
     "execution_count": 351,
     "metadata": {},
     "output_type": "execute_result"
    }
   ],
   "source": [
    "# veo si queda algun str\n",
    "df_steam_redu_fecha_price['price'][df_steam_redu_fecha_price['price'].apply(type) == str]"
   ]
  },
  {
   "cell_type": "code",
   "execution_count": 352,
   "metadata": {},
   "outputs": [],
   "source": [
    "# convierto el que me queda\n",
    "free = df_steam_redu_fecha_price.index==113311\n",
    "df_steam_redu_fecha_price.loc[free, 'price'] = 0.0"
   ]
  },
  {
   "cell_type": "code",
   "execution_count": 353,
   "metadata": {},
   "outputs": [
    {
     "name": "stdout",
     "output_type": "stream",
     "text": [
      "Cantidad nulos: 1076\n",
      "Tipo de dato y cantidad:\n",
      "<class 'float'>    29883\n",
      "Name: price, dtype: int64\n"
     ]
    }
   ],
   "source": [
    "print(conocer_columna (df_steam_redu_fecha_price,'price'))"
   ]
  },
  {
   "cell_type": "code",
   "execution_count": 354,
   "metadata": {},
   "outputs": [
    {
     "data": {
      "text/html": [
       "<div>\n",
       "<style scoped>\n",
       "    .dataframe tbody tr th:only-of-type {\n",
       "        vertical-align: middle;\n",
       "    }\n",
       "\n",
       "    .dataframe tbody tr th {\n",
       "        vertical-align: top;\n",
       "    }\n",
       "\n",
       "    .dataframe thead th {\n",
       "        text-align: right;\n",
       "    }\n",
       "</style>\n",
       "<table border=\"1\" class=\"dataframe\">\n",
       "  <thead>\n",
       "    <tr style=\"text-align: right;\">\n",
       "      <th></th>\n",
       "      <th>genres</th>\n",
       "      <th>release_date</th>\n",
       "      <th>price</th>\n",
       "      <th>item_id</th>\n",
       "      <th>developer</th>\n",
       "      <th>año</th>\n",
       "    </tr>\n",
       "  </thead>\n",
       "  <tbody>\n",
       "    <tr>\n",
       "      <th>88310</th>\n",
       "      <td>[Action, Casual, Indie, Simulation, Strategy]</td>\n",
       "      <td>2018-01-04</td>\n",
       "      <td>4.99</td>\n",
       "      <td>761140</td>\n",
       "      <td>Kotoshiro</td>\n",
       "      <td>2018</td>\n",
       "    </tr>\n",
       "  </tbody>\n",
       "</table>\n",
       "</div>"
      ],
      "text/plain": [
       "                                              genres release_date price  \\\n",
       "88310  [Action, Casual, Indie, Simulation, Strategy]   2018-01-04  4.99   \n",
       "\n",
       "      item_id  developer   año  \n",
       "88310  761140  Kotoshiro  2018  "
      ]
     },
     "execution_count": 354,
     "metadata": {},
     "output_type": "execute_result"
    }
   ],
   "source": [
    "df_steam_final = df_steam_redu_fecha_price.copy()\n",
    "df_steam_final.head(1)"
   ]
  },
  {
   "cell_type": "markdown",
   "metadata": {},
   "source": [
    "En el siguiente gráfico se puede observar el aumento del precio de los videojuegos en función del año de lanzamiento, siendo mayores los precios en años más actuales."
   ]
  },
  {
   "cell_type": "code",
   "execution_count": 521,
   "metadata": {},
   "outputs": [
    {
     "data": {
      "image/png": "[encoded data removed]",
      "text/plain": [
       "<Figure size 864x432 with 1 Axes>"
      ]
     },
     "metadata": {},
     "output_type": "display_data"
    }
   ],
   "source": [
    "plt.figure(figsize=(12, 6))\n",
    "sns.scatterplot(x='año', y='price', data=df_steam_final[[ 'price', 'año']])\n",
    "\n",
    "plt.xlim(1980, 2018)\n",
    "plt.title('Precio de Juegos vs Año de Lanzamiento', fontsize=20)\n",
    "plt.xlabel('Año de Lanzamiento')\n",
    "plt.ylabel('Precio')\n",
    "\n",
    "plt.show()"
   ]
  },
  {
   "cell_type": "markdown",
   "metadata": {},
   "source": [
    "# FUNCIONES"
   ]
  },
  {
   "cell_type": "markdown",
   "metadata": {},
   "source": [
    " - Se trabajó con cada función de manera independiente con el principal objetivo de generar un archivo tipo JSON lo más pequeño posible para que este sea consumido desde la API. Reduciendo así el almacenamiento usado en la plataforma Render y la velocidad de respuesta de la API."
   ]
  },
  {
   "cell_type": "markdown",
   "metadata": {},
   "source": [
    "# Funcion COUNTREVIEWS"
   ]
  },
  {
   "cell_type": "markdown",
   "metadata": {},
   "source": [
    "def countreviews( YYYY-MM-DD y YYYY-MM-DD : str ): Cantidad de usuarios que realizaron reviews entre las fechas dadas y, el porcentaje de recomendación de los mismos en base a reviews.recommend."
   ]
  },
  {
   "cell_type": "markdown",
   "metadata": {},
   "source": [
    "- Se filtraron las columnas necesarias para preparar los archivos para la función.\n",
    "- Se determinó la existencia de nulos o duplicados, y se eliminaron en los casos necesarios.\n",
    "- Se eliminaron las columnas que no usará la función.\n",
    "- Se exportó el DataFrame en formato JSON."
   ]
  },
  {
   "cell_type": "code",
   "execution_count": 355,
   "metadata": {},
   "outputs": [
    {
     "data": {
      "text/html": [
       "<div>\n",
       "<style scoped>\n",
       "    .dataframe tbody tr th:only-of-type {\n",
       "        vertical-align: middle;\n",
       "    }\n",
       "\n",
       "    .dataframe tbody tr th {\n",
       "        vertical-align: top;\n",
       "    }\n",
       "\n",
       "    .dataframe thead th {\n",
       "        text-align: right;\n",
       "    }\n",
       "</style>\n",
       "<table border=\"1\" class=\"dataframe\">\n",
       "  <thead>\n",
       "    <tr style=\"text-align: right;\">\n",
       "      <th></th>\n",
       "      <th>user_id</th>\n",
       "      <th>user_url</th>\n",
       "      <th>item_id</th>\n",
       "      <th>recommend</th>\n",
       "      <th>sentiment_analysis</th>\n",
       "      <th>posted_ok</th>\n",
       "      <th>año</th>\n",
       "    </tr>\n",
       "  </thead>\n",
       "  <tbody>\n",
       "    <tr>\n",
       "      <th>0</th>\n",
       "      <td>76561197970982479</td>\n",
       "      <td>http://steamcommunity.com/profiles/76561197970...</td>\n",
       "      <td>1250</td>\n",
       "      <td>1</td>\n",
       "      <td>2</td>\n",
       "      <td>2011-11-05</td>\n",
       "      <td>2011</td>\n",
       "    </tr>\n",
       "  </tbody>\n",
       "</table>\n",
       "</div>"
      ],
      "text/plain": [
       "             user_id                                           user_url  \\\n",
       "0  76561197970982479  http://steamcommunity.com/profiles/76561197970...   \n",
       "\n",
       "  item_id  recommend  sentiment_analysis  posted_ok   año  \n",
       "0    1250          1                   2 2011-11-05  2011  "
      ]
     },
     "execution_count": 355,
     "metadata": {},
     "output_type": "execute_result"
    }
   ],
   "source": [
    "df_review_final.head(1)"
   ]
  },
  {
   "cell_type": "markdown",
   "metadata": {},
   "source": [
    "En el siguiente grafico se observa la cantidad de recomendaciones positivas o negativas en funcion de los años"
   ]
  },
  {
   "cell_type": "code",
   "execution_count": 528,
   "metadata": {},
   "outputs": [
    {
     "data": {
      "image/png": "[encoded data removed]",
      "text/plain": [
       "<Figure size 720x432 with 1 Axes>"
      ]
     },
     "metadata": {},
     "output_type": "display_data"
    }
   ],
   "source": [
    "plt.figure(figsize=(10, 6))\n",
    "sns.countplot(x='año', hue='recommend', data=df_review_final[['recommend', 'año']])\n",
    "\n",
    "plt.xlabel('Año de Recomendación')\n",
    "plt.ylabel('Cantidad de Recomendaciones')\n",
    "plt.title('Cantidad de Recomendaciones por Año', fontsize=20)\n",
    "plt.show()"
   ]
  },
  {
   "cell_type": "code",
   "execution_count": 356,
   "metadata": {},
   "outputs": [
    {
     "data": {
      "text/html": [
       "<div>\n",
       "<style scoped>\n",
       "    .dataframe tbody tr th:only-of-type {\n",
       "        vertical-align: middle;\n",
       "    }\n",
       "\n",
       "    .dataframe tbody tr th {\n",
       "        vertical-align: top;\n",
       "    }\n",
       "\n",
       "    .dataframe thead th {\n",
       "        text-align: right;\n",
       "    }\n",
       "</style>\n",
       "<table border=\"1\" class=\"dataframe\">\n",
       "  <thead>\n",
       "    <tr style=\"text-align: right;\">\n",
       "      <th></th>\n",
       "      <th>user_id</th>\n",
       "      <th>item_id</th>\n",
       "      <th>posted_ok</th>\n",
       "      <th>recommend</th>\n",
       "    </tr>\n",
       "  </thead>\n",
       "  <tbody>\n",
       "    <tr>\n",
       "      <th>0</th>\n",
       "      <td>76561197970982479</td>\n",
       "      <td>1250</td>\n",
       "      <td>2011-11-05</td>\n",
       "      <td>1</td>\n",
       "    </tr>\n",
       "  </tbody>\n",
       "</table>\n",
       "</div>"
      ],
      "text/plain": [
       "             user_id item_id  posted_ok  recommend\n",
       "0  76561197970982479    1250 2011-11-05          1"
      ]
     },
     "execution_count": 356,
     "metadata": {},
     "output_type": "execute_result"
    }
   ],
   "source": [
    "# Me quedo con 'user_id','posted_ok'y'recommend' que es lo que necesito, \n",
    "# y con 'item_id', ya que 'posted_ok'y'recommend' estan a nivel de 'item_id'\n",
    "# Si hay 'posted_ok' tambien hubo reviews.\n",
    "\n",
    "df_countreviews = df_review_final[['user_id','item_id', 'posted_ok','recommend']]\n",
    "df_countreviews.head(1)"
   ]
  },
  {
   "cell_type": "code",
   "execution_count": 360,
   "metadata": {},
   "outputs": [
    {
     "data": {
      "text/plain": [
       "user_id      0\n",
       "item_id      0\n",
       "posted_ok    0\n",
       "recommend    0\n",
       "dtype: int64"
      ]
     },
     "execution_count": 360,
     "metadata": {},
     "output_type": "execute_result"
    }
   ],
   "source": [
    "# Registros completamente vacios\n",
    "df_countreviews[df_countreviews.isna().all(axis=1)].count()"
   ]
  },
  {
   "cell_type": "code",
   "execution_count": 359,
   "metadata": {},
   "outputs": [
    {
     "data": {
      "text/plain": [
       "user_id      0\n",
       "item_id      0\n",
       "posted_ok    0\n",
       "recommend    0\n",
       "dtype: int64"
      ]
     },
     "execution_count": 359,
     "metadata": {},
     "output_type": "execute_result"
    }
   ],
   "source": [
    "# Registros duplicados\n",
    "df_countreviews[df_countreviews.duplicated()].count()"
   ]
  },
  {
   "cell_type": "code",
   "execution_count": 361,
   "metadata": {},
   "outputs": [],
   "source": [
    "# Ahora que ya corrobore que no hay nulos ni duplicados, puedo elimnar la columna item_id\n",
    "df_countreviews = df_countreviews.drop(columns=['item_id','user_id'])"
   ]
  },
  {
   "cell_type": "code",
   "execution_count": 496,
   "metadata": {},
   "outputs": [],
   "source": [
    "# Convierto la fecha a formato '%Y-%m-%d'\n",
    "df_countreviews['posted_ok'] = pd.to_datetime(df_countreviews['posted_ok'])\n",
    "df_countreviews['posted_ok'] = df_countreviews['posted_ok'].dt.strftime('%Y-%m-%d')\n"
   ]
  },
  {
   "cell_type": "code",
   "execution_count": 497,
   "metadata": {},
   "outputs": [
    {
     "data": {
      "text/plain": [
       "(48498, 2)"
      ]
     },
     "execution_count": 497,
     "metadata": {},
     "output_type": "execute_result"
    }
   ],
   "source": [
    "df_countreviews.shape"
   ]
  },
  {
   "cell_type": "code",
   "execution_count": 498,
   "metadata": {},
   "outputs": [
    {
     "data": {
      "text/html": [
       "<div>\n",
       "<style scoped>\n",
       "    .dataframe tbody tr th:only-of-type {\n",
       "        vertical-align: middle;\n",
       "    }\n",
       "\n",
       "    .dataframe tbody tr th {\n",
       "        vertical-align: top;\n",
       "    }\n",
       "\n",
       "    .dataframe thead th {\n",
       "        text-align: right;\n",
       "    }\n",
       "</style>\n",
       "<table border=\"1\" class=\"dataframe\">\n",
       "  <thead>\n",
       "    <tr style=\"text-align: right;\">\n",
       "      <th></th>\n",
       "      <th>posted_ok</th>\n",
       "      <th>recommend</th>\n",
       "    </tr>\n",
       "  </thead>\n",
       "  <tbody>\n",
       "    <tr>\n",
       "      <th>0</th>\n",
       "      <td>2011-11-05</td>\n",
       "      <td>1</td>\n",
       "    </tr>\n",
       "  </tbody>\n",
       "</table>\n",
       "</div>"
      ],
      "text/plain": [
       "    posted_ok  recommend\n",
       "0  2011-11-05          1"
      ]
     },
     "execution_count": 498,
     "metadata": {},
     "output_type": "execute_result"
    }
   ],
   "source": [
    "df_countreviews.head(1)"
   ]
  },
  {
   "cell_type": "code",
   "execution_count": 499,
   "metadata": {},
   "outputs": [],
   "source": [
    "#df_countreviews.to_json(\"DataSets/df_countreviews.json\", orient=\"records\", lines=True)"
   ]
  },
  {
   "cell_type": "markdown",
   "metadata": {},
   "source": [
    "# Funcion GENRES"
   ]
  },
  {
   "cell_type": "markdown",
   "metadata": {},
   "source": [
    "def genre( género : str ): Devuelve el puesto en el que se encuentra un género sobre el ranking de los mismos analizado bajo la columna PlayTimeForever."
   ]
  },
  {
   "cell_type": "markdown",
   "metadata": {},
   "source": [
    "- Se filtraron las columnas necesarias para preparar los archivos para la función.\n",
    "- Se determinó la existencia de nulos o duplicados, y se eliminaron en los casos necesarios.\n",
    "- En este caso se trabajó primero con la columna género del archivo Steam. Se exploró la columna género con la función explode(). Se eliminaron nulos y se analizó qué palabras únicas se encontraban dentro. Se eliminó todo lo que no era género de videojuegos.\n",
    "- Luego se unió con las columnas necesarias del archivo Item utilizando la función pd.merge() usando 'item_id' como clave.\n",
    "- Se agrupó la información por géneros usando groupby() y luego se ordenó con sort_values().\n",
    "- Se agregó una columna que indica el ranking de cada género.\n",
    "- Se pasó a minúscula la columna género con lower().\n",
    "- Se eliminaron las columnas que no usará la función.\n",
    "- Se exportó el DataFrame en formato JSON."
   ]
  },
  {
   "cell_type": "code",
   "execution_count": 365,
   "metadata": {},
   "outputs": [],
   "source": [
    "df_item_genres = df_steam_final[['genres', 'item_id']]"
   ]
  },
  {
   "cell_type": "code",
   "execution_count": 366,
   "metadata": {},
   "outputs": [],
   "source": [
    "# descompongo la lista de generos\n",
    "df_item_genres = df_item_genres.explode('genres')"
   ]
  },
  {
   "cell_type": "code",
   "execution_count": 367,
   "metadata": {},
   "outputs": [
    {
     "data": {
      "text/plain": [
       "1233"
      ]
     },
     "execution_count": 367,
     "metadata": {},
     "output_type": "execute_result"
    }
   ],
   "source": [
    "df_item_genres['genres'].isna().sum()"
   ]
  },
  {
   "cell_type": "code",
   "execution_count": 368,
   "metadata": {},
   "outputs": [],
   "source": [
    "# Elimino los registros donde 'genres' es nulo\n",
    "df_item_genres = df_item_genres.dropna(subset=['genres'])"
   ]
  },
  {
   "cell_type": "code",
   "execution_count": 369,
   "metadata": {},
   "outputs": [
    {
     "data": {
      "text/plain": [
       "array(['Action', 'Casual', 'Indie', 'Simulation', 'Strategy',\n",
       "       'Free to Play', 'RPG', 'Sports', 'Adventure', 'Racing',\n",
       "       'Massively Multiplayer', 'Early Access',\n",
       "       'Animation &amp; Modeling', 'Video Production', 'Web Publishing',\n",
       "       'Education', 'Software Training', 'Utilities',\n",
       "       'Design &amp; Illustration', 'Audio Production', 'Photo Editing',\n",
       "       'Accounting'], dtype=object)"
      ]
     },
     "execution_count": 369,
     "metadata": {},
     "output_type": "execute_result"
    }
   ],
   "source": [
    "# Veo que hay adentro de 'genres'\n",
    "df_item_genres['genres'].unique()"
   ]
  },
  {
   "cell_type": "code",
   "execution_count": 370,
   "metadata": {},
   "outputs": [],
   "source": [
    "# Elimino todo lo que no es genero de pelicula\n",
    "\n",
    "eliminar = ['Free to Play','Early Access','Animation &amp; Modeling','Video Production','Utilities',\n",
    "            'Web Publishing','Education','Software Training','Design &amp; Illustration',\n",
    "            'Audio Production','Photo Editing','Accounting']\n",
    "\n",
    "condicion = ~df_item_genres['genres'].isin(eliminar)\n",
    "df_item_genres = df_item_genres[condicion]"
   ]
  },
  {
   "cell_type": "code",
   "execution_count": 371,
   "metadata": {},
   "outputs": [
    {
     "data": {
      "text/plain": [
       "(65764, 2)"
      ]
     },
     "execution_count": 371,
     "metadata": {},
     "output_type": "execute_result"
    }
   ],
   "source": [
    "df_item_genres.shape"
   ]
  },
  {
   "cell_type": "code",
   "execution_count": 372,
   "metadata": {},
   "outputs": [
    {
     "data": {
      "text/html": [
       "<div>\n",
       "<style scoped>\n",
       "    .dataframe tbody tr th:only-of-type {\n",
       "        vertical-align: middle;\n",
       "    }\n",
       "\n",
       "    .dataframe tbody tr th {\n",
       "        vertical-align: top;\n",
       "    }\n",
       "\n",
       "    .dataframe thead th {\n",
       "        text-align: right;\n",
       "    }\n",
       "</style>\n",
       "<table border=\"1\" class=\"dataframe\">\n",
       "  <thead>\n",
       "    <tr style=\"text-align: right;\">\n",
       "      <th></th>\n",
       "      <th>genres</th>\n",
       "      <th>item_id</th>\n",
       "    </tr>\n",
       "  </thead>\n",
       "  <tbody>\n",
       "    <tr>\n",
       "      <th>88310</th>\n",
       "      <td>Action</td>\n",
       "      <td>761140</td>\n",
       "    </tr>\n",
       "  </tbody>\n",
       "</table>\n",
       "</div>"
      ],
      "text/plain": [
       "       genres item_id\n",
       "88310  Action  761140"
      ]
     },
     "execution_count": 372,
     "metadata": {},
     "output_type": "execute_result"
    }
   ],
   "source": [
    "df_item_genres.head(1)"
   ]
  },
  {
   "cell_type": "code",
   "execution_count": 373,
   "metadata": {},
   "outputs": [],
   "source": [
    "# creo un df con 'item' y 'playtime_forever'\n",
    "df_item_playtime = df_items_final[['item_id','playtime_forever']]"
   ]
  },
  {
   "cell_type": "code",
   "execution_count": 374,
   "metadata": {},
   "outputs": [
    {
     "data": {
      "text/plain": [
       "0"
      ]
     },
     "execution_count": 374,
     "metadata": {},
     "output_type": "execute_result"
    }
   ],
   "source": [
    "df_item_playtime['playtime_forever'].isna().sum()"
   ]
  },
  {
   "cell_type": "code",
   "execution_count": 375,
   "metadata": {},
   "outputs": [
    {
     "data": {
      "text/plain": [
       "(5094105, 2)"
      ]
     },
     "execution_count": 375,
     "metadata": {},
     "output_type": "execute_result"
    }
   ],
   "source": [
    "df_item_playtime.shape"
   ]
  },
  {
   "cell_type": "code",
   "execution_count": 376,
   "metadata": {},
   "outputs": [
    {
     "data": {
      "text/html": [
       "<div>\n",
       "<style scoped>\n",
       "    .dataframe tbody tr th:only-of-type {\n",
       "        vertical-align: middle;\n",
       "    }\n",
       "\n",
       "    .dataframe tbody tr th {\n",
       "        vertical-align: top;\n",
       "    }\n",
       "\n",
       "    .dataframe thead th {\n",
       "        text-align: right;\n",
       "    }\n",
       "</style>\n",
       "<table border=\"1\" class=\"dataframe\">\n",
       "  <thead>\n",
       "    <tr style=\"text-align: right;\">\n",
       "      <th></th>\n",
       "      <th>item_id</th>\n",
       "      <th>playtime_forever</th>\n",
       "    </tr>\n",
       "  </thead>\n",
       "  <tbody>\n",
       "    <tr>\n",
       "      <th>0</th>\n",
       "      <td>10</td>\n",
       "      <td>6.0</td>\n",
       "    </tr>\n",
       "  </tbody>\n",
       "</table>\n",
       "</div>"
      ],
      "text/plain": [
       "  item_id  playtime_forever\n",
       "0      10               6.0"
      ]
     },
     "execution_count": 376,
     "metadata": {},
     "output_type": "execute_result"
    }
   ],
   "source": [
    "df_item_playtime.head(1)"
   ]
  },
  {
   "cell_type": "code",
   "execution_count": 377,
   "metadata": {},
   "outputs": [],
   "source": [
    "# junto las dos tablas a travez del 'item_id'\n",
    "df_genre = pd.merge(df_item_genres,df_item_playtime, on='item_id')"
   ]
  },
  {
   "cell_type": "code",
   "execution_count": 378,
   "metadata": {},
   "outputs": [],
   "source": [
    "df_genre = df_genre.drop(columns=['item_id'])"
   ]
  },
  {
   "cell_type": "code",
   "execution_count": 379,
   "metadata": {},
   "outputs": [
    {
     "data": {
      "text/html": [
       "<div>\n",
       "<style scoped>\n",
       "    .dataframe tbody tr th:only-of-type {\n",
       "        vertical-align: middle;\n",
       "    }\n",
       "\n",
       "    .dataframe tbody tr th {\n",
       "        vertical-align: top;\n",
       "    }\n",
       "\n",
       "    .dataframe thead th {\n",
       "        text-align: right;\n",
       "    }\n",
       "</style>\n",
       "<table border=\"1\" class=\"dataframe\">\n",
       "  <thead>\n",
       "    <tr style=\"text-align: right;\">\n",
       "      <th></th>\n",
       "      <th>genres</th>\n",
       "      <th>playtime_forever</th>\n",
       "    </tr>\n",
       "  </thead>\n",
       "  <tbody>\n",
       "    <tr>\n",
       "      <th>0</th>\n",
       "      <td>Action</td>\n",
       "      <td>5.0</td>\n",
       "    </tr>\n",
       "  </tbody>\n",
       "</table>\n",
       "</div>"
      ],
      "text/plain": [
       "   genres  playtime_forever\n",
       "0  Action               5.0"
      ]
     },
     "execution_count": 379,
     "metadata": {},
     "output_type": "execute_result"
    }
   ],
   "source": [
    "df_genre.head(1)"
   ]
  },
  {
   "cell_type": "code",
   "execution_count": 380,
   "metadata": {},
   "outputs": [
    {
     "data": {
      "text/html": [
       "<div>\n",
       "<style scoped>\n",
       "    .dataframe tbody tr th:only-of-type {\n",
       "        vertical-align: middle;\n",
       "    }\n",
       "\n",
       "    .dataframe tbody tr th {\n",
       "        vertical-align: top;\n",
       "    }\n",
       "\n",
       "    .dataframe thead th {\n",
       "        text-align: right;\n",
       "    }\n",
       "</style>\n",
       "<table border=\"1\" class=\"dataframe\">\n",
       "  <thead>\n",
       "    <tr style=\"text-align: right;\">\n",
       "      <th></th>\n",
       "      <th>genres</th>\n",
       "      <th>playtime_forever</th>\n",
       "    </tr>\n",
       "  </thead>\n",
       "  <tbody>\n",
       "    <tr>\n",
       "      <th>0</th>\n",
       "      <td>Action</td>\n",
       "      <td>3.070370e+09</td>\n",
       "    </tr>\n",
       "    <tr>\n",
       "      <th>1</th>\n",
       "      <td>Adventure</td>\n",
       "      <td>8.940376e+08</td>\n",
       "    </tr>\n",
       "    <tr>\n",
       "      <th>2</th>\n",
       "      <td>Casual</td>\n",
       "      <td>2.490610e+08</td>\n",
       "    </tr>\n",
       "  </tbody>\n",
       "</table>\n",
       "</div>"
      ],
      "text/plain": [
       "      genres  playtime_forever\n",
       "0     Action      3.070370e+09\n",
       "1  Adventure      8.940376e+08\n",
       "2     Casual      2.490610e+08"
      ]
     },
     "execution_count": 380,
     "metadata": {},
     "output_type": "execute_result"
    }
   ],
   "source": [
    "# agrupo por 'item_id' y sumo  los 'price'\n",
    "df_genre = df_genre.groupby('genres')['playtime_forever'].sum().reset_index()\n",
    "df_genre.head(3)"
   ]
  },
  {
   "cell_type": "code",
   "execution_count": 381,
   "metadata": {},
   "outputs": [],
   "source": [
    "# ordeno segun los valores de la columna 'playtime_forever'\n",
    "df_genre_orden = df_genre.sort_values(by='playtime_forever', ascending=False)"
   ]
  },
  {
   "cell_type": "code",
   "execution_count": 382,
   "metadata": {},
   "outputs": [],
   "source": [
    "# agrego una columna para enumerar el orden\n",
    "df_genre_orden['ranking'] = range(1, 11)"
   ]
  },
  {
   "cell_type": "code",
   "execution_count": 383,
   "metadata": {},
   "outputs": [
    {
     "data": {
      "text/html": [
       "<div>\n",
       "<style scoped>\n",
       "    .dataframe tbody tr th:only-of-type {\n",
       "        vertical-align: middle;\n",
       "    }\n",
       "\n",
       "    .dataframe tbody tr th {\n",
       "        vertical-align: top;\n",
       "    }\n",
       "\n",
       "    .dataframe thead th {\n",
       "        text-align: right;\n",
       "    }\n",
       "</style>\n",
       "<table border=\"1\" class=\"dataframe\">\n",
       "  <thead>\n",
       "    <tr style=\"text-align: right;\">\n",
       "      <th></th>\n",
       "      <th>genres</th>\n",
       "      <th>playtime_forever</th>\n",
       "      <th>ranking</th>\n",
       "    </tr>\n",
       "  </thead>\n",
       "  <tbody>\n",
       "    <tr>\n",
       "      <th>0</th>\n",
       "      <td>Action</td>\n",
       "      <td>3.070370e+09</td>\n",
       "      <td>1</td>\n",
       "    </tr>\n",
       "    <tr>\n",
       "      <th>3</th>\n",
       "      <td>Indie</td>\n",
       "      <td>1.475225e+09</td>\n",
       "      <td>2</td>\n",
       "    </tr>\n",
       "    <tr>\n",
       "      <th>5</th>\n",
       "      <td>RPG</td>\n",
       "      <td>1.027724e+09</td>\n",
       "      <td>3</td>\n",
       "    </tr>\n",
       "  </tbody>\n",
       "</table>\n",
       "</div>"
      ],
      "text/plain": [
       "   genres  playtime_forever  ranking\n",
       "0  Action      3.070370e+09        1\n",
       "3   Indie      1.475225e+09        2\n",
       "5     RPG      1.027724e+09        3"
      ]
     },
     "execution_count": 383,
     "metadata": {},
     "output_type": "execute_result"
    }
   ],
   "source": [
    "df_genre_orden.head(3)"
   ]
  },
  {
   "cell_type": "code",
   "execution_count": 387,
   "metadata": {},
   "outputs": [],
   "source": [
    "df_genre_ranking = df_genre_orden[['genres','ranking']].copy()\n",
    "\n",
    "# convierto a minuscula para evitar errores\n",
    "df_genre_ranking['genres'] = df_genre_ranking['genres'].str.lower()"
   ]
  },
  {
   "cell_type": "code",
   "execution_count": 388,
   "metadata": {},
   "outputs": [
    {
     "data": {
      "text/html": [
       "<div>\n",
       "<style scoped>\n",
       "    .dataframe tbody tr th:only-of-type {\n",
       "        vertical-align: middle;\n",
       "    }\n",
       "\n",
       "    .dataframe tbody tr th {\n",
       "        vertical-align: top;\n",
       "    }\n",
       "\n",
       "    .dataframe thead th {\n",
       "        text-align: right;\n",
       "    }\n",
       "</style>\n",
       "<table border=\"1\" class=\"dataframe\">\n",
       "  <thead>\n",
       "    <tr style=\"text-align: right;\">\n",
       "      <th></th>\n",
       "      <th>genres</th>\n",
       "      <th>ranking</th>\n",
       "    </tr>\n",
       "  </thead>\n",
       "  <tbody>\n",
       "    <tr>\n",
       "      <th>0</th>\n",
       "      <td>action</td>\n",
       "      <td>1</td>\n",
       "    </tr>\n",
       "  </tbody>\n",
       "</table>\n",
       "</div>"
      ],
      "text/plain": [
       "   genres  ranking\n",
       "0  action        1"
      ]
     },
     "execution_count": 388,
     "metadata": {},
     "output_type": "execute_result"
    }
   ],
   "source": [
    "df_genre_ranking.head(1)"
   ]
  },
  {
   "cell_type": "code",
   "execution_count": 389,
   "metadata": {},
   "outputs": [],
   "source": [
    "#df_genre_ranking.to_json(\"DataSets/df_genre.json\", orient=\"records\", lines=True)"
   ]
  },
  {
   "cell_type": "markdown",
   "metadata": {},
   "source": [
    "En el siguiente gráfico podemos ver la cantidad de horas que se ha jugado un juego en función del género que tiene ese juego. Se concluye que el género acción es el más jugado."
   ]
  },
  {
   "cell_type": "code",
   "execution_count": 538,
   "metadata": {},
   "outputs": [
    {
     "data": {
      "image/png": "[encoded data removed]",
      "text/plain": [
       "<Figure size 720x432 with 1 Axes>"
      ]
     },
     "metadata": {},
     "output_type": "display_data"
    }
   ],
   "source": [
    "plt.figure(figsize=(10, 6))\n",
    "sns.barplot(data=df_genre_orden, y=\"genres\", x=\"playtime_forever\", orient=\"h\")\n",
    "\n",
    "plt.title('Horas jugadas por Género', fontsize= 20)\n",
    "plt.xlabel('Horas jugadas')\n",
    "plt.ylabel('Género')\n",
    "\n",
    "plt.show()"
   ]
  },
  {
   "cell_type": "markdown",
   "metadata": {},
   "source": [
    "# Funcion USERFORGENRE"
   ]
  },
  {
   "cell_type": "markdown",
   "metadata": {},
   "source": [
    "def userforgenre( género : str ): Top 5 de usuarios con más horas de juego en el género dado, con su URL (del user) y user_id."
   ]
  },
  {
   "cell_type": "markdown",
   "metadata": {},
   "source": [
    "- Se filtraron las columnas necesarias para preparar los archivos para la función.\n",
    "- Se determinó la existencia de nulos o duplicados, y se eliminaron en los casos necesarios.\n",
    "- Se unió las columnas utilizando la función pd.merge() usando 'item_id' como clave.\n",
    "- Diseñe la funcion ranking_genero (genero) que recibe un genero y devulve un df con un Top 5 de usuarios con más horas de juego (sum de playtime_forever) en el género dado, su user_url y user_id. Apliqué esta función a cada uno de los generos existentes y luego concatene los DataFrame usando pd.concat()\n",
    "- Se pasó a minúscula la columna género con lower().\n",
    "- Se eliminaron las columnas que no usará la función.\n",
    "- Se exportó el DataFrame en formato JSON."
   ]
  },
  {
   "cell_type": "code",
   "execution_count": 390,
   "metadata": {},
   "outputs": [
    {
     "data": {
      "text/html": [
       "<div>\n",
       "<style scoped>\n",
       "    .dataframe tbody tr th:only-of-type {\n",
       "        vertical-align: middle;\n",
       "    }\n",
       "\n",
       "    .dataframe tbody tr th {\n",
       "        vertical-align: top;\n",
       "    }\n",
       "\n",
       "    .dataframe thead th {\n",
       "        text-align: right;\n",
       "    }\n",
       "</style>\n",
       "<table border=\"1\" class=\"dataframe\">\n",
       "  <thead>\n",
       "    <tr style=\"text-align: right;\">\n",
       "      <th></th>\n",
       "      <th>genres</th>\n",
       "      <th>item_id</th>\n",
       "    </tr>\n",
       "  </thead>\n",
       "  <tbody>\n",
       "    <tr>\n",
       "      <th>88310</th>\n",
       "      <td>Action</td>\n",
       "      <td>761140</td>\n",
       "    </tr>\n",
       "  </tbody>\n",
       "</table>\n",
       "</div>"
      ],
      "text/plain": [
       "       genres item_id\n",
       "88310  Action  761140"
      ]
     },
     "execution_count": 390,
     "metadata": {},
     "output_type": "execute_result"
    }
   ],
   "source": [
    "df_item_genres.head(1)"
   ]
  },
  {
   "cell_type": "code",
   "execution_count": 391,
   "metadata": {},
   "outputs": [
    {
     "data": {
      "text/html": [
       "<div>\n",
       "<style scoped>\n",
       "    .dataframe tbody tr th:only-of-type {\n",
       "        vertical-align: middle;\n",
       "    }\n",
       "\n",
       "    .dataframe tbody tr th {\n",
       "        vertical-align: top;\n",
       "    }\n",
       "\n",
       "    .dataframe thead th {\n",
       "        text-align: right;\n",
       "    }\n",
       "</style>\n",
       "<table border=\"1\" class=\"dataframe\">\n",
       "  <thead>\n",
       "    <tr style=\"text-align: right;\">\n",
       "      <th></th>\n",
       "      <th>user_id</th>\n",
       "      <th>item_id</th>\n",
       "      <th>user_url</th>\n",
       "      <th>playtime_forever</th>\n",
       "    </tr>\n",
       "  </thead>\n",
       "  <tbody>\n",
       "    <tr>\n",
       "      <th>0</th>\n",
       "      <td>76561197970982479</td>\n",
       "      <td>10</td>\n",
       "      <td>http://steamcommunity.com/profiles/76561197970...</td>\n",
       "      <td>6.0</td>\n",
       "    </tr>\n",
       "  </tbody>\n",
       "</table>\n",
       "</div>"
      ],
      "text/plain": [
       "             user_id item_id  \\\n",
       "0  76561197970982479      10   \n",
       "\n",
       "                                            user_url  playtime_forever  \n",
       "0  http://steamcommunity.com/profiles/76561197970...               6.0  "
      ]
     },
     "execution_count": 391,
     "metadata": {},
     "output_type": "execute_result"
    }
   ],
   "source": [
    "df_items_final.head(1)"
   ]
  },
  {
   "cell_type": "code",
   "execution_count": 392,
   "metadata": {},
   "outputs": [],
   "source": [
    "# junto las dos tablas a travez del 'item_id'\n",
    "df_userforgenre_inicial = pd.merge(df_item_genres,df_items_final, on='item_id')"
   ]
  },
  {
   "cell_type": "code",
   "execution_count": 393,
   "metadata": {},
   "outputs": [],
   "source": [
    "df_userforgenre_inicial = df_userforgenre_inicial.drop(columns=['item_id','user_url']) # elimino columnas"
   ]
  },
  {
   "cell_type": "code",
   "execution_count": 394,
   "metadata": {},
   "outputs": [
    {
     "data": {
      "text/html": [
       "<div>\n",
       "<style scoped>\n",
       "    .dataframe tbody tr th:only-of-type {\n",
       "        vertical-align: middle;\n",
       "    }\n",
       "\n",
       "    .dataframe tbody tr th {\n",
       "        vertical-align: top;\n",
       "    }\n",
       "\n",
       "    .dataframe thead th {\n",
       "        text-align: right;\n",
       "    }\n",
       "</style>\n",
       "<table border=\"1\" class=\"dataframe\">\n",
       "  <thead>\n",
       "    <tr style=\"text-align: right;\">\n",
       "      <th></th>\n",
       "      <th>genres</th>\n",
       "      <th>user_id</th>\n",
       "      <th>playtime_forever</th>\n",
       "    </tr>\n",
       "  </thead>\n",
       "  <tbody>\n",
       "    <tr>\n",
       "      <th>0</th>\n",
       "      <td>Action</td>\n",
       "      <td>UTNerd24</td>\n",
       "      <td>5.0</td>\n",
       "    </tr>\n",
       "    <tr>\n",
       "      <th>1</th>\n",
       "      <td>Action</td>\n",
       "      <td>I_DID_911_JUST_SAYING</td>\n",
       "      <td>0.0</td>\n",
       "    </tr>\n",
       "  </tbody>\n",
       "</table>\n",
       "</div>"
      ],
      "text/plain": [
       "   genres                user_id  playtime_forever\n",
       "0  Action               UTNerd24               5.0\n",
       "1  Action  I_DID_911_JUST_SAYING               0.0"
      ]
     },
     "execution_count": 394,
     "metadata": {},
     "output_type": "execute_result"
    }
   ],
   "source": [
    "df_userforgenre_inicial.head(2)"
   ]
  },
  {
   "cell_type": "code",
   "execution_count": 395,
   "metadata": {},
   "outputs": [],
   "source": [
    "def ranking_genero (genero):\n",
    "    ''' Esta funcion recibe un genero y devulve un df con un Top 5 de usuarios \n",
    "    con más horas de juego (sum de playtime_forever) en el género dado, su user_url y user_id '''\n",
    "\n",
    "    df_final = pd.DataFrame()\n",
    "    df_final = df_userforgenre_inicial[df_userforgenre_inicial['genres'] == genero] # hago un df por genero\n",
    "    df_final = df_final.drop(columns=['genres']) # elimino columna genero\n",
    "    df_final = df_final.groupby('user_id')['playtime_forever'].sum().reset_index() # agrupo por 'user_id' y sumo 'play'\n",
    "    df_final = df_final.sort_values(by='playtime_forever', ascending=False) # ordeno segun los valores de la columna 'playtime_forever'\n",
    "    df_final = df_final.head(5).copy() # me quedo con los 5 primeros\n",
    "    df_final['ranking'] = range(1, 6)# agrego una columna para enumerar el orden\n",
    "    df_final['genres'] = genero # agrego la columna de genero\n",
    "    df_final['user_url'] = None # genero una columna de url\n",
    "\n",
    "    # para ponerle el 'user_url' a cada 'user_id'\n",
    "    for elemento in df_final['user_id']:\n",
    "        filtrado = df_items_final.loc[df_items_final['user_id'] == elemento, 'user_url']\n",
    "        df_final.loc[df_final['user_id'] == elemento, 'user_url'] = filtrado.values[0]\n",
    "    return df_final"
   ]
  },
  {
   "cell_type": "code",
   "execution_count": 396,
   "metadata": {},
   "outputs": [
    {
     "data": {
      "text/plain": [
       "array(['Action', 'Indie', 'Racing', 'Strategy', 'RPG', 'Simulation',\n",
       "       'Casual', 'Adventure', 'Sports', 'Massively Multiplayer'],\n",
       "      dtype=object)"
      ]
     },
     "execution_count": 396,
     "metadata": {},
     "output_type": "execute_result"
    }
   ],
   "source": [
    "df_userforgenre_inicial['genres'].unique()"
   ]
  },
  {
   "cell_type": "code",
   "execution_count": 397,
   "metadata": {},
   "outputs": [
    {
     "data": {
      "text/html": [
       "<div>\n",
       "<style scoped>\n",
       "    .dataframe tbody tr th:only-of-type {\n",
       "        vertical-align: middle;\n",
       "    }\n",
       "\n",
       "    .dataframe tbody tr th {\n",
       "        vertical-align: top;\n",
       "    }\n",
       "\n",
       "    .dataframe thead th {\n",
       "        text-align: right;\n",
       "    }\n",
       "</style>\n",
       "<table border=\"1\" class=\"dataframe\">\n",
       "  <thead>\n",
       "    <tr style=\"text-align: right;\">\n",
       "      <th></th>\n",
       "      <th>user_id</th>\n",
       "      <th>playtime_forever</th>\n",
       "      <th>ranking</th>\n",
       "      <th>genres</th>\n",
       "      <th>user_url</th>\n",
       "    </tr>\n",
       "  </thead>\n",
       "  <tbody>\n",
       "    <tr>\n",
       "      <th>50650</th>\n",
       "      <td>Sp3ctre</td>\n",
       "      <td>1697650.0</td>\n",
       "      <td>1</td>\n",
       "      <td>Action</td>\n",
       "      <td>http://steamcommunity.com/id/Sp3ctre</td>\n",
       "    </tr>\n",
       "  </tbody>\n",
       "</table>\n",
       "</div>"
      ],
      "text/plain": [
       "       user_id  playtime_forever  ranking  genres  \\\n",
       "50650  Sp3ctre         1697650.0        1  Action   \n",
       "\n",
       "                                   user_url  \n",
       "50650  http://steamcommunity.com/id/Sp3ctre  "
      ]
     },
     "execution_count": 397,
     "metadata": {},
     "output_type": "execute_result"
    }
   ],
   "source": [
    "genero = 'Action'\n",
    "df_userforgenre_action = ranking_genero (genero)\n",
    "df_userforgenre_action.head(1)"
   ]
  },
  {
   "cell_type": "code",
   "execution_count": 399,
   "metadata": {},
   "outputs": [
    {
     "data": {
      "text/html": [
       "<div>\n",
       "<style scoped>\n",
       "    .dataframe tbody tr th:only-of-type {\n",
       "        vertical-align: middle;\n",
       "    }\n",
       "\n",
       "    .dataframe tbody tr th {\n",
       "        vertical-align: top;\n",
       "    }\n",
       "\n",
       "    .dataframe thead th {\n",
       "        text-align: right;\n",
       "    }\n",
       "</style>\n",
       "<table border=\"1\" class=\"dataframe\">\n",
       "  <thead>\n",
       "    <tr style=\"text-align: right;\">\n",
       "      <th></th>\n",
       "      <th>user_id</th>\n",
       "      <th>playtime_forever</th>\n",
       "      <th>ranking</th>\n",
       "      <th>genres</th>\n",
       "      <th>user_url</th>\n",
       "    </tr>\n",
       "  </thead>\n",
       "  <tbody>\n",
       "    <tr>\n",
       "      <th>46547</th>\n",
       "      <td>REBAS_AS_F-T</td>\n",
       "      <td>2402994.0</td>\n",
       "      <td>1</td>\n",
       "      <td>Indie</td>\n",
       "      <td>http://steamcommunity.com/id/REBAS_AS_F-T</td>\n",
       "    </tr>\n",
       "  </tbody>\n",
       "</table>\n",
       "</div>"
      ],
      "text/plain": [
       "            user_id  playtime_forever  ranking genres  \\\n",
       "46547  REBAS_AS_F-T         2402994.0        1  Indie   \n",
       "\n",
       "                                        user_url  \n",
       "46547  http://steamcommunity.com/id/REBAS_AS_F-T  "
      ]
     },
     "execution_count": 399,
     "metadata": {},
     "output_type": "execute_result"
    }
   ],
   "source": [
    "genero = 'Indie'\n",
    "df_userforgenre_indie = ranking_genero (genero)\n",
    "df_userforgenre_indie.head(1)"
   ]
  },
  {
   "cell_type": "code",
   "execution_count": 400,
   "metadata": {},
   "outputs": [
    {
     "data": {
      "text/html": [
       "<div>\n",
       "<style scoped>\n",
       "    .dataframe tbody tr th:only-of-type {\n",
       "        vertical-align: middle;\n",
       "    }\n",
       "\n",
       "    .dataframe tbody tr th {\n",
       "        vertical-align: top;\n",
       "    }\n",
       "\n",
       "    .dataframe thead th {\n",
       "        text-align: right;\n",
       "    }\n",
       "</style>\n",
       "<table border=\"1\" class=\"dataframe\">\n",
       "  <thead>\n",
       "    <tr style=\"text-align: right;\">\n",
       "      <th></th>\n",
       "      <th>user_id</th>\n",
       "      <th>playtime_forever</th>\n",
       "      <th>ranking</th>\n",
       "      <th>genres</th>\n",
       "      <th>user_url</th>\n",
       "    </tr>\n",
       "  </thead>\n",
       "  <tbody>\n",
       "    <tr>\n",
       "      <th>16798</th>\n",
       "      <td>DownSyndromeKid</td>\n",
       "      <td>743445.0</td>\n",
       "      <td>1</td>\n",
       "      <td>Racing</td>\n",
       "      <td>http://steamcommunity.com/id/DownSyndromeKid</td>\n",
       "    </tr>\n",
       "  </tbody>\n",
       "</table>\n",
       "</div>"
      ],
      "text/plain": [
       "               user_id  playtime_forever  ranking  genres  \\\n",
       "16798  DownSyndromeKid          743445.0        1  Racing   \n",
       "\n",
       "                                           user_url  \n",
       "16798  http://steamcommunity.com/id/DownSyndromeKid  "
      ]
     },
     "execution_count": 400,
     "metadata": {},
     "output_type": "execute_result"
    }
   ],
   "source": [
    "genero = 'Racing'\n",
    "df_userforgenre_racing = ranking_genero (genero)\n",
    "df_userforgenre_racing.head(1)"
   ]
  },
  {
   "cell_type": "code",
   "execution_count": 401,
   "metadata": {},
   "outputs": [
    {
     "data": {
      "text/html": [
       "<div>\n",
       "<style scoped>\n",
       "    .dataframe tbody tr th:only-of-type {\n",
       "        vertical-align: middle;\n",
       "    }\n",
       "\n",
       "    .dataframe tbody tr th {\n",
       "        vertical-align: top;\n",
       "    }\n",
       "\n",
       "    .dataframe thead th {\n",
       "        text-align: right;\n",
       "    }\n",
       "</style>\n",
       "<table border=\"1\" class=\"dataframe\">\n",
       "  <thead>\n",
       "    <tr style=\"text-align: right;\">\n",
       "      <th></th>\n",
       "      <th>user_id</th>\n",
       "      <th>playtime_forever</th>\n",
       "      <th>ranking</th>\n",
       "      <th>genres</th>\n",
       "      <th>user_url</th>\n",
       "    </tr>\n",
       "  </thead>\n",
       "  <tbody>\n",
       "    <tr>\n",
       "      <th>52336</th>\n",
       "      <td>shinomegami</td>\n",
       "      <td>1141546.0</td>\n",
       "      <td>1</td>\n",
       "      <td>Strategy</td>\n",
       "      <td>http://steamcommunity.com/id/shinomegami</td>\n",
       "    </tr>\n",
       "  </tbody>\n",
       "</table>\n",
       "</div>"
      ],
      "text/plain": [
       "           user_id  playtime_forever  ranking    genres  \\\n",
       "52336  shinomegami         1141546.0        1  Strategy   \n",
       "\n",
       "                                       user_url  \n",
       "52336  http://steamcommunity.com/id/shinomegami  "
      ]
     },
     "execution_count": 401,
     "metadata": {},
     "output_type": "execute_result"
    }
   ],
   "source": [
    "genero = 'Strategy'\n",
    "df_userforgenre_strategy = ranking_genero (genero)\n",
    "df_userforgenre_strategy.head(1)"
   ]
  },
  {
   "cell_type": "code",
   "execution_count": 402,
   "metadata": {},
   "outputs": [
    {
     "data": {
      "text/html": [
       "<div>\n",
       "<style scoped>\n",
       "    .dataframe tbody tr th:only-of-type {\n",
       "        vertical-align: middle;\n",
       "    }\n",
       "\n",
       "    .dataframe tbody tr th {\n",
       "        vertical-align: top;\n",
       "    }\n",
       "\n",
       "    .dataframe thead th {\n",
       "        text-align: right;\n",
       "    }\n",
       "</style>\n",
       "<table border=\"1\" class=\"dataframe\">\n",
       "  <thead>\n",
       "    <tr style=\"text-align: right;\">\n",
       "      <th></th>\n",
       "      <th>user_id</th>\n",
       "      <th>playtime_forever</th>\n",
       "      <th>ranking</th>\n",
       "      <th>genres</th>\n",
       "      <th>user_url</th>\n",
       "    </tr>\n",
       "  </thead>\n",
       "  <tbody>\n",
       "    <tr>\n",
       "      <th>56591</th>\n",
       "      <td>shinomegami</td>\n",
       "      <td>1060592.0</td>\n",
       "      <td>1</td>\n",
       "      <td>RPG</td>\n",
       "      <td>http://steamcommunity.com/id/shinomegami</td>\n",
       "    </tr>\n",
       "  </tbody>\n",
       "</table>\n",
       "</div>"
      ],
      "text/plain": [
       "           user_id  playtime_forever  ranking genres  \\\n",
       "56591  shinomegami         1060592.0        1    RPG   \n",
       "\n",
       "                                       user_url  \n",
       "56591  http://steamcommunity.com/id/shinomegami  "
      ]
     },
     "execution_count": 402,
     "metadata": {},
     "output_type": "execute_result"
    }
   ],
   "source": [
    "genero = 'RPG'\n",
    "df_userforgenre_rpg = ranking_genero (genero)\n",
    "df_userforgenre_rpg.head(1)"
   ]
  },
  {
   "cell_type": "code",
   "execution_count": 403,
   "metadata": {},
   "outputs": [
    {
     "data": {
      "text/html": [
       "<div>\n",
       "<style scoped>\n",
       "    .dataframe tbody tr th:only-of-type {\n",
       "        vertical-align: middle;\n",
       "    }\n",
       "\n",
       "    .dataframe tbody tr th {\n",
       "        vertical-align: top;\n",
       "    }\n",
       "\n",
       "    .dataframe thead th {\n",
       "        text-align: right;\n",
       "    }\n",
       "</style>\n",
       "<table border=\"1\" class=\"dataframe\">\n",
       "  <thead>\n",
       "    <tr style=\"text-align: right;\">\n",
       "      <th></th>\n",
       "      <th>user_id</th>\n",
       "      <th>playtime_forever</th>\n",
       "      <th>ranking</th>\n",
       "      <th>genres</th>\n",
       "      <th>user_url</th>\n",
       "    </tr>\n",
       "  </thead>\n",
       "  <tbody>\n",
       "    <tr>\n",
       "      <th>50396</th>\n",
       "      <td>jimmynoe</td>\n",
       "      <td>1062130.0</td>\n",
       "      <td>1</td>\n",
       "      <td>Simulation</td>\n",
       "      <td>http://steamcommunity.com/id/jimmynoe</td>\n",
       "    </tr>\n",
       "  </tbody>\n",
       "</table>\n",
       "</div>"
      ],
      "text/plain": [
       "        user_id  playtime_forever  ranking      genres  \\\n",
       "50396  jimmynoe         1062130.0        1  Simulation   \n",
       "\n",
       "                                    user_url  \n",
       "50396  http://steamcommunity.com/id/jimmynoe  "
      ]
     },
     "execution_count": 403,
     "metadata": {},
     "output_type": "execute_result"
    }
   ],
   "source": [
    "genero = 'Simulation'\n",
    "df_userforgenre_simulation = ranking_genero (genero)\n",
    "df_userforgenre_simulation.head(1)"
   ]
  },
  {
   "cell_type": "code",
   "execution_count": 404,
   "metadata": {},
   "outputs": [
    {
     "data": {
      "text/html": [
       "<div>\n",
       "<style scoped>\n",
       "    .dataframe tbody tr th:only-of-type {\n",
       "        vertical-align: middle;\n",
       "    }\n",
       "\n",
       "    .dataframe tbody tr th {\n",
       "        vertical-align: top;\n",
       "    }\n",
       "\n",
       "    .dataframe thead th {\n",
       "        text-align: right;\n",
       "    }\n",
       "</style>\n",
       "<table border=\"1\" class=\"dataframe\">\n",
       "  <thead>\n",
       "    <tr style=\"text-align: right;\">\n",
       "      <th></th>\n",
       "      <th>user_id</th>\n",
       "      <th>playtime_forever</th>\n",
       "      <th>ranking</th>\n",
       "      <th>genres</th>\n",
       "      <th>user_url</th>\n",
       "    </tr>\n",
       "  </thead>\n",
       "  <tbody>\n",
       "    <tr>\n",
       "      <th>39757</th>\n",
       "      <td>REBAS_AS_F-T</td>\n",
       "      <td>1224933.0</td>\n",
       "      <td>1</td>\n",
       "      <td>Casual</td>\n",
       "      <td>http://steamcommunity.com/id/REBAS_AS_F-T</td>\n",
       "    </tr>\n",
       "  </tbody>\n",
       "</table>\n",
       "</div>"
      ],
      "text/plain": [
       "            user_id  playtime_forever  ranking  genres  \\\n",
       "39757  REBAS_AS_F-T         1224933.0        1  Casual   \n",
       "\n",
       "                                        user_url  \n",
       "39757  http://steamcommunity.com/id/REBAS_AS_F-T  "
      ]
     },
     "execution_count": 404,
     "metadata": {},
     "output_type": "execute_result"
    }
   ],
   "source": [
    "genero = 'Casual'\n",
    "df_userforgenre_casual = ranking_genero (genero)\n",
    "df_userforgenre_casual.head(1)"
   ]
  },
  {
   "cell_type": "code",
   "execution_count": 405,
   "metadata": {},
   "outputs": [
    {
     "data": {
      "text/html": [
       "<div>\n",
       "<style scoped>\n",
       "    .dataframe tbody tr th:only-of-type {\n",
       "        vertical-align: middle;\n",
       "    }\n",
       "\n",
       "    .dataframe tbody tr th {\n",
       "        vertical-align: top;\n",
       "    }\n",
       "\n",
       "    .dataframe thead th {\n",
       "        text-align: right;\n",
       "    }\n",
       "</style>\n",
       "<table border=\"1\" class=\"dataframe\">\n",
       "  <thead>\n",
       "    <tr style=\"text-align: right;\">\n",
       "      <th></th>\n",
       "      <th>user_id</th>\n",
       "      <th>playtime_forever</th>\n",
       "      <th>ranking</th>\n",
       "      <th>genres</th>\n",
       "      <th>user_url</th>\n",
       "    </tr>\n",
       "  </thead>\n",
       "  <tbody>\n",
       "    <tr>\n",
       "      <th>44711</th>\n",
       "      <td>REBAS_AS_F-T</td>\n",
       "      <td>2183682.0</td>\n",
       "      <td>1</td>\n",
       "      <td>Adventure</td>\n",
       "      <td>http://steamcommunity.com/id/REBAS_AS_F-T</td>\n",
       "    </tr>\n",
       "  </tbody>\n",
       "</table>\n",
       "</div>"
      ],
      "text/plain": [
       "            user_id  playtime_forever  ranking     genres  \\\n",
       "44711  REBAS_AS_F-T         2183682.0        1  Adventure   \n",
       "\n",
       "                                        user_url  \n",
       "44711  http://steamcommunity.com/id/REBAS_AS_F-T  "
      ]
     },
     "execution_count": 405,
     "metadata": {},
     "output_type": "execute_result"
    }
   ],
   "source": [
    "genero = 'Adventure'\n",
    "df_userforgenre_adventure = ranking_genero (genero)\n",
    "df_userforgenre_adventure.head(1)"
   ]
  },
  {
   "cell_type": "code",
   "execution_count": 406,
   "metadata": {},
   "outputs": [
    {
     "data": {
      "text/html": [
       "<div>\n",
       "<style scoped>\n",
       "    .dataframe tbody tr th:only-of-type {\n",
       "        vertical-align: middle;\n",
       "    }\n",
       "\n",
       "    .dataframe tbody tr th {\n",
       "        vertical-align: top;\n",
       "    }\n",
       "\n",
       "    .dataframe thead th {\n",
       "        text-align: right;\n",
       "    }\n",
       "</style>\n",
       "<table border=\"1\" class=\"dataframe\">\n",
       "  <thead>\n",
       "    <tr style=\"text-align: right;\">\n",
       "      <th></th>\n",
       "      <th>user_id</th>\n",
       "      <th>playtime_forever</th>\n",
       "      <th>ranking</th>\n",
       "      <th>genres</th>\n",
       "      <th>user_url</th>\n",
       "    </tr>\n",
       "  </thead>\n",
       "  <tbody>\n",
       "    <tr>\n",
       "      <th>1476</th>\n",
       "      <td>76561197995725436</td>\n",
       "      <td>193206.0</td>\n",
       "      <td>1</td>\n",
       "      <td>Sports</td>\n",
       "      <td>http://steamcommunity.com/profiles/76561197995...</td>\n",
       "    </tr>\n",
       "  </tbody>\n",
       "</table>\n",
       "</div>"
      ],
      "text/plain": [
       "                user_id  playtime_forever  ranking  genres  \\\n",
       "1476  76561197995725436          193206.0        1  Sports   \n",
       "\n",
       "                                               user_url  \n",
       "1476  http://steamcommunity.com/profiles/76561197995...  "
      ]
     },
     "execution_count": 406,
     "metadata": {},
     "output_type": "execute_result"
    }
   ],
   "source": [
    "genero ='Sports'\n",
    "df_userforgenre_sports = ranking_genero (genero)\n",
    "df_userforgenre_sports.head(1)"
   ]
  },
  {
   "cell_type": "code",
   "execution_count": 407,
   "metadata": {},
   "outputs": [
    {
     "data": {
      "text/html": [
       "<div>\n",
       "<style scoped>\n",
       "    .dataframe tbody tr th:only-of-type {\n",
       "        vertical-align: middle;\n",
       "    }\n",
       "\n",
       "    .dataframe tbody tr th {\n",
       "        vertical-align: top;\n",
       "    }\n",
       "\n",
       "    .dataframe thead th {\n",
       "        text-align: right;\n",
       "    }\n",
       "</style>\n",
       "<table border=\"1\" class=\"dataframe\">\n",
       "  <thead>\n",
       "    <tr style=\"text-align: right;\">\n",
       "      <th></th>\n",
       "      <th>user_id</th>\n",
       "      <th>playtime_forever</th>\n",
       "      <th>ranking</th>\n",
       "      <th>genres</th>\n",
       "      <th>user_url</th>\n",
       "    </tr>\n",
       "  </thead>\n",
       "  <tbody>\n",
       "    <tr>\n",
       "      <th>35215</th>\n",
       "      <td>Evilutional</td>\n",
       "      <td>688260.0</td>\n",
       "      <td>1</td>\n",
       "      <td>Massively Multiplayer</td>\n",
       "      <td>http://steamcommunity.com/id/Evilutional</td>\n",
       "    </tr>\n",
       "  </tbody>\n",
       "</table>\n",
       "</div>"
      ],
      "text/plain": [
       "           user_id  playtime_forever  ranking                 genres  \\\n",
       "35215  Evilutional          688260.0        1  Massively Multiplayer   \n",
       "\n",
       "                                       user_url  \n",
       "35215  http://steamcommunity.com/id/Evilutional  "
      ]
     },
     "execution_count": 407,
     "metadata": {},
     "output_type": "execute_result"
    }
   ],
   "source": [
    "genero = 'Massively Multiplayer'\n",
    "df_userforgenre_massi = ranking_genero (genero)\n",
    "df_userforgenre_massi.head(1)"
   ]
  },
  {
   "cell_type": "code",
   "execution_count": 408,
   "metadata": {},
   "outputs": [],
   "source": [
    "# concateno todos los ranking\n",
    "df_userforgenre = pd.concat([df_userforgenre_massi,df_userforgenre_action, df_userforgenre_adventure,\n",
    "                             df_userforgenre_casual, df_userforgenre_indie, df_userforgenre_strategy,\n",
    "                             df_userforgenre_racing, df_userforgenre_rpg, df_userforgenre_sports,\n",
    "                             df_userforgenre_simulation]).reset_index(drop=True)"
   ]
  },
  {
   "cell_type": "code",
   "execution_count": 409,
   "metadata": {},
   "outputs": [
    {
     "data": {
      "text/html": [
       "<div>\n",
       "<style scoped>\n",
       "    .dataframe tbody tr th:only-of-type {\n",
       "        vertical-align: middle;\n",
       "    }\n",
       "\n",
       "    .dataframe tbody tr th {\n",
       "        vertical-align: top;\n",
       "    }\n",
       "\n",
       "    .dataframe thead th {\n",
       "        text-align: right;\n",
       "    }\n",
       "</style>\n",
       "<table border=\"1\" class=\"dataframe\">\n",
       "  <thead>\n",
       "    <tr style=\"text-align: right;\">\n",
       "      <th></th>\n",
       "      <th>user_id</th>\n",
       "      <th>playtime_forever</th>\n",
       "      <th>ranking</th>\n",
       "      <th>genres</th>\n",
       "      <th>user_url</th>\n",
       "    </tr>\n",
       "  </thead>\n",
       "  <tbody>\n",
       "    <tr>\n",
       "      <th>0</th>\n",
       "      <td>Evilutional</td>\n",
       "      <td>688260.0</td>\n",
       "      <td>1</td>\n",
       "      <td>Massively Multiplayer</td>\n",
       "      <td>http://steamcommunity.com/id/Evilutional</td>\n",
       "    </tr>\n",
       "    <tr>\n",
       "      <th>1</th>\n",
       "      <td>shinomegami</td>\n",
       "      <td>638699.0</td>\n",
       "      <td>2</td>\n",
       "      <td>Massively Multiplayer</td>\n",
       "      <td>http://steamcommunity.com/id/shinomegami</td>\n",
       "    </tr>\n",
       "    <tr>\n",
       "      <th>2</th>\n",
       "      <td>76561198041627248</td>\n",
       "      <td>457103.0</td>\n",
       "      <td>3</td>\n",
       "      <td>Massively Multiplayer</td>\n",
       "      <td>http://steamcommunity.com/profiles/76561198041...</td>\n",
       "    </tr>\n",
       "    <tr>\n",
       "      <th>3</th>\n",
       "      <td>76561198050414588</td>\n",
       "      <td>454132.0</td>\n",
       "      <td>4</td>\n",
       "      <td>Massively Multiplayer</td>\n",
       "      <td>http://steamcommunity.com/profiles/76561198050...</td>\n",
       "    </tr>\n",
       "  </tbody>\n",
       "</table>\n",
       "</div>"
      ],
      "text/plain": [
       "             user_id  playtime_forever  ranking                 genres  \\\n",
       "0        Evilutional          688260.0        1  Massively Multiplayer   \n",
       "1        shinomegami          638699.0        2  Massively Multiplayer   \n",
       "2  76561198041627248          457103.0        3  Massively Multiplayer   \n",
       "3  76561198050414588          454132.0        4  Massively Multiplayer   \n",
       "\n",
       "                                            user_url  \n",
       "0           http://steamcommunity.com/id/Evilutional  \n",
       "1           http://steamcommunity.com/id/shinomegami  \n",
       "2  http://steamcommunity.com/profiles/76561198041...  \n",
       "3  http://steamcommunity.com/profiles/76561198050...  "
      ]
     },
     "execution_count": 409,
     "metadata": {},
     "output_type": "execute_result"
    }
   ],
   "source": [
    "df_userforgenre.head(4)"
   ]
  },
  {
   "cell_type": "code",
   "execution_count": 428,
   "metadata": {},
   "outputs": [],
   "source": [
    "df_userforgenre = df_userforgenre.drop(columns=['playtime_forever'])"
   ]
  },
  {
   "cell_type": "code",
   "execution_count": 410,
   "metadata": {},
   "outputs": [],
   "source": [
    "df_userforgenre['genres'] = df_userforgenre['genres'].str.lower()"
   ]
  },
  {
   "cell_type": "code",
   "execution_count": 429,
   "metadata": {},
   "outputs": [],
   "source": [
    "#df_userforgenre.to_json(\"DataSets/df_userforgenre.json\", orient=\"records\", lines=True)"
   ]
  },
  {
   "cell_type": "markdown",
   "metadata": {},
   "source": [
    "# Funcion DEVELOPER"
   ]
  },
  {
   "cell_type": "markdown",
   "metadata": {},
   "source": [
    "def developer( desarrollador : str ): Cantidad de items y porcentaje de contenido Free por año según empresa desarrolladora. Ejemplo de salida:"
   ]
  },
  {
   "cell_type": "markdown",
   "metadata": {},
   "source": [
    "- Se filtraron las columnas necesarias para preparar los archivos para la función.\n",
    "- Se determinó la existencia de nulos o duplicados, y se eliminaron en los casos necesarios.\n",
    "- Se evaluó la existencia de registros donde 'price' o 'devolper' fueran nulos. Se eliminaron ya que la informacion necesaria esta incompleta sin uno de los dos.\n",
    "- Se pasó a minúscula la columna 'developer' con lower().\n",
    "- Se eliminaron las columnas que no usará la función.\n",
    "- Se exportó el DataFrame en formato JSON."
   ]
  },
  {
   "cell_type": "code",
   "execution_count": 412,
   "metadata": {},
   "outputs": [
    {
     "data": {
      "text/html": [
       "<div>\n",
       "<style scoped>\n",
       "    .dataframe tbody tr th:only-of-type {\n",
       "        vertical-align: middle;\n",
       "    }\n",
       "\n",
       "    .dataframe tbody tr th {\n",
       "        vertical-align: top;\n",
       "    }\n",
       "\n",
       "    .dataframe thead th {\n",
       "        text-align: right;\n",
       "    }\n",
       "</style>\n",
       "<table border=\"1\" class=\"dataframe\">\n",
       "  <thead>\n",
       "    <tr style=\"text-align: right;\">\n",
       "      <th></th>\n",
       "      <th>genres</th>\n",
       "      <th>release_date</th>\n",
       "      <th>price</th>\n",
       "      <th>item_id</th>\n",
       "      <th>developer</th>\n",
       "      <th>año</th>\n",
       "    </tr>\n",
       "  </thead>\n",
       "  <tbody>\n",
       "    <tr>\n",
       "      <th>88310</th>\n",
       "      <td>[Action, Casual, Indie, Simulation, Strategy]</td>\n",
       "      <td>2018-01-04</td>\n",
       "      <td>4.99</td>\n",
       "      <td>761140</td>\n",
       "      <td>Kotoshiro</td>\n",
       "      <td>2018</td>\n",
       "    </tr>\n",
       "  </tbody>\n",
       "</table>\n",
       "</div>"
      ],
      "text/plain": [
       "                                              genres release_date price  \\\n",
       "88310  [Action, Casual, Indie, Simulation, Strategy]   2018-01-04  4.99   \n",
       "\n",
       "      item_id  developer   año  \n",
       "88310  761140  Kotoshiro  2018  "
      ]
     },
     "execution_count": 412,
     "metadata": {},
     "output_type": "execute_result"
    }
   ],
   "source": [
    "df_steam_final.head(1)"
   ]
  },
  {
   "cell_type": "code",
   "execution_count": 430,
   "metadata": {},
   "outputs": [],
   "source": [
    "# me quedo con la columnas necesarias\n",
    "df_steam_developer = df_steam_final[['año', 'price', 'item_id', 'developer']]"
   ]
  },
  {
   "cell_type": "code",
   "execution_count": 431,
   "metadata": {},
   "outputs": [
    {
     "data": {
      "text/html": [
       "<div>\n",
       "<style scoped>\n",
       "    .dataframe tbody tr th:only-of-type {\n",
       "        vertical-align: middle;\n",
       "    }\n",
       "\n",
       "    .dataframe tbody tr th {\n",
       "        vertical-align: top;\n",
       "    }\n",
       "\n",
       "    .dataframe thead th {\n",
       "        text-align: right;\n",
       "    }\n",
       "</style>\n",
       "<table border=\"1\" class=\"dataframe\">\n",
       "  <thead>\n",
       "    <tr style=\"text-align: right;\">\n",
       "      <th></th>\n",
       "      <th>año</th>\n",
       "      <th>price</th>\n",
       "      <th>item_id</th>\n",
       "      <th>developer</th>\n",
       "    </tr>\n",
       "  </thead>\n",
       "  <tbody>\n",
       "    <tr>\n",
       "      <th>88310</th>\n",
       "      <td>2018</td>\n",
       "      <td>4.99</td>\n",
       "      <td>761140</td>\n",
       "      <td>Kotoshiro</td>\n",
       "    </tr>\n",
       "    <tr>\n",
       "      <th>88311</th>\n",
       "      <td>2018</td>\n",
       "      <td>0.0</td>\n",
       "      <td>643980</td>\n",
       "      <td>Secret Level SRL</td>\n",
       "    </tr>\n",
       "    <tr>\n",
       "      <th>88312</th>\n",
       "      <td>2017</td>\n",
       "      <td>0.0</td>\n",
       "      <td>670290</td>\n",
       "      <td>Poolians.com</td>\n",
       "    </tr>\n",
       "    <tr>\n",
       "      <th>88313</th>\n",
       "      <td>2017</td>\n",
       "      <td>0.99</td>\n",
       "      <td>767400</td>\n",
       "      <td>彼岸领域</td>\n",
       "    </tr>\n",
       "    <tr>\n",
       "      <th>88315</th>\n",
       "      <td>2018</td>\n",
       "      <td>3.99</td>\n",
       "      <td>772540</td>\n",
       "      <td>Trickjump Games Ltd</td>\n",
       "    </tr>\n",
       "  </tbody>\n",
       "</table>\n",
       "</div>"
      ],
      "text/plain": [
       "        año price item_id            developer\n",
       "88310  2018  4.99  761140            Kotoshiro\n",
       "88311  2018   0.0  643980     Secret Level SRL\n",
       "88312  2017   0.0  670290         Poolians.com\n",
       "88313  2017  0.99  767400                 彼岸领域\n",
       "88315  2018  3.99  772540  Trickjump Games Ltd"
      ]
     },
     "execution_count": 431,
     "metadata": {},
     "output_type": "execute_result"
    }
   ],
   "source": [
    "df_steam_developer.head(5)"
   ]
  },
  {
   "cell_type": "code",
   "execution_count": 432,
   "metadata": {},
   "outputs": [
    {
     "name": "stdout",
     "output_type": "stream",
     "text": [
      "año          0\n",
      "price        0\n",
      "item_id      0\n",
      "developer    0\n",
      "dtype: int64\n",
      "año          0\n",
      "price        0\n",
      "item_id      0\n",
      "developer    0\n",
      "dtype: int64\n"
     ]
    }
   ],
   "source": [
    "# Registros completamente vacios\n",
    "print(df_steam_developer [df_steam_developer .isna().all(axis=1)].count())\n",
    "# Registros duplicados\n",
    "print(df_steam_developer [df_steam_developer .duplicated()].count())"
   ]
  },
  {
   "cell_type": "code",
   "execution_count": 433,
   "metadata": {},
   "outputs": [
    {
     "data": {
      "text/plain": [
       "(29883, 4)"
      ]
     },
     "execution_count": 433,
     "metadata": {},
     "output_type": "execute_result"
    }
   ],
   "source": [
    "df_steam_developer.shape"
   ]
  },
  {
   "cell_type": "code",
   "execution_count": 434,
   "metadata": {},
   "outputs": [],
   "source": [
    "# registros que price o devolper son nan (no hay ningun registro nulo en item_id)\n",
    "# los elimino porque tendre la infomacion incompleta\n",
    "eliminar = df_steam_developer[(df_steam_developer['price'].isnull() | df_steam_developer['developer'].isnull())]\n",
    "df_steam_developer_elim = df_steam_developer[~df_steam_developer.index.isin(eliminar.index)]"
   ]
  },
  {
   "cell_type": "code",
   "execution_count": null,
   "metadata": {},
   "outputs": [],
   "source": [
    "# convierto los developers a minuscula\n",
    "df_steam_developer_elim ['developer'] = df_steam_developer_elim ['developer'].str.lower()"
   ]
  },
  {
   "cell_type": "code",
   "execution_count": 436,
   "metadata": {},
   "outputs": [
    {
     "data": {
      "text/plain": [
       "(0, 4)"
      ]
     },
     "execution_count": 436,
     "metadata": {},
     "output_type": "execute_result"
    }
   ],
   "source": [
    "# veo cuantos Nan hay en 'developer'\n",
    "df_steam_developer_elim [df_steam_developer_elim ['developer'].isna()].shape"
   ]
  },
  {
   "cell_type": "code",
   "execution_count": 437,
   "metadata": {},
   "outputs": [
    {
     "data": {
      "text/plain": [
       "(0, 4)"
      ]
     },
     "execution_count": 437,
     "metadata": {},
     "output_type": "execute_result"
    }
   ],
   "source": [
    "# veo cuantos Nan hay en 'price'\n",
    "df_steam_developer_elim [df_steam_developer_elim ['price'].isna()].shape"
   ]
  },
  {
   "cell_type": "code",
   "execution_count": 438,
   "metadata": {},
   "outputs": [
    {
     "data": {
      "text/html": [
       "<div>\n",
       "<style scoped>\n",
       "    .dataframe tbody tr th:only-of-type {\n",
       "        vertical-align: middle;\n",
       "    }\n",
       "\n",
       "    .dataframe tbody tr th {\n",
       "        vertical-align: top;\n",
       "    }\n",
       "\n",
       "    .dataframe thead th {\n",
       "        text-align: right;\n",
       "    }\n",
       "</style>\n",
       "<table border=\"1\" class=\"dataframe\">\n",
       "  <thead>\n",
       "    <tr style=\"text-align: right;\">\n",
       "      <th></th>\n",
       "      <th>año</th>\n",
       "      <th>price</th>\n",
       "      <th>item_id</th>\n",
       "      <th>developer</th>\n",
       "    </tr>\n",
       "  </thead>\n",
       "  <tbody>\n",
       "    <tr>\n",
       "      <th>88310</th>\n",
       "      <td>2018</td>\n",
       "      <td>4.99</td>\n",
       "      <td>761140</td>\n",
       "      <td>kotoshiro</td>\n",
       "    </tr>\n",
       "    <tr>\n",
       "      <th>88311</th>\n",
       "      <td>2018</td>\n",
       "      <td>0.0</td>\n",
       "      <td>643980</td>\n",
       "      <td>secret level srl</td>\n",
       "    </tr>\n",
       "  </tbody>\n",
       "</table>\n",
       "</div>"
      ],
      "text/plain": [
       "        año price item_id         developer\n",
       "88310  2018  4.99  761140         kotoshiro\n",
       "88311  2018   0.0  643980  secret level srl"
      ]
     },
     "execution_count": 438,
     "metadata": {},
     "output_type": "execute_result"
    }
   ],
   "source": [
    "df_steam_developer_elim.head(2)"
   ]
  },
  {
   "cell_type": "code",
   "execution_count": 439,
   "metadata": {},
   "outputs": [],
   "source": [
    "#df_steam_developer_elim.to_json(\"DataSets/df_developer.json\", orient=\"records\", lines=True)"
   ]
  },
  {
   "cell_type": "markdown",
   "metadata": {},
   "source": [
    "# Funcion SENTIMENT_ANALYSIS"
   ]
  },
  {
   "cell_type": "markdown",
   "metadata": {},
   "source": [
    "def sentiment_analysis( año : int ): Según el año de lanzamiento, se devuelve una lista con la cantidad de registros de reseñas de usuarios que se encuentren categorizados con un análisis de sentimiento.\n",
    "\n",
    "                    Ejemplo de retorno: {Negative = 182, Neutral = 120, Positive = 278}"
   ]
  },
  {
   "cell_type": "markdown",
   "metadata": {},
   "source": [
    "- Se filtraron las columnas necesarias para preparar los archivos para la función.\n",
    "- Se determinó la existencia de nulos o duplicados, y se eliminaron en los casos necesarios.\n",
    "- Se unieron los datos de años y sentimientos a traves de pd.merge(on='item_id')\n",
    "- Se creó un dataframe para cargar los años y las cantidades de cada sentimiento. Luego se remplazo cada valor por la cantidad total de sentimientos 0, 1 o 2 que habia para cada año\n",
    "- Se eliminaron las columnas que no usará la función.\n",
    "- Se exportó el DataFrame en formato JSON."
   ]
  },
  {
   "cell_type": "code",
   "execution_count": 427,
   "metadata": {},
   "outputs": [
    {
     "data": {
      "text/html": [
       "<div>\n",
       "<style scoped>\n",
       "    .dataframe tbody tr th:only-of-type {\n",
       "        vertical-align: middle;\n",
       "    }\n",
       "\n",
       "    .dataframe tbody tr th {\n",
       "        vertical-align: top;\n",
       "    }\n",
       "\n",
       "    .dataframe thead th {\n",
       "        text-align: right;\n",
       "    }\n",
       "</style>\n",
       "<table border=\"1\" class=\"dataframe\">\n",
       "  <thead>\n",
       "    <tr style=\"text-align: right;\">\n",
       "      <th></th>\n",
       "      <th>genres</th>\n",
       "      <th>release_date</th>\n",
       "      <th>price</th>\n",
       "      <th>item_id</th>\n",
       "      <th>developer</th>\n",
       "      <th>año</th>\n",
       "    </tr>\n",
       "  </thead>\n",
       "  <tbody>\n",
       "    <tr>\n",
       "      <th>88310</th>\n",
       "      <td>[Action, Casual, Indie, Simulation, Strategy]</td>\n",
       "      <td>2018-01-04</td>\n",
       "      <td>4.99</td>\n",
       "      <td>761140</td>\n",
       "      <td>Kotoshiro</td>\n",
       "      <td>2018</td>\n",
       "    </tr>\n",
       "  </tbody>\n",
       "</table>\n",
       "</div>"
      ],
      "text/plain": [
       "                                              genres release_date price  \\\n",
       "88310  [Action, Casual, Indie, Simulation, Strategy]   2018-01-04  4.99   \n",
       "\n",
       "      item_id  developer   año  \n",
       "88310  761140  Kotoshiro  2018  "
      ]
     },
     "execution_count": 427,
     "metadata": {},
     "output_type": "execute_result"
    }
   ],
   "source": [
    "df_steam_final.head(1)"
   ]
  },
  {
   "cell_type": "code",
   "execution_count": 440,
   "metadata": {},
   "outputs": [],
   "source": [
    "df_item_date = df_steam_final[['año', 'item_id']]"
   ]
  },
  {
   "cell_type": "code",
   "execution_count": 442,
   "metadata": {},
   "outputs": [
    {
     "data": {
      "text/html": [
       "<div>\n",
       "<style scoped>\n",
       "    .dataframe tbody tr th:only-of-type {\n",
       "        vertical-align: middle;\n",
       "    }\n",
       "\n",
       "    .dataframe tbody tr th {\n",
       "        vertical-align: top;\n",
       "    }\n",
       "\n",
       "    .dataframe thead th {\n",
       "        text-align: right;\n",
       "    }\n",
       "</style>\n",
       "<table border=\"1\" class=\"dataframe\">\n",
       "  <thead>\n",
       "    <tr style=\"text-align: right;\">\n",
       "      <th></th>\n",
       "      <th>user_id</th>\n",
       "      <th>user_url</th>\n",
       "      <th>item_id</th>\n",
       "      <th>recommend</th>\n",
       "      <th>sentiment_analysis</th>\n",
       "      <th>posted_ok</th>\n",
       "      <th>año</th>\n",
       "    </tr>\n",
       "  </thead>\n",
       "  <tbody>\n",
       "    <tr>\n",
       "      <th>0</th>\n",
       "      <td>76561197970982479</td>\n",
       "      <td>http://steamcommunity.com/profiles/76561197970...</td>\n",
       "      <td>1250</td>\n",
       "      <td>1</td>\n",
       "      <td>2</td>\n",
       "      <td>2011-11-05</td>\n",
       "      <td>2011</td>\n",
       "    </tr>\n",
       "  </tbody>\n",
       "</table>\n",
       "</div>"
      ],
      "text/plain": [
       "             user_id                                           user_url  \\\n",
       "0  76561197970982479  http://steamcommunity.com/profiles/76561197970...   \n",
       "\n",
       "  item_id  recommend  sentiment_analysis  posted_ok   año  \n",
       "0    1250          1                   2 2011-11-05  2011  "
      ]
     },
     "execution_count": 442,
     "metadata": {},
     "output_type": "execute_result"
    }
   ],
   "source": [
    "df_review_final.head(1)"
   ]
  },
  {
   "cell_type": "code",
   "execution_count": 443,
   "metadata": {},
   "outputs": [],
   "source": [
    "df_item_sentiment = df_review_final[['item_id', 'sentiment_analysis']]"
   ]
  },
  {
   "cell_type": "code",
   "execution_count": 444,
   "metadata": {},
   "outputs": [],
   "source": [
    "df_sentiment_inicial = pd.merge(df_item_date, df_item_sentiment, on='item_id')"
   ]
  },
  {
   "cell_type": "code",
   "execution_count": 445,
   "metadata": {},
   "outputs": [],
   "source": [
    "df_sentiment_inicial = df_sentiment_inicial.drop(columns=['item_id'])"
   ]
  },
  {
   "cell_type": "code",
   "execution_count": 446,
   "metadata": {},
   "outputs": [
    {
     "data": {
      "text/plain": [
       "array([1998, 2006, 2005, 2000, 2007, 1995, 1994, 2001, 2004, 2003, 2008,\n",
       "       1997, 1993, 2009, 2002, 2010, 2011, 2013, 2012, 2015, 1996, 2014,\n",
       "       1992, 2016, 1989, 2017, 1999, 1991, 1990], dtype=int64)"
      ]
     },
     "execution_count": 446,
     "metadata": {},
     "output_type": "execute_result"
    }
   ],
   "source": [
    "df_sentiment_inicial['año'].unique()"
   ]
  },
  {
   "cell_type": "code",
   "execution_count": 447,
   "metadata": {},
   "outputs": [],
   "source": [
    "# creo un dataframe para cargar los años y las cantidades de cada sentimiento\n",
    "df_sentiment = pd.DataFrame(columns=['ano','cantidad_0','cantidad_1','cantidad_2'])\n",
    "df_sentiment['ano']=df_sentiment_inicial['año'].unique()"
   ]
  },
  {
   "cell_type": "code",
   "execution_count": 448,
   "metadata": {},
   "outputs": [],
   "source": [
    "# remplazo cada nan por la cantidad de sentimientos 0, 1 o 2 que hay para cada año\n",
    "for elemento in df_sentiment['ano']:\n",
    "    conteo_sentiment = df_sentiment_inicial['sentiment_analysis'][df_sentiment_inicial['año']==elemento].value_counts()\n",
    "\n",
    "    # si no hay elemento en ese año, le pongo 0\n",
    "    df_sentiment.loc[df_sentiment['ano'] == elemento, 'cantidad_0'] = conteo_sentiment.get(0,0) \n",
    "    df_sentiment.loc[df_sentiment['ano'] == elemento, 'cantidad_1'] = conteo_sentiment.get(1,0)\n",
    "    df_sentiment.loc[df_sentiment['ano'] == elemento, 'cantidad_2'] = conteo_sentiment.get(2,0) "
   ]
  },
  {
   "cell_type": "code",
   "execution_count": 449,
   "metadata": {},
   "outputs": [
    {
     "data": {
      "text/html": [
       "<div>\n",
       "<style scoped>\n",
       "    .dataframe tbody tr th:only-of-type {\n",
       "        vertical-align: middle;\n",
       "    }\n",
       "\n",
       "    .dataframe tbody tr th {\n",
       "        vertical-align: top;\n",
       "    }\n",
       "\n",
       "    .dataframe thead th {\n",
       "        text-align: right;\n",
       "    }\n",
       "</style>\n",
       "<table border=\"1\" class=\"dataframe\">\n",
       "  <thead>\n",
       "    <tr style=\"text-align: right;\">\n",
       "      <th></th>\n",
       "      <th>ano</th>\n",
       "      <th>cantidad_0</th>\n",
       "      <th>cantidad_1</th>\n",
       "      <th>cantidad_2</th>\n",
       "    </tr>\n",
       "  </thead>\n",
       "  <tbody>\n",
       "    <tr>\n",
       "      <th>0</th>\n",
       "      <td>1998</td>\n",
       "      <td>2</td>\n",
       "      <td>31</td>\n",
       "      <td>49</td>\n",
       "    </tr>\n",
       "    <tr>\n",
       "      <th>1</th>\n",
       "      <td>2006</td>\n",
       "      <td>122</td>\n",
       "      <td>640</td>\n",
       "      <td>1073</td>\n",
       "    </tr>\n",
       "  </tbody>\n",
       "</table>\n",
       "</div>"
      ],
      "text/plain": [
       "    ano cantidad_0 cantidad_1 cantidad_2\n",
       "0  1998          2         31         49\n",
       "1  2006        122        640       1073"
      ]
     },
     "execution_count": 449,
     "metadata": {},
     "output_type": "execute_result"
    }
   ],
   "source": [
    "df_sentiment.head(2)"
   ]
  },
  {
   "cell_type": "code",
   "execution_count": 450,
   "metadata": {},
   "outputs": [],
   "source": [
    "#df_sentiment.to_json(\"DataSets/df_sentiment.json\", orient=\"records\", lines=True)"
   ]
  },
  {
   "cell_type": "markdown",
   "metadata": {},
   "source": [
    "# Funcion USERDATA"
   ]
  },
  {
   "cell_type": "markdown",
   "metadata": {},
   "source": [
    "def userdata( User_id : str ): Debe devolver cantidad de dinero gastado por el usuario, el porcentaje de recomendación en base a reviews.recommend y cantidad de items."
   ]
  },
  {
   "cell_type": "markdown",
   "metadata": {},
   "source": [
    "- Se filtraron las columnas necesarias para preparar los archivos para la función.\n",
    "- Se determinó la existencia de nulos o duplicados y se eliminaron en los casos necesarios.\n",
    "- En este caso se generaron tres archivos JSON:\n",
    "- Se trabajó con las columnas necesarias del archivo review y se agrupó por 'user_id' para contar cuántas recomendaciones '0' o '1' había. Se convirtieron los datos obtenidos a porcentajes y se renombró la columna. Se eliminaron las columnas que no usará la función. Se exportó el DataFrame como df_porc_recomm.json.\n",
    "- Se trabajó con las columnas necesarias del archivo item. Se determinó la cantidad de nulos y duplicados y se eliminaron duplicados ya que cada ítem es jugado por un usuario. Se agrupó por 'user_id' y se contaron los 'item_id'. Se exportó el DataFrame como df_item_user_group.json.\n",
    "- Se trabajó con las columnas necesarias del archivo steam. Se determinó la cantidad de nulos y la cantidad total de datos en la columna price. Se eliminaron datos nulos y se generó el df_item_price. Se combinaron las columnas 'price' y 'user_id' con 'item_id' como clave. Se exploraron nulos y duplicados. Se convirtió la columna 'price' a formato flotante y se redondeó. Se exportó el DataFrame."
   ]
  },
  {
   "cell_type": "code",
   "execution_count": 451,
   "metadata": {},
   "outputs": [
    {
     "data": {
      "text/html": [
       "<div>\n",
       "<style scoped>\n",
       "    .dataframe tbody tr th:only-of-type {\n",
       "        vertical-align: middle;\n",
       "    }\n",
       "\n",
       "    .dataframe tbody tr th {\n",
       "        vertical-align: top;\n",
       "    }\n",
       "\n",
       "    .dataframe thead th {\n",
       "        text-align: right;\n",
       "    }\n",
       "</style>\n",
       "<table border=\"1\" class=\"dataframe\">\n",
       "  <thead>\n",
       "    <tr style=\"text-align: right;\">\n",
       "      <th></th>\n",
       "      <th>user_id</th>\n",
       "      <th>user_url</th>\n",
       "      <th>item_id</th>\n",
       "      <th>recommend</th>\n",
       "      <th>sentiment_analysis</th>\n",
       "      <th>posted_ok</th>\n",
       "      <th>año</th>\n",
       "    </tr>\n",
       "  </thead>\n",
       "  <tbody>\n",
       "    <tr>\n",
       "      <th>0</th>\n",
       "      <td>76561197970982479</td>\n",
       "      <td>http://steamcommunity.com/profiles/76561197970...</td>\n",
       "      <td>1250</td>\n",
       "      <td>1</td>\n",
       "      <td>2</td>\n",
       "      <td>2011-11-05</td>\n",
       "      <td>2011</td>\n",
       "    </tr>\n",
       "  </tbody>\n",
       "</table>\n",
       "</div>"
      ],
      "text/plain": [
       "             user_id                                           user_url  \\\n",
       "0  76561197970982479  http://steamcommunity.com/profiles/76561197970...   \n",
       "\n",
       "  item_id  recommend  sentiment_analysis  posted_ok   año  \n",
       "0    1250          1                   2 2011-11-05  2011  "
      ]
     },
     "execution_count": 451,
     "metadata": {},
     "output_type": "execute_result"
    }
   ],
   "source": [
    "df_review_final.head(1)"
   ]
  },
  {
   "cell_type": "code",
   "execution_count": 452,
   "metadata": {},
   "outputs": [
    {
     "data": {
      "text/html": [
       "<div>\n",
       "<style scoped>\n",
       "    .dataframe tbody tr th:only-of-type {\n",
       "        vertical-align: middle;\n",
       "    }\n",
       "\n",
       "    .dataframe tbody tr th {\n",
       "        vertical-align: top;\n",
       "    }\n",
       "\n",
       "    .dataframe thead th {\n",
       "        text-align: right;\n",
       "    }\n",
       "</style>\n",
       "<table border=\"1\" class=\"dataframe\">\n",
       "  <thead>\n",
       "    <tr style=\"text-align: right;\">\n",
       "      <th></th>\n",
       "      <th>user_id</th>\n",
       "      <th>item_id</th>\n",
       "      <th>recommend</th>\n",
       "    </tr>\n",
       "  </thead>\n",
       "  <tbody>\n",
       "    <tr>\n",
       "      <th>0</th>\n",
       "      <td>76561197970982479</td>\n",
       "      <td>1250</td>\n",
       "      <td>1</td>\n",
       "    </tr>\n",
       "  </tbody>\n",
       "</table>\n",
       "</div>"
      ],
      "text/plain": [
       "             user_id item_id  recommend\n",
       "0  76561197970982479    1250          1"
      ]
     },
     "execution_count": 452,
     "metadata": {},
     "output_type": "execute_result"
    }
   ],
   "source": [
    "# Me quedo con 'user_id' y 'recommend' que es lo que necesito, \n",
    "# y con 'item_id', ya que 'recommend' estan a nivel de 'item_id'\n",
    "\n",
    "df_user_recomm = df_review_final[['user_id', 'item_id','recommend']]\n",
    "df_user_recomm.head(1)"
   ]
  },
  {
   "cell_type": "code",
   "execution_count": 453,
   "metadata": {},
   "outputs": [
    {
     "name": "stdout",
     "output_type": "stream",
     "text": [
      "user_id      0\n",
      "item_id      0\n",
      "recommend    0\n",
      "dtype: int64\n",
      "user_id      0\n",
      "item_id      0\n",
      "recommend    0\n",
      "dtype: int64\n"
     ]
    }
   ],
   "source": [
    "# Registros completamente vacios\n",
    "print(df_user_recomm[df_user_recomm.isna().all(axis=1)].count())\n",
    "# Registros duplicados. \n",
    "print(df_user_recomm[df_user_recomm.duplicated()].count())"
   ]
  },
  {
   "cell_type": "code",
   "execution_count": 454,
   "metadata": {},
   "outputs": [],
   "source": [
    "# Ahora que ya corrobore que no hay nulos ni duplicados, puedo elimnar la colummna item_id\n",
    "df_user_recomm = df_user_recomm.drop(columns=['item_id'])"
   ]
  },
  {
   "cell_type": "code",
   "execution_count": 455,
   "metadata": {},
   "outputs": [],
   "source": [
    "# Agrupo por 'user_id' y cuento cuantas recomendaciones True o False hay\n",
    "# Coloco cero si no hay ese tipo de recomendación\n",
    "\n",
    "df_porc_recomm = df_user_recomm.groupby(['user_id', 'recommend'])['recommend'].count().unstack(fill_value=0).reset_index()"
   ]
  },
  {
   "cell_type": "code",
   "execution_count": 456,
   "metadata": {},
   "outputs": [
    {
     "data": {
      "text/html": [
       "<div>\n",
       "<style scoped>\n",
       "    .dataframe tbody tr th:only-of-type {\n",
       "        vertical-align: middle;\n",
       "    }\n",
       "\n",
       "    .dataframe tbody tr th {\n",
       "        vertical-align: top;\n",
       "    }\n",
       "\n",
       "    .dataframe thead th {\n",
       "        text-align: right;\n",
       "    }\n",
       "</style>\n",
       "<table border=\"1\" class=\"dataframe\">\n",
       "  <thead>\n",
       "    <tr style=\"text-align: right;\">\n",
       "      <th>recommend</th>\n",
       "      <th>user_id</th>\n",
       "      <th>0</th>\n",
       "      <th>1</th>\n",
       "    </tr>\n",
       "  </thead>\n",
       "  <tbody>\n",
       "    <tr>\n",
       "      <th>0</th>\n",
       "      <td>--000--</td>\n",
       "      <td>0</td>\n",
       "      <td>1</td>\n",
       "    </tr>\n",
       "    <tr>\n",
       "      <th>1</th>\n",
       "      <td>--ace--</td>\n",
       "      <td>0</td>\n",
       "      <td>2</td>\n",
       "    </tr>\n",
       "  </tbody>\n",
       "</table>\n",
       "</div>"
      ],
      "text/plain": [
       "recommend  user_id  0  1\n",
       "0          --000--  0  1\n",
       "1          --ace--  0  2"
      ]
     },
     "execution_count": 456,
     "metadata": {},
     "output_type": "execute_result"
    }
   ],
   "source": [
    "df_porc_recomm.head(2)"
   ]
  },
  {
   "cell_type": "code",
   "execution_count": 457,
   "metadata": {},
   "outputs": [],
   "source": [
    "# Conviero los valores a porcentaje\n",
    "df_porc_recomm[1] = round((df_porc_recomm[1] / (df_porc_recomm[1] + df_porc_recomm[0])) * 100,1)\n",
    "\n",
    "# Renombro la columna\n",
    "df_porc_recomm = df_porc_recomm.rename(columns={1: 'Recomendacion'})"
   ]
  },
  {
   "cell_type": "code",
   "execution_count": 458,
   "metadata": {},
   "outputs": [],
   "source": [
    "# elimino columna de los False\n",
    "df_porc_recomm = df_porc_recomm.drop(columns={0})"
   ]
  },
  {
   "cell_type": "code",
   "execution_count": 459,
   "metadata": {},
   "outputs": [
    {
     "data": {
      "text/html": [
       "<div>\n",
       "<style scoped>\n",
       "    .dataframe tbody tr th:only-of-type {\n",
       "        vertical-align: middle;\n",
       "    }\n",
       "\n",
       "    .dataframe tbody tr th {\n",
       "        vertical-align: top;\n",
       "    }\n",
       "\n",
       "    .dataframe thead th {\n",
       "        text-align: right;\n",
       "    }\n",
       "</style>\n",
       "<table border=\"1\" class=\"dataframe\">\n",
       "  <thead>\n",
       "    <tr style=\"text-align: right;\">\n",
       "      <th>recommend</th>\n",
       "      <th>user_id</th>\n",
       "      <th>Recomendacion</th>\n",
       "    </tr>\n",
       "  </thead>\n",
       "  <tbody>\n",
       "    <tr>\n",
       "      <th>0</th>\n",
       "      <td>--000--</td>\n",
       "      <td>100.0</td>\n",
       "    </tr>\n",
       "    <tr>\n",
       "      <th>1</th>\n",
       "      <td>--ace--</td>\n",
       "      <td>100.0</td>\n",
       "    </tr>\n",
       "  </tbody>\n",
       "</table>\n",
       "</div>"
      ],
      "text/plain": [
       "recommend  user_id  Recomendacion\n",
       "0          --000--          100.0\n",
       "1          --ace--          100.0"
      ]
     },
     "execution_count": 459,
     "metadata": {},
     "output_type": "execute_result"
    }
   ],
   "source": [
    "df_porc_recomm.head(2)"
   ]
  },
  {
   "cell_type": "code",
   "execution_count": 460,
   "metadata": {},
   "outputs": [],
   "source": [
    "#df_porc_recomm.to_json(\"DataSets/df_porc_recomm.json\", orient=\"records\", lines=True)"
   ]
  },
  {
   "cell_type": "code",
   "execution_count": 461,
   "metadata": {},
   "outputs": [
    {
     "data": {
      "text/html": [
       "<div>\n",
       "<style scoped>\n",
       "    .dataframe tbody tr th:only-of-type {\n",
       "        vertical-align: middle;\n",
       "    }\n",
       "\n",
       "    .dataframe tbody tr th {\n",
       "        vertical-align: top;\n",
       "    }\n",
       "\n",
       "    .dataframe thead th {\n",
       "        text-align: right;\n",
       "    }\n",
       "</style>\n",
       "<table border=\"1\" class=\"dataframe\">\n",
       "  <thead>\n",
       "    <tr style=\"text-align: right;\">\n",
       "      <th></th>\n",
       "      <th>genres</th>\n",
       "      <th>release_date</th>\n",
       "      <th>price</th>\n",
       "      <th>item_id</th>\n",
       "      <th>developer</th>\n",
       "      <th>año</th>\n",
       "    </tr>\n",
       "  </thead>\n",
       "  <tbody>\n",
       "    <tr>\n",
       "      <th>88310</th>\n",
       "      <td>[Action, Casual, Indie, Simulation, Strategy]</td>\n",
       "      <td>2018-01-04</td>\n",
       "      <td>4.99</td>\n",
       "      <td>761140</td>\n",
       "      <td>Kotoshiro</td>\n",
       "      <td>2018</td>\n",
       "    </tr>\n",
       "  </tbody>\n",
       "</table>\n",
       "</div>"
      ],
      "text/plain": [
       "                                              genres release_date price  \\\n",
       "88310  [Action, Casual, Indie, Simulation, Strategy]   2018-01-04  4.99   \n",
       "\n",
       "      item_id  developer   año  \n",
       "88310  761140  Kotoshiro  2018  "
      ]
     },
     "execution_count": 461,
     "metadata": {},
     "output_type": "execute_result"
    }
   ],
   "source": [
    "df_steam_final.head(1)"
   ]
  },
  {
   "cell_type": "code",
   "execution_count": 462,
   "metadata": {},
   "outputs": [
    {
     "data": {
      "text/html": [
       "<div>\n",
       "<style scoped>\n",
       "    .dataframe tbody tr th:only-of-type {\n",
       "        vertical-align: middle;\n",
       "    }\n",
       "\n",
       "    .dataframe tbody tr th {\n",
       "        vertical-align: top;\n",
       "    }\n",
       "\n",
       "    .dataframe thead th {\n",
       "        text-align: right;\n",
       "    }\n",
       "</style>\n",
       "<table border=\"1\" class=\"dataframe\">\n",
       "  <thead>\n",
       "    <tr style=\"text-align: right;\">\n",
       "      <th></th>\n",
       "      <th>item_id</th>\n",
       "      <th>price</th>\n",
       "    </tr>\n",
       "  </thead>\n",
       "  <tbody>\n",
       "    <tr>\n",
       "      <th>88310</th>\n",
       "      <td>761140</td>\n",
       "      <td>4.99</td>\n",
       "    </tr>\n",
       "  </tbody>\n",
       "</table>\n",
       "</div>"
      ],
      "text/plain": [
       "      item_id price\n",
       "88310  761140  4.99"
      ]
     },
     "execution_count": 462,
     "metadata": {},
     "output_type": "execute_result"
    }
   ],
   "source": [
    "df_item_price = df_steam_final[['item_id','price']]\n",
    "df_item_price.head(1)"
   ]
  },
  {
   "cell_type": "code",
   "execution_count": 463,
   "metadata": {},
   "outputs": [
    {
     "name": "stdout",
     "output_type": "stream",
     "text": [
      "item_id    0\n",
      "price      0\n",
      "dtype: int64\n",
      "item_id    0\n",
      "price      0\n",
      "dtype: int64\n"
     ]
    }
   ],
   "source": [
    "# Registros completamente vacios\n",
    "print(df_item_price[df_item_price.isna().all(axis=1)].count())\n",
    "# Registros duplicados\n",
    "print(df_item_price[df_item_price.duplicated()].count())"
   ]
  },
  {
   "cell_type": "code",
   "execution_count": 468,
   "metadata": {},
   "outputs": [
    {
     "data": {
      "text/plain": [
       "(1076, 29883)"
      ]
     },
     "execution_count": 468,
     "metadata": {},
     "output_type": "execute_result"
    }
   ],
   "source": [
    "# Se determina cantidad de nulos y se compara con la cantidad total de datos\n",
    "df_item_price['price'].isna().sum(), df_item_price.shape[0]"
   ]
  },
  {
   "cell_type": "code",
   "execution_count": 469,
   "metadata": {},
   "outputs": [],
   "source": [
    "# Se eliminan datos nulos\n",
    "df_item_price = df_item_price.dropna(subset=['price'])"
   ]
  },
  {
   "cell_type": "code",
   "execution_count": 470,
   "metadata": {},
   "outputs": [
    {
     "data": {
      "text/html": [
       "<div>\n",
       "<style scoped>\n",
       "    .dataframe tbody tr th:only-of-type {\n",
       "        vertical-align: middle;\n",
       "    }\n",
       "\n",
       "    .dataframe tbody tr th {\n",
       "        vertical-align: top;\n",
       "    }\n",
       "\n",
       "    .dataframe thead th {\n",
       "        text-align: right;\n",
       "    }\n",
       "</style>\n",
       "<table border=\"1\" class=\"dataframe\">\n",
       "  <thead>\n",
       "    <tr style=\"text-align: right;\">\n",
       "      <th></th>\n",
       "      <th>item_id</th>\n",
       "      <th>price</th>\n",
       "    </tr>\n",
       "  </thead>\n",
       "  <tbody>\n",
       "    <tr>\n",
       "      <th>88310</th>\n",
       "      <td>761140</td>\n",
       "      <td>4.99</td>\n",
       "    </tr>\n",
       "  </tbody>\n",
       "</table>\n",
       "</div>"
      ],
      "text/plain": [
       "      item_id price\n",
       "88310  761140  4.99"
      ]
     },
     "execution_count": 470,
     "metadata": {},
     "output_type": "execute_result"
    }
   ],
   "source": [
    "df_item_price.head(1)"
   ]
  },
  {
   "cell_type": "code",
   "execution_count": 471,
   "metadata": {},
   "outputs": [
    {
     "data": {
      "text/html": [
       "<div>\n",
       "<style scoped>\n",
       "    .dataframe tbody tr th:only-of-type {\n",
       "        vertical-align: middle;\n",
       "    }\n",
       "\n",
       "    .dataframe tbody tr th {\n",
       "        vertical-align: top;\n",
       "    }\n",
       "\n",
       "    .dataframe thead th {\n",
       "        text-align: right;\n",
       "    }\n",
       "</style>\n",
       "<table border=\"1\" class=\"dataframe\">\n",
       "  <thead>\n",
       "    <tr style=\"text-align: right;\">\n",
       "      <th></th>\n",
       "      <th>user_id</th>\n",
       "      <th>item_id</th>\n",
       "      <th>user_url</th>\n",
       "      <th>playtime_forever</th>\n",
       "    </tr>\n",
       "  </thead>\n",
       "  <tbody>\n",
       "    <tr>\n",
       "      <th>0</th>\n",
       "      <td>76561197970982479</td>\n",
       "      <td>10</td>\n",
       "      <td>http://steamcommunity.com/profiles/76561197970...</td>\n",
       "      <td>6.0</td>\n",
       "    </tr>\n",
       "  </tbody>\n",
       "</table>\n",
       "</div>"
      ],
      "text/plain": [
       "             user_id item_id  \\\n",
       "0  76561197970982479      10   \n",
       "\n",
       "                                            user_url  playtime_forever  \n",
       "0  http://steamcommunity.com/profiles/76561197970...               6.0  "
      ]
     },
     "execution_count": 471,
     "metadata": {},
     "output_type": "execute_result"
    }
   ],
   "source": [
    "df_items_final.head(1)"
   ]
  },
  {
   "cell_type": "code",
   "execution_count": 472,
   "metadata": {},
   "outputs": [
    {
     "data": {
      "text/html": [
       "<div>\n",
       "<style scoped>\n",
       "    .dataframe tbody tr th:only-of-type {\n",
       "        vertical-align: middle;\n",
       "    }\n",
       "\n",
       "    .dataframe tbody tr th {\n",
       "        vertical-align: top;\n",
       "    }\n",
       "\n",
       "    .dataframe thead th {\n",
       "        text-align: right;\n",
       "    }\n",
       "</style>\n",
       "<table border=\"1\" class=\"dataframe\">\n",
       "  <thead>\n",
       "    <tr style=\"text-align: right;\">\n",
       "      <th></th>\n",
       "      <th>user_id</th>\n",
       "      <th>item_id</th>\n",
       "    </tr>\n",
       "  </thead>\n",
       "  <tbody>\n",
       "    <tr>\n",
       "      <th>0</th>\n",
       "      <td>76561197970982479</td>\n",
       "      <td>10</td>\n",
       "    </tr>\n",
       "    <tr>\n",
       "      <th>1</th>\n",
       "      <td>76561197970982479</td>\n",
       "      <td>20</td>\n",
       "    </tr>\n",
       "    <tr>\n",
       "      <th>2</th>\n",
       "      <td>76561197970982479</td>\n",
       "      <td>30</td>\n",
       "    </tr>\n",
       "  </tbody>\n",
       "</table>\n",
       "</div>"
      ],
      "text/plain": [
       "             user_id item_id\n",
       "0  76561197970982479      10\n",
       "1  76561197970982479      20\n",
       "2  76561197970982479      30"
      ]
     },
     "execution_count": 472,
     "metadata": {},
     "output_type": "execute_result"
    }
   ],
   "source": [
    "df_item_user = df_items_final[['user_id','item_id']]\n",
    "df_item_user.head(3)"
   ]
  },
  {
   "cell_type": "code",
   "execution_count": 473,
   "metadata": {},
   "outputs": [
    {
     "name": "stdout",
     "output_type": "stream",
     "text": [
      "user_id    0\n",
      "item_id    0\n",
      "dtype: int64\n",
      "user_id    23\n",
      "item_id    23\n",
      "dtype: int64\n"
     ]
    }
   ],
   "source": [
    "# Registros completamente vacios\n",
    "print(df_item_user[df_item_user.isna().all(axis=1)].count())\n",
    "# Registros duplicados\n",
    "print(df_item_user[df_item_user.duplicated()].count())"
   ]
  },
  {
   "cell_type": "code",
   "execution_count": 474,
   "metadata": {},
   "outputs": [],
   "source": [
    "# Elimino Registros duplicados, ya que cada item es jugado por un usuario\n",
    "df_item_user = df_item_user.drop_duplicates()"
   ]
  },
  {
   "cell_type": "code",
   "execution_count": 475,
   "metadata": {},
   "outputs": [
    {
     "data": {
      "text/html": [
       "<div>\n",
       "<style scoped>\n",
       "    .dataframe tbody tr th:only-of-type {\n",
       "        vertical-align: middle;\n",
       "    }\n",
       "\n",
       "    .dataframe tbody tr th {\n",
       "        vertical-align: top;\n",
       "    }\n",
       "\n",
       "    .dataframe thead th {\n",
       "        text-align: right;\n",
       "    }\n",
       "</style>\n",
       "<table border=\"1\" class=\"dataframe\">\n",
       "  <thead>\n",
       "    <tr style=\"text-align: right;\">\n",
       "      <th></th>\n",
       "      <th>user_id</th>\n",
       "      <th>item_id</th>\n",
       "    </tr>\n",
       "  </thead>\n",
       "  <tbody>\n",
       "    <tr>\n",
       "      <th>0</th>\n",
       "      <td>--000--</td>\n",
       "      <td>58</td>\n",
       "    </tr>\n",
       "  </tbody>\n",
       "</table>\n",
       "</div>"
      ],
      "text/plain": [
       "   user_id  item_id\n",
       "0  --000--       58"
      ]
     },
     "execution_count": 475,
     "metadata": {},
     "output_type": "execute_result"
    }
   ],
   "source": [
    "# agrupo por 'user_id' y cuento los 'item_id'\n",
    "df_item_user_group = df_item_user[['user_id', 'item_id']].groupby('user_id').count().reset_index()\n",
    "df_item_user_group.head(1)"
   ]
  },
  {
   "cell_type": "code",
   "execution_count": 476,
   "metadata": {},
   "outputs": [],
   "source": [
    "# Renombro la columna\n",
    "df_item_user_group = df_item_user_group.rename(columns={'item_id': 'Cantidad_item_id'})"
   ]
  },
  {
   "cell_type": "code",
   "execution_count": 477,
   "metadata": {},
   "outputs": [],
   "source": [
    "#df_item_user_group.to_json(\"DataSets/df_item_user_group.json\", orient=\"records\", lines=True)"
   ]
  },
  {
   "cell_type": "code",
   "execution_count": 478,
   "metadata": {},
   "outputs": [
    {
     "data": {
      "text/html": [
       "<div>\n",
       "<style scoped>\n",
       "    .dataframe tbody tr th:only-of-type {\n",
       "        vertical-align: middle;\n",
       "    }\n",
       "\n",
       "    .dataframe tbody tr th {\n",
       "        vertical-align: top;\n",
       "    }\n",
       "\n",
       "    .dataframe thead th {\n",
       "        text-align: right;\n",
       "    }\n",
       "</style>\n",
       "<table border=\"1\" class=\"dataframe\">\n",
       "  <thead>\n",
       "    <tr style=\"text-align: right;\">\n",
       "      <th></th>\n",
       "      <th>item_id</th>\n",
       "      <th>price</th>\n",
       "      <th>user_id</th>\n",
       "    </tr>\n",
       "  </thead>\n",
       "  <tbody>\n",
       "    <tr>\n",
       "      <th>0</th>\n",
       "      <td>282010</td>\n",
       "      <td>9.99</td>\n",
       "      <td>UTNerd24</td>\n",
       "    </tr>\n",
       "    <tr>\n",
       "      <th>1</th>\n",
       "      <td>282010</td>\n",
       "      <td>9.99</td>\n",
       "      <td>I_DID_911_JUST_SAYING</td>\n",
       "    </tr>\n",
       "    <tr>\n",
       "      <th>2</th>\n",
       "      <td>282010</td>\n",
       "      <td>9.99</td>\n",
       "      <td>76561197962104795</td>\n",
       "    </tr>\n",
       "  </tbody>\n",
       "</table>\n",
       "</div>"
      ],
      "text/plain": [
       "  item_id price                user_id\n",
       "0  282010  9.99               UTNerd24\n",
       "1  282010  9.99  I_DID_911_JUST_SAYING\n",
       "2  282010  9.99      76561197962104795"
      ]
     },
     "execution_count": 478,
     "metadata": {},
     "output_type": "execute_result"
    }
   ],
   "source": [
    "# Convino los registros utilizando 'item_id'\n",
    "df_user_price = pd.merge(df_item_price, df_item_user, on='item_id')\n",
    "df_user_price.head(3)"
   ]
  },
  {
   "cell_type": "code",
   "execution_count": 479,
   "metadata": {},
   "outputs": [
    {
     "name": "stdout",
     "output_type": "stream",
     "text": [
      "item_id    0\n",
      "price      0\n",
      "user_id    0\n",
      "dtype: int64\n",
      "item_id    0\n",
      "price      0\n",
      "user_id    0\n",
      "dtype: int64\n"
     ]
    }
   ],
   "source": [
    "# Registros completamente vacios\n",
    "print(df_user_price[df_user_price.isna().all(axis=1)].count())\n",
    "# Registros duplicados\n",
    "print(df_user_price[df_user_price.duplicated()].count())"
   ]
  },
  {
   "cell_type": "code",
   "execution_count": 480,
   "metadata": {},
   "outputs": [],
   "source": [
    "# Ahora que ya corrobore que no hay nulos ni duplicados, puedo elimnar la colummna item_id\n",
    "df_user_price = df_user_price.drop(columns=['item_id'])"
   ]
  },
  {
   "cell_type": "code",
   "execution_count": 481,
   "metadata": {},
   "outputs": [
    {
     "data": {
      "text/html": [
       "<div>\n",
       "<style scoped>\n",
       "    .dataframe tbody tr th:only-of-type {\n",
       "        vertical-align: middle;\n",
       "    }\n",
       "\n",
       "    .dataframe tbody tr th {\n",
       "        vertical-align: top;\n",
       "    }\n",
       "\n",
       "    .dataframe thead th {\n",
       "        text-align: right;\n",
       "    }\n",
       "</style>\n",
       "<table border=\"1\" class=\"dataframe\">\n",
       "  <thead>\n",
       "    <tr style=\"text-align: right;\">\n",
       "      <th></th>\n",
       "      <th>user_id</th>\n",
       "      <th>price</th>\n",
       "    </tr>\n",
       "  </thead>\n",
       "  <tbody>\n",
       "    <tr>\n",
       "      <th>0</th>\n",
       "      <td>--000--</td>\n",
       "      <td>397.78</td>\n",
       "    </tr>\n",
       "  </tbody>\n",
       "</table>\n",
       "</div>"
      ],
      "text/plain": [
       "   user_id   price\n",
       "0  --000--  397.78"
      ]
     },
     "execution_count": 481,
     "metadata": {},
     "output_type": "execute_result"
    }
   ],
   "source": [
    "# agrupo por 'user_id' y sumo los 'price'\n",
    "df_user_price = df_user_price.groupby('user_id')['price'].sum().reset_index()\n",
    "df_user_price.head(1)"
   ]
  },
  {
   "cell_type": "code",
   "execution_count": 483,
   "metadata": {},
   "outputs": [],
   "source": [
    "# paso la columna 'price' a flotante y redondeo el valor\n",
    "df_user_price['price'] = round(df_user_price['price'].astype(float),2)"
   ]
  },
  {
   "cell_type": "code",
   "execution_count": 484,
   "metadata": {},
   "outputs": [],
   "source": [
    "#df_user_price.to_json(\"DataSets/df_user_price.json\", orient=\"records\", lines=True)"
   ]
  },
  {
   "cell_type": "markdown",
   "metadata": {},
   "source": [
    "# Funcion MODELO DE RECOMENDACION"
   ]
  },
  {
   "cell_type": "markdown",
   "metadata": {},
   "source": [
    "Sistema de recomendación item-item:\n",
    "\n",
    "def recomendacion_juego( id de producto ): Ingresando el id de producto, deberíamos recibir una lista con 5 juegos recomendados similares al ingresado."
   ]
  },
  {
   "cell_type": "markdown",
   "metadata": {},
   "source": [
    "- Se armó el DataFrame con las columnas que voy a usar para el modelo de recomendación y se preparó el DataFrame para el modelo de recomendación. Es decir, un DataFrame con items en las filas y géneros y sentimientos en las columnas con valores binarios. Con get_dummies obtengo columnas binarias a partir de 'genres' y 'sentimientos'. Se concatenó el nuevo DataFrame con el anterior para que quede por 'item_id'.\n",
    "- Se juntaron las filas de un mismo 'item_id' agrupando por 'item_id' y utilizando la función sum(). Luego se le asignó el valor de 1 a todos los que tenían un valor mayor.\n",
    "- Se exportó el archivo en formato JSON."
   ]
  },
  {
   "cell_type": "code",
   "execution_count": 485,
   "metadata": {},
   "outputs": [
    {
     "data": {
      "text/html": [
       "<div>\n",
       "<style scoped>\n",
       "    .dataframe tbody tr th:only-of-type {\n",
       "        vertical-align: middle;\n",
       "    }\n",
       "\n",
       "    .dataframe tbody tr th {\n",
       "        vertical-align: top;\n",
       "    }\n",
       "\n",
       "    .dataframe thead th {\n",
       "        text-align: right;\n",
       "    }\n",
       "</style>\n",
       "<table border=\"1\" class=\"dataframe\">\n",
       "  <thead>\n",
       "    <tr style=\"text-align: right;\">\n",
       "      <th></th>\n",
       "      <th>genres</th>\n",
       "      <th>item_id</th>\n",
       "    </tr>\n",
       "  </thead>\n",
       "  <tbody>\n",
       "    <tr>\n",
       "      <th>88310</th>\n",
       "      <td>Action</td>\n",
       "      <td>761140</td>\n",
       "    </tr>\n",
       "  </tbody>\n",
       "</table>\n",
       "</div>"
      ],
      "text/plain": [
       "       genres item_id\n",
       "88310  Action  761140"
      ]
     },
     "execution_count": 485,
     "metadata": {},
     "output_type": "execute_result"
    }
   ],
   "source": [
    "df_item_genres.head(1)"
   ]
  },
  {
   "cell_type": "code",
   "execution_count": 486,
   "metadata": {},
   "outputs": [
    {
     "data": {
      "text/html": [
       "<div>\n",
       "<style scoped>\n",
       "    .dataframe tbody tr th:only-of-type {\n",
       "        vertical-align: middle;\n",
       "    }\n",
       "\n",
       "    .dataframe tbody tr th {\n",
       "        vertical-align: top;\n",
       "    }\n",
       "\n",
       "    .dataframe thead th {\n",
       "        text-align: right;\n",
       "    }\n",
       "</style>\n",
       "<table border=\"1\" class=\"dataframe\">\n",
       "  <thead>\n",
       "    <tr style=\"text-align: right;\">\n",
       "      <th></th>\n",
       "      <th>user_id</th>\n",
       "      <th>user_url</th>\n",
       "      <th>item_id</th>\n",
       "      <th>recommend</th>\n",
       "      <th>sentiment_analysis</th>\n",
       "      <th>posted_ok</th>\n",
       "      <th>año</th>\n",
       "    </tr>\n",
       "  </thead>\n",
       "  <tbody>\n",
       "    <tr>\n",
       "      <th>0</th>\n",
       "      <td>76561197970982479</td>\n",
       "      <td>http://steamcommunity.com/profiles/76561197970...</td>\n",
       "      <td>1250</td>\n",
       "      <td>1</td>\n",
       "      <td>2</td>\n",
       "      <td>2011-11-05</td>\n",
       "      <td>2011</td>\n",
       "    </tr>\n",
       "  </tbody>\n",
       "</table>\n",
       "</div>"
      ],
      "text/plain": [
       "             user_id                                           user_url  \\\n",
       "0  76561197970982479  http://steamcommunity.com/profiles/76561197970...   \n",
       "\n",
       "  item_id  recommend  sentiment_analysis  posted_ok   año  \n",
       "0    1250          1                   2 2011-11-05  2011  "
      ]
     },
     "execution_count": 486,
     "metadata": {},
     "output_type": "execute_result"
    }
   ],
   "source": [
    "df_review_final.head(1)"
   ]
  },
  {
   "cell_type": "code",
   "execution_count": 487,
   "metadata": {},
   "outputs": [
    {
     "data": {
      "text/html": [
       "<div>\n",
       "<style scoped>\n",
       "    .dataframe tbody tr th:only-of-type {\n",
       "        vertical-align: middle;\n",
       "    }\n",
       "\n",
       "    .dataframe tbody tr th {\n",
       "        vertical-align: top;\n",
       "    }\n",
       "\n",
       "    .dataframe thead th {\n",
       "        text-align: right;\n",
       "    }\n",
       "</style>\n",
       "<table border=\"1\" class=\"dataframe\">\n",
       "  <thead>\n",
       "    <tr style=\"text-align: right;\">\n",
       "      <th></th>\n",
       "      <th>genres</th>\n",
       "      <th>item_id</th>\n",
       "      <th>sentiment_analysis</th>\n",
       "    </tr>\n",
       "  </thead>\n",
       "  <tbody>\n",
       "    <tr>\n",
       "      <th>0</th>\n",
       "      <td>Action</td>\n",
       "      <td>70</td>\n",
       "      <td>1</td>\n",
       "    </tr>\n",
       "    <tr>\n",
       "      <th>1</th>\n",
       "      <td>Action</td>\n",
       "      <td>70</td>\n",
       "      <td>1</td>\n",
       "    </tr>\n",
       "  </tbody>\n",
       "</table>\n",
       "</div>"
      ],
      "text/plain": [
       "   genres item_id  sentiment_analysis\n",
       "0  Action      70                   1\n",
       "1  Action      70                   1"
      ]
     },
     "execution_count": 487,
     "metadata": {},
     "output_type": "execute_result"
    }
   ],
   "source": [
    "# Armo el df con las columnas que voy a usar para el modelo de recomendacion\n",
    "df_item_genre_sentim = pd.merge(df_item_genres, df_review_final[['item_id', 'sentiment_analysis']], on='item_id')\n",
    "df_item_genre_sentim.head(2)"
   ]
  },
  {
   "cell_type": "code",
   "execution_count": 488,
   "metadata": {},
   "outputs": [],
   "source": [
    "# Preparo el DF para el modelo de recomendacion. \n",
    "# Nececito tener un df con items en las filas y generos y sentimientos en las columnas con valores binarios\n",
    "\n",
    "# Con get dummies obtengo columnas binarias a partir de 'genres' y 'sentimientos'\n",
    "df_genres_binario = pd.get_dummies(df_item_genre_sentim['genres'])\n",
    "\n",
    "df_sentim_binario = pd.get_dummies(df_item_genre_sentim['sentiment_analysis'])"
   ]
  },
  {
   "cell_type": "code",
   "execution_count": 489,
   "metadata": {},
   "outputs": [],
   "source": [
    "# Concateno este nuevo df con el anterior para que me quede por 'item_id'\n",
    "df_item_genre_sentim_bi = pd.concat([df_item_genre_sentim['item_id'], df_genres_binario, df_sentim_binario], axis=1)"
   ]
  },
  {
   "cell_type": "code",
   "execution_count": 490,
   "metadata": {},
   "outputs": [],
   "source": [
    "# Tengo que juntar las filas de un mismo item_id\n",
    "\n",
    "# Agrupo por item_id y sumo los valores de las columnas \n",
    "df_item_genre_sentim_bi = df_item_genre_sentim_bi.groupby('item_id').sum()\n",
    "\n",
    "# Y si hay algun valor mayor a 1 le asigno 1\n",
    "df_item_genre_sentim_bi[df_item_genre_sentim_bi > 1] = 1"
   ]
  },
  {
   "cell_type": "code",
   "execution_count": 491,
   "metadata": {},
   "outputs": [
    {
     "data": {
      "text/html": [
       "<div>\n",
       "<style scoped>\n",
       "    .dataframe tbody tr th:only-of-type {\n",
       "        vertical-align: middle;\n",
       "    }\n",
       "\n",
       "    .dataframe tbody tr th {\n",
       "        vertical-align: top;\n",
       "    }\n",
       "\n",
       "    .dataframe thead th {\n",
       "        text-align: right;\n",
       "    }\n",
       "</style>\n",
       "<table border=\"1\" class=\"dataframe\">\n",
       "  <thead>\n",
       "    <tr style=\"text-align: right;\">\n",
       "      <th></th>\n",
       "      <th>Action</th>\n",
       "      <th>Adventure</th>\n",
       "      <th>Casual</th>\n",
       "      <th>Indie</th>\n",
       "      <th>Massively Multiplayer</th>\n",
       "      <th>RPG</th>\n",
       "      <th>Racing</th>\n",
       "      <th>Simulation</th>\n",
       "      <th>Sports</th>\n",
       "      <th>Strategy</th>\n",
       "      <th>0</th>\n",
       "      <th>1</th>\n",
       "      <th>2</th>\n",
       "    </tr>\n",
       "    <tr>\n",
       "      <th>item_id</th>\n",
       "      <th></th>\n",
       "      <th></th>\n",
       "      <th></th>\n",
       "      <th></th>\n",
       "      <th></th>\n",
       "      <th></th>\n",
       "      <th></th>\n",
       "      <th></th>\n",
       "      <th></th>\n",
       "      <th></th>\n",
       "      <th></th>\n",
       "      <th></th>\n",
       "      <th></th>\n",
       "    </tr>\n",
       "  </thead>\n",
       "  <tbody>\n",
       "    <tr>\n",
       "      <th>10</th>\n",
       "      <td>1.0</td>\n",
       "      <td>0.0</td>\n",
       "      <td>0.0</td>\n",
       "      <td>0.0</td>\n",
       "      <td>0.0</td>\n",
       "      <td>0.0</td>\n",
       "      <td>0.0</td>\n",
       "      <td>0.0</td>\n",
       "      <td>0.0</td>\n",
       "      <td>0.0</td>\n",
       "      <td>1.0</td>\n",
       "      <td>1.0</td>\n",
       "      <td>1.0</td>\n",
       "    </tr>\n",
       "    <tr>\n",
       "      <th>10090</th>\n",
       "      <td>1.0</td>\n",
       "      <td>0.0</td>\n",
       "      <td>0.0</td>\n",
       "      <td>0.0</td>\n",
       "      <td>0.0</td>\n",
       "      <td>0.0</td>\n",
       "      <td>0.0</td>\n",
       "      <td>0.0</td>\n",
       "      <td>0.0</td>\n",
       "      <td>0.0</td>\n",
       "      <td>1.0</td>\n",
       "      <td>1.0</td>\n",
       "      <td>1.0</td>\n",
       "    </tr>\n",
       "  </tbody>\n",
       "</table>\n",
       "</div>"
      ],
      "text/plain": [
       "         Action  Adventure  Casual  Indie  Massively Multiplayer  RPG  Racing  \\\n",
       "item_id                                                                         \n",
       "10          1.0        0.0     0.0    0.0                    0.0  0.0     0.0   \n",
       "10090       1.0        0.0     0.0    0.0                    0.0  0.0     0.0   \n",
       "\n",
       "         Simulation  Sports  Strategy    0    1    2  \n",
       "item_id                                               \n",
       "10              0.0     0.0       0.0  1.0  1.0  1.0  \n",
       "10090           0.0     0.0       0.0  1.0  1.0  1.0  "
      ]
     },
     "execution_count": 491,
     "metadata": {},
     "output_type": "execute_result"
    }
   ],
   "source": [
    "df_item_genre_sentim_bi.head(2)"
   ]
  },
  {
   "cell_type": "code",
   "execution_count": 492,
   "metadata": {},
   "outputs": [],
   "source": [
    "#df_item_genre_sentim_bi.to_json(\"DataSets/df_modelo.json\")"
   ]
  }
 ],
 "metadata": {
  "kernelspec": {
   "display_name": "Python 3",
   "language": "python",
   "name": "python3"
  },
  "language_info": {
   "codemirror_mode": {
    "name": "ipython",
    "version": 3
   },
   "file_extension": ".py",
   "mimetype": "text/x-python",
   "name": "python",
   "nbconvert_exporter": "python",
   "pygments_lexer": "ipython3",
   "version": "3.10.3"
  },
  "orig_nbformat": 4
 },
 "nbformat": 4,
 "nbformat_minor": 2
}
