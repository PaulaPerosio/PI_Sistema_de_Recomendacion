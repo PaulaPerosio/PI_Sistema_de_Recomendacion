{
 "cells": [
  {
   "cell_type": "markdown",
   "metadata": {},
   "source": [
    "Se importan todas las librerias necesaria para el desarrollo de este trabajo"
   ]
  },
  {
   "cell_type": "code",
   "execution_count": 1,
   "metadata": {},
   "outputs": [],
   "source": [
    "import pandas as pd\n",
    "import numpy as np\n",
    "import json\n",
    "import gzip\n",
    "import ast\n",
    "from textblob import TextBlob\n",
    "from datetime import datetime\n",
    "import matplotlib.pyplot as plt\n",
    "import seaborn as sns\n",
    "sns.set()"
   ]
  },
  {
   "cell_type": "markdown",
   "metadata": {},
   "source": [
    "# Apertura y lectura de archivos"
   ]
  },
  {
   "cell_type": "markdown",
   "metadata": {},
   "source": [
    "- Después de varias pruebas de apertura de los 3 archivos, se desarrollaron dos funciones utilizando diferentes librerías ya que no fue posible abrir los tres archivos con el mismo código.\n",
    "- def abrir_archivo_comprimido_1(nombre_archivo): utiliza json.loads(). Función ideal si los datos en el archivo comprimido están en formato JSON válido, ya que es específica para ese propósito y proporciona una mayor seguridad al garantizar que los datos estén en el formato correcto.\n",
    "- def abrir_archivo_comprimido_2(nombre_archivo): utiliza ast.literal_eval(), la cual puede interpretar expresiones más complejas que podrían no ser JSON válido. Esto se usó para los archivos user_reviews.json.gz y users_items.json.gz donde no fue posible usar la otra función."
   ]
  },
  {
   "cell_type": "code",
   "execution_count": 2,
   "metadata": {},
   "outputs": [],
   "source": [
    "def abrir_archivo_comprimido_1(nombre_archivo):\n",
    "    '''\n",
    "    Esta función abre un archivo comprimido y luego interpreta cada línea como un objeto JSON. \n",
    "    Utiliza la función json.loads() para hacer esto, la cual toma una cadena y \n",
    "    la convierte en un objeto Python utilizando el formato JSON. \n",
    "    line.strip() elimina los espacios en blanco al principio y al final de la línea.\n",
    "    '''\n",
    "    with gzip.open(nombre_archivo, 'rt', encoding=\"UTF-8\") as archivo:\n",
    "        return [json.loads(line.strip()) for line in archivo]"
   ]
  },
  {
   "cell_type": "code",
   "execution_count": 3,
   "metadata": {},
   "outputs": [],
   "source": [
    "def abrir_archivo_comprimido_2(nombre_archivo):\n",
    "    '''\n",
    "    Esta función abre un archivo comprimido y luego interpreta cada línea. \n",
    "    Utiliza la funcion ast.literal_eval(), la cual evalúa una expresión literal de Python \n",
    "    que se encuentra en la cadena. \n",
    "    '''\n",
    "    with gzip.open(nombre_archivo, 'rt', encoding=\"UTF-8\") as archivo:\n",
    "        return [ast.literal_eval(line.strip()) for line in archivo]"
   ]
  },
  {
   "cell_type": "markdown",
   "metadata": {},
   "source": [
    "# EDA y ETL"
   ]
  },
  {
   "cell_type": "markdown",
   "metadata": {},
   "source": [
    "Para la realizacion del EDA (Exploratory Data Analysis) y ETL (Extraction, Transformation, and Loading) se decidio trabajar en cada archivo de manera independiente.\n",
    "\n",
    "Después de abrir cada uno de estos archivos, se exploró su tamaño con .shape, las columnas y su contenido, la cantidad de valores nulos y el tipo de dato usando .info() y la funcion conocer_archivo(df, fila). Este proceso se realizó de manera iterativa durante el desarrollo del ETL-EDA. \n",
    "\n",
    "Luego se desanidaron los datos utilizando la función explode() que toma las líneas de código con diccionarios y las descompone en filas individuales. Luego la función pd.json_normalize() toma los datos JSON anidados y los transforma en un DataFrame, donde cada atributo del JSON se convierte en una columna separada.\n",
    "\n",
    "Después de esta transformación, se volvió a analizar el contenido y el tipo de dato de las columnas. Se exploró la presencia de registros completamente nulos con .isna().all(axis=1) o completamente duplicados con .duplicated(). En estos casos, dichos registros fueron eliminados. Este proceso se repitió de manera iterativa durante el desarrollo del ETL-EDA.\n",
    "\n",
    "Con acceso al contenido completo de los archivos y tras haber realizado una pequeña exploración y limpieza, se procedió a analizar detenidamente los requisitos de las funciones y del modelo a desarrollar. Se definió qué columnas serían necesarias para el desarrollo de la API estableciendo asi cuales considerar de importancia para continuar con el proceso de EDA y ETL.\n",
    "\n",
    "Se exploró cada columna de manera independiente respecto a su cantidad de nulos, duplicados, contenido y tipo de dato utilizando la funcion conocer_columna (df,columna) y demas funciones necesarias. \n",
    "\n",
    "Se llevaron a cabo diferentes transformaciones específicas:\n",
    "- Análisis de sentimientos en la columna ‘review’ utilizando la función TextBlob().\n",
    "- Cambio de formato de fecha en la columna ‘posted’ utilizando la función strptime().\n",
    "- Tranformacion de datos nulos en la columna ‘release_date’ utilizando la función pd.to_datetime().\n",
    "- Transformación de los datos tipo textos en la columna ‘price’ utilizando la función startswith().\n",
    "- Conversión de columnas a un solo tipo de dato.\n",
    "- Otros\n",
    "\n",
    "Se eliminaron:\n",
    "- Registros nulos y duplicados completos.\n",
    "- Registros con datos no adecuados, outliers o incompletos. Por ejemplo, fechas sin años.\n",
    "- Registros donde la falta de datos en ciertas columnas hacía que el registro no fuera útil para el desarrollo de las funciones. Por ejemplo, tener ‘item_id’ pero no tener ‘playtime_forever’.\n",
    "- Registros donde la cantidad de datos a eliminar eran pocos en comparacion con el total.\n",
    "- Otros"
   ]
  },
  {
   "cell_type": "code",
   "execution_count": 23,
   "metadata": {},
   "outputs": [],
   "source": [
    "def conocer_archivo(df, fila):\n",
    "    ''' \n",
    "    Esta función recorre las columnas de un DF y obtiene el tipo de dato \n",
    "    y el contenido de cada elemento en una fila especificada. \n",
    "    '''\n",
    "    informacion = []\n",
    "    for columna in df.columns:\n",
    "        tipo_dato = type(df.loc[fila, columna])\n",
    "        valor = df.loc[fila, columna]\n",
    "        info = f\"Columna: {columna}   // Tipo dato: {tipo_dato}   //  Informacion: {valor}\"\n",
    "        informacion.append(info)\n",
    "    return informacion"
   ]
  },
  {
   "cell_type": "code",
   "execution_count": 136,
   "metadata": {},
   "outputs": [],
   "source": [
    "def conocer_columna (df,columna):\n",
    "    '''\n",
    "    Esta función devuelve la cantidad de valores nulos \n",
    "    y la distribución de tipos de datos en la columna especificada.\n",
    "    '''\n",
    "    nulos = df[columna].isna().sum()\n",
    "    tipos = df[columna].apply(type).value_counts()\n",
    "\n",
    "    return f\"Cantidad nulos: {nulos}\\nTipo de dato y cantidad:\\n{tipos}\""
   ]
  },
  {
   "cell_type": "markdown",
   "metadata": {},
   "source": [
    "# Trabajamos con el DF de \"user_reviews.json.gz\""
   ]
  },
  {
   "cell_type": "code",
   "execution_count": 80,
   "metadata": {},
   "outputs": [
    {
     "data": {
      "text/html": [
       "<div>\n",
       "<style scoped>\n",
       "    .dataframe tbody tr th:only-of-type {\n",
       "        vertical-align: middle;\n",
       "    }\n",
       "\n",
       "    .dataframe tbody tr th {\n",
       "        vertical-align: top;\n",
       "    }\n",
       "\n",
       "    .dataframe thead th {\n",
       "        text-align: right;\n",
       "    }\n",
       "</style>\n",
       "<table border=\"1\" class=\"dataframe\">\n",
       "  <thead>\n",
       "    <tr style=\"text-align: right;\">\n",
       "      <th></th>\n",
       "      <th>user_id</th>\n",
       "      <th>user_url</th>\n",
       "      <th>reviews</th>\n",
       "    </tr>\n",
       "  </thead>\n",
       "  <tbody>\n",
       "    <tr>\n",
       "      <th>0</th>\n",
       "      <td>76561197970982479</td>\n",
       "      <td>http://steamcommunity.com/profiles/76561197970...</td>\n",
       "      <td>[{'funny': '', 'posted': 'Posted November 5, 2...</td>\n",
       "    </tr>\n",
       "  </tbody>\n",
       "</table>\n",
       "</div>"
      ],
      "text/plain": [
       "             user_id                                           user_url  \\\n",
       "0  76561197970982479  http://steamcommunity.com/profiles/76561197970...   \n",
       "\n",
       "                                             reviews  \n",
       "0  [{'funny': '', 'posted': 'Posted November 5, 2...  "
      ]
     },
     "execution_count": 80,
     "metadata": {},
     "output_type": "execute_result"
    }
   ],
   "source": [
    "df_review = pd.DataFrame (abrir_archivo_comprimido_2 (\"Datos\\\\user_reviews.json.gz\")) \n",
    "df_review.head(1)"
   ]
  },
  {
   "cell_type": "code",
   "execution_count": 81,
   "metadata": {},
   "outputs": [
    {
     "data": {
      "text/plain": [
       "(25799, 3)"
      ]
     },
     "execution_count": 81,
     "metadata": {},
     "output_type": "execute_result"
    }
   ],
   "source": [
    "df_review.shape"
   ]
  },
  {
   "cell_type": "code",
   "execution_count": 82,
   "metadata": {},
   "outputs": [
    {
     "name": "stdout",
     "output_type": "stream",
     "text": [
      "<class 'pandas.core.frame.DataFrame'>\n",
      "RangeIndex: 25799 entries, 0 to 25798\n",
      "Data columns (total 3 columns):\n",
      " #   Column    Non-Null Count  Dtype \n",
      "---  ------    --------------  ----- \n",
      " 0   user_id   25799 non-null  object\n",
      " 1   user_url  25799 non-null  object\n",
      " 2   reviews   25799 non-null  object\n",
      "dtypes: object(3)\n",
      "memory usage: 604.8+ KB\n"
     ]
    }
   ],
   "source": [
    "df_review.info()"
   ]
  },
  {
   "cell_type": "code",
   "execution_count": 83,
   "metadata": {},
   "outputs": [
    {
     "data": {
      "text/plain": [
       "[\"Columna: user_id   // Tipo dato: <class 'str'>   //  Informacion: js41637\",\n",
       " \"Columna: user_url   // Tipo dato: <class 'str'>   //  Informacion: http://steamcommunity.com/id/js41637\",\n",
       " 'Columna: reviews   // Tipo dato: <class \\'list\\'>   //  Informacion: [{\\'funny\\': \\'\\', \\'posted\\': \\'Posted June 24, 2014.\\', \\'last_edited\\': \\'\\', \\'item_id\\': \\'251610\\', \\'helpful\\': \\'15 of 20 people (75%) found this review helpful\\', \\'recommend\\': True, \\'review\\': \\'I know what you think when you see this title \"Barbie Dreamhouse Party\" but do not be intimidated by it\\\\\\'s title, this is easily one of my GOTYs. You don\\\\\\'t get any of that cliche game mechanics that all the latest games have, this is simply good core gameplay. Yes, you can\\\\\\'t 360 noscope your friends, but what you can do is show them up with your bad ♥♥♥ dance moves and put them to shame as you show them what true fashion and color combinations are.I know this game says for kids but, this is easily for any age range and any age will have a blast playing this.8/8\\'}, {\\'funny\\': \\'\\', \\'posted\\': \\'Posted September 8, 2013.\\', \\'last_edited\\': \\'\\', \\'item_id\\': \\'227300\\', \\'helpful\\': \\'0 of 1 people (0%) found this review helpful\\', \\'recommend\\': True, \\'review\\': \"For a simple (it\\'s actually not all that simple but it can be!) truck driving Simulator, it is quite a fun and relaxing game. Playing on simple (or easy?) its just the basic WASD keys for driving but (if you want) the game can be much harder and realistic with having to manually change gears, much harder turning, etc. And reversing in this game is a ♥♥♥♥♥, as I imagine it would be with an actual truck. Luckily, you don\\'t have to reverse park it but you get extra points if you do cause it is bloody hard. But this is suprisingly a nice truck driving game and I had a bit of fun with it.\"}, {\\'funny\\': \\'\\', \\'posted\\': \\'Posted November 29, 2013.\\', \\'last_edited\\': \\'\\', \\'item_id\\': \\'239030\\', \\'helpful\\': \\'1 of 4 people (25%) found this review helpful\\', \\'recommend\\': True, \\'review\\': \\'Very fun little game to play when your bored or as a time passer. Very gud. Do Recommend. pls buy\\'}]']"
      ]
     },
     "execution_count": 83,
     "metadata": {},
     "output_type": "execute_result"
    }
   ],
   "source": [
    "conocer_archivo (df_review,1)"
   ]
  },
  {
   "cell_type": "code",
   "execution_count": 84,
   "metadata": {},
   "outputs": [
    {
     "data": {
      "text/plain": [
       "{'funny': '',\n",
       " 'posted': 'Posted July 15, 2011.',\n",
       " 'last_edited': '',\n",
       " 'item_id': '22200',\n",
       " 'helpful': 'No ratings yet',\n",
       " 'recommend': True,\n",
       " 'review': \"It's unique and worth a playthrough.\"}"
      ]
     },
     "execution_count": 84,
     "metadata": {},
     "output_type": "execute_result"
    }
   ],
   "source": [
    "# Entro en un registro de la columna 'reviews'\n",
    "df_review.iloc[0,2][1]"
   ]
  },
  {
   "cell_type": "code",
   "execution_count": 85,
   "metadata": {},
   "outputs": [],
   "source": [
    "###  Desanidar los datos de la columna 'reviews' \n",
    "\n",
    "# Abro el dicc que hay en 'reviews' para que cada elemento esté en una fila separada\n",
    "df_review = df_review.explode('reviews').reset_index(drop=True)\n",
    "\n",
    "# Desanido la 'reviews' en múltiples 'reviews's\n",
    "df_review_des = pd.json_normalize(df_review['reviews'])\n",
    "\n",
    "# Combino los dataframe\n",
    "df_review_des= pd.concat([df_review.drop(columns=['reviews']), df_review_des], axis=1)"
   ]
  },
  {
   "cell_type": "code",
   "execution_count": 86,
   "metadata": {},
   "outputs": [
    {
     "data": {
      "text/html": [
       "<div>\n",
       "<style scoped>\n",
       "    .dataframe tbody tr th:only-of-type {\n",
       "        vertical-align: middle;\n",
       "    }\n",
       "\n",
       "    .dataframe tbody tr th {\n",
       "        vertical-align: top;\n",
       "    }\n",
       "\n",
       "    .dataframe thead th {\n",
       "        text-align: right;\n",
       "    }\n",
       "</style>\n",
       "<table border=\"1\" class=\"dataframe\">\n",
       "  <thead>\n",
       "    <tr style=\"text-align: right;\">\n",
       "      <th></th>\n",
       "      <th>user_id</th>\n",
       "      <th>user_url</th>\n",
       "      <th>funny</th>\n",
       "      <th>posted</th>\n",
       "      <th>last_edited</th>\n",
       "      <th>item_id</th>\n",
       "      <th>helpful</th>\n",
       "      <th>recommend</th>\n",
       "      <th>review</th>\n",
       "    </tr>\n",
       "  </thead>\n",
       "  <tbody>\n",
       "    <tr>\n",
       "      <th>0</th>\n",
       "      <td>76561197970982479</td>\n",
       "      <td>http://steamcommunity.com/profiles/76561197970...</td>\n",
       "      <td></td>\n",
       "      <td>Posted November 5, 2011.</td>\n",
       "      <td></td>\n",
       "      <td>1250</td>\n",
       "      <td>No ratings yet</td>\n",
       "      <td>True</td>\n",
       "      <td>Simple yet with great replayability. In my opi...</td>\n",
       "    </tr>\n",
       "  </tbody>\n",
       "</table>\n",
       "</div>"
      ],
      "text/plain": [
       "             user_id                                           user_url funny  \\\n",
       "0  76561197970982479  http://steamcommunity.com/profiles/76561197970...         \n",
       "\n",
       "                     posted last_edited item_id         helpful recommend  \\\n",
       "0  Posted November 5, 2011.                1250  No ratings yet      True   \n",
       "\n",
       "                                              review  \n",
       "0  Simple yet with great replayability. In my opi...  "
      ]
     },
     "execution_count": 86,
     "metadata": {},
     "output_type": "execute_result"
    }
   ],
   "source": [
    "df_review_des.head(1)"
   ]
  },
  {
   "cell_type": "code",
   "execution_count": 87,
   "metadata": {},
   "outputs": [
    {
     "data": {
      "text/plain": [
       "(59333, 9)"
      ]
     },
     "execution_count": 87,
     "metadata": {},
     "output_type": "execute_result"
    }
   ],
   "source": [
    "df_review_des.shape"
   ]
  },
  {
   "cell_type": "code",
   "execution_count": 89,
   "metadata": {},
   "outputs": [
    {
     "data": {
      "text/plain": [
       "user_id        0\n",
       "user_url       0\n",
       "funny          0\n",
       "posted         0\n",
       "last_edited    0\n",
       "item_id        0\n",
       "helpful        0\n",
       "recommend      0\n",
       "review         0\n",
       "dtype: int64"
      ]
     },
     "execution_count": 89,
     "metadata": {},
     "output_type": "execute_result"
    }
   ],
   "source": [
    "# Registros completamente vacios\n",
    "df_review_des[df_review_des.isna().all(axis=1)].count()"
   ]
  },
  {
   "cell_type": "code",
   "execution_count": 90,
   "metadata": {},
   "outputs": [
    {
     "data": {
      "text/plain": [
       "user_id        874\n",
       "user_url       874\n",
       "funny          874\n",
       "posted         874\n",
       "last_edited    874\n",
       "item_id        874\n",
       "helpful        874\n",
       "recommend      874\n",
       "review         874\n",
       "dtype: int64"
      ]
     },
     "execution_count": 90,
     "metadata": {},
     "output_type": "execute_result"
    }
   ],
   "source": [
    "# Registros duplicados\n",
    "df_review_des[df_review_des.duplicated()].count()"
   ]
  },
  {
   "cell_type": "code",
   "execution_count": 91,
   "metadata": {},
   "outputs": [],
   "source": [
    "# Elimino Registros duplicados\n",
    "df_review_des = df_review_des.drop_duplicates()"
   ]
  },
  {
   "cell_type": "code",
   "execution_count": 92,
   "metadata": {},
   "outputs": [
    {
     "data": {
      "text/plain": [
       "[\"Columna: user_id   // Tipo dato: <class 'str'>   //  Informacion: 76561197970982479\",\n",
       " \"Columna: user_url   // Tipo dato: <class 'str'>   //  Informacion: http://steamcommunity.com/profiles/76561197970982479\",\n",
       " \"Columna: funny   // Tipo dato: <class 'str'>   //  Informacion: \",\n",
       " \"Columna: posted   // Tipo dato: <class 'str'>   //  Informacion: Posted July 15, 2011.\",\n",
       " \"Columna: last_edited   // Tipo dato: <class 'str'>   //  Informacion: \",\n",
       " \"Columna: item_id   // Tipo dato: <class 'str'>   //  Informacion: 22200\",\n",
       " \"Columna: helpful   // Tipo dato: <class 'str'>   //  Informacion: No ratings yet\",\n",
       " \"Columna: recommend   // Tipo dato: <class 'bool'>   //  Informacion: True\",\n",
       " \"Columna: review   // Tipo dato: <class 'str'>   //  Informacion: It's unique and worth a playthrough.\"]"
      ]
     },
     "execution_count": 92,
     "metadata": {},
     "output_type": "execute_result"
    }
   ],
   "source": [
    "conocer_archivo (df_review_des,1)"
   ]
  },
  {
   "cell_type": "code",
   "execution_count": 96,
   "metadata": {},
   "outputs": [],
   "source": [
    "# Me quedo con las columnas que usare\n",
    "df_review_des = df_review_des[['user_id', 'user_url', 'posted', 'item_id', 'recommend', 'review']]"
   ]
  },
  {
   "cell_type": "markdown",
   "metadata": {},
   "source": [
    "Analisis columna 'user_id:\n",
    "- Los duplicados no se eliminan, ya que luego de desanidar la columna review, hay varias 'review' de un mismo 'user_id'"
   ]
  },
  {
   "cell_type": "code",
   "execution_count": 137,
   "metadata": {},
   "outputs": [
    {
     "name": "stdout",
     "output_type": "stream",
     "text": [
      "Cantidad nulos: 0\n",
      "Tipo de dato y cantidad:\n",
      "<class 'str'>    58431\n",
      "Name: user_id, dtype: int64\n"
     ]
    }
   ],
   "source": [
    "print(conocer_columna (df_review_des,'user_id'))"
   ]
  },
  {
   "cell_type": "markdown",
   "metadata": {},
   "source": [
    "Analisis columna 'item_id':\n",
    "- Como todos los registros que tienen el item_id nulo, tambien tienen nulos los campos: posted, recommend y review, se decide eliminar todos esos registros con item_id nulo"
   ]
  },
  {
   "cell_type": "code",
   "execution_count": 138,
   "metadata": {},
   "outputs": [
    {
     "name": "stdout",
     "output_type": "stream",
     "text": [
      "Cantidad nulos: 0\n",
      "Tipo de dato y cantidad:\n",
      "<class 'str'>    58431\n",
      "Name: item_id, dtype: int64\n"
     ]
    }
   ],
   "source": [
    "print(conocer_columna (df_review_des,'item_id'))"
   ]
  },
  {
   "cell_type": "code",
   "execution_count": null,
   "metadata": {},
   "outputs": [],
   "source": [
    "df_review_des[df_review_des['item_id'].isna()]"
   ]
  },
  {
   "cell_type": "code",
   "execution_count": 100,
   "metadata": {},
   "outputs": [],
   "source": [
    "# eliminar todos esos registros con item_id nulo\n",
    "df_review_des = df_review_des.dropna(subset=['item_id'])"
   ]
  },
  {
   "cell_type": "markdown",
   "metadata": {},
   "source": [
    "Analisis columna 'recommend':\n",
    "- Se convierten los valores booleanos True y False a enteros (0) y (1)"
   ]
  },
  {
   "cell_type": "code",
   "execution_count": 139,
   "metadata": {},
   "outputs": [
    {
     "name": "stdout",
     "output_type": "stream",
     "text": [
      "Cantidad nulos: 0\n",
      "Tipo de dato y cantidad:\n",
      "<class 'bool'>    58431\n",
      "Name: recommend, dtype: int64\n"
     ]
    }
   ],
   "source": [
    "print(conocer_columna (df_review_des,'recommend'))"
   ]
  },
  {
   "cell_type": "code",
   "execution_count": 102,
   "metadata": {},
   "outputs": [
    {
     "data": {
      "text/plain": [
       "array([True, False], dtype=object)"
      ]
     },
     "execution_count": 102,
     "metadata": {},
     "output_type": "execute_result"
    }
   ],
   "source": [
    "# se corrobora que los valores sean solo True y False\n",
    "df_review_des['recommend'].unique()"
   ]
  },
  {
   "cell_type": "markdown",
   "metadata": {},
   "source": [
    "En el siguiente gráfico podemos ver con claridad que la mayoría de las recomendaciones son buenas ('True')"
   ]
  },
  {
   "cell_type": "code",
   "execution_count": 195,
   "metadata": {},
   "outputs": [
    {
     "data": {
      "image/png": "[encoded data removed]",
      "text/plain": [
       "<Figure size 720x432 with 1 Axes>"
      ]
     },
     "metadata": {},
     "output_type": "display_data"
    }
   ],
   "source": [
    "plt.figure(figsize=(10, 6))\n",
    "sns.countplot(x=df_review_des['recommend'])\n",
    "\n",
    "plt.xlabel('Recomendación')\n",
    "plt.ylabel('Cantidad')\n",
    "plt.title('Cantidad de recomendaciones', fontsize=20)\n",
    "plt.show()"
   ]
  },
  {
   "cell_type": "code",
   "execution_count": 156,
   "metadata": {},
   "outputs": [],
   "source": [
    "#Se convierte a valores cero y uno \n",
    "df_review_des['recommend'] = df_review_des['recommend'].astype(int)"
   ]
  },
  {
   "cell_type": "markdown",
   "metadata": {},
   "source": [
    "Analisis columna 'Review':\n",
    "- Se realizó el análisis de sentimientos utilizando la función analisis_sentimientos(review). Esta función utiliza la biblioteca TextBlob para evaluar la polaridad del sentimiento de cada texto. Devuelve (0) si el sentimiento es negativo, (1) si es neutral o (2) si es positivo. Después de un proceso iterativo y comparativo entre los resultados obtenidos, los textos analizados y la cantidad de ítems recomendados por los usuarios, se decidió que la función consideraría una polaridad < -0.3 para Negativo y una polaridad > 0 para Positivo."
   ]
  },
  {
   "cell_type": "code",
   "execution_count": 140,
   "metadata": {},
   "outputs": [
    {
     "name": "stdout",
     "output_type": "stream",
     "text": [
      "Cantidad nulos: 0\n",
      "Tipo de dato y cantidad:\n",
      "<class 'str'>    58431\n",
      "Name: review, dtype: int64\n"
     ]
    }
   ],
   "source": [
    "print(conocer_columna (df_review_des,'review'))"
   ]
  },
  {
   "cell_type": "code",
   "execution_count": 104,
   "metadata": {},
   "outputs": [
    {
     "data": {
      "text/plain": [
       "0    Simple yet with great replayability. In my opi...\n",
       "1                 It's unique and worth a playthrough.\n",
       "2    Great atmosphere. The gunplay can be a bit chu...\n",
       "3    I know what you think when you see this title ...\n",
       "4    For a simple (it's actually not all that simpl...\n",
       "Name: review, dtype: object"
      ]
     },
     "execution_count": 104,
     "metadata": {},
     "output_type": "execute_result"
    }
   ],
   "source": [
    "df_review_des['review'].head()"
   ]
  },
  {
   "cell_type": "code",
   "execution_count": 118,
   "metadata": {},
   "outputs": [],
   "source": [
    "# Funcion para el analisis de sentimientos de la columna review\n",
    "\n",
    "def analisis_sentimientos(review):\n",
    "        ''' \n",
    "         esta función utiliza la biblioteca TextBlob para analizar la polaridad \n",
    "         del sentimiento de cada texto de la columna 'review'. \n",
    "         Devuelve un valor numérico que indica si el sentimiento es negativo (0), neutral (1) o positivo (2).\n",
    "        '''\n",
    "        analizador = TextBlob(review)\n",
    "        if analizador.sentiment.polarity < -0.3: # Negativo\n",
    "            return 0  \n",
    "        elif analizador.sentiment.polarity > 0: # Positivo\n",
    "            return 2  \n",
    "        else:\n",
    "            return 1  # Neutral\n",
    "df_review_des['sentiment_analysis'] = df_review_des['review'].apply(analisis_sentimientos)"
   ]
  },
  {
   "cell_type": "code",
   "execution_count": 119,
   "metadata": {},
   "outputs": [
    {
     "data": {
      "text/plain": [
       "2    33053\n",
       "1    21492\n",
       "0     3886\n",
       "Name: sentiment_analysis, dtype: int64"
      ]
     },
     "execution_count": 119,
     "metadata": {},
     "output_type": "execute_result"
    }
   ],
   "source": [
    "df_review_des['sentiment_analysis'].value_counts()"
   ]
  },
  {
   "cell_type": "code",
   "execution_count": 128,
   "metadata": {},
   "outputs": [
    {
     "name": "stdout",
     "output_type": "stream",
     "text": [
      "Calificacion:2  Polaridad:0.34  Texto:It's unique and worth a playthrough.\n",
      "\n",
      "Calificacion:1  Polaridad:-0.1  Texto:Very fun little game to play when your bored or as a time passer. Very gud. Do Recommend. pls buy\n",
      "\n",
      "Calificacion:1  Polaridad:-0.04  Texto:For a simple (it's actually not all that simple but it can be!) truck driving Simulator, it is quite a fun and relaxing game. Playing on simple (or easy?) its just the basic WASD keys for driving but (if you want) the game can be much harder and realistic with having to manually change gears, much harder turning, etc. And reversing in this game is a ♥♥♥♥♥, as I imagine it would be with an actual truck. Luckily, you don't have to reverse park it but you get extra points if you do cause it is bloody hard. But this is suprisingly a nice truck driving game and I had a bit of fun with it.\n",
      "\n",
      "Calificacion:0  Polaridad:-0.33  Texto:Random drops and random quests, with stat points.  Animation style reminiscent of the era before the Voodoo card.\n",
      "\n",
      "Calificacion:2  Polaridad:0.19  Texto:Fun balance of tactics and strategy.  Potential for very rewarding battles on smaller maps.  Can become a bit of a grind on larger maps (>200 stars).\n",
      "\n",
      "Calificacion:0  Polaridad:-0.33  Texto:The ending to this game is.... ♥♥♥♥♥♥♥.... Just buy it, you'll be invested, im automatically preordering season two of the walking dead game.\n",
      "\n"
     ]
    }
   ],
   "source": [
    "# Comparo el valor numero obtenido para los sentimientos, la polaridad y el texto analizado\n",
    "\n",
    "registros = [1,5,4,9,10,16]\n",
    "\n",
    "for i in registros:\n",
    "    calificacion = df_review_des['sentiment_analysis'][i]\n",
    "    polaridad = round(TextBlob(df_review_des['review'][i]).sentiment.polarity,2)\n",
    "    texto = df_review_des['review'][i]\n",
    "\n",
    "    print(f\"Calificacion:{calificacion}  Polaridad:{polaridad}  Texto:{texto}\\n\")"
   ]
  },
  {
   "cell_type": "markdown",
   "metadata": {},
   "source": [
    "En el siguiente gráfico podemos ver de manera conjunta que la mayor cantidad de registros analizados fueron catalogados como Positivos o Neutros, lo cual está en concordancia con las recomendaciones generadas por los usuarios, las cuales son en su mayoría Positivas"
   ]
  },
  {
   "cell_type": "code",
   "execution_count": 194,
   "metadata": {},
   "outputs": [
    {
     "data": {
      "image/png": "[encoded data removed]",
      "text/plain": [
       "<Figure size 720x432 with 1 Axes>"
      ]
     },
     "metadata": {},
     "output_type": "display_data"
    }
   ],
   "source": [
    "plt.figure(figsize=(10, 6))\n",
    "sns.countplot(data=df_review_des, x='sentiment_analysis', hue=\"recommend\")\n",
    "\n",
    "plt.xticks(ticks=[0, 1, 2], labels=['Negativo', 'Neutral', 'Positivo'])\n",
    "plt.legend(title='Recomendado', labels=['No','Si'])\n",
    "\n",
    "plt.xlabel('Sentimientos')\n",
    "plt.ylabel('Cantidad')\n",
    "plt.title('Sentimientos y Recomendaciones', fontsize=20)\n",
    "\n",
    "plt.show()"
   ]
  },
  {
   "cell_type": "markdown",
   "metadata": {},
   "source": [
    "Análisis columna 'posted':\n",
    "- Se exploró el formato de los datos y se diseñó la función convertir_fecha(cadena_fecha) para transformar las fechas tipo 'Posted %B %d, %Y.' en un formato '%Y/%m/%d'.\n",
    "- Se decidió eliminar los registros que no tenían año, ya que la información era incompleta."
   ]
  },
  {
   "cell_type": "code",
   "execution_count": 141,
   "metadata": {},
   "outputs": [
    {
     "name": "stdout",
     "output_type": "stream",
     "text": [
      "Cantidad nulos: 0\n",
      "Tipo de dato y cantidad:\n",
      "<class 'str'>    58431\n",
      "Name: posted, dtype: int64\n"
     ]
    }
   ],
   "source": [
    "print(conocer_columna (df_review_des,'posted'))"
   ]
  },
  {
   "cell_type": "code",
   "execution_count": 160,
   "metadata": {},
   "outputs": [
    {
     "name": "stdout",
     "output_type": "stream",
     "text": [
      "Posted June 24, 2014.\n",
      "Posted July 10.\n"
     ]
    }
   ],
   "source": [
    "# registros en diferentes formatos\n",
    "print(df_review_des['posted'][3])\n",
    "print(df_review_des['posted'][59328])"
   ]
  },
  {
   "cell_type": "code",
   "execution_count": 161,
   "metadata": {},
   "outputs": [],
   "source": [
    "def convertir_fecha(cadena_fecha):\n",
    "    '''\n",
    "    Esta funcion convierte una fecha tipo 'Posted %B %d, %Y.' en una fecha tipo '%Y/%m/%d' \n",
    "    Si el formato inicial de fecha es distinto, no hace nada'''\n",
    "    try:\n",
    "        fecha_objeto = datetime.strptime(cadena_fecha, 'Posted %B %d, %Y.')\n",
    "        return fecha_objeto.strftime('%Y/%m/%d')\n",
    "    except ValueError:\n",
    "        return cadena_fecha"
   ]
  },
  {
   "cell_type": "code",
   "execution_count": 162,
   "metadata": {},
   "outputs": [],
   "source": [
    "df_review_des['posted_ok'] = df_review_des['posted'].apply(convertir_fecha)"
   ]
  },
  {
   "cell_type": "code",
   "execution_count": 163,
   "metadata": {},
   "outputs": [
    {
     "data": {
      "text/plain": [
       "9933"
      ]
     },
     "execution_count": 163,
     "metadata": {},
     "output_type": "execute_result"
    }
   ],
   "source": [
    "# Cantidad de registros que no se modificaron\n",
    "df_review_des['posted_ok'].str.startswith('Post').sum()"
   ]
  },
  {
   "cell_type": "code",
   "execution_count": 164,
   "metadata": {},
   "outputs": [],
   "source": [
    "# Se decide eliminar esos registros, ya que la informacion esta incompleta\n",
    "# Tal vez se podria tomar una decision mas acertada y e imputar esos registros desde alguna otra columna \n",
    "\n",
    "df_review_des_ano = df_review_des.drop(df_review_des[df_review_des['posted_ok'].str.startswith('Post')].index)"
   ]
  },
  {
   "cell_type": "markdown",
   "metadata": {},
   "source": [
    "Teniendo en cuenta la información brindada en los datos; un usuario realizó varias reseñas (reviews) para diferentes juegos/items. Cada reseña está relacionada con un ítem y con una fecha de posteo 'posted_ok'. En el siguiente gráfico vemos que la cantidad de reseñas realizadas por los usuarios ha aumentado considerablemente con los años."
   ]
  },
  {
   "cell_type": "code",
   "execution_count": 193,
   "metadata": {},
   "outputs": [
    {
     "data": {
      "image/png": "[encoded data removed]",
      "text/plain": [
       "<Figure size 720x432 with 1 Axes>"
      ]
     },
     "metadata": {},
     "output_type": "display_data"
    }
   ],
   "source": [
    "df_review_des_ano['posted_ok'] = pd.to_datetime(df_review_des_ano['posted_ok'])\n",
    "df_review_des_ano['año'] = df_review_des_ano['posted_ok'].dt.year\n",
    "df_review_por_año = df_review_des_ano.groupby('año')['review'].nunique()\n",
    "\n",
    "\n",
    "plt.figure(figsize=(10, 6))\n",
    "plt.bar(df_review_por_año.index, df_review_por_año.values)\n",
    "plt.xlabel('Año')\n",
    "plt.ylabel('Cantidad de Reviews')\n",
    "plt.title('Cantidad de Reviews por Año', fontsize=20)\n",
    "plt.show()"
   ]
  },
  {
   "cell_type": "code",
   "execution_count": 192,
   "metadata": {},
   "outputs": [],
   "source": [
    "# df final \n",
    "df_review_final = df_review_des_ano.drop(columns=['posted','review'])"
   ]
  },
  {
   "cell_type": "code",
   "execution_count": 166,
   "metadata": {},
   "outputs": [
    {
     "data": {
      "text/plain": [
       "(48498, 6)"
      ]
     },
     "execution_count": 166,
     "metadata": {},
     "output_type": "execute_result"
    }
   ],
   "source": [
    "df_review_final.shape"
   ]
  },
  {
   "cell_type": "code",
   "execution_count": 167,
   "metadata": {},
   "outputs": [
    {
     "data": {
      "text/html": [
       "<div>\n",
       "<style scoped>\n",
       "    .dataframe tbody tr th:only-of-type {\n",
       "        vertical-align: middle;\n",
       "    }\n",
       "\n",
       "    .dataframe tbody tr th {\n",
       "        vertical-align: top;\n",
       "    }\n",
       "\n",
       "    .dataframe thead th {\n",
       "        text-align: right;\n",
       "    }\n",
       "</style>\n",
       "<table border=\"1\" class=\"dataframe\">\n",
       "  <thead>\n",
       "    <tr style=\"text-align: right;\">\n",
       "      <th></th>\n",
       "      <th>user_id</th>\n",
       "      <th>user_url</th>\n",
       "      <th>item_id</th>\n",
       "      <th>recommend</th>\n",
       "      <th>sentiment_analysis</th>\n",
       "      <th>posted_ok</th>\n",
       "    </tr>\n",
       "  </thead>\n",
       "  <tbody>\n",
       "    <tr>\n",
       "      <th>0</th>\n",
       "      <td>76561197970982479</td>\n",
       "      <td>http://steamcommunity.com/profiles/76561197970...</td>\n",
       "      <td>1250</td>\n",
       "      <td>1</td>\n",
       "      <td>2</td>\n",
       "      <td>2011/11/05</td>\n",
       "    </tr>\n",
       "  </tbody>\n",
       "</table>\n",
       "</div>"
      ],
      "text/plain": [
       "             user_id                                           user_url  \\\n",
       "0  76561197970982479  http://steamcommunity.com/profiles/76561197970...   \n",
       "\n",
       "  item_id  recommend  sentiment_analysis   posted_ok  \n",
       "0    1250          1                   2  2011/11/05  "
      ]
     },
     "execution_count": 167,
     "metadata": {},
     "output_type": "execute_result"
    }
   ],
   "source": [
    "df_review_final.head(1)"
   ]
  },
  {
   "cell_type": "markdown",
   "metadata": {},
   "source": [
    "# Trabajamos con el DF de \"users_items.json.gz\""
   ]
  },
  {
   "cell_type": "code",
   "execution_count": 196,
   "metadata": {},
   "outputs": [
    {
     "data": {
      "text/html": [
       "<div>\n",
       "<style scoped>\n",
       "    .dataframe tbody tr th:only-of-type {\n",
       "        vertical-align: middle;\n",
       "    }\n",
       "\n",
       "    .dataframe tbody tr th {\n",
       "        vertical-align: top;\n",
       "    }\n",
       "\n",
       "    .dataframe thead th {\n",
       "        text-align: right;\n",
       "    }\n",
       "</style>\n",
       "<table border=\"1\" class=\"dataframe\">\n",
       "  <thead>\n",
       "    <tr style=\"text-align: right;\">\n",
       "      <th></th>\n",
       "      <th>user_id</th>\n",
       "      <th>items_count</th>\n",
       "      <th>steam_id</th>\n",
       "      <th>user_url</th>\n",
       "      <th>items</th>\n",
       "    </tr>\n",
       "  </thead>\n",
       "  <tbody>\n",
       "    <tr>\n",
       "      <th>0</th>\n",
       "      <td>76561197970982479</td>\n",
       "      <td>277</td>\n",
       "      <td>76561197970982479</td>\n",
       "      <td>http://steamcommunity.com/profiles/76561197970...</td>\n",
       "      <td>[{'item_id': '10', 'item_name': 'Counter-Strik...</td>\n",
       "    </tr>\n",
       "  </tbody>\n",
       "</table>\n",
       "</div>"
      ],
      "text/plain": [
       "             user_id  items_count           steam_id  \\\n",
       "0  76561197970982479          277  76561197970982479   \n",
       "\n",
       "                                            user_url  \\\n",
       "0  http://steamcommunity.com/profiles/76561197970...   \n",
       "\n",
       "                                               items  \n",
       "0  [{'item_id': '10', 'item_name': 'Counter-Strik...  "
      ]
     },
     "execution_count": 196,
     "metadata": {},
     "output_type": "execute_result"
    }
   ],
   "source": [
    "df_items = pd.DataFrame (abrir_archivo_comprimido_2 (\"Datos\\\\users_items.json.gz\")) \n",
    "df_items.head(1)"
   ]
  },
  {
   "cell_type": "code",
   "execution_count": 197,
   "metadata": {},
   "outputs": [
    {
     "data": {
      "text/plain": [
       "(88310, 5)"
      ]
     },
     "execution_count": 197,
     "metadata": {},
     "output_type": "execute_result"
    }
   ],
   "source": [
    "df_items.shape"
   ]
  },
  {
   "cell_type": "code",
   "execution_count": 198,
   "metadata": {},
   "outputs": [
    {
     "name": "stdout",
     "output_type": "stream",
     "text": [
      "<class 'pandas.core.frame.DataFrame'>\n",
      "RangeIndex: 88310 entries, 0 to 88309\n",
      "Data columns (total 5 columns):\n",
      " #   Column       Non-Null Count  Dtype \n",
      "---  ------       --------------  ----- \n",
      " 0   user_id      88310 non-null  object\n",
      " 1   items_count  88310 non-null  int64 \n",
      " 2   steam_id     88310 non-null  object\n",
      " 3   user_url     88310 non-null  object\n",
      " 4   items        88310 non-null  object\n",
      "dtypes: int64(1), object(4)\n",
      "memory usage: 3.4+ MB\n"
     ]
    }
   ],
   "source": [
    "df_items.info()"
   ]
  },
  {
   "cell_type": "code",
   "execution_count": 199,
   "metadata": {},
   "outputs": [
    {
     "data": {
      "text/plain": [
       "[\"Columna: user_id   // Tipo dato: <class 'str'>   //  Informacion: js41637\",\n",
       " \"Columna: items_count   // Tipo dato: <class 'numpy.int64'>   //  Informacion: 888\",\n",
       " \"Columna: steam_id   // Tipo dato: <class 'str'>   //  Informacion: 76561198035864385\",\n",
       " \"Columna: user_url   // Tipo dato: <class 'str'>   //  Informacion: http://steamcommunity.com/id/js41637\",\n",
       " 'Columna: items   // Tipo dato: <class \\'list\\'>   //  Informacion: [{\\'item_id\\': \\'10\\', \\'item_name\\': \\'Counter-Strike\\', \\'playtime_forever\\': 0, \\'playtime_2weeks\\': 0}, {\\'item_id\\': \\'80\\', \\'item_name\\': \\'Counter-Strike: Condition Zero\\', \\'playtime_forever\\': 0, \\'playtime_2weeks\\': 0}, {\\'item_id\\': \\'100\\', \\'item_name\\': \\'Counter-Strike: Condition Zero Deleted Scenes\\', \\'playtime_forever\\': 0, \\'playtime_2weeks\\': 0}, {\\'item_id\\': \\'300\\', \\'item_name\\': \\'Day of Defeat: Source\\', \\'playtime_forever\\': 220, \\'playtime_2weeks\\': 0}, {\\'item_id\\': \\'30\\', \\'item_name\\': \\'Day of Defeat\\', \\'playtime_forever\\': 0, \\'playtime_2weeks\\': 0}, {\\'item_id\\': \\'40\\', \\'item_name\\': \\'Deathmatch Classic\\', \\'playtime_forever\\': 0, \\'playtime_2weeks\\': 0}, {\\'item_id\\': \\'60\\', \\'item_name\\': \\'Ricochet\\', \\'playtime_forever\\': 0, \\'playtime_2weeks\\': 0}, {\\'item_id\\': \\'240\\', \\'item_name\\': \\'Counter-Strike: Source\\', \\'playtime_forever\\': 62, \\'playtime_2weeks\\': 0}, {\\'item_id\\': \\'280\\', \\'item_name\\': \\'Half-Life: Source\\', \\'playtime_forever\\': 0, \\'playtime_2weeks\\': 0}, {\\'item_id\\': \\'360\\', \\'item_name\\': \\'Half-Life Deathmatch: Source\\', \\'playtime_forever\\': 0, \\'playtime_2weeks\\': 0}, {\\'item_id\\': \\'320\\', \\'item_name\\': \\'Half-Life 2: Deathmatch\\', \\'playtime_forever\\': 0, \\'playtime_2weeks\\': 0}, {\\'item_id\\': \\'20\\', \\'item_name\\': \\'Team Fortress Classic\\', \\'playtime_forever\\': 0, \\'playtime_2weeks\\': 0}, {\\'item_id\\': \\'50\\', \\'item_name\\': \\'Half-Life: Opposing Force\\', \\'playtime_forever\\': 0, \\'playtime_2weeks\\': 0}, {\\'item_id\\': \\'70\\', \\'item_name\\': \\'Half-Life\\', \\'playtime_forever\\': 0, \\'playtime_2weeks\\': 0}, {\\'item_id\\': \\'130\\', \\'item_name\\': \\'Half-Life: Blue Shift\\', \\'playtime_forever\\': 0, \\'playtime_2weeks\\': 0}, {\\'item_id\\': \\'3910\\', \\'item_name\\': \"Sid Meier\\'s Civilization III: Complete\", \\'playtime_forever\\': 107, \\'playtime_2weeks\\': 0}, {\\'item_id\\': \\'3920\\', \\'item_name\\': \"Sid Meier\\'s Pirates!\", \\'playtime_forever\\': 0, \\'playtime_2weeks\\': 0}, {\\'item_id\\': \\'4000\\', \\'item_name\\': \"Garry\\'s Mod\", \\'playtime_forever\\': 412, \\'playtime_2weeks\\': 0}, {\\'item_id\\': \\'6880\\', \\'item_name\\': \\'Just Cause\\', \\'playtime_forever\\': 0, \\'playtime_2weeks\\': 0}, {\\'item_id\\': \\'2200\\', \\'item_name\\': \\'Quake III Arena\\', \\'playtime_forever\\': 114, \\'playtime_2weeks\\': 0}, {\\'item_id\\': \\'2270\\', \\'item_name\\': \\'Wolfenstein 3D\\', \\'playtime_forever\\': 0, \\'playtime_2weeks\\': 0}, {\\'item_id\\': \\'2280\\', \\'item_name\\': \\'The Ultimate DOOM\\', \\'playtime_forever\\': 0, \\'playtime_2weeks\\': 0}, {\\'item_id\\': \\'2290\\', \\'item_name\\': \\'Final DOOM\\', \\'playtime_forever\\': 0, \\'playtime_2weeks\\': 0}, {\\'item_id\\': \\'2300\\', \\'item_name\\': \\'DOOM II: Hell on Earth\\', \\'playtime_forever\\': 0, \\'playtime_2weeks\\': 0}, {\\'item_id\\': \\'2310\\', \\'item_name\\': \\'Quake\\', \\'playtime_forever\\': 16, \\'playtime_2weeks\\': 0}, {\\'item_id\\': \\'2320\\', \\'item_name\\': \\'Quake II\\', \\'playtime_forever\\': 0, \\'playtime_2weeks\\': 0}, {\\'item_id\\': \\'2330\\', \\'item_name\\': \\'Quake II: The Reckoning\\', \\'playtime_forever\\': 0, \\'playtime_2weeks\\': 0}, {\\'item_id\\': \\'2340\\', \\'item_name\\': \\'Quake II: Ground Zero\\', \\'playtime_forever\\': 0, \\'playtime_2weeks\\': 0}, {\\'item_id\\': \\'2350\\', \\'item_name\\': \\'Quake III: Team Arena\\', \\'playtime_forever\\': 0, \\'playtime_2weeks\\': 0}, {\\'item_id\\': \\'2360\\', \\'item_name\\': \\'HeXen: Beyond Heretic\\', \\'playtime_forever\\': 0, \\'playtime_2weeks\\': 0}, {\\'item_id\\': \\'2370\\', \\'item_name\\': \\'HeXen: Deathkings of the Dark Citadel\\', \\'playtime_forever\\': 0, \\'playtime_2weeks\\': 0}, {\\'item_id\\': \\'2390\\', \\'item_name\\': \\'Heretic: Shadow of the Serpent Riders\\', \\'playtime_forever\\': 0, \\'playtime_2weeks\\': 0}, {\\'item_id\\': \\'9000\\', \\'item_name\\': \\'Wolfenstein 3D: Spear of Destiny\\', \\'playtime_forever\\': 0, \\'playtime_2weeks\\': 0}, {\\'item_id\\': \\'9010\\', \\'item_name\\': \\'Return to Castle Wolfenstein\\', \\'playtime_forever\\': 0, \\'playtime_2weeks\\': 0}, {\\'item_id\\': \\'9030\\', \\'item_name\\': \\'Quake Mission Pack 2: Dissolution of Eternity\\', \\'playtime_forever\\': 0, \\'playtime_2weeks\\': 0}, {\\'item_id\\': \\'9040\\', \\'item_name\\': \\'Quake Mission Pack 1: Scourge of Armagon\\', \\'playtime_forever\\': 0, \\'playtime_2weeks\\': 0}, {\\'item_id\\': \\'9050\\', \\'item_name\\': \\'DOOM 3\\', \\'playtime_forever\\': 0, \\'playtime_2weeks\\': 0}, {\\'item_id\\': \\'9060\\', \\'item_name\\': \\'HeXen II\\', \\'playtime_forever\\': 0, \\'playtime_2weeks\\': 0}, {\\'item_id\\': \\'9070\\', \\'item_name\\': \\'DOOM 3: Resurrection of Evil\\', \\'playtime_forever\\': 0, \\'playtime_2weeks\\': 0}, {\\'item_id\\': \\'9160\\', \\'item_name\\': \\'Master Levels for DOOM II\\', \\'playtime_forever\\': 0, \\'playtime_2weeks\\': 0}, {\\'item_id\\': \\'9180\\', \\'item_name\\': \\'Commander Keen Complete Pack\\', \\'playtime_forever\\': 0, \\'playtime_2weeks\\': 0}, {\\'item_id\\': \\'4760\\', \\'item_name\\': \\'Rome: Total War\\', \\'playtime_forever\\': 51, \\'playtime_2weeks\\': 0}, {\\'item_id\\': \\'220\\', \\'item_name\\': \\'Half-Life 2\\', \\'playtime_forever\\': 750, \\'playtime_2weeks\\': 0}, {\\'item_id\\': \\'340\\', \\'item_name\\': \\'Half-Life 2: Lost Coast\\', \\'playtime_forever\\': 21, \\'playtime_2weeks\\': 0}, {\\'item_id\\': \\'380\\', \\'item_name\\': \\'Half-Life 2: Episode One\\', \\'playtime_forever\\': 181, \\'playtime_2weeks\\': 0}, {\\'item_id\\': \\'400\\', \\'item_name\\': \\'Portal\\', \\'playtime_forever\\': 169, \\'playtime_2weeks\\': 0}, {\\'item_id\\': \\'420\\', \\'item_name\\': \\'Half-Life 2: Episode Two\\', \\'playtime_forever\\': 295, \\'playtime_2weeks\\': 0}, {\\'item_id\\': \\'2590\\', \\'item_name\\': \\'Alpha Prime\\', \\'playtime_forever\\': 0, \\'playtime_2weeks\\': 0}, {\\'item_id\\': \\'4230\\', \\'item_name\\': \\'Race: The WTCC Game\\', \\'playtime_forever\\': 0, \\'playtime_2weeks\\': 0}, {\\'item_id\\': \\'4290\\', \\'item_name\\': \\'RACE: Caterham Expansion\\', \\'playtime_forever\\': 0, \\'playtime_2weeks\\': 0}, {\\'item_id\\': \\'12900\\', \\'item_name\\': \\'Audiosurf\\', \\'playtime_forever\\': 291, \\'playtime_2weeks\\': 0}, {\\'item_id\\': \\'8600\\', \\'item_name\\': \\'RACE 07\\', \\'playtime_forever\\': 0, \\'playtime_2weeks\\': 0}, {\\'item_id\\': \\'8660\\', \\'item_name\\': \\'GTR Evolution\\', \\'playtime_forever\\': 0, \\'playtime_2weeks\\': 0}, {\\'item_id\\': \\'44630\\', \\'item_name\\': \\'RACE 07 - Formula RaceRoom Add-On\\', \\'playtime_forever\\': 0, \\'playtime_2weeks\\': 0}, {\\'item_id\\': \\'15310\\', \\'item_name\\': \\'The Settlers: Heritage of Kings\\', \\'playtime_forever\\': 544, \\'playtime_2weeks\\': 0}, {\\'item_id\\': \\'17100\\', \\'item_name\\': \\'Children of the Nile\\', \\'playtime_forever\\': 0, \\'playtime_2weeks\\': 0}, {\\'item_id\\': \\'17120\\', \\'item_name\\': \\'Children of the Nile: Alexandria\\', \\'playtime_forever\\': 8, \\'playtime_2weeks\\': 0}, {\\'item_id\\': \\'21000\\', \\'item_name\\': \\'LEGO Batman: The Videogame\\', \\'playtime_forever\\': 17, \\'playtime_2weeks\\': 0}, {\\'item_id\\': \\'500\\', \\'item_name\\': \\'Left 4 Dead\\', \\'playtime_forever\\': 0, \\'playtime_2weeks\\': 0}, {\\'item_id\\': \\'18500\\', \\'item_name\\': \\'Defense Grid: The Awakening\\', \\'playtime_forever\\': 144, \\'playtime_2weeks\\': 0}, {\\'item_id\\': \\'17470\\', \\'item_name\\': \\'Dead Space\\', \\'playtime_forever\\': 0, \\'playtime_2weeks\\': 0}, {\\'item_id\\': \\'24740\\', \\'item_name\\': \\'Burnout Paradise: The Ultimate Box\\', \\'playtime_forever\\': 23, \\'playtime_2weeks\\': 0}, {\\'item_id\\': \\'27000\\', \\'item_name\\': \\'The Path\\', \\'playtime_forever\\': 75, \\'playtime_2weeks\\': 0}, {\\'item_id\\': \\'22200\\', \\'item_name\\': \\'Zeno Clash\\', \\'playtime_forever\\': 71, \\'playtime_2weeks\\': 0}, {\\'item_id\\': \\'23700\\', \\'item_name\\': \\'Puzzle Kingdoms\\', \\'playtime_forever\\': 817, \\'playtime_2weeks\\': 0}, {\\'item_id\\': \\'1250\\', \\'item_name\\': \\'Killing Floor\\', \\'playtime_forever\\': 428, \\'playtime_2weeks\\': 0}, {\\'item_id\\': \\'35420\\', \\'item_name\\': \\'Killing Floor Mod: Defence Alliance 2\\', \\'playtime_forever\\': 0, \\'playtime_2weeks\\': 0}, {\\'item_id\\': \\'22330\\', \\'item_name\\': \\'The Elder Scrolls IV: Oblivion \\', \\'playtime_forever\\': 230, \\'playtime_2weeks\\': 0}, {\\'item_id\\': \\'9870\\', \\'item_name\\': \\'Ghostbusters: The Video Game\\', \\'playtime_forever\\': 0, \\'playtime_2weeks\\': 0}, {\\'item_id\\': \\'32370\\', \\'item_name\\': \\'STAR WARS™: Knights of the Old Republic™\\', \\'playtime_forever\\': 0, \\'playtime_2weeks\\': 0}, {\\'item_id\\': \\'12830\\', \\'item_name\\': \\'Operation Flashpoint: Dragon Rising\\', \\'playtime_forever\\': 0, \\'playtime_2weeks\\': 0}, {\\'item_id\\': \\'24800\\', \\'item_name\\': \\'Command and Conquer: Red Alert 3 - Uprising\\', \\'playtime_forever\\': 35, \\'playtime_2weeks\\': 0}, {\\'item_id\\': \\'20900\\', \\'item_name\\': \\'The Witcher: Enhanced Edition\\', \\'playtime_forever\\': 75, \\'playtime_2weeks\\': 0}, {\\'item_id\\': \\'17450\\', \\'item_name\\': \\'Dragon Age: Origins\\', \\'playtime_forever\\': 0, \\'playtime_2weeks\\': 0}, {\\'item_id\\': \\'40200\\', \\'item_name\\': \\'ItzaBitza\\', \\'playtime_forever\\': 0, \\'playtime_2weeks\\': 0}, {\\'item_id\\': \\'40210\\', \\'item_name\\': \\'ItzaZoo\\', \\'playtime_forever\\': 0, \\'playtime_2weeks\\': 0}, {\\'item_id\\': \\'24980\\', \\'item_name\\': \\'Mass Effect 2\\', \\'playtime_forever\\': 0, \\'playtime_2weeks\\': 0}, {\\'item_id\\': \\'46000\\', \\'item_name\\': \\'Bob Came in Pieces\\', \\'playtime_forever\\': 77, \\'playtime_2weeks\\': 0}, {\\'item_id\\': \\'39900\\', \\'item_name\\': \\'Coniclysm\\', \\'playtime_forever\\': 0, \\'playtime_2weeks\\': 0}, {\\'item_id\\': \\'33230\\', \\'item_name\\': \"Assassin\\'s Creed II\", \\'playtime_forever\\': 1412, \\'playtime_2weeks\\': 0}, {\\'item_id\\': \\'8190\\', \\'item_name\\': \\'Just Cause 2\\', \\'playtime_forever\\': 0, \\'playtime_2weeks\\': 0}, {\\'item_id\\': \\'46410\\', \\'item_name\\': \\'Avencast\\', \\'playtime_forever\\': 0, \\'playtime_2weeks\\': 0}, {\\'item_id\\': \\'33220\\', \\'item_name\\': \"Tom Clancy\\'s Splinter Cell: Conviction\", \\'playtime_forever\\': 48, \\'playtime_2weeks\\': 0}, {\\'item_id\\': \\'3900\\', \\'item_name\\': \"Sid Meier\\'s Civilization IV\", \\'playtime_forever\\': 84, \\'playtime_2weeks\\': 0}, {\\'item_id\\': \\'34440\\', \\'item_name\\': \"Sid Meier\\'s Civilization IV\", \\'playtime_forever\\': 0, \\'playtime_2weeks\\': 0}, {\\'item_id\\': \\'20820\\', \\'item_name\\': \\'Shatter\\', \\'playtime_forever\\': 0, \\'playtime_2weeks\\': 0}, {\\'item_id\\': \\'33930\\', \\'item_name\\': \\'Arma 2: Operation Arrowhead\\', \\'playtime_forever\\': 0, \\'playtime_2weeks\\': 0}, {\\'item_id\\': \\'219540\\', \\'item_name\\': \\'Arma 2: Operation Arrowhead Beta (Obsolete)\\', \\'playtime_forever\\': 0, \\'playtime_2weeks\\': 0}, {\\'item_id\\': \\'17410\\', \\'item_name\\': \"Mirror\\'s Edge\", \\'playtime_forever\\': 0, \\'playtime_2weeks\\': 0}, {\\'item_id\\': \\'48800\\', \\'item_name\\': \\'Ship Simulator Extremes\\', \\'playtime_forever\\': 0, \\'playtime_2weeks\\': 0}, {\\'item_id\\': \\'57300\\', \\'item_name\\': \\'Amnesia: The Dark Descent\\', \\'playtime_forever\\': 0, \\'playtime_2weeks\\': 0}, {\\'item_id\\': \\'70100\\', \\'item_name\\': \\'Hacker Evolution\\', \\'playtime_forever\\': 84, \\'playtime_2weeks\\': 0}, {\\'item_id\\': \\'70110\\', \\'item_name\\': \\'Hacker Evolution - Untold\\', \\'playtime_forever\\': 124, \\'playtime_2weeks\\': 0}, {\\'item_id\\': \\'70120\\', \\'item_name\\': \\'Hacker Evolution Duality\\', \\'playtime_forever\\': 0, \\'playtime_2weeks\\': 0}, {\\'item_id\\': \\'8930\\', \\'item_name\\': \"Sid Meier\\'s Civilization V\", \\'playtime_forever\\': 748, \\'playtime_2weeks\\': 0}, {\\'item_id\\': \\'9940\\', \\'item_name\\': \\'Blade Kitten\\', \\'playtime_forever\\': 224, \\'playtime_2weeks\\': 0}, {\\'item_id\\': \\'23490\\', \\'item_name\\': \\'Tropico 3 - Steam Special Edition\\', \\'playtime_forever\\': 0, \\'playtime_2weeks\\': 0}, {\\'item_id\\': \\'57600\\', \\'item_name\\': \\'Tropico 3: Absolute Power\\', \\'playtime_forever\\': 1198, \\'playtime_2weeks\\': 0}, {\\'item_id\\': \\'60600\\', \\'item_name\\': \\'ProtoGalaxy\\', \\'playtime_forever\\': 0, \\'playtime_2weeks\\': 0}, {\\'item_id\\': \\'33950\\', \\'item_name\\': \\'The Fish Fillets 2\\', \\'playtime_forever\\': 0, \\'playtime_2weeks\\': 0}, {\\'item_id\\': \\'22380\\', \\'item_name\\': \\'Fallout: New Vegas\\', \\'playtime_forever\\': 18, \\'playtime_2weeks\\': 0}, {\\'item_id\\': \\'12210\\', \\'item_name\\': \\'Grand Theft Auto IV\\', \\'playtime_forever\\': 6, \\'playtime_2weeks\\': 0}, {\\'item_id\\': \\'12220\\', \\'item_name\\': \\'Grand Theft Auto: Episodes from Liberty City\\', \\'playtime_forever\\': 0, \\'playtime_2weeks\\': 0}, {\\'item_id\\': \\'47810\\', \\'item_name\\': \\'Dragon Age: Origins - Ultimate Edition\\', \\'playtime_forever\\': 41, \\'playtime_2weeks\\': 0}, {\\'item_id\\': \\'39670\\', \\'item_name\\': \\'Chaser\\', \\'playtime_forever\\': 0, \\'playtime_2weeks\\': 0}, {\\'item_id\\': \\'90100\\', \\'item_name\\': \\'Hegemony: Philip of Macedon\\', \\'playtime_forever\\': 0, \\'playtime_2weeks\\': 0}, {\\'item_id\\': \\'63700\\', \\'item_name\\': \\'BIT.TRIP BEAT\\', \\'playtime_forever\\': 101, \\'playtime_2weeks\\': 0}, {\\'item_id\\': \\'55140\\', \\'item_name\\': \\'MX vs. ATV Reflex\\', \\'playtime_forever\\': 0, \\'playtime_2weeks\\': 0}, {\\'item_id\\': \\'31280\\', \\'item_name\\': \\'Poker Night at the Inventory\\', \\'playtime_forever\\': 311, \\'playtime_2weeks\\': 0}, {\\'item_id\\': \\'72200\\', \\'item_name\\': \\'Universe Sandbox\\', \\'playtime_forever\\': 163, \\'playtime_2weeks\\': 0}, {\\'item_id\\': \\'40800\\', \\'item_name\\': \\'Super Meat Boy\\', \\'playtime_forever\\': 60, \\'playtime_2weeks\\': 0}, {\\'item_id\\': \\'48950\\', \\'item_name\\': \\'Greed Corp\\', \\'playtime_forever\\': 77, \\'playtime_2weeks\\': 0}, {\\'item_id\\': \\'65070\\', \\'item_name\\': \"Ride \\'em Low\", \\'playtime_forever\\': 0, \\'playtime_2weeks\\': 0}, {\\'item_id\\': \\'4540\\', \\'item_name\\': \\'Titan Quest\\', \\'playtime_forever\\': 0, \\'playtime_2weeks\\': 0}, {\\'item_id\\': \\'475150\\', \\'item_name\\': \\'Titan Quest Anniversary Edition\\', \\'playtime_forever\\': 0, \\'playtime_2weeks\\': 0}, {\\'item_id\\': \\'31700\\', \\'item_name\\': \\'Iron Grip: Warlord\\', \\'playtime_forever\\': 0, \\'playtime_2weeks\\': 0}, {\\'item_id\\': \\'21100\\', \\'item_name\\': \\'F.E.A.R. 3\\', \\'playtime_forever\\': 0, \\'playtime_2weeks\\': 0}, {\\'item_id\\': \\'42910\\', \\'item_name\\': \\'Magicka\\', \\'playtime_forever\\': 205, \\'playtime_2weeks\\': 0}, {\\'item_id\\': \\'92800\\', \\'item_name\\': \\'SpaceChem\\', \\'playtime_forever\\': 55, \\'playtime_2weeks\\': 0}, {\\'item_id\\': \\'48210\\', \\'item_name\\': \\'The Settlers 7: Paths to a Kingdom - Gold Edition\\', \\'playtime_forever\\': 22, \\'playtime_2weeks\\': 0}, {\\'item_id\\': \\'91900\\', \\'item_name\\': \\'Post Apocalyptic Mayhem\\', \\'playtime_forever\\': 74, \\'playtime_2weeks\\': 0}, {\\'item_id\\': \\'70000\\', \\'item_name\\': \\'Dino D-Day\\', \\'playtime_forever\\': 104, \\'playtime_2weeks\\': 0}, {\\'item_id\\': \\'91600\\', \\'item_name\\': \\'Sanctum\\', \\'playtime_forever\\': 43, \\'playtime_2weeks\\': 0}, {\\'item_id\\': \\'41740\\', \\'item_name\\': \\'Cargo! - The quest for gravity\\', \\'playtime_forever\\': 0, \\'playtime_2weeks\\': 0}, {\\'item_id\\': \\'620\\', \\'item_name\\': \\'Portal 2\\', \\'playtime_forever\\': 3464, \\'playtime_2weeks\\': 0}, {\\'item_id\\': \\'104200\\', \\'item_name\\': \\'BEEP\\', \\'playtime_forever\\': 220, \\'playtime_2weeks\\': 0}, {\\'item_id\\': \\'22600\\', \\'item_name\\': \\'Worms Reloaded\\', \\'playtime_forever\\': 0, \\'playtime_2weeks\\': 0}, {\\'item_id\\': \\'22610\\', \\'item_name\\': \\'Alien Breed: Impact\\', \\'playtime_forever\\': 0, \\'playtime_2weeks\\': 0}, {\\'item_id\\': \\'20920\\', \\'item_name\\': \\'The Witcher 2: Assassins of Kings Enhanced Edition\\', \\'playtime_forever\\': 1343, \\'playtime_2weeks\\': 0}, {\\'item_id\\': \\'92100\\', \\'item_name\\': \\'DETOUR\\', \\'playtime_forever\\': 215, \\'playtime_2weeks\\': 0}, {\\'item_id\\': \\'105600\\', \\'item_name\\': \\'Terraria\\', \\'playtime_forever\\': 4694, \\'playtime_2weeks\\': 0}, {\\'item_id\\': \\'104600\\', \\'item_name\\': \\'Portal 2 - The Final Hours\\', \\'playtime_forever\\': 46, \\'playtime_2weeks\\': 0}, {\\'item_id\\': \\'98500\\', \\'item_name\\': \\'Naval Warfare\\', \\'playtime_forever\\': 0, \\'playtime_2weeks\\': 0}, {\\'item_id\\': \\'94200\\', \\'item_name\\': \\'Jamestown\\', \\'playtime_forever\\': 0, \\'playtime_2weeks\\': 0}, {\\'item_id\\': \\'7600\\', \\'item_name\\': \"Sid Meier\\'s Railroads!\", \\'playtime_forever\\': 0, \\'playtime_2weeks\\': 0}, {\\'item_id\\': \\'37100\\', \\'item_name\\': \\'Aztaka\\', \\'playtime_forever\\': 0, \\'playtime_2weeks\\': 0}, {\\'item_id\\': \\'21090\\', \\'item_name\\': \\'F.E.A.R.\\', \\'playtime_forever\\': 0, \\'playtime_2weeks\\': 0}, {\\'item_id\\': \\'21110\\', \\'item_name\\': \\'F.E.A.R.: Extraction Point\\', \\'playtime_forever\\': 0, \\'playtime_2weeks\\': 0}, {\\'item_id\\': \\'21120\\', \\'item_name\\': \\'F.E.A.R.: Perseus Mandate\\', \\'playtime_forever\\': 0, \\'playtime_2weeks\\': 0}, {\\'item_id\\': \\'16450\\', \\'item_name\\': \\'F.E.A.R. 2: Project Origin\\', \\'playtime_forever\\': 0, \\'playtime_2weeks\\': 0}, {\\'item_id\\': \\'97000\\', \\'item_name\\': \\'Solar 2\\', \\'playtime_forever\\': 0, \\'playtime_2weeks\\': 0}, {\\'item_id\\': \\'39530\\', \\'item_name\\': \\'Painkiller: Black Edition\\', \\'playtime_forever\\': 0, \\'playtime_2weeks\\': 0}, {\\'item_id\\': \\'3270\\', \\'item_name\\': \\'Painkiller Overdose\\', \\'playtime_forever\\': 0, \\'playtime_2weeks\\': 0}, {\\'item_id\\': \\'15900\\', \\'item_name\\': \\'7 Wonders II\\', \\'playtime_forever\\': 0, \\'playtime_2weeks\\': 0}, {\\'item_id\\': \\'15910\\', \\'item_name\\': \\'Luxor: Amun Rising\\', \\'playtime_forever\\': 0, \\'playtime_2weeks\\': 0}, {\\'item_id\\': \\'15920\\', \\'item_name\\': \\'Luxor 2\\', \\'playtime_forever\\': 0, \\'playtime_2weeks\\': 0}, {\\'item_id\\': \\'15930\\', \\'item_name\\': \\'Luxor 3\\', \\'playtime_forever\\': 0, \\'playtime_2weeks\\': 0}, {\\'item_id\\': \\'15940\\', \\'item_name\\': \\'The Office\\', \\'playtime_forever\\': 0, \\'playtime_2weeks\\': 0}, {\\'item_id\\': \\'15950\\', \\'item_name\\': \\'Reaxxion\\', \\'playtime_forever\\': 0, \\'playtime_2weeks\\': 0}, {\\'item_id\\': \\'15960\\', \\'item_name\\': \\'Little Farm\\', \\'playtime_forever\\': 251, \\'playtime_2weeks\\': 0}, {\\'item_id\\': \\'15970\\', \\'item_name\\': \\'Luxor\\', \\'playtime_forever\\': 0, \\'playtime_2weeks\\': 0}, {\\'item_id\\': \\'15980\\', \\'item_name\\': \\'Money Tree\\', \\'playtime_forever\\': 0, \\'playtime_2weeks\\': 0}, {\\'item_id\\': \\'16000\\', \\'item_name\\': \\'Discovery! A Seek & Find Adventure\\', \\'playtime_forever\\': 0, \\'playtime_2weeks\\': 0}, {\\'item_id\\': \\'16020\\', \\'item_name\\': \\'Samantha Swift and the Hidden Roses of Athena\\', \\'playtime_forever\\': 0, \\'playtime_2weeks\\': 0}, {\\'item_id\\': \\'16030\\', \\'item_name\\': \\'7 Wonders: The Treasures of Seven\\', \\'playtime_forever\\': 0, \\'playtime_2weeks\\': 0}, {\\'item_id\\': \\'16040\\', \\'item_name\\': \\'Luxor: Quest for the Afterlife\\', \\'playtime_forever\\': 0, \\'playtime_2weeks\\': 0}, {\\'item_id\\': \\'16060\\', \\'item_name\\': \\'Samantha Swift and the Golden Touch\\', \\'playtime_forever\\': 0, \\'playtime_2weeks\\': 0}, {\\'item_id\\': \\'32110\\', \\'item_name\\': \\'Luxor Mahjong\\', \\'playtime_forever\\': 0, \\'playtime_2weeks\\': 0}, {\\'item_id\\': \\'32120\\', \\'item_name\\': \\'Chainz 2: Relinked\\', \\'playtime_forever\\': 0, \\'playtime_2weeks\\': 0}, {\\'item_id\\': \\'32130\\', \\'item_name\\': \"Penguins\\' Journey\", \\'playtime_forever\\': 0, \\'playtime_2weeks\\': 0}, {\\'item_id\\': \\'32140\\', \\'item_name\\': \\'Midnight Mysteries: The Edgar Allan Poe Conspiracy\\', \\'playtime_forever\\': 0, \\'playtime_2weeks\\': 0}, {\\'item_id\\': \\'32160\\', \\'item_name\\': \\'Zombie Bowl-O-Rama\\', \\'playtime_forever\\': 0, \\'playtime_2weeks\\': 0}, {\\'item_id\\': \\'60340\\', \\'item_name\\': \\'LUXOR: 5th Passage \\', \\'playtime_forever\\': 0, \\'playtime_2weeks\\': 0}, {\\'item_id\\': \\'22650\\', \\'item_name\\': \\'Alien Breed 2: Assault\\', \\'playtime_forever\\': 0, \\'playtime_2weeks\\': 0}, {\\'item_id\\': \\'50130\\', \\'item_name\\': \\'Mafia II\\', \\'playtime_forever\\': 0, \\'playtime_2weeks\\': 0}, {\\'item_id\\': \\'98800\\', \\'item_name\\': \\'Dungeons of Dredmor\\', \\'playtime_forever\\': 75, \\'playtime_2weeks\\': 0}, {\\'item_id\\': \\'22230\\', \\'item_name\\': \\'Rock of Ages\\', \\'playtime_forever\\': 75, \\'playtime_2weeks\\': 0}, {\\'item_id\\': \\'34830\\', \\'item_name\\': \\'Sniper: Ghost Warrior\\', \\'playtime_forever\\': 0, \\'playtime_2weeks\\': 0}, {\\'item_id\\': \\'96100\\', \\'item_name\\': \\'Defy Gravity\\', \\'playtime_forever\\': 35, \\'playtime_2weeks\\': 0}, {\\'item_id\\': \\'61100\\', \\'item_name\\': \\'Lucid\\', \\'playtime_forever\\': 0, \\'playtime_2weeks\\': 0}, {\\'item_id\\': \\'32800\\', \\'item_name\\': \\'The Lord of the Rings: War in the North\\', \\'playtime_forever\\': 0, \\'playtime_2weeks\\': 0}, {\\'item_id\\': \\'107100\\', \\'item_name\\': \\'Bastion\\', \\'playtime_forever\\': 84, \\'playtime_2weeks\\': 0}, {\\'item_id\\': \\'65790\\', \\'item_name\\': \\'Arma: Cold War Assault\\', \\'playtime_forever\\': 0, \\'playtime_2weeks\\': 0}, {\\'item_id\\': \\'107200\\', \\'item_name\\': \\'Space Pirates and Zombies\\', \\'playtime_forever\\': 86, \\'playtime_2weeks\\': 0}, {\\'item_id\\': \\'111800\\', \\'item_name\\': \\'Blocks That Matter\\', \\'playtime_forever\\': 95, \\'playtime_2weeks\\': 0}, {\\'item_id\\': \\'28050\\', \\'item_name\\': \\'Deus Ex: Human Revolution\\', \\'playtime_forever\\': 2159, \\'playtime_2weeks\\': 0}, {\\'item_id\\': \\'17710\\', \\'item_name\\': \\'Nuclear Dawn\\', \\'playtime_forever\\': 143, \\'playtime_2weeks\\': 0}, {\\'item_id\\': \\'63000\\', \\'item_name\\': \\'HOARD\\', \\'playtime_forever\\': 0, \\'playtime_2weeks\\': 0}, {\\'item_id\\': \\'102840\\', \\'item_name\\': \\'Shank 2\\', \\'playtime_forever\\': 194, \\'playtime_2weeks\\': 0}, {\\'item_id\\': \\'55230\\', \\'item_name\\': \\'Saints Row: The Third\\', \\'playtime_forever\\': 4326, \\'playtime_2weeks\\': 0}, {\\'item_id\\': \\'3830\\', \\'item_name\\': \\'Psychonauts\\', \\'playtime_forever\\': 93, \\'playtime_2weeks\\': 0}, {\\'item_id\\': \\'115100\\', \\'item_name\\': \\'Costume Quest\\', \\'playtime_forever\\': 101, \\'playtime_2weeks\\': 0}, {\\'item_id\\': \\'80310\\', \\'item_name\\': \\'Gemini Rue\\', \\'playtime_forever\\': 74, \\'playtime_2weeks\\': 0}, {\\'item_id\\': \\'65800\\', \\'item_name\\': \\'Dungeon Defenders\\', \\'playtime_forever\\': 33, \\'playtime_2weeks\\': 0}, {\\'item_id\\': \\'65730\\', \\'item_name\\': \\'Take On Helicopters\\', \\'playtime_forever\\': 0, \\'playtime_2weeks\\': 0}, {\\'item_id\\': \\'201280\\', \\'item_name\\': \\'Deus Ex: Human Revolution - The Missing Link\\', \\'playtime_forever\\': 71, \\'playtime_2weeks\\': 0}, {\\'item_id\\': \\'110800\\', \\'item_name\\': \\'L.A. Noire\\', \\'playtime_forever\\': 0, \\'playtime_2weeks\\': 0}, {\\'item_id\\': \\'71340\\', \\'item_name\\': \\'Sonic Generations\\', \\'playtime_forever\\': 0, \\'playtime_2weeks\\': 0}, {\\'item_id\\': \\'72850\\', \\'item_name\\': \\'The Elder Scrolls V: Skyrim\\', \\'playtime_forever\\': 13831, \\'playtime_2weeks\\': 0}, {\\'item_id\\': \\'48240\\', \\'item_name\\': \\'Anno 2070\\', \\'playtime_forever\\': 723, \\'playtime_2weeks\\': 0}, {\\'item_id\\': \\'41070\\', \\'item_name\\': \\'Serious Sam 3: BFE\\', \\'playtime_forever\\': 112, \\'playtime_2weeks\\': 0}, {\\'item_id\\': \\'61310\\', \\'item_name\\': \\'Fractal: Make Blooms Not War\\', \\'playtime_forever\\': 0, \\'playtime_2weeks\\': 0}, {\\'item_id\\': \\'24480\\', \\'item_name\\': \\'King Arthur II - The Role-playing Wargame\\', \\'playtime_forever\\': 0, \\'playtime_2weeks\\': 0}, {\\'item_id\\': \\'1600\\', \\'item_name\\': \\'Dangerous Waters\\', \\'playtime_forever\\': 0, \\'playtime_2weeks\\': 0}, {\\'item_id\\': \\'205790\\', \\'item_name\\': \\'Dota 2 Test\\', \\'playtime_forever\\': 0, \\'playtime_2weeks\\': 0}, {\\'item_id\\': \\'41900\\', \\'item_name\\': \"The Bard\\'s Tale\", \\'playtime_forever\\': 0, \\'playtime_2weeks\\': 0}, {\\'item_id\\': \\'105450\\', \\'item_name\\': \\'Age of Empires® III: Complete Collection\\', \\'playtime_forever\\': 285, \\'playtime_2weeks\\': 0}, {\\'item_id\\': \\'8650\\', \\'item_name\\': \\'RACE 07: Andy Priaulx Crowne Plaza Raceway\\', \\'playtime_forever\\': 0, \\'playtime_2weeks\\': 0}, {\\'item_id\\': \\'48000\\', \\'item_name\\': \\'LIMBO\\', \\'playtime_forever\\': 0, \\'playtime_2weeks\\': 0}, {\\'item_id\\': \\'115110\\', \\'item_name\\': \\'Stacking\\', \\'playtime_forever\\': 164, \\'playtime_2weeks\\': 0}, {\\'item_id\\': \\'207170\\', \\'item_name\\': \\'Legend of Grimrock\\', \\'playtime_forever\\': 0, \\'playtime_2weeks\\': 0}, {\\'item_id\\': \\'207650\\', \\'item_name\\': \\'A Virus Named TOM\\', \\'playtime_forever\\': 116, \\'playtime_2weeks\\': 0}, {\\'item_id\\': \\'108200\\', \\'item_name\\': \\'Ticket to Ride\\', \\'playtime_forever\\': 0, \\'playtime_2weeks\\': 0}, {\\'item_id\\': \\'102600\\', \\'item_name\\': \\'Orcs Must Die!\\', \\'playtime_forever\\': 0, \\'playtime_2weeks\\': 0}, {\\'item_id\\': \\'208600\\', \\'item_name\\': \\'Lunar Flight\\', \\'playtime_forever\\': 57, \\'playtime_2weeks\\': 0}, {\\'item_id\\': \\'209610\\', \\'item_name\\': \\'Roller Coaster Rampage\\', \\'playtime_forever\\': 0, \\'playtime_2weeks\\': 0}, {\\'item_id\\': \\'15560\\', \\'item_name\\': \\'AaaaaAAaaaAAAaaAAAAaAAAAA!!! for the Awesome\\', \\'playtime_forever\\': 0, \\'playtime_2weeks\\': 0}, {\\'item_id\\': \\'209360\\', \\'item_name\\': \\'AZMD! Scorepocalypse \\', \\'playtime_forever\\': 0, \\'playtime_2weeks\\': 0}, {\\'item_id\\': \\'50510\\', \\'item_name\\': \\'Burn Zombie Burn\\', \\'playtime_forever\\': 0, \\'playtime_2weeks\\': 0}, {\\'item_id\\': \\'207690\\', \\'item_name\\': \\'Botanicula\\', \\'playtime_forever\\': 0, \\'playtime_2weeks\\': 0}, {\\'item_id\\': \\'210150\\', \\'item_name\\': \\'Pole Position 2012\\', \\'playtime_forever\\': 0, \\'playtime_2weeks\\': 0}, {\\'item_id\\': \\'207610\\', \\'item_name\\': \\'The Walking Dead\\', \\'playtime_forever\\': 793, \\'playtime_2weeks\\': 0}, {\\'item_id\\': \\'205610\\', \\'item_name\\': \\'Port Royale 3\\', \\'playtime_forever\\': 102, \\'playtime_2weeks\\': 0}, {\\'item_id\\': \\'205350\\', \\'item_name\\': \\'Mortal Kombat Kollection\\', \\'playtime_forever\\': 0, \\'playtime_2weeks\\': 0}, {\\'item_id\\': \\'104900\\', \\'item_name\\': \\'ORION: Prelude\\', \\'playtime_forever\\': 120, \\'playtime_2weeks\\': 0}, {\\'item_id\\': \\'205530\\', \\'item_name\\': \\'Gratuitous Tank Battles\\', \\'playtime_forever\\': 0, \\'playtime_2weeks\\': 0}, {\\'item_id\\': \\'3990\\', \\'item_name\\': \"Sid Meier\\'s Civilization IV: Warlords\", \\'playtime_forever\\': 0, \\'playtime_2weeks\\': 0}, {\\'item_id\\': \\'8800\\', \\'item_name\\': \"Sid Meier\\'s Civilization IV: Beyond the Sword\", \\'playtime_forever\\': 0, \\'playtime_2weeks\\': 0}, {\\'item_id\\': \\'16810\\', \\'item_name\\': \"Sid Meier\\'s Civilization IV: Colonization\", \\'playtime_forever\\': 0, \\'playtime_2weeks\\': 0}, {\\'item_id\\': \\'34450\\', \\'item_name\\': \"Sid Meier\\'s Civilization IV: Warlords\", \\'playtime_forever\\': 0, \\'playtime_2weeks\\': 0}, {\\'item_id\\': \\'34460\\', \\'item_name\\': \"Sid Meier\\'s Civilization IV: Beyond the Sword\", \\'playtime_forever\\': 0, \\'playtime_2weeks\\': 0}, {\\'item_id\\': \\'211360\\', \\'item_name\\': \\'Offspring Fling!\\', \\'playtime_forever\\': 136, \\'playtime_2weeks\\': 0}, {\\'item_id\\': \\'200260\\', \\'item_name\\': \\'Batman: Arkham City GOTY\\', \\'playtime_forever\\': 1066, \\'playtime_2weeks\\': 0}, {\\'item_id\\': \\'98400\\', \\'item_name\\': \\'Hard Reset\\', \\'playtime_forever\\': 0, \\'playtime_2weeks\\': 0}, {\\'item_id\\': \\'204180\\', \\'item_name\\': \\'Waveform\\', \\'playtime_forever\\': 220, \\'playtime_2weeks\\': 0}, {\\'item_id\\': \\'108800\\', \\'item_name\\': \\'Crysis 2 Maximum Edition\\', \\'playtime_forever\\': 36, \\'playtime_2weeks\\': 0}, {\\'item_id\\': \\'207730\\', \\'item_name\\': \\'Arena Wars 2\\', \\'playtime_forever\\': 0, \\'playtime_2weeks\\': 0}, {\\'item_id\\': \\'204100\\', \\'item_name\\': \\'Max Payne 3\\', \\'playtime_forever\\': 140, \\'playtime_2weeks\\': 0}, {\\'item_id\\': \\'207080\\', \\'item_name\\': \\'Indie Game: The Movie\\', \\'playtime_forever\\': 281, \\'playtime_2weeks\\': 0}, {\\'item_id\\': \\'209790\\', \\'item_name\\': \\'Splice\\', \\'playtime_forever\\': 0, \\'playtime_2weeks\\': 0}, {\\'item_id\\': \\'213330\\', \\'item_name\\': \\'LEGO Batman 2\\', \\'playtime_forever\\': 0, \\'playtime_2weeks\\': 0}, {\\'item_id\\': \\'211120\\', \\'item_name\\': \\'The Political Machine\\', \\'playtime_forever\\': 4, \\'playtime_2weeks\\': 0}, {\\'item_id\\': \\'212010\\', \\'item_name\\': \\'Galaxy on Fire 2™ Full HD\\', \\'playtime_forever\\': 0, \\'playtime_2weeks\\': 0}, {\\'item_id\\': \\'214360\\', \\'item_name\\': \\'Tower Wars\\', \\'playtime_forever\\': 99, \\'playtime_2weeks\\': 0}, {\\'item_id\\': \\'234740\\', \\'item_name\\': \\'Tower Wars Editor\\', \\'playtime_forever\\': 0, \\'playtime_2weeks\\': 0}, {\\'item_id\\': \\'201790\\', \\'item_name\\': \\'Orcs Must Die! 2\\', \\'playtime_forever\\': 406, \\'playtime_2weeks\\': 0}, {\\'item_id\\': \\'35140\\', \\'item_name\\': \\'Batman: Arkham Asylum GOTY Edition\\', \\'playtime_forever\\': 727, \\'playtime_2weeks\\': 0}, {\\'item_id\\': \\'113200\\', \\'item_name\\': \\'The Binding of Isaac\\', \\'playtime_forever\\': 121, \\'playtime_2weeks\\': 0}, {\\'item_id\\': \\'204300\\', \\'item_name\\': \\'Awesomenauts\\', \\'playtime_forever\\': 499, \\'playtime_2weeks\\': 0}, {\\'item_id\\': \\'108700\\', \\'item_name\\': \\'Death Rally\\', \\'playtime_forever\\': 10, \\'playtime_2weeks\\': 0}, {\\'item_id\\': \\'204220\\', \\'item_name\\': \\'Snapshot\\', \\'playtime_forever\\': 0, \\'playtime_2weeks\\': 0}, {\\'item_id\\': \\'202170\\', \\'item_name\\': \\'Sleeping Dogs™\\', \\'playtime_forever\\': 1195, \\'playtime_2weeks\\': 0}, {\\'item_id\\': \\'49520\\', \\'item_name\\': \\'Borderlands 2\\', \\'playtime_forever\\': 266, \\'playtime_2weeks\\': 0}, {\\'item_id\\': \\'33600\\', \\'item_name\\': \\'Broken Sword 2 - the Smoking Mirror: Remastered\\', \\'playtime_forever\\': 0, \\'playtime_2weeks\\': 0}, {\\'item_id\\': \\'214790\\', \\'item_name\\': \\'The Basement Collection\\', \\'playtime_forever\\': 0, \\'playtime_2weeks\\': 0}, {\\'item_id\\': \\'72000\\', \\'item_name\\': \\'Closure\\', \\'playtime_forever\\': 63, \\'playtime_2weeks\\': 0}, {\\'item_id\\': \\'215510\\', \\'item_name\\': \\'Rocketbirds: Hardboiled Chicken\\', \\'playtime_forever\\': 0, \\'playtime_2weeks\\': 0}, {\\'item_id\\': \\'200510\\', \\'item_name\\': \\'XCOM: Enemy Unknown\\', \\'playtime_forever\\': 192, \\'playtime_2weeks\\': 0}, {\\'item_id\\': \\'218640\\', \\'item_name\\': \\'Lucius\\', \\'playtime_forever\\': 122, \\'playtime_2weeks\\': 0}, {\\'item_id\\': \\'209540\\', \\'item_name\\': \\'Strike Suit Zero\\', \\'playtime_forever\\': 58, \\'playtime_2weeks\\': 0}, {\\'item_id\\': \\'212680\\', \\'item_name\\': \\'FTL: Faster Than Light\\', \\'playtime_forever\\': 748, \\'playtime_2weeks\\': 0}, {\\'item_id\\': \\'214560\\', \\'item_name\\': \\'Mark of the Ninja\\', \\'playtime_forever\\': 268, \\'playtime_2weeks\\': 0}, {\\'item_id\\': \\'206440\\', \\'item_name\\': \\'To the Moon\\', \\'playtime_forever\\': 61, \\'playtime_2weeks\\': 0}, {\\'item_id\\': \\'220780\\', \\'item_name\\': \\'Thomas Was Alone\\', \\'playtime_forever\\': 0, \\'playtime_2weeks\\': 0}, {\\'item_id\\': \\'204360\\', \\'item_name\\': \\'Castle Crashers\\', \\'playtime_forever\\': 114, \\'playtime_2weeks\\': 0}, {\\'item_id\\': \\'221260\\', \\'item_name\\': \\'Little Inferno\\', \\'playtime_forever\\': 0, \\'playtime_2weeks\\': 0}, {\\'item_id\\': \\'215790\\', \\'item_name\\': \\'Dream Pinball 3D\\', \\'playtime_forever\\': 0, \\'playtime_2weeks\\': 0}, {\\'item_id\\': \\'200710\\', \\'item_name\\': \\'Torchlight II\\', \\'playtime_forever\\': 106, \\'playtime_2weeks\\': 0}, {\\'item_id\\': \\'219910\\', \\'item_name\\': \"Edna & Harvey: Harvey\\'s New Eyes\", \\'playtime_forever\\': 103, \\'playtime_2weeks\\': 0}, {\\'item_id\\': \\'220860\\', \\'item_name\\': \\'McPixel\\', \\'playtime_forever\\': 219, \\'playtime_2weeks\\': 0}, {\\'item_id\\': \\'65740\\', \\'item_name\\': \\'Carrier Command: Gaea Mission\\', \\'playtime_forever\\': 0, \\'playtime_2weeks\\': 0}, {\\'item_id\\': \\'4700\\', \\'item_name\\': \\'Medieval II: Total War\\', \\'playtime_forever\\': 100, \\'playtime_2weeks\\': 0}, {\\'item_id\\': \\'10500\\', \\'item_name\\': \\'Empire: Total War\\', \\'playtime_forever\\': 55, \\'playtime_2weeks\\': 0}, {\\'item_id\\': \\'34030\\', \\'item_name\\': \\'Napoleon: Total War\\', \\'playtime_forever\\': 60, \\'playtime_2weeks\\': 0}, {\\'item_id\\': \\'34330\\', \\'item_name\\': \\'Total War: SHOGUN 2\\', \\'playtime_forever\\': 178, \\'playtime_2weeks\\': 0}, {\\'item_id\\': \\'211160\\', \\'item_name\\': \\'Viking: Battle for Asgard\\', \\'playtime_forever\\': 1, \\'playtime_2weeks\\': 0}, {\\'item_id\\': \\'217060\\', \\'item_name\\': \\'Total War Battles: SHOGUN\\', \\'playtime_forever\\': 0, \\'playtime_2weeks\\': 0}, {\\'item_id\\': \\'43100\\', \\'item_name\\': \\'World of Zoo\\', \\'playtime_forever\\': 0, \\'playtime_2weeks\\': 0}, {\\'item_id\\': \\'219150\\', \\'item_name\\': \\'Hotline Miami\\', \\'playtime_forever\\': 218, \\'playtime_2weeks\\': 0}, {\\'item_id\\': \\'205100\\', \\'item_name\\': \\'Dishonored\\', \\'playtime_forever\\': 696, \\'playtime_2weeks\\': 0}, {\\'item_id\\': \\'217790\\', \\'item_name\\': \\'Dogfight 1942\\', \\'playtime_forever\\': 0, \\'playtime_2weeks\\': 0}, {\\'item_id\\': \\'218680\\', \\'item_name\\': \\'Scribblenauts Unlimited\\', \\'playtime_forever\\': 195, \\'playtime_2weeks\\': 0}, {\\'item_id\\': \\'223220\\', \\'item_name\\': \\'Giana Sisters: Twisted Dreams\\', \\'playtime_forever\\': 105, \\'playtime_2weeks\\': 0}, {\\'item_id\\': \\'4920\\', \\'item_name\\': \\'Natural Selection 2\\', \\'playtime_forever\\': 103, \\'playtime_2weeks\\': 0}, {\\'item_id\\': \\'33670\\', \\'item_name\\': \\'Disciples III: Renaissance\\', \\'playtime_forever\\': 0, \\'playtime_2weeks\\': 0}, {\\'item_id\\': \\'218740\\', \\'item_name\\': \\'Pid \\', \\'playtime_forever\\': 0, \\'playtime_2weeks\\': 0}, {\\'item_id\\': \\'219950\\', \\'item_name\\': \\'NiGHTS into Dreams...\\', \\'playtime_forever\\': 0, \\'playtime_2weeks\\': 0}, {\\'item_id\\': \\'38600\\', \\'item_name\\': \\'Faerie Solitaire\\', \\'playtime_forever\\': 194, \\'playtime_2weeks\\': 0}, {\\'item_id\\': \\'224900\\', \\'item_name\\': \\'Iron Sky Invasion\\', \\'playtime_forever\\': 0, \\'playtime_2weeks\\': 0}, {\\'item_id\\': \\'223470\\', \\'item_name\\': \\'POSTAL 2\\', \\'playtime_forever\\': 114, \\'playtime_2weeks\\': 0}, {\\'item_id\\': \\'220240\\', \\'item_name\\': \\'Far Cry® 3\\', \\'playtime_forever\\': 1643, \\'playtime_2weeks\\': 0}, {\\'item_id\\': \\'223630\\', \\'item_name\\': \\'AirBuccaneers\\', \\'playtime_forever\\': 88, \\'playtime_2weeks\\': 0}, {\\'item_id\\': \\'203140\\', \\'item_name\\': \\'Hitman: Absolution\\', \\'playtime_forever\\': 227, \\'playtime_2weeks\\': 0}, {\\'item_id\\': \\'205930\\', \\'item_name\\': \\'Hitman: Sniper Challenge\\', \\'playtime_forever\\': 0, \\'playtime_2weeks\\': 0}, {\\'item_id\\': \\'4560\\', \\'item_name\\': \\'Company of Heroes\\', \\'playtime_forever\\': 26, \\'playtime_2weeks\\': 0}, {\\'item_id\\': \\'9340\\', \\'item_name\\': \\'Company of Heroes: Opposing Fronts\\', \\'playtime_forever\\': 0, \\'playtime_2weeks\\': 0}, {\\'item_id\\': \\'20540\\', \\'item_name\\': \\'Company of Heroes: Tales of Valor\\', \\'playtime_forever\\': 0, \\'playtime_2weeks\\': 0}, {\\'item_id\\': \\'43110\\', \\'item_name\\': \\'Metro 2033\\', \\'playtime_forever\\': 0, \\'playtime_2weeks\\': 0}, {\\'item_id\\': \\'50620\\', \\'item_name\\': \\'Darksiders\\', \\'playtime_forever\\': 0, \\'playtime_2weeks\\': 0}, {\\'item_id\\': \\'55110\\', \\'item_name\\': \\'Red Faction: Armageddon\\', \\'playtime_forever\\': 0, \\'playtime_2weeks\\': 0}, {\\'item_id\\': \\'228200\\', \\'item_name\\': \\'Company of Heroes (New Steam Version)\\', \\'playtime_forever\\': 0, \\'playtime_2weeks\\': 0}, {\\'item_id\\': \\'17460\\', \\'item_name\\': \\'Mass Effect\\', \\'playtime_forever\\': 299, \\'playtime_2weeks\\': 0}, {\\'item_id\\': \\'209190\\', \\'item_name\\': \\'Stealth Bastard Deluxe\\', \\'playtime_forever\\': 124, \\'playtime_2weeks\\': 0}, {\\'item_id\\': \\'226120\\', \\'item_name\\': \\'Weird Worlds: Return to Infinite Space\\', \\'playtime_forever\\': 0, \\'playtime_2weeks\\': 0}, {\\'item_id\\': \\'221640\\', \\'item_name\\': \\'Super Hexagon\\', \\'playtime_forever\\': 21, \\'playtime_2weeks\\': 0}, {\\'item_id\\': \\'34870\\', \\'item_name\\': \\'Sniper Ghost Warrior 2\\', \\'playtime_forever\\': 0, \\'playtime_2weeks\\': 0}, {\\'item_id\\': \\'224420\\', \\'item_name\\': \\'Afterfall InSanity Extended Edition\\', \\'playtime_forever\\': 126, \\'playtime_2weeks\\': 0}, {\\'item_id\\': \\'105000\\', \\'item_name\\': \\'A New Beginning - Final Cut\\', \\'playtime_forever\\': 0, \\'playtime_2weeks\\': 0}, {\\'item_id\\': \\'221300\\', \\'item_name\\': \\'Monopoly\\', \\'playtime_forever\\': 70, \\'playtime_2weeks\\': 0}, {\\'item_id\\': \\'209950\\', \\'item_name\\': \\'Triple Town\\', \\'playtime_forever\\': 239, \\'playtime_2weeks\\': 0}, {\\'item_id\\': \\'4570\\', \\'item_name\\': \\'Warhammer 40,000: Dawn of War - Game of the Year Edition\\', \\'playtime_forever\\': 256, \\'playtime_2weeks\\': 0}, {\\'item_id\\': \\'71230\\', \\'item_name\\': \\'Crazy Taxi\\', \\'playtime_forever\\': 14, \\'playtime_2weeks\\': 0}, {\\'item_id\\': \\'71240\\', \\'item_name\\': \\'SEGA Bass Fishing\\', \\'playtime_forever\\': 0, \\'playtime_2weeks\\': 0}, {\\'item_id\\': \\'71250\\', \\'item_name\\': \\'Sonic Adventure DX\\', \\'playtime_forever\\': 0, \\'playtime_2weeks\\': 0}, {\\'item_id\\': \\'71260\\', \\'item_name\\': \\'Space Channel 5: Part 2\\', \\'playtime_forever\\': 0, \\'playtime_2weeks\\': 0}, {\\'item_id\\': \\'222980\\', \\'item_name\\': \\'Dead Pixels\\', \\'playtime_forever\\': 0, \\'playtime_2weeks\\': 0}, {\\'item_id\\': \\'200900\\', \\'item_name\\': \\'Cave Story+\\', \\'playtime_forever\\': 0, \\'playtime_2weeks\\': 0}, {\\'item_id\\': \\'35720\\', \\'item_name\\': \\'Trine 2\\', \\'playtime_forever\\': 100, \\'playtime_2weeks\\': 0}, {\\'item_id\\': \\'209270\\', \\'item_name\\': \\'Hero Academy\\', \\'playtime_forever\\': 15, \\'playtime_2weeks\\': 0}, {\\'item_id\\': \\'224700\\', \\'item_name\\': \\'The Game of Life\\', \\'playtime_forever\\': 20, \\'playtime_2weeks\\': 0}, {\\'item_id\\': \\'227300\\', \\'item_name\\': \\'Euro Truck Simulator 2\\', \\'playtime_forever\\': 551, \\'playtime_2weeks\\': 0}, {\\'item_id\\': \\'204080\\', \\'item_name\\': \\'The Showdown Effect\\', \\'playtime_forever\\': 152, \\'playtime_2weeks\\': 0}, {\\'item_id\\': \\'219890\\', \\'item_name\\': \\'Antichamber\\', \\'playtime_forever\\': 80, \\'playtime_2weeks\\': 0}, {\\'item_id\\': \\'223850\\', \\'item_name\\': \\'3DMark\\', \\'playtime_forever\\': 26, \\'playtime_2weeks\\': 0}, {\\'item_id\\': \\'286080\\', \\'item_name\\': \\'Thinking with Time Machine\\', \\'playtime_forever\\': 68, \\'playtime_2weeks\\': 0}, {\\'item_id\\': \\'224580\\', \\'item_name\\': \\'Arma 2: DayZ Mod\\', \\'playtime_forever\\': 0, \\'playtime_2weeks\\': 0}, {\\'item_id\\': \\'225260\\', \\'item_name\\': \\'Brütal Legend\\', \\'playtime_forever\\': 436, \\'playtime_2weeks\\': 0}, {\\'item_id\\': \\'218060\\', \\'item_name\\': \\'BIT.TRIP Presents... Runner2: Future Legend of Rhythm Alien\\', \\'playtime_forever\\': 185, \\'playtime_2weeks\\': 0}, {\\'item_id\\': \\'217920\\', \\'item_name\\': \\'Alien Rage - Unlimited\\', \\'playtime_forever\\': 0, \\'playtime_2weeks\\': 0}, {\\'item_id\\': \\'227260\\', \\'item_name\\': \\'DisplayFusion\\', \\'playtime_forever\\': 28, \\'playtime_2weeks\\': 0}, {\\'item_id\\': \\'203160\\', \\'item_name\\': \\'Tomb Raider\\', \\'playtime_forever\\': 1142, \\'playtime_2weeks\\': 0}, {\\'item_id\\': \\'232950\\', \\'item_name\\': \\'Bridge Project\\', \\'playtime_forever\\': 0, \\'playtime_2weeks\\': 0}, {\\'item_id\\': \\'230150\\', \\'item_name\\': \\'Incredipede\\', \\'playtime_forever\\': 0, \\'playtime_2weeks\\': 0}, {\\'item_id\\': \\'225420\\', \\'item_name\\': \\'Cities in Motion 2\\', \\'playtime_forever\\': 84, \\'playtime_2weeks\\': 0}, {\\'item_id\\': \\'234490\\', \\'item_name\\': \\'Rush Bros\\', \\'playtime_forever\\': 157, \\'playtime_2weeks\\': 0}, {\\'item_id\\': \\'227080\\', \\'item_name\\': \\'Papo & Yo\\', \\'playtime_forever\\': 0, \\'playtime_2weeks\\': 0}, {\\'item_id\\': \\'233740\\', \\'item_name\\': \"Organ Trail: Director\\'s Cut\", \\'playtime_forever\\': 169, \\'playtime_2weeks\\': 0}, {\\'item_id\\': \\'233450\\', \\'item_name\\': \\'Prison Architect\\', \\'playtime_forever\\': 679, \\'playtime_2weeks\\': 0}, {\\'item_id\\': \\'235360\\', \\'item_name\\': \\'Prime World: Defenders\\', \\'playtime_forever\\': 142, \\'playtime_2weeks\\': 0}, {\\'item_id\\': \\'234900\\', \\'item_name\\': \\'Anodyne\\', \\'playtime_forever\\': 160, \\'playtime_2weeks\\': 0}, {\\'item_id\\': \\'233720\\', \\'item_name\\': \\'Surgeon Simulator\\', \\'playtime_forever\\': 137, \\'playtime_2weeks\\': 0}, {\\'item_id\\': \\'234710\\', \\'item_name\\': \\'Poker Night 2\\', \\'playtime_forever\\': 450, \\'playtime_2weeks\\': 0}, {\\'item_id\\': \\'220900\\', \\'item_name\\': \\'Jack Lumber\\', \\'playtime_forever\\': 47, \\'playtime_2weeks\\': 0}, {\\'item_id\\': \\'210770\\', \\'item_name\\': \\'Sanctum 2\\', \\'playtime_forever\\': 121, \\'playtime_2weeks\\': 0}, {\\'item_id\\': \\'113020\\', \\'item_name\\': \\'Monaco\\', \\'playtime_forever\\': 116, \\'playtime_2weeks\\': 0}, {\\'item_id\\': \\'22300\\', \\'item_name\\': \\'Fallout 3\\', \\'playtime_forever\\': 0, \\'playtime_2weeks\\': 0}, {\\'item_id\\': \\'235250\\', \\'item_name\\': \\'Super Sanctum TD\\', \\'playtime_forever\\': 63, \\'playtime_2weeks\\': 0}, {\\'item_id\\': \\'219740\\', \\'item_name\\': \"Don\\'t Starve\", \\'playtime_forever\\': 75, \\'playtime_2weeks\\': 0}, {\\'item_id\\': \\'322330\\', \\'item_name\\': \"Don\\'t Starve Together\", \\'playtime_forever\\': 420, \\'playtime_2weeks\\': 0}, {\\'item_id\\': \\'224760\\', \\'item_name\\': \\'FEZ\\', \\'playtime_forever\\': 0, \\'playtime_2weeks\\': 0}, {\\'item_id\\': \\'234650\\', \\'item_name\\': \\'Shadowrun Returns\\', \\'playtime_forever\\': 224, \\'playtime_2weeks\\': 0}, {\\'item_id\\': \\'204450\\', \\'item_name\\': \\'Call of Juarez Gunslinger\\', \\'playtime_forever\\': 369, \\'playtime_2weeks\\': 0}, {\\'item_id\\': \\'236730\\', \\'item_name\\': \\'Anomaly 2\\', \\'playtime_forever\\': 53, \\'playtime_2weeks\\': 0}, {\\'item_id\\': \\'233270\\', \\'item_name\\': \\'Far Cry® 3 Blood Dragon\\', \\'playtime_forever\\': 75, \\'playtime_2weeks\\': 0}, {\\'item_id\\': \\'215690\\', \\'item_name\\': \\'Zeno Clash 2\\', \\'playtime_forever\\': 102, \\'playtime_2weeks\\': 0}, {\\'item_id\\': \\'222730\\', \\'item_name\\': \\'Reus\\', \\'playtime_forever\\': 78, \\'playtime_2weeks\\': 0}, {\\'item_id\\': \\'57640\\', \\'item_name\\': \"Broken Sword 1 - Shadow of the Templars: Director\\'s Cut\", \\'playtime_forever\\': 0, \\'playtime_2weeks\\': 0}, {\\'item_id\\': \\'236090\\', \\'item_name\\': \\'Dust: An Elysian Tail\\', \\'playtime_forever\\': 73, \\'playtime_2weeks\\': 0}, {\\'item_id\\': \\'18490\\', \\'item_name\\': \\'The Whispered World\\', \\'playtime_forever\\': 0, \\'playtime_2weeks\\': 0}, {\\'item_id\\': \\'268540\\', \\'item_name\\': \\'The Whispered World Special Edition\\', \\'playtime_forever\\': 96, \\'playtime_2weeks\\': 0}, {\\'item_id\\': \\'231160\\', \\'item_name\\': \\'The Swapper\\', \\'playtime_forever\\': 59, \\'playtime_2weeks\\': 0}, {\\'item_id\\': \\'231740\\', \\'item_name\\': \\'Knights of Pen and Paper +1\\', \\'playtime_forever\\': 82, \\'playtime_2weeks\\': 0}, {\\'item_id\\': \\'41800\\', \\'item_name\\': \\'Gratuitous Space Battles\\', \\'playtime_forever\\': 135, \\'playtime_2weeks\\': 0}, {\\'item_id\\': \\'242760\\', \\'item_name\\': \\'The Forest\\', \\'playtime_forever\\': 118, \\'playtime_2weeks\\': 0}, {\\'item_id\\': \\'242800\\', \\'item_name\\': \"Day One: Garry\\'s Incident\", \\'playtime_forever\\': 55, \\'playtime_2weeks\\': 0}, {\\'item_id\\': \\'242920\\', \\'item_name\\': \\'Banished\\', \\'playtime_forever\\': 20, \\'playtime_2weeks\\': 0}, {\\'item_id\\': \\'243120\\', \\'item_name\\': \\'Betrayer\\', \\'playtime_forever\\': 109, \\'playtime_2weeks\\': 0}, {\\'item_id\\': \\'228960\\', \\'item_name\\': \\'Skulls of the Shogun\\', \\'playtime_forever\\': 229, \\'playtime_2weeks\\': 0}, {\\'item_id\\': \\'242110\\', \\'item_name\\': \\'Joe Danger 2: The Movie\\', \\'playtime_forever\\': 83, \\'playtime_2weeks\\': 0}, {\\'item_id\\': \\'238050\\', \\'item_name\\': \\'The Apogee Throwback Pack\\', \\'playtime_forever\\': 0, \\'playtime_2weeks\\': 0}, {\\'item_id\\': \\'95000\\', \\'item_name\\': \\'Super Splatters\\', \\'playtime_forever\\': 180, \\'playtime_2weeks\\': 0}, {\\'item_id\\': \\'201420\\', \\'item_name\\': \\'Toki Tori 2+\\', \\'playtime_forever\\': 65, \\'playtime_2weeks\\': 0}, {\\'item_id\\': \\'237530\\', \\'item_name\\': \\'Toki Tori 2+ Level Editor\\', \\'playtime_forever\\': 0, \\'playtime_2weeks\\': 0}, {\\'item_id\\': \\'33910\\', \\'item_name\\': \\'Arma 2\\', \\'playtime_forever\\': 0, \\'playtime_2weeks\\': 0}, {\\'item_id\\': \\'244770\\', \\'item_name\\': \\'StarMade\\', \\'playtime_forever\\': 15, \\'playtime_2weeks\\': 0}, {\\'item_id\\': \\'244850\\', \\'item_name\\': \\'Space Engineers\\', \\'playtime_forever\\': 218, \\'playtime_2weeks\\': 0}, {\\'item_id\\': \\'244890\\', \\'item_name\\': \\'Velocity®Ultra\\', \\'playtime_forever\\': 219, \\'playtime_2weeks\\': 0}, {\\'item_id\\': \\'9480\\', \\'item_name\\': \\'Saints Row 2\\', \\'playtime_forever\\': 30, \\'playtime_2weeks\\': 0}, {\\'item_id\\': \\'40390\\', \\'item_name\\': \\'Risen 2 - Dark Waters\\', \\'playtime_forever\\': 178, \\'playtime_2weeks\\': 0}, {\\'item_id\\': \\'225640\\', \\'item_name\\': \\'Sacred 2 Gold\\', \\'playtime_forever\\': 0, \\'playtime_2weeks\\': 0}, {\\'item_id\\': \\'91310\\', \\'item_name\\': \\'Dead Island\\', \\'playtime_forever\\': 179, \\'playtime_2weeks\\': 0}, {\\'item_id\\': \\'246420\\', \\'item_name\\': \\'Kingdom Rush\\', \\'playtime_forever\\': 110, \\'playtime_2weeks\\': 0}, {\\'item_id\\': \\'40300\\', \\'item_name\\': \\'Risen\\', \\'playtime_forever\\': 140, \\'playtime_2weeks\\': 0}, {\\'item_id\\': \\'207930\\', \\'item_name\\': \\'Sacred Citadel\\', \\'playtime_forever\\': 0, \\'playtime_2weeks\\': 0}, {\\'item_id\\': \\'234390\\', \\'item_name\\': \\'Teleglitch: Die More Edition\\', \\'playtime_forever\\': 55, \\'playtime_2weeks\\': 0}, {\\'item_id\\': \\'246680\\', \\'item_name\\': \\'Secrets of Rætikon\\', \\'playtime_forever\\': 0, \\'playtime_2weeks\\': 0}, {\\'item_id\\': \\'246900\\', \\'item_name\\': \\'Viscera Cleanup Detail\\', \\'playtime_forever\\': 272, \\'playtime_2weeks\\': 0}, {\\'item_id\\': \\'255520\\', \\'item_name\\': \\'Viscera Cleanup Detail: Shadow Warrior\\', \\'playtime_forever\\': 0, \\'playtime_2weeks\\': 0}, {\\'item_id\\': \\'265210\\', \\'item_name\\': \"Viscera Cleanup Detail: Santa\\'s Rampage\", \\'playtime_forever\\': 0, \\'playtime_2weeks\\': 0}, {\\'item_id\\': \\'247020\\', \\'item_name\\': \\'Cook, Serve, Delicious!\\', \\'playtime_forever\\': 90, \\'playtime_2weeks\\': 0}, {\\'item_id\\': \\'214770\\', \\'item_name\\': \\'Guacamelee! Gold Edition\\', \\'playtime_forever\\': 101, \\'playtime_2weeks\\': 0}, {\\'item_id\\': \\'241620\\', \\'item_name\\': \\'Inquisitor\\', \\'playtime_forever\\': 216, \\'playtime_2weeks\\': 0}, {\\'item_id\\': \\'225080\\', \\'item_name\\': \\'Brothers - A Tale of Two Sons\\', \\'playtime_forever\\': 0, \\'playtime_2weeks\\': 0}, {\\'item_id\\': \\'244070\\', \\'item_name\\': \"Sid Meier\\'s Ace Patrol\", \\'playtime_forever\\': 106, \\'playtime_2weeks\\': 0}, {\\'item_id\\': \\'239030\\', \\'item_name\\': \\'Papers, Please\\', \\'playtime_forever\\': 349, \\'playtime_2weeks\\': 0}, {\\'item_id\\': \\'243780\\', \\'item_name\\': \\'PixelJunk™ Monsters Ultimate\\', \\'playtime_forever\\': 288, \\'playtime_2weeks\\': 0}, {\\'item_id\\': \\'244590\\', \\'item_name\\': \\'Epigenesis\\', \\'playtime_forever\\': 75, \\'playtime_2weeks\\': 0}, {\\'item_id\\': \\'248370\\', \\'item_name\\': \\'Bridge It (plus)\\', \\'playtime_forever\\': 0, \\'playtime_2weeks\\': 0}, {\\'item_id\\': \\'248470\\', \\'item_name\\': \\'Doorways: Prelude\\', \\'playtime_forever\\': 157, \\'playtime_2weeks\\': 0}, {\\'item_id\\': \\'248490\\', \\'item_name\\': \\'1953 - KGB Unleashed\\', \\'playtime_forever\\': 0, \\'playtime_2weeks\\': 0}, {\\'item_id\\': \\'248710\\', \\'item_name\\': \\'Iesabel\\', \\'playtime_forever\\': 0, \\'playtime_2weeks\\': 0}, {\\'item_id\\': \\'248820\\', \\'item_name\\': \\'Risk of Rain\\', \\'playtime_forever\\': 235, \\'playtime_2weeks\\': 0}, {\\'item_id\\': \\'218620\\', \\'item_name\\': \\'PAYDAY 2\\', \\'playtime_forever\\': 139, \\'playtime_2weeks\\': 0}, {\\'item_id\\': \\'206420\\', \\'item_name\\': \\'Saints Row IV\\', \\'playtime_forever\\': 1943, \\'playtime_2weeks\\': 0}, {\\'item_id\\': \\'47790\\', \\'item_name\\': \\'Medal of Honor(TM) Single Player\\', \\'playtime_forever\\': 0, \\'playtime_2weeks\\': 0}, {\\'item_id\\': \\'47830\\', \\'item_name\\': \\'Medal of Honor(TM) Multiplayer\\', \\'playtime_forever\\': 0, \\'playtime_2weeks\\': 0}, {\\'item_id\\': \\'209000\\', \\'item_name\\': \\'Batman™: Arkham Origins\\', \\'playtime_forever\\': 1412, \\'playtime_2weeks\\': 0}, {\\'item_id\\': \\'239820\\', \\'item_name\\': \\'Game Dev Tycoon\\', \\'playtime_forever\\': 117, \\'playtime_2weeks\\': 0}, {\\'item_id\\': \\'250260\\', \\'item_name\\': \\'Jazzpunk\\', \\'playtime_forever\\': 212, \\'playtime_2weeks\\': 0}, {\\'item_id\\': \\'250320\\', \\'item_name\\': \\'The Wolf Among Us\\', \\'playtime_forever\\': 766, \\'playtime_2weeks\\': 0}, {\\'item_id\\': \\'250460\\', \\'item_name\\': \\'Bridge Constructor\\', \\'playtime_forever\\': 0, \\'playtime_2weeks\\': 0}, {\\'item_id\\': \\'250580\\', \\'item_name\\': \\'Paranautical Activity: Deluxe Atonement Edition\\', \\'playtime_forever\\': 75, \\'playtime_2weeks\\': 0}, {\\'item_id\\': \\'214550\\', \\'item_name\\': \\'Eets Munchies\\', \\'playtime_forever\\': 81, \\'playtime_2weeks\\': 0}, {\\'item_id\\': \\'111900\\', \\'item_name\\': \\'Guardians of Middle-earth\\', \\'playtime_forever\\': 47, \\'playtime_2weeks\\': 0}, {\\'item_id\\': \\'251530\\', \\'item_name\\': \\'Anomaly Korea\\', \\'playtime_forever\\': 61, \\'playtime_2weeks\\': 0}, {\\'item_id\\': \\'251610\\', \\'item_name\\': \\'Barbie™ Dreamhouse Party™\\', \\'playtime_forever\\': 84, \\'playtime_2weeks\\': 0}, {\\'item_id\\': \\'252010\\', \\'item_name\\': \\'Oniken\\', \\'playtime_forever\\': 359, \\'playtime_2weeks\\': 0}, {\\'item_id\\': \\'252170\\', \\'item_name\\': \\'Anomaly Warzone Earth Mobile Campaign\\', \\'playtime_forever\\': 213, \\'playtime_2weeks\\': 0}, {\\'item_id\\': \\'252310\\', \\'item_name\\': \\'Syder Arcade\\', \\'playtime_forever\\': 117, \\'playtime_2weeks\\': 0}, {\\'item_id\\': \\'252370\\', \\'item_name\\': \\'The Shivah\\', \\'playtime_forever\\': 62, \\'playtime_2weeks\\': 0}, {\\'item_id\\': \\'252490\\', \\'item_name\\': \\'Rust\\', \\'playtime_forever\\': 219, \\'playtime_2weeks\\': 0}, {\\'item_id\\': \\'252570\\', \\'item_name\\': \\'Depths of Fear :: Knossos\\', \\'playtime_forever\\': 133, \\'playtime_2weeks\\': 0}, {\\'item_id\\': \\'252830\\', \\'item_name\\': \\'Claire\\', \\'playtime_forever\\': 197, \\'playtime_2weeks\\': 0}, {\\'item_id\\': \\'252910\\', \\'item_name\\': \\'Skyscraper Simulator\\', \\'playtime_forever\\': 0, \\'playtime_2weeks\\': 0}, {\\'item_id\\': \\'253130\\', \\'item_name\\': \\'Rescue: Everyday Heroes\\', \\'playtime_forever\\': 0, \\'playtime_2weeks\\': 0}, {\\'item_id\\': \\'253410\\', \\'item_name\\': \\'Ravensword: Shadowlands\\', \\'playtime_forever\\': 0, \\'playtime_2weeks\\': 0}, {\\'item_id\\': \\'253630\\', \\'item_name\\': \\'Steam Marines\\', \\'playtime_forever\\': 322, \\'playtime_2weeks\\': 0}, {\\'item_id\\': \\'253650\\', \\'item_name\\': \\'Sparkle 2 Evo\\', \\'playtime_forever\\': 183, \\'playtime_2weeks\\': 0}, {\\'item_id\\': \\'253880\\', \\'item_name\\': \\'Earth 2150 Trilogy\\', \\'playtime_forever\\': 0, \\'playtime_2weeks\\': 0}, {\\'item_id\\': \\'259280\\', \\'item_name\\': \\'Earth 2150: The Moon Project\\', \\'playtime_forever\\': 0, \\'playtime_2weeks\\': 0}, {\\'item_id\\': \\'259300\\', \\'item_name\\': \\'Earth 2150: Lost Souls\\', \\'playtime_forever\\': 0, \\'playtime_2weeks\\': 0}, {\\'item_id\\': \\'3370\\', \\'item_name\\': \\'BookWorm Deluxe\\', \\'playtime_forever\\': 0, \\'playtime_2weeks\\': 0}, {\\'item_id\\': \\'3390\\', \\'item_name\\': \\'Feeding Frenzy 2: Shipwreck Showdown Deluxe\\', \\'playtime_forever\\': 0, \\'playtime_2weeks\\': 0}, {\\'item_id\\': \\'3480\\', \\'item_name\\': \\'Peggle Deluxe\\', \\'playtime_forever\\': 0, \\'playtime_2weeks\\': 0}, {\\'item_id\\': \\'3600\\', \\'item_name\\': \\'Escape Rosecliff Island\\', \\'playtime_forever\\': 0, \\'playtime_2weeks\\': 0}, {\\'item_id\\': \\'78000\\', \\'item_name\\': \\'Bejeweled 3\\', \\'playtime_forever\\': 0, \\'playtime_2weeks\\': 0}, {\\'item_id\\': \\'3540\\', \\'item_name\\': \\'Peggle Nights\\', \\'playtime_forever\\': 0, \\'playtime_2weeks\\': 0}, {\\'item_id\\': \\'3590\\', \\'item_name\\': \\'Plants vs. Zombies: Game of the Year\\', \\'playtime_forever\\': 21, \\'playtime_2weeks\\': 0}, {\\'item_id\\': \\'3620\\', \\'item_name\\': \"Zuma\\'s Revenge\", \\'playtime_forever\\': 0, \\'playtime_2weeks\\': 0}, {\\'item_id\\': \\'255320\\', \\'item_name\\': \\'Edna & Harvey: The Breakout\\', \\'playtime_forever\\': 197, \\'playtime_2weeks\\': 0}, {\\'item_id\\': \\'241540\\', \\'item_name\\': \\'State of Decay\\', \\'playtime_forever\\': 645, \\'playtime_2weeks\\': 0}, {\\'item_id\\': \\'224860\\', \\'item_name\\': \\'Arma Tactics\\', \\'playtime_forever\\': 75, \\'playtime_2weeks\\': 0}, {\\'item_id\\': \\'58520\\', \\'item_name\\': \\'Blood Bowl: Legendary Edition\\', \\'playtime_forever\\': 0, \\'playtime_2weeks\\': 0}, {\\'item_id\\': \\'204560\\', \\'item_name\\': \\'Confrontation\\', \\'playtime_forever\\': 0, \\'playtime_2weeks\\': 0}, {\\'item_id\\': \\'208730\\', \\'item_name\\': \\'Game of Thrones \\', \\'playtime_forever\\': 0, \\'playtime_2weeks\\': 0}, {\\'item_id\\': \\'209730\\', \\'item_name\\': \\'RAW - Realms of Ancient War\\', \\'playtime_forever\\': 0, \\'playtime_2weeks\\': 0}, {\\'item_id\\': \\'219780\\', \\'item_name\\': \"Divinity II: Developer\\'s Cut\", \\'playtime_forever\\': 0, \\'playtime_2weeks\\': 0}, {\\'item_id\\': \\'231140\\', \\'item_name\\': \\'Cities XL Platinum\\', \\'playtime_forever\\': 2, \\'playtime_2weeks\\': 0}, {\\'item_id\\': \\'58610\\', \\'item_name\\': \\'Wargame: European Escalation\\', \\'playtime_forever\\': 0, \\'playtime_2weeks\\': 0}, {\\'item_id\\': \\'205650\\', \\'item_name\\': \\'The Testament of Sherlock Holmes\\', \\'playtime_forever\\': 85, \\'playtime_2weeks\\': 0}, {\\'item_id\\': \\'255870\\', \\'item_name\\': \\'PixelJunk™ Shooter\\', \\'playtime_forever\\': 198, \\'playtime_2weeks\\': 0}, {\\'item_id\\': \\'29900\\', \\'item_name\\': \\'Dark Sector\\', \\'playtime_forever\\': 0, \\'playtime_2weeks\\': 0}, {\\'item_id\\': \\'91100\\', \\'item_name\\': \\'SkyDrift\\', \\'playtime_forever\\': 0, \\'playtime_2weeks\\': 0}, {\\'item_id\\': \\'207040\\', \\'item_name\\': \\'Sine Mora\\', \\'playtime_forever\\': 0, \\'playtime_2weeks\\': 0}, {\\'item_id\\': \\'217690\\', \\'item_name\\': \\'Anna - Extended Edition\\', \\'playtime_forever\\': 58, \\'playtime_2weeks\\': 0}, {\\'item_id\\': \\'57690\\', \\'item_name\\': \\'Tropico 4\\', \\'playtime_forever\\': 1943, \\'playtime_2weeks\\': 0}, {\\'item_id\\': \\'57740\\', \\'item_name\\': \\'Jagged Alliance - Back in Action\\', \\'playtime_forever\\': 135, \\'playtime_2weeks\\': 0}, {\\'item_id\\': \\'245620\\', \\'item_name\\': \\'Tropico 5\\', \\'playtime_forever\\': 151, \\'playtime_2weeks\\': 0}, {\\'item_id\\': \\'247120\\', \\'item_name\\': \\'Portal 2 Sixense Perceptual Pack\\', \\'playtime_forever\\': 0, \\'playtime_2weeks\\': 0}, {\\'item_id\\': \\'242050\\', \\'item_name\\': \"Assassin\\'s Creed IV Black Flag\", \\'playtime_forever\\': 2137, \\'playtime_2weeks\\': 0}, {\\'item_id\\': \\'239160\\', \\'item_name\\': \\'Thief\\', \\'playtime_forever\\': 289, \\'playtime_2weeks\\': 0}, {\\'item_id\\': \\'233130\\', \\'item_name\\': \\'Shadow Warrior\\', \\'playtime_forever\\': 116, \\'playtime_2weeks\\': 0}, {\\'item_id\\': \\'213670\\', \\'item_name\\': \\'South Park™: The Stick of Truth™\\', \\'playtime_forever\\': 0, \\'playtime_2weeks\\': 0}, {\\'item_id\\': \\'9350\\', \\'item_name\\': \\'Supreme Commander\\', \\'playtime_forever\\': 0, \\'playtime_2weeks\\': 0}, {\\'item_id\\': \\'9420\\', \\'item_name\\': \\'Supreme Commander: Forged Alliance\\', \\'playtime_forever\\': 0, \\'playtime_2weeks\\': 0}, {\\'item_id\\': \\'39650\\', \\'item_name\\': \\'The Guild II\\', \\'playtime_forever\\': 11, \\'playtime_2weeks\\': 0}, {\\'item_id\\': \\'39690\\', \\'item_name\\': \\'ArcaniA\\', \\'playtime_forever\\': 0, \\'playtime_2weeks\\': 0}, {\\'item_id\\': \\'50650\\', \\'item_name\\': \\'Darksiders II\\', \\'playtime_forever\\': 0, \\'playtime_2weeks\\': 0}, {\\'item_id\\': \\'65530\\', \\'item_name\\': \\'SpellForce 2 - Faith in Destiny\\', \\'playtime_forever\\': 0, \\'playtime_2weeks\\': 0}, {\\'item_id\\': \\'214870\\', \\'item_name\\': \\'Painkiller Hell & Damnation\\', \\'playtime_forever\\': 135, \\'playtime_2weeks\\': 0}, {\\'item_id\\': \\'257690\\', \\'item_name\\': \\'J.U.L.I.A.: Among the Stars\\', \\'playtime_forever\\': 423, \\'playtime_2weeks\\': 0}, {\\'item_id\\': \\'257830\\', \\'item_name\\': \\'Violett\\', \\'playtime_forever\\': 179, \\'playtime_2weeks\\': 0}, {\\'item_id\\': \\'209390\\', \\'item_name\\': \\'Dungeonbowl Knockout Edition\\', \\'playtime_forever\\': 278, \\'playtime_2weeks\\': 0}, {\\'item_id\\': \\'231720\\', \\'item_name\\': \\'Bad Hotel\\', \\'playtime_forever\\': 108, \\'playtime_2weeks\\': 0}, {\\'item_id\\': \\'233210\\', \\'item_name\\': \\'Air Conflicts: Vietnam\\', \\'playtime_forever\\': 0, \\'playtime_2weeks\\': 0}, {\\'item_id\\': \\'235800\\', \\'item_name\\': \\'Audiosurf 2\\', \\'playtime_forever\\': 73, \\'playtime_2weeks\\': 0}, {\\'item_id\\': \\'45500\\', \\'item_name\\': \\'Clickr\\', \\'playtime_forever\\': 88, \\'playtime_2weeks\\': 0}, {\\'item_id\\': \\'258880\\', \\'item_name\\': \\'Professional Farmer 2014\\', \\'playtime_forever\\': 0, \\'playtime_2weeks\\': 0}, {\\'item_id\\': \\'258890\\', \\'item_name\\': \\'Type:Rider\\', \\'playtime_forever\\': 142, \\'playtime_2weeks\\': 0}, {\\'item_id\\': \\'258950\\', \\'item_name\\': \"Montague\\'s Mount\", \\'playtime_forever\\': 75, \\'playtime_2weeks\\': 0}, {\\'item_id\\': \\'238010\\', \\'item_name\\': \"Deus Ex: Human Revolution - Director\\'s Cut\", \\'playtime_forever\\': 2963, \\'playtime_2weeks\\': 0}, {\\'item_id\\': \\'259390\\', \\'item_name\\': \\'Ballpoint Universe: Infinite\\', \\'playtime_forever\\': 126, \\'playtime_2weeks\\': 0}, {\\'item_id\\': \\'259530\\', \\'item_name\\': \\'Savant - Ascent\\', \\'playtime_forever\\': 0, \\'playtime_2weeks\\': 0}, {\\'item_id\\': \\'259570\\', \\'item_name\\': \\'Eden Star :: Destroy - Build - Protect\\', \\'playtime_forever\\': 0, \\'playtime_2weeks\\': 0}, {\\'item_id\\': \\'259620\\', \\'item_name\\': \\'3079 -- Block Action RPG\\', \\'playtime_forever\\': 95, \\'playtime_2weeks\\': 0}, {\\'item_id\\': \\'259780\\', \\'item_name\\': \\'Nimble Quest\\', \\'playtime_forever\\': 278, \\'playtime_2weeks\\': 0}, {\\'item_id\\': \\'212480\\', \\'item_name\\': \\'Sonic & All-Stars Racing Transformed\\', \\'playtime_forever\\': 107, \\'playtime_2weeks\\': 0}, {\\'item_id\\': \\'259870\\', \\'item_name\\': \\'OMG Zombies!\\', \\'playtime_forever\\': 248, \\'playtime_2weeks\\': 0}, {\\'item_id\\': \\'259890\\', \\'item_name\\': \\'Agricultural Simulator: Historical Farming\\', \\'playtime_forever\\': 7, \\'playtime_2weeks\\': 0}, {\\'item_id\\': \\'221910\\', \\'item_name\\': \\'The Stanley Parable\\', \\'playtime_forever\\': 229, \\'playtime_2weeks\\': 0}, {\\'item_id\\': \\'244090\\', \\'item_name\\': \"Sid Meier\\'s Ace Patrol: Pacific Skies\", \\'playtime_forever\\': 102, \\'playtime_2weeks\\': 0}, {\\'item_id\\': \\'261030\\', \\'item_name\\': \\'The Walking Dead: Season Two\\', \\'playtime_forever\\': 50, \\'playtime_2weeks\\': 0}, {\\'item_id\\': \\'207750\\', \\'item_name\\': \\'Symphony\\', \\'playtime_forever\\': 0, \\'playtime_2weeks\\': 0}, {\\'item_id\\': \\'3020\\', \\'item_name\\': \\'Call of Juarez\\', \\'playtime_forever\\': 94, \\'playtime_2weeks\\': 0}, {\\'item_id\\': \\'252150\\', \\'item_name\\': \\'Grimm\\', \\'playtime_forever\\': 124, \\'playtime_2weeks\\': 0}, {\\'item_id\\': \\'262260\\', \\'item_name\\': \"Jets\\'n\\'Guns Gold\", \\'playtime_forever\\': 59, \\'playtime_2weeks\\': 0}, {\\'item_id\\': \\'221380\\', \\'item_name\\': \\'Age of Empires II: HD Edition\\', \\'playtime_forever\\': 182, \\'playtime_2weeks\\': 0}, {\\'item_id\\': \\'262830\\', \\'item_name\\': \\'Crimsonland\\', \\'playtime_forever\\': 545, \\'playtime_2weeks\\': 0}, {\\'item_id\\': \\'263080\\', \\'item_name\\': \\'Pixel Boy and the Ever Expanding Dungeon\\', \\'playtime_forever\\': 214, \\'playtime_2weeks\\': 0}, {\\'item_id\\': \\'263280\\', \\'item_name\\': \\'Spintires\\', \\'playtime_forever\\': 446, \\'playtime_2weeks\\': 0}, {\\'item_id\\': \\'367690\\', \\'item_name\\': \\'Spintires Editor\\', \\'playtime_forever\\': 0, \\'playtime_2weeks\\': 0}, {\\'item_id\\': \\'263360\\', \\'item_name\\': \\'3089 -- Futuristic Action RPG\\', \\'playtime_forever\\': 74, \\'playtime_2weeks\\': 0}, {\\'item_id\\': \\'263520\\', \\'item_name\\': \\'Enola\\', \\'playtime_forever\\': 322, \\'playtime_2weeks\\': 0}, {\\'item_id\\': \\'263700\\', \\'item_name\\': \\'Muffin Knight\\', \\'playtime_forever\\': 0, \\'playtime_2weeks\\': 0}, {\\'item_id\\': \\'263980\\', \\'item_name\\': \\'Out There Somewhere\\', \\'playtime_forever\\': 224, \\'playtime_2weeks\\': 0}, {\\'item_id\\': \\'264140\\', \\'item_name\\': \\'Pixel Piracy\\', \\'playtime_forever\\': 277, \\'playtime_2weeks\\': 0}, {\\'item_id\\': \\'264280\\', \\'item_name\\': \\'99 Levels To Hell\\', \\'playtime_forever\\': 173, \\'playtime_2weeks\\': 0}, {\\'item_id\\': \\'264300\\', \\'item_name\\': \"Guns\\'N\\'Zombies\", \\'playtime_forever\\': 77, \\'playtime_2weeks\\': 0}, {\\'item_id\\': \\'260750\\', \\'item_name\\': \\'Neighbours from Hell\\', \\'playtime_forever\\': 0, \\'playtime_2weeks\\': 0}, {\\'item_id\\': \\'260770\\', \\'item_name\\': \\'Neighbours from Hell 2\\', \\'playtime_forever\\': 0, \\'playtime_2weeks\\': 0}, {\\'item_id\\': \\'264730\\', \\'item_name\\': \\'Deadly 30\\', \\'playtime_forever\\': 73, \\'playtime_2weeks\\': 0}, {\\'item_id\\': \\'70210\\', \\'item_name\\': \\'Governor of Poker 2: Premium Edition\\', \\'playtime_forever\\': 0, \\'playtime_2weeks\\': 0}, {\\'item_id\\': \\'265870\\', \\'item_name\\': \\'Alpha Kimori™ Episode One \\', \\'playtime_forever\\': 234, \\'playtime_2weeks\\': 0}, {\\'item_id\\': \\'265930\\', \\'item_name\\': \\'Goat Simulator\\', \\'playtime_forever\\': 95, \\'playtime_2weeks\\': 0}, {\\'item_id\\': \\'266010\\', \\'item_name\\': \\'LYNE\\', \\'playtime_forever\\': 141, \\'playtime_2weeks\\': 0}, {\\'item_id\\': \\'266330\\', \\'item_name\\': \\'Ethan: Meteor Hunter\\', \\'playtime_forever\\': 96, \\'playtime_2weeks\\': 0}, {\\'item_id\\': \\'266390\\', \\'item_name\\': \\'Farm for your Life\\', \\'playtime_forever\\': 14, \\'playtime_2weeks\\': 0}, {\\'item_id\\': \\'266840\\', \\'item_name\\': \\'Age of Mythology: Extended Edition\\', \\'playtime_forever\\': 326, \\'playtime_2weeks\\': 0}, {\\'item_id\\': \\'266940\\', \\'item_name\\': \\'Alex Hunter - Lord of the Mind\\', \\'playtime_forever\\': 35, \\'playtime_2weeks\\': 0}, {\\'item_id\\': \\'267060\\', \\'item_name\\': \\'Gravity Badgers\\', \\'playtime_forever\\': 214, \\'playtime_2weeks\\': 0}, {\\'item_id\\': \\'267600\\', \\'item_name\\': \\'Airport Simulator 2014\\', \\'playtime_forever\\': 3, \\'playtime_2weeks\\': 0}, {\\'item_id\\': \\'267610\\', \\'item_name\\': \\'Woodcutter Simulator 2013\\', \\'playtime_forever\\': 0, \\'playtime_2weeks\\': 0}, {\\'item_id\\': \\'267960\\', \\'item_name\\': \\'Hyper Fighters\\', \\'playtime_forever\\': 0, \\'playtime_2weeks\\': 0}, {\\'item_id\\': \\'268650\\', \\'item_name\\': \\'From The Depths\\', \\'playtime_forever\\': 0, \\'playtime_2weeks\\': 0}, {\\'item_id\\': \\'268830\\', \\'item_name\\': \\'Doctor Who: The Adventure Games\\', \\'playtime_forever\\': 114, \\'playtime_2weeks\\': 0}, {\\'item_id\\': \\'268850\\', \\'item_name\\': \\'EVGA Precision XOC\\', \\'playtime_forever\\': 177, \\'playtime_2weeks\\': 0}, {\\'item_id\\': \\'269270\\', \\'item_name\\': \\'Love\\', \\'playtime_forever\\': 178, \\'playtime_2weeks\\': 0}, {\\'item_id\\': \\'270190\\', \\'item_name\\': \\'1Heart\\', \\'playtime_forever\\': 115, \\'playtime_2weeks\\': 0}, {\\'item_id\\': \\'270330\\', \\'item_name\\': \\'Ku: Shroud of the Morrigan\\', \\'playtime_forever\\': 244, \\'playtime_2weeks\\': 0}, {\\'item_id\\': \\'270550\\', \\'item_name\\': \\'Yet Another Zombie Defense\\', \\'playtime_forever\\': 219, \\'playtime_2weeks\\': 0}, {\\'item_id\\': \\'550\\', \\'item_name\\': \\'Left 4 Dead 2\\', \\'playtime_forever\\': 83, \\'playtime_2weeks\\': 0}, {\\'item_id\\': \\'223530\\', \\'item_name\\': \\'Left 4 Dead 2 Beta\\', \\'playtime_forever\\': 0, \\'playtime_2weeks\\': 0}, {\\'item_id\\': \\'7670\\', \\'item_name\\': \\'BioShock\\', \\'playtime_forever\\': 0, \\'playtime_2weeks\\': 0}, {\\'item_id\\': \\'8850\\', \\'item_name\\': \\'BioShock 2\\', \\'playtime_forever\\': 0, \\'playtime_2weeks\\': 0}, {\\'item_id\\': \\'8870\\', \\'item_name\\': \\'BioShock Infinite\\', \\'playtime_forever\\': 111, \\'playtime_2weeks\\': 0}, {\\'item_id\\': \\'409710\\', \\'item_name\\': \\'BioShock Remastered\\', \\'playtime_forever\\': 166, \\'playtime_2weeks\\': 166}, {\\'item_id\\': \\'409720\\', \\'item_name\\': \\'BioShock 2 Remastered\\', \\'playtime_forever\\': 0, \\'playtime_2weeks\\': 0}, {\\'item_id\\': \\'267670\\', \\'item_name\\': \\'Realms of Arkania 1 - Blade of Destiny Classic\\', \\'playtime_forever\\': 66, \\'playtime_2weeks\\': 0}, {\\'item_id\\': \\'270750\\', \\'item_name\\': \\'Realms of Arkania 2 - Star Trail Classic\\', \\'playtime_forever\\': 57, \\'playtime_2weeks\\': 0}, {\\'item_id\\': \\'270760\\', \\'item_name\\': \\'Realms of Arkania 3 - Shadows over Riva Classic\\', \\'playtime_forever\\': 58, \\'playtime_2weeks\\': 0}, {\\'item_id\\': \\'96200\\', \\'item_name\\': \\'Steel Storm: Burning Retribution\\', \\'playtime_forever\\': 306, \\'playtime_2weeks\\': 0}, {\\'item_id\\': \\'237950\\', \\'item_name\\': \\'UFO: Afterlight\\', \\'playtime_forever\\': 0, \\'playtime_2weeks\\': 0}, {\\'item_id\\': \\'65780\\', \\'item_name\\': \\'Arma: Gold Edition\\', \\'playtime_forever\\': 0, \\'playtime_2weeks\\': 0}, {\\'item_id\\': \\'260210\\', \\'item_name\\': \"Assassin\\'s Creed Liberation\", \\'playtime_forever\\': 133, \\'playtime_2weeks\\': 0}, {\\'item_id\\': \\'272990\\', \\'item_name\\': \\'GAUGE\\', \\'playtime_forever\\': 0, \\'playtime_2weeks\\': 0}, {\\'item_id\\': \\'273760\\', \\'item_name\\': \\'Towtruck Simulator 2015\\', \\'playtime_forever\\': 0, \\'playtime_2weeks\\': 0}, {\\'item_id\\': \\'273940\\', \\'item_name\\': \\'Warehouse and Logistics Simulator\\', \\'playtime_forever\\': 0, \\'playtime_2weeks\\': 0}, {\\'item_id\\': \\'208670\\', \\'item_name\\': \\'Blades of Time\\', \\'playtime_forever\\': 0, \\'playtime_2weeks\\': 0}, {\\'item_id\\': \\'224480\\', \\'item_name\\': \\'Octodad: Dadliest Catch\\', \\'playtime_forever\\': 180, \\'playtime_2weeks\\': 0}, {\\'item_id\\': \\'11450\\', \\'item_name\\': \\'Overlord\\', \\'playtime_forever\\': 0, \\'playtime_2weeks\\': 0}, {\\'item_id\\': \\'12710\\', \\'item_name\\': \\'Overlord: Raising Hell\\', \\'playtime_forever\\': 0, \\'playtime_2weeks\\': 0}, {\\'item_id\\': \\'12770\\', \\'item_name\\': \\'Rise of the Argonauts\\', \\'playtime_forever\\': 0, \\'playtime_2weeks\\': 0}, {\\'item_id\\': \\'44340\\', \\'item_name\\': \\'Operation Flashpoint: Red River\\', \\'playtime_forever\\': 0, \\'playtime_2weeks\\': 0}, {\\'item_id\\': \\'12810\\', \\'item_name\\': \\'Overlord II\\', \\'playtime_forever\\': 0, \\'playtime_2weeks\\': 0}, {\\'item_id\\': \\'44320\\', \\'item_name\\': \\'DiRT 3\\', \\'playtime_forever\\': 0, \\'playtime_2weeks\\': 0}, {\\'item_id\\': \\'201700\\', \\'item_name\\': \\'DiRT Showdown\\', \\'playtime_forever\\': 0, \\'playtime_2weeks\\': 0}, {\\'item_id\\': \\'321040\\', \\'item_name\\': \\'DiRT 3 Complete Edition\\', \\'playtime_forever\\': 75, \\'playtime_2weeks\\': 0}, {\\'item_id\\': \\'222880\\', \\'item_name\\': \\'Insurgency\\', \\'playtime_forever\\': 55, \\'playtime_2weeks\\': 0}, {\\'item_id\\': \\'274560\\', \\'item_name\\': \\'Revolution Ace\\', \\'playtime_forever\\': 163, \\'playtime_2weeks\\': 0}, {\\'item_id\\': \\'275080\\', \\'item_name\\': \\'Post Master \\', \\'playtime_forever\\': 55, \\'playtime_2weeks\\': 0}, {\\'item_id\\': \\'275490\\', \\'item_name\\': \\'Canyon Capers\\', \\'playtime_forever\\': 141, \\'playtime_2weeks\\': 0}, {\\'item_id\\': \\'225840\\', \\'item_name\\': \\'Sven Co-op\\', \\'playtime_forever\\': 0, \\'playtime_2weeks\\': 0}, {\\'item_id\\': \\'277430\\', \\'item_name\\': \\'Halo: Spartan Assault\\', \\'playtime_forever\\': 72, \\'playtime_2weeks\\': 0}, {\\'item_id\\': \\'277500\\', \\'item_name\\': \\'Farming World\\', \\'playtime_forever\\': 136, \\'playtime_2weeks\\': 0}, {\\'item_id\\': \\'277590\\', \\'item_name\\': \"Assassin\\'s Creed Freedom Cry\", \\'playtime_forever\\': 0, \\'playtime_2weeks\\': 0}, {\\'item_id\\': \\'34800\\', \\'item_name\\': \\'Chronicles of Mystery: The Scorpio Ritual\\', \\'playtime_forever\\': 0, \\'playtime_2weeks\\': 0}, {\\'item_id\\': \\'10270\\', \\'item_name\\': \\'Disciples III: Reincarnation\\', \\'playtime_forever\\': 0, \\'playtime_2weeks\\': 0}, {\\'item_id\\': \\'222900\\', \\'item_name\\': \\'Dead Island: Epidemic\\', \\'playtime_forever\\': 0, \\'playtime_2weeks\\': 0}, {\\'item_id\\': \\'279140\\', \\'item_name\\': \\'Making History: The Great War\\', \\'playtime_forever\\': 321, \\'playtime_2weeks\\': 0}, {\\'item_id\\': \\'281410\\', \\'item_name\\': \\'Ubersoldier II\\', \\'playtime_forever\\': 0, \\'playtime_2weeks\\': 0}, {\\'item_id\\': \\'281690\\', \\'item_name\\': \\'The Legend of Korra™\\', \\'playtime_forever\\': 37, \\'playtime_2weeks\\': 0}, {\\'item_id\\': \\'246620\\', \\'item_name\\': \\'Plague Inc: Evolved\\', \\'playtime_forever\\': 224, \\'playtime_2weeks\\': 0}, {\\'item_id\\': \\'282100\\', \\'item_name\\': \\'Fearless Fantasy\\', \\'playtime_forever\\': 382, \\'playtime_2weeks\\': 0}, {\\'item_id\\': \\'282140\\', \\'item_name\\': \\'SOMA\\', \\'playtime_forever\\': 345, \\'playtime_2weeks\\': 0}, {\\'item_id\\': \\'282440\\', \\'item_name\\': \\'Quake Live\\', \\'playtime_forever\\': 0, \\'playtime_2weeks\\': 0}, {\\'item_id\\': \\'282800\\', \\'item_name\\': \\'100% Orange Juice\\', \\'playtime_forever\\': 233, \\'playtime_2weeks\\': 0}, {\\'item_id\\': \\'283040\\', \\'item_name\\': \\'Paper Dungeons\\', \\'playtime_forever\\': 319, \\'playtime_2weeks\\': 0}, {\\'item_id\\': \\'283180\\', \\'item_name\\': \\'The Samaritan Paradox\\', \\'playtime_forever\\': 140, \\'playtime_2weeks\\': 0}, {\\'item_id\\': \\'283390\\', \\'item_name\\': \\'Incoming Forces\\', \\'playtime_forever\\': 267, \\'playtime_2weeks\\': 0}, {\\'item_id\\': \\'283880\\', \\'item_name\\': \"Heroine\\'s Quest: The Herald of Ragnarok\", \\'playtime_forever\\': 0, \\'playtime_2weeks\\': 0}, {\\'item_id\\': \\'283960\\', \\'item_name\\': \"Pajama Sam in No Need to Hide When It\\'s Dark Outside\", \\'playtime_forever\\': 321, \\'playtime_2weeks\\': 0}, {\\'item_id\\': \\'286320\\', \\'item_name\\': \\'Oknytt\\', \\'playtime_forever\\': 258, \\'playtime_2weeks\\': 0}, {\\'item_id\\': \\'286500\\', \\'item_name\\': \\'House of 1,000 Doors - Family Secrets\\', \\'playtime_forever\\': 199, \\'playtime_2weeks\\': 0}, {\\'item_id\\': \\'286540\\', \\'item_name\\': \"Nearwood - Collector\\'s Edition\", \\'playtime_forever\\': 0, \\'playtime_2weeks\\': 0}, {\\'item_id\\': \\'231430\\', \\'item_name\\': \\'Company of Heroes 2\\', \\'playtime_forever\\': 105, \\'playtime_2weeks\\': 0}, {\\'item_id\\': \\'258180\\', \\'item_name\\': \\'Deus Ex: The Fall\\', \\'playtime_forever\\': 193, \\'playtime_2weeks\\': 0}, {\\'item_id\\': \\'287840\\', \\'item_name\\': \\'TY the Tasmanian Tiger 4\\', \\'playtime_forever\\': 234, \\'playtime_2weeks\\': 0}, {\\'item_id\\': \\'288160\\', \\'item_name\\': \\'The Room\\', \\'playtime_forever\\': 213, \\'playtime_2weeks\\': 0}, {\\'item_id\\': \\'289650\\', \\'item_name\\': \"Assassin\\'s Creed Unity\", \\'playtime_forever\\': 1974, \\'playtime_2weeks\\': 0}, {\\'item_id\\': \\'233290\\', \\'item_name\\': \\'MURDERED: SOUL SUSPECT™\\', \\'playtime_forever\\': 516, \\'playtime_2weeks\\': 0}, {\\'item_id\\': \\'289760\\', \\'item_name\\': \\'ROCKETSROCKETSROCKETS\\', \\'playtime_forever\\': 456, \\'playtime_2weeks\\': 0}, {\\'item_id\\': \\'291170\\', \\'item_name\\': \\'Royal Defense\\', \\'playtime_forever\\': 135, \\'playtime_2weeks\\': 0}, {\\'item_id\\': \\'291270\\', \\'item_name\\': \\'Vitrum\\', \\'playtime_forever\\': 209, \\'playtime_2weeks\\': 0}, {\\'item_id\\': \\'292410\\', \\'item_name\\': \\'Street Racing Syndicate\\', \\'playtime_forever\\': 55, \\'playtime_2weeks\\': 0}, {\\'item_id\\': \\'115210\\', \\'item_name\\': \\'American Conquest\\', \\'playtime_forever\\': 0, \\'playtime_2weeks\\': 0}, {\\'item_id\\': \\'4880\\', \\'item_name\\': \\'Cossacks: European Wars\\', \\'playtime_forever\\': 0, \\'playtime_2weeks\\': 0}, {\\'item_id\\': \\'115200\\', \\'item_name\\': \\'Cossacks II: Napoleonic Wars\\', \\'playtime_forever\\': 0, \\'playtime_2weeks\\': 0}, {\\'item_id\\': \\'294020\\', \\'item_name\\': \\'Merchants of Kaidan\\', \\'playtime_forever\\': 381, \\'playtime_2weeks\\': 0}, {\\'item_id\\': \\'294230\\', \\'item_name\\': \\'Millie\\', \\'playtime_forever\\': 179, \\'playtime_2weeks\\': 0}, {\\'item_id\\': \\'201810\\', \\'item_name\\': \\'Wolfenstein: The New Order\\', \\'playtime_forever\\': 0, \\'playtime_2weeks\\': 0}, {\\'item_id\\': \\'294530\\', \\'item_name\\': \\'Freddi Fish 2: The Case of the Haunted Schoolhouse\\', \\'playtime_forever\\': 8, \\'playtime_2weeks\\': 0}, {\\'item_id\\': \\'294670\\', \\'item_name\\': \\'Putt-Putt Travels Through Time\\', \\'playtime_forever\\': 7, \\'playtime_2weeks\\': 0}, {\\'item_id\\': \\'3050\\', \\'item_name\\': \\'Xpand Rally Xtreme\\', \\'playtime_forever\\': 0, \\'playtime_2weeks\\': 0}, {\\'item_id\\': \\'200370\\', \\'item_name\\': \\'A Game of Dwarves\\', \\'playtime_forever\\': 0, \\'playtime_2weeks\\': 0}, {\\'item_id\\': \\'296470\\', \\'item_name\\': \\'Mount Your Friends\\', \\'playtime_forever\\': 113, \\'playtime_2weeks\\': 0}, {\\'item_id\\': \\'296630\\', \\'item_name\\': \\'Kraven Manor\\', \\'playtime_forever\\': 0, \\'playtime_2weeks\\': 0}, {\\'item_id\\': \\'35450\\', \\'item_name\\': \\'Rising Storm/Red Orchestra 2 Multiplayer\\', \\'playtime_forever\\': 129, \\'playtime_2weeks\\': 0}, {\\'item_id\\': \\'236830\\', \\'item_name\\': \\'Red Orchestra 2: Heroes of Stalingrad - Single Player\\', \\'playtime_forever\\': 0, \\'playtime_2weeks\\': 0}, {\\'item_id\\': \\'238460\\', \\'item_name\\': \\'BattleBlock Theater\\', \\'playtime_forever\\': 323, \\'playtime_2weeks\\': 67}, {\\'item_id\\': \\'299580\\', \\'item_name\\': \\'Abducted\\', \\'playtime_forever\\': 0, \\'playtime_2weeks\\': 0}, {\\'item_id\\': \\'300550\\', \\'item_name\\': \"Shadowrun: Dragonfall - Director\\'s Cut\", \\'playtime_forever\\': 252, \\'playtime_2weeks\\': 0}, {\\'item_id\\': \\'1500\\', \\'item_name\\': \\'Darwinia\\', \\'playtime_forever\\': 0, \\'playtime_2weeks\\': 0}, {\\'item_id\\': \\'1510\\', \\'item_name\\': \\'Uplink\\', \\'playtime_forever\\': 0, \\'playtime_2weeks\\': 0}, {\\'item_id\\': \\'1520\\', \\'item_name\\': \\'DEFCON\\', \\'playtime_forever\\': 0, \\'playtime_2weeks\\': 0}, {\\'item_id\\': \\'1530\\', \\'item_name\\': \\'Multiwinia\\', \\'playtime_forever\\': 0, \\'playtime_2weeks\\': 0}, {\\'item_id\\': \\'300820\\', \\'item_name\\': \\'Toy Story 3\\', \\'playtime_forever\\': 0, \\'playtime_2weeks\\': 0}, {\\'item_id\\': \\'301190\\', \\'item_name\\': \\'Frederic: Resurrection of Music\\', \\'playtime_forever\\': 255, \\'playtime_2weeks\\': 0}, {\\'item_id\\': \\'301200\\', \\'item_name\\': \\'Frederic: Evil Strikes Back\\', \\'playtime_forever\\': 179, \\'playtime_2weeks\\': 0}, {\\'item_id\\': \\'286690\\', \\'item_name\\': \\'Metro 2033 Redux\\', \\'playtime_forever\\': 223, \\'playtime_2weeks\\': 0}, {\\'item_id\\': \\'287390\\', \\'item_name\\': \\'Metro: Last Light Redux\\', \\'playtime_forever\\': 219, \\'playtime_2weeks\\': 0}, {\\'item_id\\': \\'301480\\', \\'item_name\\': \\'GEARCRACK Arena\\', \\'playtime_forever\\': 35, \\'playtime_2weeks\\': 0}, {\\'item_id\\': \\'302120\\', \\'item_name\\': \"House of 1000 Doors: The Palm of Zoroaster Collector\\'s Edition\", \\'playtime_forever\\': 217, \\'playtime_2weeks\\': 0}, {\\'item_id\\': \\'302130\\', \\'item_name\\': \\'Brink of Consciousness: Dorian Gray Syndrome\\', \\'playtime_forever\\': 0, \\'playtime_2weeks\\': 0}, {\\'item_id\\': \\'302460\\', \\'item_name\\': \\'I Am Vegend\\', \\'playtime_forever\\': 0, \\'playtime_2weeks\\': 0}, {\\'item_id\\': \\'244160\\', \\'item_name\\': \\'Homeworld Remastered Collection\\', \\'playtime_forever\\': 247, \\'playtime_2weeks\\': 0}, {\\'item_id\\': \\'303390\\', \\'item_name\\': \\'Dead Bits\\', \\'playtime_forever\\': 75, \\'playtime_2weeks\\': 0}, {\\'item_id\\': \\'304460\\', \\'item_name\\': \\'Qora\\', \\'playtime_forever\\': 233, \\'playtime_2weeks\\': 0}, {\\'item_id\\': \\'306020\\', \\'item_name\\': \\'Bloons TD5\\', \\'playtime_forever\\': 126, \\'playtime_2weeks\\': 0}, {\\'item_id\\': \\'306040\\', \\'item_name\\': \\'The Howler\\', \\'playtime_forever\\': 224, \\'playtime_2weeks\\': 0}, {\\'item_id\\': \\'250400\\', \\'item_name\\': \\'How to Survive\\', \\'playtime_forever\\': 58, \\'playtime_2weeks\\': 0}, {\\'item_id\\': \\'306350\\', \\'item_name\\': \\'Slipstream 5000\\', \\'playtime_forever\\': 245, \\'playtime_2weeks\\': 0}, {\\'item_id\\': \\'306410\\', \\'item_name\\': \\'Crystals of Time\\', \\'playtime_forever\\': 234, \\'playtime_2weeks\\': 0}, {\\'item_id\\': \\'202090\\', \\'item_name\\': \\'Magicka: Wizard Wars\\', \\'playtime_forever\\': 77, \\'playtime_2weeks\\': 0}, {\\'item_id\\': \\'63380\\', \\'item_name\\': \\'Sniper Elite V2\\', \\'playtime_forever\\': 172, \\'playtime_2weeks\\': 0}, {\\'item_id\\': \\'307050\\', \\'item_name\\': \\'Shan Gui\\', \\'playtime_forever\\': 224, \\'playtime_2weeks\\': 0}, {\\'item_id\\': \\'307230\\', \\'item_name\\': \\'I, Zombie\\', \\'playtime_forever\\': 167, \\'playtime_2weeks\\': 0}, {\\'item_id\\': \\'307760\\', \\'item_name\\': \\'Zoo Park\\', \\'playtime_forever\\': 0, \\'playtime_2weeks\\': 0}, {\\'item_id\\': \\'308330\\', \\'item_name\\': \\'Lost Chronicles of Zerzura\\', \\'playtime_forever\\': 0, \\'playtime_2weeks\\': 0}, {\\'item_id\\': \\'237850\\', \\'item_name\\': \\'Dreamfall Chapters\\', \\'playtime_forever\\': 333, \\'playtime_2weeks\\': 0}, {\\'item_id\\': \\'311850\\', \\'item_name\\': \\'Zombie Solitaire\\', \\'playtime_forever\\': 0, \\'playtime_2weeks\\': 0}, {\\'item_id\\': \\'312280\\', \\'item_name\\': \\'Simply Chess\\', \\'playtime_forever\\': 11, \\'playtime_2weeks\\': 0}, {\\'item_id\\': \\'316080\\', \\'item_name\\': \\'Parcel\\', \\'playtime_forever\\': 224, \\'playtime_2weeks\\': 0}, {\\'item_id\\': \\'317250\\', \\'item_name\\': \\'Airscape: The Fall of Gravity\\', \\'playtime_forever\\': 237, \\'playtime_2weeks\\': 0}, {\\'item_id\\': \\'317400\\', \\'item_name\\': \\'Portal Stories: Mel\\', \\'playtime_forever\\': 494, \\'playtime_2weeks\\': 0}, {\\'item_id\\': \\'317610\\', \\'item_name\\': \\'Prophour23\\', \\'playtime_forever\\': 206, \\'playtime_2weeks\\': 0}, {\\'item_id\\': \\'253510\\', \\'item_name\\': \\'Warmachine Tactics\\', \\'playtime_forever\\': 342, \\'playtime_2weeks\\': 0}, {\\'item_id\\': \\'318100\\', \\'item_name\\': \\'AXYOS\\', \\'playtime_forever\\': 316, \\'playtime_2weeks\\': 0}, {\\'item_id\\': \\'318230\\', \\'item_name\\': \\'Convoy\\', \\'playtime_forever\\': 301, \\'playtime_2weeks\\': 0}, {\\'item_id\\': \\'318350\\', \\'item_name\\': \"Disney Fairies: Tinker Bell\\'s Adventure\", \\'playtime_forever\\': 0, \\'playtime_2weeks\\': 0}, {\\'item_id\\': \\'318950\\', \\'item_name\\': \"Disney\\'s Tangled\", \\'playtime_forever\\': 0, \\'playtime_2weeks\\': 0}, {\\'item_id\\': \\'319230\\', \\'item_name\\': \\'Gold Rush! Anniversary\\', \\'playtime_forever\\': 186, \\'playtime_2weeks\\': 0}, {\\'item_id\\': \\'319270\\', \\'item_name\\': \\'Great Permutator\\', \\'playtime_forever\\': 55, \\'playtime_2weeks\\': 0}, {\\'item_id\\': \\'319400\\', \\'item_name\\': \\'Disney Winnie the Pooh\\', \\'playtime_forever\\': 0, \\'playtime_2weeks\\': 0}, {\\'item_id\\': \\'319970\\', \\'item_name\\': \\'The Detail\\', \\'playtime_forever\\': 227, \\'playtime_2weeks\\': 0}, {\\'item_id\\': \\'320300\\', \\'item_name\\': \\'Car Mechanic Simulator 2015\\', \\'playtime_forever\\': 0, \\'playtime_2weeks\\': 0}, {\\'item_id\\': \\'241930\\', \\'item_name\\': \\'Middle-earth: Shadow of Mordor\\', \\'playtime_forever\\': 1630, \\'playtime_2weeks\\': 0}, {\\'item_id\\': \\'45100\\', \\'item_name\\': \\'Secret of the Magic Crystal\\', \\'playtime_forever\\': 110, \\'playtime_2weeks\\': 0}, {\\'item_id\\': \\'289930\\', \\'item_name\\': \\'TransOcean: The Shipping Company\\', \\'playtime_forever\\': 217, \\'playtime_2weeks\\': 0}, {\\'item_id\\': \\'7860\\', \\'item_name\\': \\'NecroVisioN\\', \\'playtime_forever\\': 0, \\'playtime_2weeks\\': 0}, {\\'item_id\\': \\'46250\\', \\'item_name\\': \\'NecroVisioN: Lost Company\\', \\'playtime_forever\\': 0, \\'playtime_2weeks\\': 0}, {\\'item_id\\': \\'287450\\', \\'item_name\\': \\'Rise of Nations: Extended Edition\\', \\'playtime_forever\\': 132, \\'playtime_2weeks\\': 0}, {\\'item_id\\': \\'323320\\', \\'item_name\\': \\'Grow Home\\', \\'playtime_forever\\': 218, \\'playtime_2weeks\\': 0}, {\\'item_id\\': \\'241260\\', \\'item_name\\': \\'Sherlock Holmes: Crimes and Punishments\\', \\'playtime_forever\\': 691, \\'playtime_2weeks\\': 0}, {\\'item_id\\': \\'323430\\', \\'item_name\\': \\'Crow\\', \\'playtime_forever\\': 0, \\'playtime_2weeks\\': 0}, {\\'item_id\\': \\'302510\\', \\'item_name\\': \\'Ryse: Son of Rome\\', \\'playtime_forever\\': 488, \\'playtime_2weeks\\': 0}, {\\'item_id\\': \\'214490\\', \\'item_name\\': \\'Alien: Isolation\\', \\'playtime_forever\\': 279, \\'playtime_2weeks\\': 0}, {\\'item_id\\': \\'221540\\', \\'item_name\\': \\'Defense Grid 2\\', \\'playtime_forever\\': 414, \\'playtime_2weeks\\': 0}, {\\'item_id\\': \\'307690\\', \\'item_name\\': \\'Sleeping Dogs: Definitive Edition\\', \\'playtime_forever\\': 0, \\'playtime_2weeks\\': 0}, {\\'item_id\\': \\'326190\\', \\'item_name\\': \\'Alchemy Mysteries: Prague Legends\\', \\'playtime_forever\\': 218, \\'playtime_2weeks\\': 0}, {\\'item_id\\': \\'245300\\', \\'item_name\\': \\'Disney Epic Mickey 2\\', \\'playtime_forever\\': 364, \\'playtime_2weeks\\': 0}, {\\'item_id\\': \\'286880\\', \\'item_name\\': \\'Disney Planes\\', \\'playtime_forever\\': 218, \\'playtime_2weeks\\': 0}, {\\'item_id\\': \\'297860\\', \\'item_name\\': \\'Split/Second\\', \\'playtime_forever\\': 399, \\'playtime_2weeks\\': 0}, {\\'item_id\\': \\'301760\\', \\'item_name\\': \\'Cars 2\\', \\'playtime_forever\\': 0, \\'playtime_2weeks\\': 0}, {\\'item_id\\': \\'301980\\', \\'item_name\\': \\'Pirates of the Caribbean - At Worlds End\\', \\'playtime_forever\\': 278, \\'playtime_2weeks\\': 0}, {\\'item_id\\': \\'311770\\', \\'item_name\\': \\'LEGO® Pirates of the Caribbean The Video Game\\', \\'playtime_forever\\': 343, \\'playtime_2weeks\\': 0}, {\\'item_id\\': \\'315440\\', \\'item_name\\': \\'TRON: Evolution\\', \\'playtime_forever\\': 399, \\'playtime_2weeks\\': 0}, {\\'item_id\\': \\'316030\\', \\'item_name\\': \\'Alice in Wonderland\\', \\'playtime_forever\\': 286, \\'playtime_2weeks\\': 0}, {\\'item_id\\': \\'316260\\', \\'item_name\\': \\'Disney Universe\\', \\'playtime_forever\\': 278, \\'playtime_2weeks\\': 0}, {\\'item_id\\': \\'316320\\', \\'item_name\\': \\'Cars Toon\\', \\'playtime_forever\\': 0, \\'playtime_2weeks\\': 0}, {\\'item_id\\': \\'317580\\', \\'item_name\\': \\'Toy Story Mania\\', \\'playtime_forever\\': 0, \\'playtime_2weeks\\': 0}, {\\'item_id\\': \\'319170\\', \\'item_name\\': \\'G-Force\\', \\'playtime_forever\\': 279, \\'playtime_2weeks\\': 0}, {\\'item_id\\': \\'322600\\', \\'item_name\\': \\'PURE\\', \\'playtime_forever\\': 421, \\'playtime_2weeks\\': 0}, {\\'item_id\\': \\'327740\\', \\'item_name\\': \\'Tron 2.0\\', \\'playtime_forever\\': 279, \\'playtime_2weeks\\': 0}, {\\'item_id\\': \\'327370\\', \\'item_name\\': \\'Brink of Consciousness: The Lonely Hearts Murders\\', \\'playtime_forever\\': 0, \\'playtime_2weeks\\': 0}, {\\'item_id\\': \\'327860\\', \\'item_name\\': \\'Salt\\', \\'playtime_forever\\': 0, \\'playtime_2weeks\\': 0}, {\\'item_id\\': \\'24240\\', \\'item_name\\': \\'PAYDAY: The Heist\\', \\'playtime_forever\\': 136, \\'playtime_2weeks\\': 0}, {\\'item_id\\': \\'328880\\', \\'item_name\\': \\'Space Legends: At the Edge of the Universe\\', \\'playtime_forever\\': 0, \\'playtime_2weeks\\': 0}, {\\'item_id\\': \\'329650\\', \\'item_name\\': \\'NAM\\', \\'playtime_forever\\': 0, \\'playtime_2weeks\\': 0}, {\\'item_id\\': \\'329830\\', \\'item_name\\': \\'The Moon Sliver\\', \\'playtime_forever\\': 55, \\'playtime_2weeks\\': 0}, {\\'item_id\\': \\'329950\\', \\'item_name\\': \\'The Slaughtering Grounds\\', \\'playtime_forever\\': 213, \\'playtime_2weeks\\': 0}, {\\'item_id\\': \\'211420\\', \\'item_name\\': \\'Dark Souls: Prepare to Die Edition\\', \\'playtime_forever\\': 15, \\'playtime_2weeks\\': 0}, {\\'item_id\\': \\'330350\\', \\'item_name\\': \\'Robotex\\', \\'playtime_forever\\': 214, \\'playtime_2weeks\\': 0}, {\\'item_id\\': \\'330370\\', \\'item_name\\': \\'Reload\\', \\'playtime_forever\\': 0, \\'playtime_2weeks\\': 0}, {\\'item_id\\': \\'330660\\', \\'item_name\\': \"Luna\\'s Wandering Stars\", \\'playtime_forever\\': 219, \\'playtime_2weeks\\': 0}, {\\'item_id\\': \\'330840\\', \\'item_name\\': \\'Game of Thrones - A Telltale Games Series\\', \\'playtime_forever\\': 0, \\'playtime_2weeks\\': 0}, {\\'item_id\\': \\'730\\', \\'item_name\\': \\'Counter-Strike: Global Offensive\\', \\'playtime_forever\\': 265, \\'playtime_2weeks\\': 0}, {\\'item_id\\': \\'331790\\', \\'item_name\\': \\'Data Hacker: Reboot\\', \\'playtime_forever\\': 214, \\'playtime_2weeks\\': 0}, {\\'item_id\\': \\'305620\\', \\'item_name\\': \\'The Long Dark\\', \\'playtime_forever\\': 37, \\'playtime_2weeks\\': 0}, {\\'item_id\\': \\'332480\\', \\'item_name\\': \\'Phoenix Force\\', \\'playtime_forever\\': 214, \\'playtime_2weeks\\': 0}, {\\'item_id\\': \\'332710\\', \\'item_name\\': \\'1Quest\\', \\'playtime_forever\\': 184, \\'playtime_2weeks\\': 0}, {\\'item_id\\': \\'333740\\', \\'item_name\\': \\'The Falling Sun\\', \\'playtime_forever\\': 222, \\'playtime_2weeks\\': 0}, {\\'item_id\\': \\'334620\\', \\'item_name\\': \\'Soccertron\\', \\'playtime_forever\\': 181, \\'playtime_2weeks\\': 0}, {\\'item_id\\': \\'334840\\', \\'item_name\\': \\'Drive to Hell\\', \\'playtime_forever\\': 242, \\'playtime_2weeks\\': 0}, {\\'item_id\\': \\'335200\\', \\'item_name\\': \\'ManaCollect\\', \\'playtime_forever\\': 262, \\'playtime_2weeks\\': 0}, {\\'item_id\\': \\'335240\\', \\'item_name\\': \\'Transformice\\', \\'playtime_forever\\': 8, \\'playtime_2weeks\\': 0}, {\\'item_id\\': \\'337420\\', \\'item_name\\': \\'Final Dusk\\', \\'playtime_forever\\': 182, \\'playtime_2weeks\\': 0}, {\\'item_id\\': \\'257510\\', \\'item_name\\': \\'The Talos Principle\\', \\'playtime_forever\\': 194, \\'playtime_2weeks\\': 0}, {\\'item_id\\': \\'339200\\', \\'item_name\\': \\'Oceanhorn: Monster of Uncharted Seas\\', \\'playtime_forever\\': 245, \\'playtime_2weeks\\': 0}, {\\'item_id\\': \\'319630\\', \\'item_name\\': \\'Life Is Strange™\\', \\'playtime_forever\\': 1299, \\'playtime_2weeks\\': 0}, {\\'item_id\\': \\'339800\\', \\'item_name\\': \\'HuniePop\\', \\'playtime_forever\\': 247, \\'playtime_2weeks\\': 0}, {\\'item_id\\': \\'340070\\', \\'item_name\\': \\'Battle Ranch\\', \\'playtime_forever\\': 231, \\'playtime_2weeks\\': 0}, {\\'item_id\\': \\'340300\\', \\'item_name\\': \\'Teddy Floppy Ear - Mountain Adventure\\', \\'playtime_forever\\': 199, \\'playtime_2weeks\\': 0}, {\\'item_id\\': \\'340310\\', \\'item_name\\': \\'Teddy Floppy Ear - Kayaking\\', \\'playtime_forever\\': 213, \\'playtime_2weeks\\': 0}, {\\'item_id\\': \\'341080\\', \\'item_name\\': \\'Nexus : One Core\\', \\'playtime_forever\\': 0, \\'playtime_2weeks\\': 0}, {\\'item_id\\': \\'341150\\', \\'item_name\\': \\'Age of Fear 2: The Chaos Lord\\', \\'playtime_forever\\': 261, \\'playtime_2weeks\\': 0}, {\\'item_id\\': \\'341500\\', \\'item_name\\': \\'Camera Obscura\\', \\'playtime_forever\\': 380, \\'playtime_2weeks\\': 0}, {\\'item_id\\': \\'341550\\', \\'item_name\\': \\'Super Cyborg\\', \\'playtime_forever\\': 217, \\'playtime_2weeks\\': 0}, {\\'item_id\\': \\'342360\\', \\'item_name\\': \\'Train of Afterlife\\', \\'playtime_forever\\': 203, \\'playtime_2weeks\\': 0}, {\\'item_id\\': \\'343390\\', \\'item_name\\': \\'Elementary My Dear Majesty!\\', \\'playtime_forever\\': 170, \\'playtime_2weeks\\': 0}, {\\'item_id\\': \\'335660\\', \\'item_name\\': \\'CAFE 0 ~The Drowned Mermaid~\\', \\'playtime_forever\\': 202, \\'playtime_2weeks\\': 0}, {\\'item_id\\': \\'344030\\', \\'item_name\\': \\'Ghost Pirates of Vooju Island\\', \\'playtime_forever\\': 0, \\'playtime_2weeks\\': 0}, {\\'item_id\\': \\'344040\\', \\'item_name\\': \\'Voxelized\\', \\'playtime_forever\\': 218, \\'playtime_2weeks\\': 0}, {\\'item_id\\': \\'344790\\', \\'item_name\\': \\'Mystery Masters: Psycho Train Deluxe Edition\\', \\'playtime_forever\\': 243, \\'playtime_2weeks\\': 0}, {\\'item_id\\': \\'215080\\', \\'item_name\\': \\'WAKFU\\', \\'playtime_forever\\': 0, \\'playtime_2weeks\\': 0}, {\\'item_id\\': \\'301910\\', \\'item_name\\': \\'Saints Row: Gat out of Hell\\', \\'playtime_forever\\': 437, \\'playtime_2weeks\\': 0}, {\\'item_id\\': \\'345440\\', \\'item_name\\': \\'Vapour\\', \\'playtime_forever\\': 271, \\'playtime_2weeks\\': 0}, {\\'item_id\\': \\'346010\\', \\'item_name\\': \\'Besiege\\', \\'playtime_forever\\': 51, \\'playtime_2weeks\\': 0}, {\\'item_id\\': \\'346040\\', \\'item_name\\': \"Joe\\'s Diner\", \\'playtime_forever\\': 177, \\'playtime_2weeks\\': 0}, {\\'item_id\\': \\'346110\\', \\'item_name\\': \\'ARK: Survival Evolved\\', \\'playtime_forever\\': 1, \\'playtime_2weeks\\': 0}, {\\'item_id\\': \\'407530\\', \\'item_name\\': \\'ARK: Survival Of The Fittest\\', \\'playtime_forever\\': 0, \\'playtime_2weeks\\': 0}, {\\'item_id\\': \\'346140\\', \\'item_name\\': \\'Hidden Object Bundle 5 in 1\\', \\'playtime_forever\\': 55, \\'playtime_2weeks\\': 0}, {\\'item_id\\': \\'346290\\', \\'item_name\\': \\'Penumbra: Necrologue\\', \\'playtime_forever\\': 0, \\'playtime_2weeks\\': 0}, {\\'item_id\\': \\'346900\\', \\'item_name\\': \\'AdVenture Capitalist\\', \\'playtime_forever\\': 60, \\'playtime_2weeks\\': 0}, {\\'item_id\\': \\'347350\\', \\'item_name\\': \\'The Making of Grim Fandango Remastered\\', \\'playtime_forever\\': 0, \\'playtime_2weeks\\': 0}, {\\'item_id\\': \\'347360\\', \\'item_name\\': \\'The Making of Grim Fandango Remastered: E3 and Beyond\\', \\'playtime_forever\\': 0, \\'playtime_2weeks\\': 0}, {\\'item_id\\': \\'347370\\', \\'item_name\\': \\'The Making of Grim Fandango Remastered: The Remastered Treatment\\', \\'playtime_forever\\': 0, \\'playtime_2weeks\\': 0}, {\\'item_id\\': \\'495400\\', \\'item_name\\': \\'The Making of Grim Fandango Remastered: Developing the Game\\', \\'playtime_forever\\': 0, \\'playtime_2weeks\\': 0}, {\\'item_id\\': \\'347430\\', \\'item_name\\': \\'Frankenstein: Master of Death\\', \\'playtime_forever\\': 244, \\'playtime_2weeks\\': 0}, {\\'item_id\\': \\'347590\\', \\'item_name\\': \\'Heroes of Hellas 3: Athens\\', \\'playtime_forever\\': 63, \\'playtime_2weeks\\': 0}, {\\'item_id\\': \\'347560\\', \\'item_name\\': \\'Terra Incognita ~ Chapter One: The Descendant\\', \\'playtime_forever\\': 218, \\'playtime_2weeks\\': 0}, {\\'item_id\\': \\'348360\\', \\'item_name\\': \\'Doodle God\\', \\'playtime_forever\\': 240, \\'playtime_2weeks\\': 0}, {\\'item_id\\': \\'348670\\', \\'item_name\\': \\'Immune\\', \\'playtime_forever\\': 202, \\'playtime_2weeks\\': 0}, {\\'item_id\\': \\'349260\\', \\'item_name\\': \\'BlastZone 2\\', \\'playtime_forever\\': 337, \\'playtime_2weeks\\': 0}, {\\'item_id\\': \\'349500\\', \\'item_name\\': \\'Cubicle Quest\\', \\'playtime_forever\\': 158, \\'playtime_2weeks\\': 0}, {\\'item_id\\': \\'351340\\', \\'item_name\\': \\'Belladonna\\', \\'playtime_forever\\': 319, \\'playtime_2weeks\\': 0}, {\\'item_id\\': \\'351490\\', \\'item_name\\': \\'Intergalactic Bubbles\\', \\'playtime_forever\\': 249, \\'playtime_2weeks\\': 0}, {\\'item_id\\': \\'352190\\', \\'item_name\\': \\'Spirit Of War\\', \\'playtime_forever\\': 179, \\'playtime_2weeks\\': 0}, {\\'item_id\\': \\'331160\\', \\'item_name\\': \\'Cars\\', \\'playtime_forever\\': 0, \\'playtime_2weeks\\': 0}, {\\'item_id\\': \\'331450\\', \\'item_name\\': \\'Finding Nemo\\', \\'playtime_forever\\': 0, \\'playtime_2weeks\\': 0}, {\\'item_id\\': \\'331750\\', \\'item_name\\': \\'WALL E\\', \\'playtime_forever\\': 0, \\'playtime_2weeks\\': 0}, {\\'item_id\\': \\'331970\\', \\'item_name\\': \\'Treasure Planet Battle at Procyon\\', \\'playtime_forever\\': 0, \\'playtime_2weeks\\': 0}, {\\'item_id\\': \\'332260\\', \\'item_name\\': \\'Cars Mater-National\\', \\'playtime_forever\\': 0, \\'playtime_2weeks\\': 0}, {\\'item_id\\': \\'338300\\', \\'item_name\\': \\'Chicken Little Ace in Action\\', \\'playtime_forever\\': 0, \\'playtime_2weeks\\': 0}, {\\'item_id\\': \\'339040\\', \\'item_name\\': \\'Chicken Little\\', \\'playtime_forever\\': 0, \\'playtime_2weeks\\': 0}, {\\'item_id\\': \\'340990\\', \\'item_name\\': \\'Bolt\\', \\'playtime_forever\\': 0, \\'playtime_2weeks\\': 0}, {\\'item_id\\': \\'343140\\', \\'item_name\\': \\'Cars Radiator Springs Adventures\\', \\'playtime_forever\\': 0, \\'playtime_2weeks\\': 0}, {\\'item_id\\': \\'353640\\', \\'item_name\\': \\'Train Valley\\', \\'playtime_forever\\': 329, \\'playtime_2weeks\\': 0}, {\\'item_id\\': \\'311560\\', \\'item_name\\': \"Assassin\\'s Creed Rogue\", \\'playtime_forever\\': 790, \\'playtime_2weeks\\': 0}, {\\'item_id\\': \\'354500\\', \\'item_name\\': \\'PAYDAY: The Web Series\\', \\'playtime_forever\\': 0, \\'playtime_2weeks\\': 0}, {\\'item_id\\': \\'354510\\', \\'item_name\\': \\'PAYDAY: The Web Series: The Vault\\', \\'playtime_forever\\': 0, \\'playtime_2weeks\\': 0}, {\\'item_id\\': \\'354520\\', \\'item_name\\': \\'PAYDAY: The Web Series: Hector\\', \\'playtime_forever\\': 0, \\'playtime_2weeks\\': 0}, {\\'item_id\\': \\'354530\\', \\'item_name\\': \\'PAYDAY: The Web Series: The Elephant\\', \\'playtime_forever\\': 0, \\'playtime_2weeks\\': 0}, {\\'item_id\\': \\'354540\\', \\'item_name\\': \\'PAYDAY: The Web Series: Greta: The Assassin\\', \\'playtime_forever\\': 0, \\'playtime_2weeks\\': 0}, {\\'item_id\\': \\'354550\\', \\'item_name\\': \\'PAYDAY: The Web Series: Vlad & Gage\\', \\'playtime_forever\\': 0, \\'playtime_2weeks\\': 0}, {\\'item_id\\': \\'494710\\', \\'item_name\\': \\'PAYDAY: The Web Series: First World Bank\\', \\'playtime_forever\\': 0, \\'playtime_2weeks\\': 0}, {\\'item_id\\': \\'354640\\', \\'item_name\\': \\'The Settlers Online\\', \\'playtime_forever\\': 0, \\'playtime_2weeks\\': 0}, {\\'item_id\\': \\'355150\\', \\'item_name\\': \\'Gravilon\\', \\'playtime_forever\\': 232, \\'playtime_2weeks\\': 0}, {\\'item_id\\': \\'255710\\', \\'item_name\\': \\'Cities: Skylines\\', \\'playtime_forever\\': 126, \\'playtime_2weeks\\': 0}, {\\'item_id\\': \\'355950\\', \\'item_name\\': \\'Age of Empires II HD: The African Kingdoms\\', \\'playtime_forever\\': 0, \\'playtime_2weeks\\': 0}, {\\'item_id\\': \\'356040\\', \\'item_name\\': \\'Sheltered\\', \\'playtime_forever\\': 314, \\'playtime_2weeks\\': 0}, {\\'item_id\\': \\'356570\\', \\'item_name\\': \\'Party Hard\\', \\'playtime_forever\\': 233, \\'playtime_2weeks\\': 0}, {\\'item_id\\': \\'359040\\', \\'item_name\\': \\'The Music Machine\\', \\'playtime_forever\\': 182, \\'playtime_2weeks\\': 0}, {\\'item_id\\': \\'359050\\', \\'item_name\\': \\'Shower With Your Dad Simulator 2015: Do You Still Shower With Your Dad\\', \\'playtime_forever\\': 218, \\'playtime_2weeks\\': 0}, {\\'item_id\\': \\'359320\\', \\'item_name\\': \\'Elite Dangerous\\', \\'playtime_forever\\': 0, \\'playtime_2weeks\\': 0}, {\\'item_id\\': \\'360590\\', \\'item_name\\': \\'Once Bitten, Twice Dead\\', \\'playtime_forever\\': 118, \\'playtime_2weeks\\': 0}, {\\'item_id\\': \\'360640\\', \\'item_name\\': \\'12 Labours of Hercules II: The Cretan Bull\\', \\'playtime_forever\\': 285, \\'playtime_2weeks\\': 0}, {\\'item_id\\': \\'360730\\', \\'item_name\\': \\'Cards and Castles\\', \\'playtime_forever\\': 278, \\'playtime_2weeks\\': 0}, {\\'item_id\\': \\'360750\\', \\'item_name\\': \\'StarFence: Heroic Edition\\', \\'playtime_forever\\': 0, \\'playtime_2weeks\\': 0}, {\\'item_id\\': \\'361160\\', \\'item_name\\': \"Steamalot: Epoch\\'s Journey\", \\'playtime_forever\\': 178, \\'playtime_2weeks\\': 0}, {\\'item_id\\': \\'361190\\', \\'item_name\\': \\'Sparkle 3 Genesis\\', \\'playtime_forever\\': 259, \\'playtime_2weeks\\': 0}, {\\'item_id\\': \\'361400\\', \\'item_name\\': \\'Are You Smarter Than a 5th Grader\\', \\'playtime_forever\\': 316, \\'playtime_2weeks\\': 0}, {\\'item_id\\': \\'47780\\', \\'item_name\\': \\'Dead Space 2\\', \\'playtime_forever\\': 0, \\'playtime_2weeks\\': 0}, {\\'item_id\\': \\'362620\\', \\'item_name\\': \\'Software Inc.\\', \\'playtime_forever\\': 29, \\'playtime_2weeks\\': 0}, {\\'item_id\\': \\'346680\\', \\'item_name\\': \\'Black Mesa Dedicated Server\\', \\'playtime_forever\\': 0, \\'playtime_2weeks\\': 0}, {\\'item_id\\': \\'362890\\', \\'item_name\\': \\'Black Mesa\\', \\'playtime_forever\\': 338, \\'playtime_2weeks\\': 0}, {\\'item_id\\': \\'363460\\', \\'item_name\\': \\'Spermination\\', \\'playtime_forever\\': 233, \\'playtime_2weeks\\': 0}, {\\'item_id\\': \\'363490\\', \\'item_name\\': \\'Escape Machines\\', \\'playtime_forever\\': 215, \\'playtime_2weeks\\': 0}, {\\'item_id\\': \\'363600\\', \\'item_name\\': \\'Holy Potatoes! A Weapon Shop?!\\', \\'playtime_forever\\': 573, \\'playtime_2weeks\\': 0}, {\\'item_id\\': \\'364270\\', \\'item_name\\': \\'Lilly and Sasha: Curse of the Immortals\\', \\'playtime_forever\\': 214, \\'playtime_2weeks\\': 0}, {\\'item_id\\': \\'365450\\', \\'item_name\\': \\'Hacknet\\', \\'playtime_forever\\': 266, \\'playtime_2weeks\\': 0}, {\\'item_id\\': \\'366990\\', \\'item_name\\': \\'Puzzle Station 15th Anniversary Retro Release\\', \\'playtime_forever\\': 0, \\'playtime_2weeks\\': 0}, {\\'item_id\\': \\'238370\\', \\'item_name\\': \\'Magicka 2\\', \\'playtime_forever\\': 282, \\'playtime_2weeks\\': 0}, {\\'item_id\\': \\'397080\\', \\'item_name\\': \\'Magicka 2: Spell Balance Beta\\', \\'playtime_forever\\': 0, \\'playtime_2weeks\\': 0}, {\\'item_id\\': \\'363580\\', \\'item_name\\': \\'PING 1.5+\\', \\'playtime_forever\\': 217, \\'playtime_2weeks\\': 0}, {\\'item_id\\': \\'370510\\', \\'item_name\\': \\'Marble Mayhem: Fragile Ball\\', \\'playtime_forever\\': 225, \\'playtime_2weeks\\': 0}, {\\'item_id\\': \\'370550\\', \\'item_name\\': \\'Sparkle 2\\', \\'playtime_forever\\': 228, \\'playtime_2weeks\\': 0}, {\\'item_id\\': \\'370640\\', \\'item_name\\': \"Midnight\\'s Blessing\", \\'playtime_forever\\': 0, \\'playtime_2weeks\\': 0}, {\\'item_id\\': \\'371420\\', \\'item_name\\': \\'Teddy Floppy Ear - The Race\\', \\'playtime_forever\\': 340, \\'playtime_2weeks\\': 0}, {\\'item_id\\': \\'371500\\', \\'item_name\\': \\'Grey Cubes\\', \\'playtime_forever\\': 0, \\'playtime_2weeks\\': 0}, {\\'item_id\\': \\'371510\\', \\'item_name\\': \\'Gunnheim\\', \\'playtime_forever\\': 284, \\'playtime_2weeks\\': 0}, {\\'item_id\\': \\'371670\\', \\'item_name\\': \\'Rolling Sun\\', \\'playtime_forever\\': 232, \\'playtime_2weeks\\': 0}, {\\'item_id\\': \\'372030\\', \\'item_name\\': \\'Starship Rubicon\\', \\'playtime_forever\\': 246, \\'playtime_2weeks\\': 0}, {\\'item_id\\': \\'373110\\', \\'item_name\\': \\'Temper Tantrum\\', \\'playtime_forever\\': 286, \\'playtime_2weeks\\': 0}, {\\'item_id\\': \\'375250\\', \\'item_name\\': \\'Pizza Express\\', \\'playtime_forever\\': 247, \\'playtime_2weeks\\': 0}, {\\'item_id\\': \\'375460\\', \\'item_name\\': \\'16bit Trader\\', \\'playtime_forever\\': 265, \\'playtime_2weeks\\': 0}, {\\'item_id\\': \\'375510\\', \\'item_name\\': \\'New kind of adventure\\', \\'playtime_forever\\': 220, \\'playtime_2weeks\\': 0}, {\\'item_id\\': \\'267750\\', \\'item_name\\': \\'Shadowrun Chronicles - Boston Lockdown\\', \\'playtime_forever\\': 307, \\'playtime_2weeks\\': 0}, {\\'item_id\\': \\'376870\\', \\'item_name\\': \\'Minecraft: Story Mode - A Telltale Games Series\\', \\'playtime_forever\\': 229, \\'playtime_2weeks\\': 0}, {\\'item_id\\': \\'312530\\', \\'item_name\\': \\'Duck Game\\', \\'playtime_forever\\': 229, \\'playtime_2weeks\\': 0}, {\\'item_id\\': \\'380700\\', \\'item_name\\': \\'Zombie Killtime\\', \\'playtime_forever\\': 258, \\'playtime_2weeks\\': 0}, {\\'item_id\\': \\'208650\\', \\'item_name\\': \\'Batman™: Arkham Knight\\', \\'playtime_forever\\': 1851, \\'playtime_2weeks\\': 0}, {\\'item_id\\': \\'267490\\', \\'item_name\\': \\'Batman™: Arkham Origins Blackgate - Deluxe Edition\\', \\'playtime_forever\\': 122, \\'playtime_2weeks\\': 0}, {\\'item_id\\': \\'383330\\', \\'item_name\\': \\'Star Chronicles: Delta Quadrant\\', \\'playtime_forever\\': 220, \\'playtime_2weeks\\': 0}, {\\'item_id\\': \\'383560\\', \\'item_name\\': \\'Squarelands\\', \\'playtime_forever\\': 0, \\'playtime_2weeks\\': 0}, {\\'item_id\\': \\'383800\\', \\'item_name\\': \\'Close Order\\', \\'playtime_forever\\': 358, \\'playtime_2weeks\\': 0}, {\\'item_id\\': \\'384480\\', \\'item_name\\': \\'Six Sides of the World\\', \\'playtime_forever\\': 225, \\'playtime_2weeks\\': 0}, {\\'item_id\\': \\'383870\\', \\'item_name\\': \\'Firewatch\\', \\'playtime_forever\\': 533, \\'playtime_2weeks\\': 0}, {\\'item_id\\': \\'384740\\', \\'item_name\\': \\'CAT Interstellar\\', \\'playtime_forever\\': 220, \\'playtime_2weeks\\': 0}, {\\'item_id\\': \\'367580\\', \\'item_name\\': \\'Hook\\', \\'playtime_forever\\': 221, \\'playtime_2weeks\\': 0}, {\\'item_id\\': \\'385080\\', \\'item_name\\': \\'Guardians of Victoria\\', \\'playtime_forever\\': 314, \\'playtime_2weeks\\': 0}, {\\'item_id\\': \\'385830\\', \\'item_name\\': \\'Burgers\\', \\'playtime_forever\\': 389, \\'playtime_2weeks\\': 0}, {\\'item_id\\': \\'386330\\', \\'item_name\\': \\'HoD: A pirate adventure\\', \\'playtime_forever\\': 0, \\'playtime_2weeks\\': 0}, {\\'item_id\\': \\'387840\\', \\'item_name\\': \\'Alpha Runner\\', \\'playtime_forever\\': 182, \\'playtime_2weeks\\': 0}, {\\'item_id\\': \\'388080\\', \\'item_name\\': \\'Borderless Gaming\\', \\'playtime_forever\\': 5, \\'playtime_2weeks\\': 0}, {\\'item_id\\': \\'388160\\', \\'item_name\\': \\'Project Druid - 2D Labyrinth Explorer-\\', \\'playtime_forever\\': 0, \\'playtime_2weeks\\': 0}, {\\'item_id\\': \\'391070\\', \\'item_name\\': \\'Stellar 2D\\', \\'playtime_forever\\': 241, \\'playtime_2weeks\\': 0}, {\\'item_id\\': \\'391540\\', \\'item_name\\': \\'Undertale\\', \\'playtime_forever\\': 330, \\'playtime_2weeks\\': 30}, {\\'item_id\\': \\'391420\\', \\'item_name\\': \\'Gun Rocket\\', \\'playtime_forever\\': 220, \\'playtime_2weeks\\': 0}, {\\'item_id\\': \\'394310\\', \\'item_name\\': \\'Punch Club\\', \\'playtime_forever\\': 364, \\'playtime_2weeks\\': 0}, {\\'item_id\\': \\'394540\\', \\'item_name\\': \\'Spaceport Hope\\', \\'playtime_forever\\': 211, \\'playtime_2weeks\\': 0}, {\\'item_id\\': \\'395270\\', \\'item_name\\': \\'A Wolf in Autumn\\', \\'playtime_forever\\': 0, \\'playtime_2weeks\\': 0}, {\\'item_id\\': \\'396260\\', \\'item_name\\': \"World\\'s Fastest Pizza\", \\'playtime_forever\\': 0, \\'playtime_2weeks\\': 0}, {\\'item_id\\': \\'398710\\', \\'item_name\\': \\'Timberman\\', \\'playtime_forever\\': 235, \\'playtime_2weeks\\': 0}, {\\'item_id\\': \\'399430\\', \\'item_name\\': \\'Tinboy\\', \\'playtime_forever\\': 215, \\'playtime_2weeks\\': 0}, {\\'item_id\\': \\'402670\\', \\'item_name\\': \\'Space Thinger\\', \\'playtime_forever\\': 0, \\'playtime_2weeks\\': 0}, {\\'item_id\\': \\'403560\\', \\'item_name\\': \\'Eaten Alive\\', \\'playtime_forever\\': 250, \\'playtime_2weeks\\': 0}, {\\'item_id\\': \\'403570\\', \\'item_name\\': \\'Stigmat\\', \\'playtime_forever\\': 222, \\'playtime_2weeks\\': 0}, {\\'item_id\\': \\'403900\\', \\'item_name\\': \\'Clergy Splode\\', \\'playtime_forever\\': 235, \\'playtime_2weeks\\': 0}, {\\'item_id\\': \\'403740\\', \\'item_name\\': \\'GabeN: The Final Decision\\', \\'playtime_forever\\': 218, \\'playtime_2weeks\\': 0}, {\\'item_id\\': \\'404480\\', \\'item_name\\': \\'SC2VN - The eSports Visual Novel\\', \\'playtime_forever\\': 0, \\'playtime_2weeks\\': 0}, {\\'item_id\\': \\'405640\\', \\'item_name\\': \\'Pony Island\\', \\'playtime_forever\\': 216, \\'playtime_2weeks\\': 0}, {\\'item_id\\': \\'408940\\', \\'item_name\\': \\'The Sources of Tremendous Corporation\\', \\'playtime_forever\\': 0, \\'playtime_2weeks\\': 0}, {\\'item_id\\': \\'410210\\', \\'item_name\\': \\'Ampersand\\', \\'playtime_forever\\': 225, \\'playtime_2weeks\\': 0}, {\\'item_id\\': \\'411960\\', \\'item_name\\': \\'TY the Tasmanian Tiger\\', \\'playtime_forever\\': 1, \\'playtime_2weeks\\': 0}, {\\'item_id\\': \\'412600\\', \\'item_name\\': \\'Lup\\', \\'playtime_forever\\': 215, \\'playtime_2weeks\\': 0}, {\\'item_id\\': \\'413150\\', \\'item_name\\': \\'Stardew Valley\\', \\'playtime_forever\\': 275, \\'playtime_2weeks\\': 0}, {\\'item_id\\': \\'272890\\', \\'item_name\\': \\'Vertiginous Golf\\', \\'playtime_forever\\': 0, \\'playtime_2weeks\\': 0}, {\\'item_id\\': \\'415420\\', \\'item_name\\': \\'Nyan Cat: Lost In Space\\', \\'playtime_forever\\': 278, \\'playtime_2weeks\\': 0}, {\\'item_id\\': \\'416080\\', \\'item_name\\': \\'God Game : The Odyssey\\', \\'playtime_forever\\': 202, \\'playtime_2weeks\\': 0}, {\\'item_id\\': \\'416550\\', \\'item_name\\': \\'Rubber Ducky and the Rainbow Gun\\', \\'playtime_forever\\': 219, \\'playtime_2weeks\\': 0}, {\\'item_id\\': \\'418070\\', \\'item_name\\': \\'Turbo Pug\\', \\'playtime_forever\\': 224, \\'playtime_2weeks\\': 0}, {\\'item_id\\': \\'418910\\', \\'item_name\\': \\'Idle Civilization\\', \\'playtime_forever\\': 414, \\'playtime_2weeks\\': 0}, {\\'item_id\\': \\'2700\\', \\'item_name\\': \\'RollerCoaster Tycoon 3: Platinum!\\', \\'playtime_forever\\': 0, \\'playtime_2weeks\\': 0}, {\\'item_id\\': \\'285310\\', \\'item_name\\': \\'RollerCoaster Tycoon: Deluxe\\', \\'playtime_forever\\': 0, \\'playtime_2weeks\\': 0}, {\\'item_id\\': \\'285330\\', \\'item_name\\': \\'RollerCoaster Tycoon 2: Triple Thrill Pack\\', \\'playtime_forever\\': 1, \\'playtime_2weeks\\': 0}, {\\'item_id\\': \\'427520\\', \\'item_name\\': \\'Factorio\\', \\'playtime_forever\\': 1115, \\'playtime_2weeks\\': 0}, {\\'item_id\\': \\'431240\\', \\'item_name\\': \\'Golf With Your Friends\\', \\'playtime_forever\\': 0, \\'playtime_2weeks\\': 0}, {\\'item_id\\': \\'432020\\', \\'item_name\\': \"What\\'s under your blanket !?\", \\'playtime_forever\\': 212, \\'playtime_2weeks\\': 0}, {\\'item_id\\': \\'440430\\', \\'item_name\\': \"Life Is Strange™ - Directors\\' Commentary - 1.Two directors\", \\'playtime_forever\\': 0, \\'playtime_2weeks\\': 0}, {\\'item_id\\': \\'440431\\', \\'item_name\\': \"Life Is Strange™ - Directors\\' Commentary - 2. Let\\'s play Life is Strange\", \\'playtime_forever\\': 0, \\'playtime_2weeks\\': 0}, {\\'item_id\\': \\'440432\\', \\'item_name\\': \"Life Is Strange™ - Directors\\' Commentary - 3. Intentions\", \\'playtime_forever\\': 0, \\'playtime_2weeks\\': 0}, {\\'item_id\\': \\'440433\\', \\'item_name\\': \"Life Is Strange™ - Directors\\' Commentary - 4. A matter of choice\", \\'playtime_forever\\': 0, \\'playtime_2weeks\\': 0}, {\\'item_id\\': \\'440434\\', \\'item_name\\': \"Life Is Strange™ - Directors\\' Commentary - 5. A lively world\", \\'playtime_forever\\': 0, \\'playtime_2weeks\\': 0}, {\\'item_id\\': \\'440435\\', \\'item_name\\': \"Life Is Strange™ - Directors\\' Commentary - 6. Capturing the moment\", \\'playtime_forever\\': 0, \\'playtime_2weeks\\': 0}, {\\'item_id\\': \\'440436\\', \\'item_name\\': \"Life Is Strange™ - Directors\\' Commentary - 7. Social issues\", \\'playtime_forever\\': 0, \\'playtime_2weeks\\': 0}, {\\'item_id\\': \\'440437\\', \\'item_name\\': \"Life Is Strange™ - Directors\\' Commentary - 8. Getting things right\", \\'playtime_forever\\': 0, \\'playtime_2weeks\\': 0}, {\\'item_id\\': \\'440438\\', \\'item_name\\': \"Life Is Strange™ - Directors\\' Commentary - 9. Voices of Arcadia Bay\", \\'playtime_forever\\': 0, \\'playtime_2weeks\\': 0}, {\\'item_id\\': \\'433950\\', \\'item_name\\': \\'Bit Blaster XL\\', \\'playtime_forever\\': 221, \\'playtime_2weeks\\': 0}, {\\'item_id\\': \\'264240\\', \\'item_name\\': \\'CONSORTIUM\\', \\'playtime_forever\\': 218, \\'playtime_2weeks\\': 0}, {\\'item_id\\': \\'438010\\', \\'item_name\\': \\'PulseCharge\\', \\'playtime_forever\\': 218, \\'playtime_2weeks\\': 0}, {\\'item_id\\': \\'438020\\', \\'item_name\\': \\'AI: Rampage\\', \\'playtime_forever\\': 0, \\'playtime_2weeks\\': 0}, {\\'item_id\\': \\'438030\\', \\'item_name\\': \\'Dead6hot\\', \\'playtime_forever\\': 223, \\'playtime_2weeks\\': 0}, {\\'item_id\\': \\'438080\\', \\'item_name\\': \\'Surfingers\\', \\'playtime_forever\\': 217, \\'playtime_2weeks\\': 0}, {\\'item_id\\': \\'438180\\', \\'item_name\\': \\'Super Mustache\\', \\'playtime_forever\\': 186, \\'playtime_2weeks\\': 0}, {\\'item_id\\': \\'310380\\', \\'item_name\\': \\'Fractured Space\\', \\'playtime_forever\\': 0, \\'playtime_2weeks\\': 0}, {\\'item_id\\': \\'439260\\', \\'item_name\\': \\'BUTTS\\', \\'playtime_forever\\': 0, \\'playtime_2weeks\\': 0}, {\\'item_id\\': \\'4720\\', \\'item_name\\': \\'Condemned: Criminal Origins\\', \\'playtime_forever\\': 0, \\'playtime_2weeks\\': 0}, {\\'item_id\\': \\'34270\\', \\'item_name\\': \\'SEGA Mega Drive & Genesis Classics\\', \\'playtime_forever\\': 0, \\'playtime_2weeks\\': 0}, {\\'item_id\\': \\'203750\\', \\'item_name\\': \\'Binary Domain\\', \\'playtime_forever\\': 0, \\'playtime_2weeks\\': 0}, {\\'item_id\\': \\'444480\\', \\'item_name\\': \\'Broken Dreams\\', \\'playtime_forever\\': 222, \\'playtime_2weeks\\': 0}, {\\'item_id\\': \\'444560\\', \\'item_name\\': \\'Agent Origins: Escape\\', \\'playtime_forever\\': 10, \\'playtime_2weeks\\': 0}, {\\'item_id\\': \\'448630\\', \\'item_name\\': \\'Rabiez: Epidemic\\', \\'playtime_forever\\': 0, \\'playtime_2weeks\\': 0}, {\\'item_id\\': \\'448660\\', \\'item_name\\': \\'Shake Your Money Simulator 2016\\', \\'playtime_forever\\': 226, \\'playtime_2weeks\\': 0}, {\\'item_id\\': \\'449200\\', \\'item_name\\': \\'Calcu-Late\\', \\'playtime_forever\\': 250, \\'playtime_2weeks\\': 0}, {\\'item_id\\': \\'449540\\', \\'item_name\\': \"There\\'s Poop In My Soup\", \\'playtime_forever\\': 342, \\'playtime_2weeks\\': 0}, {\\'item_id\\': \\'451880\\', \\'item_name\\': \\'Catch a Falling Star\\', \\'playtime_forever\\': 240, \\'playtime_2weeks\\': 0}, {\\'item_id\\': \\'454200\\', \\'item_name\\': \\'Neon Hardcorps\\', \\'playtime_forever\\': 237, \\'playtime_2weeks\\': 0}, {\\'item_id\\': \\'454890\\', \\'item_name\\': \\'Project Starship\\', \\'playtime_forever\\': 223, \\'playtime_2weeks\\': 0}, {\\'item_id\\': \\'463210\\', \\'item_name\\': \\'State of Anarchy\\', \\'playtime_forever\\': 205, \\'playtime_2weeks\\': 0}, {\\'item_id\\': \\'463220\\', \\'item_name\\': \\'Dungeon of Zolthan\\', \\'playtime_forever\\': 198, \\'playtime_2weeks\\': 0}, {\\'item_id\\': \\'463350\\', \\'item_name\\': \\'Storm of Spears\\', \\'playtime_forever\\': 241, \\'playtime_2weeks\\': 0}, {\\'item_id\\': \\'466840\\', \\'item_name\\': \\'Super Space Pug\\', \\'playtime_forever\\': 218, \\'playtime_2weeks\\': 0}, {\\'item_id\\': \\'469730\\', \\'item_name\\': \\'Super Mega Neo Pug\\', \\'playtime_forever\\': 218, \\'playtime_2weeks\\': 0}, {\\'item_id\\': \\'473450\\', \\'item_name\\': \\'The Narrator is a DICK\\', \\'playtime_forever\\': 831, \\'playtime_2weeks\\': 0}, {\\'item_id\\': \\'485330\\', \\'item_name\\': \\'Star Drifter\\', \\'playtime_forever\\': 237, \\'playtime_2weeks\\': 0}, {\\'item_id\\': \\'485890\\', \\'item_name\\': \\'Summer Sale\\', \\'playtime_forever\\': 251, \\'playtime_2weeks\\': 0}, {\\'item_id\\': \\'491330\\', \\'item_name\\': \\'12 Labours of Hercules V: Kids of Hellas\\', \\'playtime_forever\\': 285, \\'playtime_2weeks\\': 0}, {\\'item_id\\': \\'397060\\', \\'item_name\\': \\'Faeria\\', \\'playtime_forever\\': 0, \\'playtime_2weeks\\': 0}]']"
      ]
     },
     "execution_count": 199,
     "metadata": {},
     "output_type": "execute_result"
    }
   ],
   "source": [
    "conocer_archivo (df_items,1)"
   ]
  },
  {
   "cell_type": "code",
   "execution_count": 200,
   "metadata": {},
   "outputs": [
    {
     "data": {
      "text/plain": [
       "{'item_id': '20',\n",
       " 'item_name': 'Team Fortress Classic',\n",
       " 'playtime_forever': 0,\n",
       " 'playtime_2weeks': 0}"
      ]
     },
     "execution_count": 200,
     "metadata": {},
     "output_type": "execute_result"
    }
   ],
   "source": [
    "df_items.iloc[0,4][1]"
   ]
  },
  {
   "cell_type": "code",
   "execution_count": 201,
   "metadata": {},
   "outputs": [],
   "source": [
    "###  Desanidar los datos de la columna 'items' \n",
    "\n",
    "# Abro el dicc que hay en 'items' para que cada elemento esté en una fila separada\n",
    "df_items = df_items.explode('items').reset_index(drop=True)\n",
    "\n",
    "# Desanido la 'reviews' en múltiples 'reviews's\n",
    "df_items_des = pd.json_normalize(df_items['items'])\n",
    "\n",
    "# Combino los dataframe\n",
    "df_items_des= pd.concat([df_items.drop(columns=['items']), df_items_des], axis=1)"
   ]
  },
  {
   "cell_type": "code",
   "execution_count": 202,
   "metadata": {},
   "outputs": [
    {
     "data": {
      "text/plain": [
       "(5170015, 8)"
      ]
     },
     "execution_count": 202,
     "metadata": {},
     "output_type": "execute_result"
    }
   ],
   "source": [
    "df_items_des.shape"
   ]
  },
  {
   "cell_type": "code",
   "execution_count": 203,
   "metadata": {},
   "outputs": [
    {
     "data": {
      "text/plain": [
       "Index(['user_id', 'items_count', 'steam_id', 'user_url', 'item_id',\n",
       "       'item_name', 'playtime_forever', 'playtime_2weeks'],\n",
       "      dtype='object')"
      ]
     },
     "execution_count": 203,
     "metadata": {},
     "output_type": "execute_result"
    }
   ],
   "source": [
    "df_items_des.columns"
   ]
  },
  {
   "cell_type": "code",
   "execution_count": 204,
   "metadata": {},
   "outputs": [
    {
     "data": {
      "text/plain": [
       "user_id             0.0\n",
       "items_count         0.0\n",
       "steam_id            0.0\n",
       "user_url            0.0\n",
       "item_id             0.0\n",
       "item_name           0.0\n",
       "playtime_forever    0.0\n",
       "playtime_2weeks     0.0\n",
       "dtype: float64"
      ]
     },
     "execution_count": 204,
     "metadata": {},
     "output_type": "execute_result"
    }
   ],
   "source": [
    "# Registros completamente vacios\n",
    "df_items_des[df_items_des.isna().all(axis=1)].sum()"
   ]
  },
  {
   "cell_type": "code",
   "execution_count": 205,
   "metadata": {},
   "outputs": [
    {
     "data": {
      "text/plain": [
       "user_id             59196\n",
       "items_count         59196\n",
       "steam_id            59196\n",
       "user_url            59196\n",
       "item_id             59104\n",
       "item_name           59104\n",
       "playtime_forever    59104\n",
       "playtime_2weeks     59104\n",
       "dtype: int64"
      ]
     },
     "execution_count": 205,
     "metadata": {},
     "output_type": "execute_result"
    }
   ],
   "source": [
    "# Registros duplicados\n",
    "df_items_des[df_items_des.duplicated()].count()"
   ]
  },
  {
   "cell_type": "code",
   "execution_count": 206,
   "metadata": {},
   "outputs": [],
   "source": [
    "# Elimino Registros duplicados\n",
    "df_items_des = df_items_des.drop_duplicates()"
   ]
  },
  {
   "cell_type": "code",
   "execution_count": 207,
   "metadata": {},
   "outputs": [
    {
     "data": {
      "text/html": [
       "<div>\n",
       "<style scoped>\n",
       "    .dataframe tbody tr th:only-of-type {\n",
       "        vertical-align: middle;\n",
       "    }\n",
       "\n",
       "    .dataframe tbody tr th {\n",
       "        vertical-align: top;\n",
       "    }\n",
       "\n",
       "    .dataframe thead th {\n",
       "        text-align: right;\n",
       "    }\n",
       "</style>\n",
       "<table border=\"1\" class=\"dataframe\">\n",
       "  <thead>\n",
       "    <tr style=\"text-align: right;\">\n",
       "      <th></th>\n",
       "      <th>user_id</th>\n",
       "      <th>item_id</th>\n",
       "      <th>user_url</th>\n",
       "      <th>playtime_forever</th>\n",
       "    </tr>\n",
       "  </thead>\n",
       "  <tbody>\n",
       "    <tr>\n",
       "      <th>0</th>\n",
       "      <td>76561197970982479</td>\n",
       "      <td>10</td>\n",
       "      <td>http://steamcommunity.com/profiles/76561197970...</td>\n",
       "      <td>6.0</td>\n",
       "    </tr>\n",
       "  </tbody>\n",
       "</table>\n",
       "</div>"
      ],
      "text/plain": [
       "             user_id item_id  \\\n",
       "0  76561197970982479      10   \n",
       "\n",
       "                                            user_url  playtime_forever  \n",
       "0  http://steamcommunity.com/profiles/76561197970...               6.0  "
      ]
     },
     "execution_count": 207,
     "metadata": {},
     "output_type": "execute_result"
    }
   ],
   "source": [
    "# me quedo con un df mas pequeño, solo con las columnas que necesitare\n",
    "df_items_des_small = df_items_des[['user_id','item_id','user_url','playtime_forever']]\n",
    "df_items_des_small.head(1)"
   ]
  },
  {
   "cell_type": "markdown",
   "metadata": {},
   "source": [
    "Analisis de la columna 'user_id'"
   ]
  },
  {
   "cell_type": "code",
   "execution_count": 208,
   "metadata": {},
   "outputs": [
    {
     "name": "stdout",
     "output_type": "stream",
     "text": [
      "Cantidad nulos: 0\n",
      "Tipo de dato y cantidad:\n",
      "<class 'str'>    5110819\n",
      "Name: user_id, dtype: int64\n"
     ]
    }
   ],
   "source": [
    "print(conocer_columna (df_items_des_small,'user_id'))"
   ]
  },
  {
   "cell_type": "markdown",
   "metadata": {},
   "source": [
    "Analisis columna 'user_url'"
   ]
  },
  {
   "cell_type": "code",
   "execution_count": 209,
   "metadata": {},
   "outputs": [
    {
     "name": "stdout",
     "output_type": "stream",
     "text": [
      "Cantidad nulos: 0\n",
      "Tipo de dato y cantidad:\n",
      "<class 'str'>    5110819\n",
      "Name: user_url, dtype: int64\n"
     ]
    }
   ],
   "source": [
    "print(conocer_columna (df_items_des_small,'user_url'))"
   ]
  },
  {
   "cell_type": "markdown",
   "metadata": {},
   "source": [
    "Analisis columna item_id y Analisis de la columna 'playtime_forever':\n",
    "- Luego de comprobar que la cantidad de nulos en la columna 'item_id' también son nulos en la columna 'playtime_forever', se decide eliminar estos registros, ya que para los fines prácticos de las funciones no me sirve tener 'user_id' o 'user_url' si no tengo datos en 'item_id' o 'playtime_forever'"
   ]
  },
  {
   "cell_type": "code",
   "execution_count": 210,
   "metadata": {},
   "outputs": [
    {
     "name": "stdout",
     "output_type": "stream",
     "text": [
      "Cantidad nulos: 16714\n",
      "Tipo de dato y cantidad:\n",
      "<class 'str'>      5094105\n",
      "<class 'float'>      16714\n",
      "Name: item_id, dtype: int64\n"
     ]
    }
   ],
   "source": [
    "print(conocer_columna (df_items_des_small,'item_id'))"
   ]
  },
  {
   "cell_type": "code",
   "execution_count": 211,
   "metadata": {},
   "outputs": [
    {
     "name": "stdout",
     "output_type": "stream",
     "text": [
      "Cantidad nulos: 16714\n",
      "Tipo de dato y cantidad:\n",
      "<class 'float'>    5110819\n",
      "Name: playtime_forever, dtype: int64\n"
     ]
    }
   ],
   "source": [
    "print(conocer_columna (df_items_des_small,'playtime_forever'))"
   ]
  },
  {
   "cell_type": "code",
   "execution_count": 212,
   "metadata": {},
   "outputs": [
    {
     "data": {
      "text/plain": [
       "user_id             16714\n",
       "item_id                 0\n",
       "user_url            16714\n",
       "playtime_forever        0\n",
       "dtype: int64"
      ]
     },
     "execution_count": 212,
     "metadata": {},
     "output_type": "execute_result"
    }
   ],
   "source": [
    "# evaluo si los registros con 'item_id' null tambien tienen 'playtime_forever' null\n",
    "nulos = df_items_des_small['item_id'].isna() & df_items_des_small['playtime_forever'].isna()\n",
    "\n",
    "df_items_des_small[nulos].count()"
   ]
  },
  {
   "cell_type": "code",
   "execution_count": 213,
   "metadata": {},
   "outputs": [],
   "source": [
    "# se eliminan los registros con datos nulos en las columna 'item_id' y 'playtime_forever'\n",
    "df_items_final= df_items_des_small.drop(df_items_des_small[nulos].index)"
   ]
  },
  {
   "cell_type": "code",
   "execution_count": 54,
   "metadata": {},
   "outputs": [
    {
     "data": {
      "text/plain": [
       "(5094105, 4)"
      ]
     },
     "execution_count": 54,
     "metadata": {},
     "output_type": "execute_result"
    }
   ],
   "source": [
    "df_items_final.shape"
   ]
  },
  {
   "cell_type": "code",
   "execution_count": 56,
   "metadata": {},
   "outputs": [
    {
     "data": {
      "text/html": [
       "<div>\n",
       "<style scoped>\n",
       "    .dataframe tbody tr th:only-of-type {\n",
       "        vertical-align: middle;\n",
       "    }\n",
       "\n",
       "    .dataframe tbody tr th {\n",
       "        vertical-align: top;\n",
       "    }\n",
       "\n",
       "    .dataframe thead th {\n",
       "        text-align: right;\n",
       "    }\n",
       "</style>\n",
       "<table border=\"1\" class=\"dataframe\">\n",
       "  <thead>\n",
       "    <tr style=\"text-align: right;\">\n",
       "      <th></th>\n",
       "      <th>user_id</th>\n",
       "      <th>item_id</th>\n",
       "      <th>user_url</th>\n",
       "      <th>playtime_forever</th>\n",
       "    </tr>\n",
       "  </thead>\n",
       "  <tbody>\n",
       "    <tr>\n",
       "      <th>0</th>\n",
       "      <td>76561197970982479</td>\n",
       "      <td>10</td>\n",
       "      <td>http://steamcommunity.com/profiles/76561197970...</td>\n",
       "      <td>6.0</td>\n",
       "    </tr>\n",
       "  </tbody>\n",
       "</table>\n",
       "</div>"
      ],
      "text/plain": [
       "             user_id item_id  \\\n",
       "0  76561197970982479      10   \n",
       "\n",
       "                                            user_url  playtime_forever  \n",
       "0  http://steamcommunity.com/profiles/76561197970...               6.0  "
      ]
     },
     "execution_count": 56,
     "metadata": {},
     "output_type": "execute_result"
    }
   ],
   "source": [
    "df_items_final.head(1)"
   ]
  },
  {
   "cell_type": "markdown",
   "metadata": {},
   "source": [
    "# Trabajamos con el DF de \"steam_games.json.gz\""
   ]
  },
  {
   "cell_type": "code",
   "execution_count": 217,
   "metadata": {},
   "outputs": [
    {
     "data": {
      "text/html": [
       "<div>\n",
       "<style scoped>\n",
       "    .dataframe tbody tr th:only-of-type {\n",
       "        vertical-align: middle;\n",
       "    }\n",
       "\n",
       "    .dataframe tbody tr th {\n",
       "        vertical-align: top;\n",
       "    }\n",
       "\n",
       "    .dataframe thead th {\n",
       "        text-align: right;\n",
       "    }\n",
       "</style>\n",
       "<table border=\"1\" class=\"dataframe\">\n",
       "  <thead>\n",
       "    <tr style=\"text-align: right;\">\n",
       "      <th></th>\n",
       "      <th>publisher</th>\n",
       "      <th>genres</th>\n",
       "      <th>app_name</th>\n",
       "      <th>title</th>\n",
       "      <th>url</th>\n",
       "      <th>release_date</th>\n",
       "      <th>tags</th>\n",
       "      <th>reviews_url</th>\n",
       "      <th>discount_price</th>\n",
       "      <th>specs</th>\n",
       "      <th>price</th>\n",
       "      <th>early_access</th>\n",
       "      <th>id</th>\n",
       "      <th>metascore</th>\n",
       "      <th>developer</th>\n",
       "      <th>user_id</th>\n",
       "      <th>steam_id</th>\n",
       "      <th>items</th>\n",
       "      <th>items_count</th>\n",
       "    </tr>\n",
       "  </thead>\n",
       "  <tbody>\n",
       "    <tr>\n",
       "      <th>0</th>\n",
       "      <td>NaN</td>\n",
       "      <td>NaN</td>\n",
       "      <td>NaN</td>\n",
       "      <td>NaN</td>\n",
       "      <td>NaN</td>\n",
       "      <td>NaN</td>\n",
       "      <td>NaN</td>\n",
       "      <td>NaN</td>\n",
       "      <td>NaN</td>\n",
       "      <td>NaN</td>\n",
       "      <td>NaN</td>\n",
       "      <td>NaN</td>\n",
       "      <td>NaN</td>\n",
       "      <td>NaN</td>\n",
       "      <td>NaN</td>\n",
       "      <td>76561197970982479</td>\n",
       "      <td>76561197970982479</td>\n",
       "      <td>[{'item_id': '10', 'item_name': 'Counter-Strik...</td>\n",
       "      <td>277.0</td>\n",
       "    </tr>\n",
       "  </tbody>\n",
       "</table>\n",
       "</div>"
      ],
      "text/plain": [
       "  publisher genres app_name title  url release_date tags reviews_url  \\\n",
       "0       NaN    NaN      NaN   NaN  NaN          NaN  NaN         NaN   \n",
       "\n",
       "   discount_price specs price early_access   id metascore developer  \\\n",
       "0             NaN   NaN   NaN          NaN  NaN       NaN       NaN   \n",
       "\n",
       "             user_id           steam_id  \\\n",
       "0  76561197970982479  76561197970982479   \n",
       "\n",
       "                                               items  items_count  \n",
       "0  [{'item_id': '10', 'item_name': 'Counter-Strik...        277.0  "
      ]
     },
     "execution_count": 217,
     "metadata": {},
     "output_type": "execute_result"
    }
   ],
   "source": [
    "df_steam = pd.DataFrame (abrir_archivo_comprimido_1 (\"Datos\\\\steam_games.json.gz\")) \n",
    "df_steam.head(1)"
   ]
  },
  {
   "cell_type": "code",
   "execution_count": 218,
   "metadata": {},
   "outputs": [
    {
     "data": {
      "text/plain": [
       "(120445, 19)"
      ]
     },
     "execution_count": 218,
     "metadata": {},
     "output_type": "execute_result"
    }
   ],
   "source": [
    "df_steam.shape"
   ]
  },
  {
   "cell_type": "code",
   "execution_count": 59,
   "metadata": {},
   "outputs": [
    {
     "name": "stdout",
     "output_type": "stream",
     "text": [
      "<class 'pandas.core.frame.DataFrame'>\n",
      "RangeIndex: 120445 entries, 0 to 120444\n",
      "Data columns (total 19 columns):\n",
      " #   Column          Non-Null Count  Dtype  \n",
      "---  ------          --------------  -----  \n",
      " 0   publisher       24083 non-null  object \n",
      " 1   genres          28852 non-null  object \n",
      " 2   app_name        32133 non-null  object \n",
      " 3   title           30085 non-null  object \n",
      " 4   url             32135 non-null  object \n",
      " 5   release_date    30068 non-null  object \n",
      " 6   tags            31972 non-null  object \n",
      " 7   reviews_url     32133 non-null  object \n",
      " 8   discount_price  225 non-null    float64\n",
      " 9   specs           31465 non-null  object \n",
      " 10  price           30758 non-null  object \n",
      " 11  early_access    32135 non-null  object \n",
      " 12  id              32133 non-null  object \n",
      " 13  metascore       2677 non-null   object \n",
      " 14  developer       28836 non-null  object \n",
      " 15  user_id         88310 non-null  object \n",
      " 16  steam_id        88310 non-null  object \n",
      " 17  items           88310 non-null  object \n",
      " 18  items_count     88310 non-null  float64\n",
      "dtypes: float64(2), object(17)\n",
      "memory usage: 17.5+ MB\n"
     ]
    }
   ],
   "source": [
    "df_steam.info()"
   ]
  },
  {
   "cell_type": "code",
   "execution_count": 219,
   "metadata": {},
   "outputs": [
    {
     "data": {
      "text/plain": [
       "[\"Columna: publisher   // Tipo dato: <class 'float'>   //  Informacion: nan\",\n",
       " \"Columna: genres   // Tipo dato: <class 'float'>   //  Informacion: nan\",\n",
       " \"Columna: app_name   // Tipo dato: <class 'float'>   //  Informacion: nan\",\n",
       " \"Columna: title   // Tipo dato: <class 'float'>   //  Informacion: nan\",\n",
       " \"Columna: url   // Tipo dato: <class 'float'>   //  Informacion: nan\",\n",
       " \"Columna: release_date   // Tipo dato: <class 'float'>   //  Informacion: nan\",\n",
       " \"Columna: tags   // Tipo dato: <class 'float'>   //  Informacion: nan\",\n",
       " \"Columna: reviews_url   // Tipo dato: <class 'float'>   //  Informacion: nan\",\n",
       " \"Columna: discount_price   // Tipo dato: <class 'numpy.float64'>   //  Informacion: nan\",\n",
       " \"Columna: specs   // Tipo dato: <class 'float'>   //  Informacion: nan\",\n",
       " \"Columna: price   // Tipo dato: <class 'float'>   //  Informacion: nan\",\n",
       " \"Columna: early_access   // Tipo dato: <class 'float'>   //  Informacion: nan\",\n",
       " \"Columna: id   // Tipo dato: <class 'float'>   //  Informacion: nan\",\n",
       " \"Columna: metascore   // Tipo dato: <class 'float'>   //  Informacion: nan\",\n",
       " \"Columna: developer   // Tipo dato: <class 'float'>   //  Informacion: nan\",\n",
       " \"Columna: user_id   // Tipo dato: <class 'str'>   //  Informacion: js41637\",\n",
       " \"Columna: steam_id   // Tipo dato: <class 'str'>   //  Informacion: 76561198035864385\",\n",
       " 'Columna: items   // Tipo dato: <class \\'list\\'>   //  Informacion: [{\\'item_id\\': \\'10\\', \\'item_name\\': \\'Counter-Strike\\', \\'playtime_forever\\': 0, \\'playtime_2weeks\\': 0}, {\\'item_id\\': \\'80\\', \\'item_name\\': \\'Counter-Strike: Condition Zero\\', \\'playtime_forever\\': 0, \\'playtime_2weeks\\': 0}, {\\'item_id\\': \\'100\\', \\'item_name\\': \\'Counter-Strike: Condition Zero Deleted Scenes\\', \\'playtime_forever\\': 0, \\'playtime_2weeks\\': 0}, {\\'item_id\\': \\'300\\', \\'item_name\\': \\'Day of Defeat: Source\\', \\'playtime_forever\\': 220, \\'playtime_2weeks\\': 0}, {\\'item_id\\': \\'30\\', \\'item_name\\': \\'Day of Defeat\\', \\'playtime_forever\\': 0, \\'playtime_2weeks\\': 0}, {\\'item_id\\': \\'40\\', \\'item_name\\': \\'Deathmatch Classic\\', \\'playtime_forever\\': 0, \\'playtime_2weeks\\': 0}, {\\'item_id\\': \\'60\\', \\'item_name\\': \\'Ricochet\\', \\'playtime_forever\\': 0, \\'playtime_2weeks\\': 0}, {\\'item_id\\': \\'240\\', \\'item_name\\': \\'Counter-Strike: Source\\', \\'playtime_forever\\': 62, \\'playtime_2weeks\\': 0}, {\\'item_id\\': \\'280\\', \\'item_name\\': \\'Half-Life: Source\\', \\'playtime_forever\\': 0, \\'playtime_2weeks\\': 0}, {\\'item_id\\': \\'360\\', \\'item_name\\': \\'Half-Life Deathmatch: Source\\', \\'playtime_forever\\': 0, \\'playtime_2weeks\\': 0}, {\\'item_id\\': \\'320\\', \\'item_name\\': \\'Half-Life 2: Deathmatch\\', \\'playtime_forever\\': 0, \\'playtime_2weeks\\': 0}, {\\'item_id\\': \\'20\\', \\'item_name\\': \\'Team Fortress Classic\\', \\'playtime_forever\\': 0, \\'playtime_2weeks\\': 0}, {\\'item_id\\': \\'50\\', \\'item_name\\': \\'Half-Life: Opposing Force\\', \\'playtime_forever\\': 0, \\'playtime_2weeks\\': 0}, {\\'item_id\\': \\'70\\', \\'item_name\\': \\'Half-Life\\', \\'playtime_forever\\': 0, \\'playtime_2weeks\\': 0}, {\\'item_id\\': \\'130\\', \\'item_name\\': \\'Half-Life: Blue Shift\\', \\'playtime_forever\\': 0, \\'playtime_2weeks\\': 0}, {\\'item_id\\': \\'3910\\', \\'item_name\\': \"Sid Meier\\'s Civilization III: Complete\", \\'playtime_forever\\': 107, \\'playtime_2weeks\\': 0}, {\\'item_id\\': \\'3920\\', \\'item_name\\': \"Sid Meier\\'s Pirates!\", \\'playtime_forever\\': 0, \\'playtime_2weeks\\': 0}, {\\'item_id\\': \\'4000\\', \\'item_name\\': \"Garry\\'s Mod\", \\'playtime_forever\\': 412, \\'playtime_2weeks\\': 0}, {\\'item_id\\': \\'6880\\', \\'item_name\\': \\'Just Cause\\', \\'playtime_forever\\': 0, \\'playtime_2weeks\\': 0}, {\\'item_id\\': \\'2200\\', \\'item_name\\': \\'Quake III Arena\\', \\'playtime_forever\\': 114, \\'playtime_2weeks\\': 0}, {\\'item_id\\': \\'2270\\', \\'item_name\\': \\'Wolfenstein 3D\\', \\'playtime_forever\\': 0, \\'playtime_2weeks\\': 0}, {\\'item_id\\': \\'2280\\', \\'item_name\\': \\'The Ultimate DOOM\\', \\'playtime_forever\\': 0, \\'playtime_2weeks\\': 0}, {\\'item_id\\': \\'2290\\', \\'item_name\\': \\'Final DOOM\\', \\'playtime_forever\\': 0, \\'playtime_2weeks\\': 0}, {\\'item_id\\': \\'2300\\', \\'item_name\\': \\'DOOM II: Hell on Earth\\', \\'playtime_forever\\': 0, \\'playtime_2weeks\\': 0}, {\\'item_id\\': \\'2310\\', \\'item_name\\': \\'Quake\\', \\'playtime_forever\\': 16, \\'playtime_2weeks\\': 0}, {\\'item_id\\': \\'2320\\', \\'item_name\\': \\'Quake II\\', \\'playtime_forever\\': 0, \\'playtime_2weeks\\': 0}, {\\'item_id\\': \\'2330\\', \\'item_name\\': \\'Quake II: The Reckoning\\', \\'playtime_forever\\': 0, \\'playtime_2weeks\\': 0}, {\\'item_id\\': \\'2340\\', \\'item_name\\': \\'Quake II: Ground Zero\\', \\'playtime_forever\\': 0, \\'playtime_2weeks\\': 0}, {\\'item_id\\': \\'2350\\', \\'item_name\\': \\'Quake III: Team Arena\\', \\'playtime_forever\\': 0, \\'playtime_2weeks\\': 0}, {\\'item_id\\': \\'2360\\', \\'item_name\\': \\'HeXen: Beyond Heretic\\', \\'playtime_forever\\': 0, \\'playtime_2weeks\\': 0}, {\\'item_id\\': \\'2370\\', \\'item_name\\': \\'HeXen: Deathkings of the Dark Citadel\\', \\'playtime_forever\\': 0, \\'playtime_2weeks\\': 0}, {\\'item_id\\': \\'2390\\', \\'item_name\\': \\'Heretic: Shadow of the Serpent Riders\\', \\'playtime_forever\\': 0, \\'playtime_2weeks\\': 0}, {\\'item_id\\': \\'9000\\', \\'item_name\\': \\'Wolfenstein 3D: Spear of Destiny\\', \\'playtime_forever\\': 0, \\'playtime_2weeks\\': 0}, {\\'item_id\\': \\'9010\\', \\'item_name\\': \\'Return to Castle Wolfenstein\\', \\'playtime_forever\\': 0, \\'playtime_2weeks\\': 0}, {\\'item_id\\': \\'9030\\', \\'item_name\\': \\'Quake Mission Pack 2: Dissolution of Eternity\\', \\'playtime_forever\\': 0, \\'playtime_2weeks\\': 0}, {\\'item_id\\': \\'9040\\', \\'item_name\\': \\'Quake Mission Pack 1: Scourge of Armagon\\', \\'playtime_forever\\': 0, \\'playtime_2weeks\\': 0}, {\\'item_id\\': \\'9050\\', \\'item_name\\': \\'DOOM 3\\', \\'playtime_forever\\': 0, \\'playtime_2weeks\\': 0}, {\\'item_id\\': \\'9060\\', \\'item_name\\': \\'HeXen II\\', \\'playtime_forever\\': 0, \\'playtime_2weeks\\': 0}, {\\'item_id\\': \\'9070\\', \\'item_name\\': \\'DOOM 3: Resurrection of Evil\\', \\'playtime_forever\\': 0, \\'playtime_2weeks\\': 0}, {\\'item_id\\': \\'9160\\', \\'item_name\\': \\'Master Levels for DOOM II\\', \\'playtime_forever\\': 0, \\'playtime_2weeks\\': 0}, {\\'item_id\\': \\'9180\\', \\'item_name\\': \\'Commander Keen Complete Pack\\', \\'playtime_forever\\': 0, \\'playtime_2weeks\\': 0}, {\\'item_id\\': \\'4760\\', \\'item_name\\': \\'Rome: Total War\\', \\'playtime_forever\\': 51, \\'playtime_2weeks\\': 0}, {\\'item_id\\': \\'220\\', \\'item_name\\': \\'Half-Life 2\\', \\'playtime_forever\\': 750, \\'playtime_2weeks\\': 0}, {\\'item_id\\': \\'340\\', \\'item_name\\': \\'Half-Life 2: Lost Coast\\', \\'playtime_forever\\': 21, \\'playtime_2weeks\\': 0}, {\\'item_id\\': \\'380\\', \\'item_name\\': \\'Half-Life 2: Episode One\\', \\'playtime_forever\\': 181, \\'playtime_2weeks\\': 0}, {\\'item_id\\': \\'400\\', \\'item_name\\': \\'Portal\\', \\'playtime_forever\\': 169, \\'playtime_2weeks\\': 0}, {\\'item_id\\': \\'420\\', \\'item_name\\': \\'Half-Life 2: Episode Two\\', \\'playtime_forever\\': 295, \\'playtime_2weeks\\': 0}, {\\'item_id\\': \\'2590\\', \\'item_name\\': \\'Alpha Prime\\', \\'playtime_forever\\': 0, \\'playtime_2weeks\\': 0}, {\\'item_id\\': \\'4230\\', \\'item_name\\': \\'Race: The WTCC Game\\', \\'playtime_forever\\': 0, \\'playtime_2weeks\\': 0}, {\\'item_id\\': \\'4290\\', \\'item_name\\': \\'RACE: Caterham Expansion\\', \\'playtime_forever\\': 0, \\'playtime_2weeks\\': 0}, {\\'item_id\\': \\'12900\\', \\'item_name\\': \\'Audiosurf\\', \\'playtime_forever\\': 291, \\'playtime_2weeks\\': 0}, {\\'item_id\\': \\'8600\\', \\'item_name\\': \\'RACE 07\\', \\'playtime_forever\\': 0, \\'playtime_2weeks\\': 0}, {\\'item_id\\': \\'8660\\', \\'item_name\\': \\'GTR Evolution\\', \\'playtime_forever\\': 0, \\'playtime_2weeks\\': 0}, {\\'item_id\\': \\'44630\\', \\'item_name\\': \\'RACE 07 - Formula RaceRoom Add-On\\', \\'playtime_forever\\': 0, \\'playtime_2weeks\\': 0}, {\\'item_id\\': \\'15310\\', \\'item_name\\': \\'The Settlers: Heritage of Kings\\', \\'playtime_forever\\': 544, \\'playtime_2weeks\\': 0}, {\\'item_id\\': \\'17100\\', \\'item_name\\': \\'Children of the Nile\\', \\'playtime_forever\\': 0, \\'playtime_2weeks\\': 0}, {\\'item_id\\': \\'17120\\', \\'item_name\\': \\'Children of the Nile: Alexandria\\', \\'playtime_forever\\': 8, \\'playtime_2weeks\\': 0}, {\\'item_id\\': \\'21000\\', \\'item_name\\': \\'LEGO Batman: The Videogame\\', \\'playtime_forever\\': 17, \\'playtime_2weeks\\': 0}, {\\'item_id\\': \\'500\\', \\'item_name\\': \\'Left 4 Dead\\', \\'playtime_forever\\': 0, \\'playtime_2weeks\\': 0}, {\\'item_id\\': \\'18500\\', \\'item_name\\': \\'Defense Grid: The Awakening\\', \\'playtime_forever\\': 144, \\'playtime_2weeks\\': 0}, {\\'item_id\\': \\'17470\\', \\'item_name\\': \\'Dead Space\\', \\'playtime_forever\\': 0, \\'playtime_2weeks\\': 0}, {\\'item_id\\': \\'24740\\', \\'item_name\\': \\'Burnout Paradise: The Ultimate Box\\', \\'playtime_forever\\': 23, \\'playtime_2weeks\\': 0}, {\\'item_id\\': \\'27000\\', \\'item_name\\': \\'The Path\\', \\'playtime_forever\\': 75, \\'playtime_2weeks\\': 0}, {\\'item_id\\': \\'22200\\', \\'item_name\\': \\'Zeno Clash\\', \\'playtime_forever\\': 71, \\'playtime_2weeks\\': 0}, {\\'item_id\\': \\'23700\\', \\'item_name\\': \\'Puzzle Kingdoms\\', \\'playtime_forever\\': 817, \\'playtime_2weeks\\': 0}, {\\'item_id\\': \\'1250\\', \\'item_name\\': \\'Killing Floor\\', \\'playtime_forever\\': 428, \\'playtime_2weeks\\': 0}, {\\'item_id\\': \\'35420\\', \\'item_name\\': \\'Killing Floor Mod: Defence Alliance 2\\', \\'playtime_forever\\': 0, \\'playtime_2weeks\\': 0}, {\\'item_id\\': \\'22330\\', \\'item_name\\': \\'The Elder Scrolls IV: Oblivion \\', \\'playtime_forever\\': 230, \\'playtime_2weeks\\': 0}, {\\'item_id\\': \\'9870\\', \\'item_name\\': \\'Ghostbusters: The Video Game\\', \\'playtime_forever\\': 0, \\'playtime_2weeks\\': 0}, {\\'item_id\\': \\'32370\\', \\'item_name\\': \\'STAR WARS™: Knights of the Old Republic™\\', \\'playtime_forever\\': 0, \\'playtime_2weeks\\': 0}, {\\'item_id\\': \\'12830\\', \\'item_name\\': \\'Operation Flashpoint: Dragon Rising\\', \\'playtime_forever\\': 0, \\'playtime_2weeks\\': 0}, {\\'item_id\\': \\'24800\\', \\'item_name\\': \\'Command and Conquer: Red Alert 3 - Uprising\\', \\'playtime_forever\\': 35, \\'playtime_2weeks\\': 0}, {\\'item_id\\': \\'20900\\', \\'item_name\\': \\'The Witcher: Enhanced Edition\\', \\'playtime_forever\\': 75, \\'playtime_2weeks\\': 0}, {\\'item_id\\': \\'17450\\', \\'item_name\\': \\'Dragon Age: Origins\\', \\'playtime_forever\\': 0, \\'playtime_2weeks\\': 0}, {\\'item_id\\': \\'40200\\', \\'item_name\\': \\'ItzaBitza\\', \\'playtime_forever\\': 0, \\'playtime_2weeks\\': 0}, {\\'item_id\\': \\'40210\\', \\'item_name\\': \\'ItzaZoo\\', \\'playtime_forever\\': 0, \\'playtime_2weeks\\': 0}, {\\'item_id\\': \\'24980\\', \\'item_name\\': \\'Mass Effect 2\\', \\'playtime_forever\\': 0, \\'playtime_2weeks\\': 0}, {\\'item_id\\': \\'46000\\', \\'item_name\\': \\'Bob Came in Pieces\\', \\'playtime_forever\\': 77, \\'playtime_2weeks\\': 0}, {\\'item_id\\': \\'39900\\', \\'item_name\\': \\'Coniclysm\\', \\'playtime_forever\\': 0, \\'playtime_2weeks\\': 0}, {\\'item_id\\': \\'33230\\', \\'item_name\\': \"Assassin\\'s Creed II\", \\'playtime_forever\\': 1412, \\'playtime_2weeks\\': 0}, {\\'item_id\\': \\'8190\\', \\'item_name\\': \\'Just Cause 2\\', \\'playtime_forever\\': 0, \\'playtime_2weeks\\': 0}, {\\'item_id\\': \\'46410\\', \\'item_name\\': \\'Avencast\\', \\'playtime_forever\\': 0, \\'playtime_2weeks\\': 0}, {\\'item_id\\': \\'33220\\', \\'item_name\\': \"Tom Clancy\\'s Splinter Cell: Conviction\", \\'playtime_forever\\': 48, \\'playtime_2weeks\\': 0}, {\\'item_id\\': \\'3900\\', \\'item_name\\': \"Sid Meier\\'s Civilization IV\", \\'playtime_forever\\': 84, \\'playtime_2weeks\\': 0}, {\\'item_id\\': \\'34440\\', \\'item_name\\': \"Sid Meier\\'s Civilization IV\", \\'playtime_forever\\': 0, \\'playtime_2weeks\\': 0}, {\\'item_id\\': \\'20820\\', \\'item_name\\': \\'Shatter\\', \\'playtime_forever\\': 0, \\'playtime_2weeks\\': 0}, {\\'item_id\\': \\'33930\\', \\'item_name\\': \\'Arma 2: Operation Arrowhead\\', \\'playtime_forever\\': 0, \\'playtime_2weeks\\': 0}, {\\'item_id\\': \\'219540\\', \\'item_name\\': \\'Arma 2: Operation Arrowhead Beta (Obsolete)\\', \\'playtime_forever\\': 0, \\'playtime_2weeks\\': 0}, {\\'item_id\\': \\'17410\\', \\'item_name\\': \"Mirror\\'s Edge\", \\'playtime_forever\\': 0, \\'playtime_2weeks\\': 0}, {\\'item_id\\': \\'48800\\', \\'item_name\\': \\'Ship Simulator Extremes\\', \\'playtime_forever\\': 0, \\'playtime_2weeks\\': 0}, {\\'item_id\\': \\'57300\\', \\'item_name\\': \\'Amnesia: The Dark Descent\\', \\'playtime_forever\\': 0, \\'playtime_2weeks\\': 0}, {\\'item_id\\': \\'70100\\', \\'item_name\\': \\'Hacker Evolution\\', \\'playtime_forever\\': 84, \\'playtime_2weeks\\': 0}, {\\'item_id\\': \\'70110\\', \\'item_name\\': \\'Hacker Evolution - Untold\\', \\'playtime_forever\\': 124, \\'playtime_2weeks\\': 0}, {\\'item_id\\': \\'70120\\', \\'item_name\\': \\'Hacker Evolution Duality\\', \\'playtime_forever\\': 0, \\'playtime_2weeks\\': 0}, {\\'item_id\\': \\'8930\\', \\'item_name\\': \"Sid Meier\\'s Civilization V\", \\'playtime_forever\\': 748, \\'playtime_2weeks\\': 0}, {\\'item_id\\': \\'9940\\', \\'item_name\\': \\'Blade Kitten\\', \\'playtime_forever\\': 224, \\'playtime_2weeks\\': 0}, {\\'item_id\\': \\'23490\\', \\'item_name\\': \\'Tropico 3 - Steam Special Edition\\', \\'playtime_forever\\': 0, \\'playtime_2weeks\\': 0}, {\\'item_id\\': \\'57600\\', \\'item_name\\': \\'Tropico 3: Absolute Power\\', \\'playtime_forever\\': 1198, \\'playtime_2weeks\\': 0}, {\\'item_id\\': \\'60600\\', \\'item_name\\': \\'ProtoGalaxy\\', \\'playtime_forever\\': 0, \\'playtime_2weeks\\': 0}, {\\'item_id\\': \\'33950\\', \\'item_name\\': \\'The Fish Fillets 2\\', \\'playtime_forever\\': 0, \\'playtime_2weeks\\': 0}, {\\'item_id\\': \\'22380\\', \\'item_name\\': \\'Fallout: New Vegas\\', \\'playtime_forever\\': 18, \\'playtime_2weeks\\': 0}, {\\'item_id\\': \\'12210\\', \\'item_name\\': \\'Grand Theft Auto IV\\', \\'playtime_forever\\': 6, \\'playtime_2weeks\\': 0}, {\\'item_id\\': \\'12220\\', \\'item_name\\': \\'Grand Theft Auto: Episodes from Liberty City\\', \\'playtime_forever\\': 0, \\'playtime_2weeks\\': 0}, {\\'item_id\\': \\'47810\\', \\'item_name\\': \\'Dragon Age: Origins - Ultimate Edition\\', \\'playtime_forever\\': 41, \\'playtime_2weeks\\': 0}, {\\'item_id\\': \\'39670\\', \\'item_name\\': \\'Chaser\\', \\'playtime_forever\\': 0, \\'playtime_2weeks\\': 0}, {\\'item_id\\': \\'90100\\', \\'item_name\\': \\'Hegemony: Philip of Macedon\\', \\'playtime_forever\\': 0, \\'playtime_2weeks\\': 0}, {\\'item_id\\': \\'63700\\', \\'item_name\\': \\'BIT.TRIP BEAT\\', \\'playtime_forever\\': 101, \\'playtime_2weeks\\': 0}, {\\'item_id\\': \\'55140\\', \\'item_name\\': \\'MX vs. ATV Reflex\\', \\'playtime_forever\\': 0, \\'playtime_2weeks\\': 0}, {\\'item_id\\': \\'31280\\', \\'item_name\\': \\'Poker Night at the Inventory\\', \\'playtime_forever\\': 311, \\'playtime_2weeks\\': 0}, {\\'item_id\\': \\'72200\\', \\'item_name\\': \\'Universe Sandbox\\', \\'playtime_forever\\': 163, \\'playtime_2weeks\\': 0}, {\\'item_id\\': \\'40800\\', \\'item_name\\': \\'Super Meat Boy\\', \\'playtime_forever\\': 60, \\'playtime_2weeks\\': 0}, {\\'item_id\\': \\'48950\\', \\'item_name\\': \\'Greed Corp\\', \\'playtime_forever\\': 77, \\'playtime_2weeks\\': 0}, {\\'item_id\\': \\'65070\\', \\'item_name\\': \"Ride \\'em Low\", \\'playtime_forever\\': 0, \\'playtime_2weeks\\': 0}, {\\'item_id\\': \\'4540\\', \\'item_name\\': \\'Titan Quest\\', \\'playtime_forever\\': 0, \\'playtime_2weeks\\': 0}, {\\'item_id\\': \\'475150\\', \\'item_name\\': \\'Titan Quest Anniversary Edition\\', \\'playtime_forever\\': 0, \\'playtime_2weeks\\': 0}, {\\'item_id\\': \\'31700\\', \\'item_name\\': \\'Iron Grip: Warlord\\', \\'playtime_forever\\': 0, \\'playtime_2weeks\\': 0}, {\\'item_id\\': \\'21100\\', \\'item_name\\': \\'F.E.A.R. 3\\', \\'playtime_forever\\': 0, \\'playtime_2weeks\\': 0}, {\\'item_id\\': \\'42910\\', \\'item_name\\': \\'Magicka\\', \\'playtime_forever\\': 205, \\'playtime_2weeks\\': 0}, {\\'item_id\\': \\'92800\\', \\'item_name\\': \\'SpaceChem\\', \\'playtime_forever\\': 55, \\'playtime_2weeks\\': 0}, {\\'item_id\\': \\'48210\\', \\'item_name\\': \\'The Settlers 7: Paths to a Kingdom - Gold Edition\\', \\'playtime_forever\\': 22, \\'playtime_2weeks\\': 0}, {\\'item_id\\': \\'91900\\', \\'item_name\\': \\'Post Apocalyptic Mayhem\\', \\'playtime_forever\\': 74, \\'playtime_2weeks\\': 0}, {\\'item_id\\': \\'70000\\', \\'item_name\\': \\'Dino D-Day\\', \\'playtime_forever\\': 104, \\'playtime_2weeks\\': 0}, {\\'item_id\\': \\'91600\\', \\'item_name\\': \\'Sanctum\\', \\'playtime_forever\\': 43, \\'playtime_2weeks\\': 0}, {\\'item_id\\': \\'41740\\', \\'item_name\\': \\'Cargo! - The quest for gravity\\', \\'playtime_forever\\': 0, \\'playtime_2weeks\\': 0}, {\\'item_id\\': \\'620\\', \\'item_name\\': \\'Portal 2\\', \\'playtime_forever\\': 3464, \\'playtime_2weeks\\': 0}, {\\'item_id\\': \\'104200\\', \\'item_name\\': \\'BEEP\\', \\'playtime_forever\\': 220, \\'playtime_2weeks\\': 0}, {\\'item_id\\': \\'22600\\', \\'item_name\\': \\'Worms Reloaded\\', \\'playtime_forever\\': 0, \\'playtime_2weeks\\': 0}, {\\'item_id\\': \\'22610\\', \\'item_name\\': \\'Alien Breed: Impact\\', \\'playtime_forever\\': 0, \\'playtime_2weeks\\': 0}, {\\'item_id\\': \\'20920\\', \\'item_name\\': \\'The Witcher 2: Assassins of Kings Enhanced Edition\\', \\'playtime_forever\\': 1343, \\'playtime_2weeks\\': 0}, {\\'item_id\\': \\'92100\\', \\'item_name\\': \\'DETOUR\\', \\'playtime_forever\\': 215, \\'playtime_2weeks\\': 0}, {\\'item_id\\': \\'105600\\', \\'item_name\\': \\'Terraria\\', \\'playtime_forever\\': 4694, \\'playtime_2weeks\\': 0}, {\\'item_id\\': \\'104600\\', \\'item_name\\': \\'Portal 2 - The Final Hours\\', \\'playtime_forever\\': 46, \\'playtime_2weeks\\': 0}, {\\'item_id\\': \\'98500\\', \\'item_name\\': \\'Naval Warfare\\', \\'playtime_forever\\': 0, \\'playtime_2weeks\\': 0}, {\\'item_id\\': \\'94200\\', \\'item_name\\': \\'Jamestown\\', \\'playtime_forever\\': 0, \\'playtime_2weeks\\': 0}, {\\'item_id\\': \\'7600\\', \\'item_name\\': \"Sid Meier\\'s Railroads!\", \\'playtime_forever\\': 0, \\'playtime_2weeks\\': 0}, {\\'item_id\\': \\'37100\\', \\'item_name\\': \\'Aztaka\\', \\'playtime_forever\\': 0, \\'playtime_2weeks\\': 0}, {\\'item_id\\': \\'21090\\', \\'item_name\\': \\'F.E.A.R.\\', \\'playtime_forever\\': 0, \\'playtime_2weeks\\': 0}, {\\'item_id\\': \\'21110\\', \\'item_name\\': \\'F.E.A.R.: Extraction Point\\', \\'playtime_forever\\': 0, \\'playtime_2weeks\\': 0}, {\\'item_id\\': \\'21120\\', \\'item_name\\': \\'F.E.A.R.: Perseus Mandate\\', \\'playtime_forever\\': 0, \\'playtime_2weeks\\': 0}, {\\'item_id\\': \\'16450\\', \\'item_name\\': \\'F.E.A.R. 2: Project Origin\\', \\'playtime_forever\\': 0, \\'playtime_2weeks\\': 0}, {\\'item_id\\': \\'97000\\', \\'item_name\\': \\'Solar 2\\', \\'playtime_forever\\': 0, \\'playtime_2weeks\\': 0}, {\\'item_id\\': \\'39530\\', \\'item_name\\': \\'Painkiller: Black Edition\\', \\'playtime_forever\\': 0, \\'playtime_2weeks\\': 0}, {\\'item_id\\': \\'3270\\', \\'item_name\\': \\'Painkiller Overdose\\', \\'playtime_forever\\': 0, \\'playtime_2weeks\\': 0}, {\\'item_id\\': \\'15900\\', \\'item_name\\': \\'7 Wonders II\\', \\'playtime_forever\\': 0, \\'playtime_2weeks\\': 0}, {\\'item_id\\': \\'15910\\', \\'item_name\\': \\'Luxor: Amun Rising\\', \\'playtime_forever\\': 0, \\'playtime_2weeks\\': 0}, {\\'item_id\\': \\'15920\\', \\'item_name\\': \\'Luxor 2\\', \\'playtime_forever\\': 0, \\'playtime_2weeks\\': 0}, {\\'item_id\\': \\'15930\\', \\'item_name\\': \\'Luxor 3\\', \\'playtime_forever\\': 0, \\'playtime_2weeks\\': 0}, {\\'item_id\\': \\'15940\\', \\'item_name\\': \\'The Office\\', \\'playtime_forever\\': 0, \\'playtime_2weeks\\': 0}, {\\'item_id\\': \\'15950\\', \\'item_name\\': \\'Reaxxion\\', \\'playtime_forever\\': 0, \\'playtime_2weeks\\': 0}, {\\'item_id\\': \\'15960\\', \\'item_name\\': \\'Little Farm\\', \\'playtime_forever\\': 251, \\'playtime_2weeks\\': 0}, {\\'item_id\\': \\'15970\\', \\'item_name\\': \\'Luxor\\', \\'playtime_forever\\': 0, \\'playtime_2weeks\\': 0}, {\\'item_id\\': \\'15980\\', \\'item_name\\': \\'Money Tree\\', \\'playtime_forever\\': 0, \\'playtime_2weeks\\': 0}, {\\'item_id\\': \\'16000\\', \\'item_name\\': \\'Discovery! A Seek & Find Adventure\\', \\'playtime_forever\\': 0, \\'playtime_2weeks\\': 0}, {\\'item_id\\': \\'16020\\', \\'item_name\\': \\'Samantha Swift and the Hidden Roses of Athena\\', \\'playtime_forever\\': 0, \\'playtime_2weeks\\': 0}, {\\'item_id\\': \\'16030\\', \\'item_name\\': \\'7 Wonders: The Treasures of Seven\\', \\'playtime_forever\\': 0, \\'playtime_2weeks\\': 0}, {\\'item_id\\': \\'16040\\', \\'item_name\\': \\'Luxor: Quest for the Afterlife\\', \\'playtime_forever\\': 0, \\'playtime_2weeks\\': 0}, {\\'item_id\\': \\'16060\\', \\'item_name\\': \\'Samantha Swift and the Golden Touch\\', \\'playtime_forever\\': 0, \\'playtime_2weeks\\': 0}, {\\'item_id\\': \\'32110\\', \\'item_name\\': \\'Luxor Mahjong\\', \\'playtime_forever\\': 0, \\'playtime_2weeks\\': 0}, {\\'item_id\\': \\'32120\\', \\'item_name\\': \\'Chainz 2: Relinked\\', \\'playtime_forever\\': 0, \\'playtime_2weeks\\': 0}, {\\'item_id\\': \\'32130\\', \\'item_name\\': \"Penguins\\' Journey\", \\'playtime_forever\\': 0, \\'playtime_2weeks\\': 0}, {\\'item_id\\': \\'32140\\', \\'item_name\\': \\'Midnight Mysteries: The Edgar Allan Poe Conspiracy\\', \\'playtime_forever\\': 0, \\'playtime_2weeks\\': 0}, {\\'item_id\\': \\'32160\\', \\'item_name\\': \\'Zombie Bowl-O-Rama\\', \\'playtime_forever\\': 0, \\'playtime_2weeks\\': 0}, {\\'item_id\\': \\'60340\\', \\'item_name\\': \\'LUXOR: 5th Passage \\', \\'playtime_forever\\': 0, \\'playtime_2weeks\\': 0}, {\\'item_id\\': \\'22650\\', \\'item_name\\': \\'Alien Breed 2: Assault\\', \\'playtime_forever\\': 0, \\'playtime_2weeks\\': 0}, {\\'item_id\\': \\'50130\\', \\'item_name\\': \\'Mafia II\\', \\'playtime_forever\\': 0, \\'playtime_2weeks\\': 0}, {\\'item_id\\': \\'98800\\', \\'item_name\\': \\'Dungeons of Dredmor\\', \\'playtime_forever\\': 75, \\'playtime_2weeks\\': 0}, {\\'item_id\\': \\'22230\\', \\'item_name\\': \\'Rock of Ages\\', \\'playtime_forever\\': 75, \\'playtime_2weeks\\': 0}, {\\'item_id\\': \\'34830\\', \\'item_name\\': \\'Sniper: Ghost Warrior\\', \\'playtime_forever\\': 0, \\'playtime_2weeks\\': 0}, {\\'item_id\\': \\'96100\\', \\'item_name\\': \\'Defy Gravity\\', \\'playtime_forever\\': 35, \\'playtime_2weeks\\': 0}, {\\'item_id\\': \\'61100\\', \\'item_name\\': \\'Lucid\\', \\'playtime_forever\\': 0, \\'playtime_2weeks\\': 0}, {\\'item_id\\': \\'32800\\', \\'item_name\\': \\'The Lord of the Rings: War in the North\\', \\'playtime_forever\\': 0, \\'playtime_2weeks\\': 0}, {\\'item_id\\': \\'107100\\', \\'item_name\\': \\'Bastion\\', \\'playtime_forever\\': 84, \\'playtime_2weeks\\': 0}, {\\'item_id\\': \\'65790\\', \\'item_name\\': \\'Arma: Cold War Assault\\', \\'playtime_forever\\': 0, \\'playtime_2weeks\\': 0}, {\\'item_id\\': \\'107200\\', \\'item_name\\': \\'Space Pirates and Zombies\\', \\'playtime_forever\\': 86, \\'playtime_2weeks\\': 0}, {\\'item_id\\': \\'111800\\', \\'item_name\\': \\'Blocks That Matter\\', \\'playtime_forever\\': 95, \\'playtime_2weeks\\': 0}, {\\'item_id\\': \\'28050\\', \\'item_name\\': \\'Deus Ex: Human Revolution\\', \\'playtime_forever\\': 2159, \\'playtime_2weeks\\': 0}, {\\'item_id\\': \\'17710\\', \\'item_name\\': \\'Nuclear Dawn\\', \\'playtime_forever\\': 143, \\'playtime_2weeks\\': 0}, {\\'item_id\\': \\'63000\\', \\'item_name\\': \\'HOARD\\', \\'playtime_forever\\': 0, \\'playtime_2weeks\\': 0}, {\\'item_id\\': \\'102840\\', \\'item_name\\': \\'Shank 2\\', \\'playtime_forever\\': 194, \\'playtime_2weeks\\': 0}, {\\'item_id\\': \\'55230\\', \\'item_name\\': \\'Saints Row: The Third\\', \\'playtime_forever\\': 4326, \\'playtime_2weeks\\': 0}, {\\'item_id\\': \\'3830\\', \\'item_name\\': \\'Psychonauts\\', \\'playtime_forever\\': 93, \\'playtime_2weeks\\': 0}, {\\'item_id\\': \\'115100\\', \\'item_name\\': \\'Costume Quest\\', \\'playtime_forever\\': 101, \\'playtime_2weeks\\': 0}, {\\'item_id\\': \\'80310\\', \\'item_name\\': \\'Gemini Rue\\', \\'playtime_forever\\': 74, \\'playtime_2weeks\\': 0}, {\\'item_id\\': \\'65800\\', \\'item_name\\': \\'Dungeon Defenders\\', \\'playtime_forever\\': 33, \\'playtime_2weeks\\': 0}, {\\'item_id\\': \\'65730\\', \\'item_name\\': \\'Take On Helicopters\\', \\'playtime_forever\\': 0, \\'playtime_2weeks\\': 0}, {\\'item_id\\': \\'201280\\', \\'item_name\\': \\'Deus Ex: Human Revolution - The Missing Link\\', \\'playtime_forever\\': 71, \\'playtime_2weeks\\': 0}, {\\'item_id\\': \\'110800\\', \\'item_name\\': \\'L.A. Noire\\', \\'playtime_forever\\': 0, \\'playtime_2weeks\\': 0}, {\\'item_id\\': \\'71340\\', \\'item_name\\': \\'Sonic Generations\\', \\'playtime_forever\\': 0, \\'playtime_2weeks\\': 0}, {\\'item_id\\': \\'72850\\', \\'item_name\\': \\'The Elder Scrolls V: Skyrim\\', \\'playtime_forever\\': 13831, \\'playtime_2weeks\\': 0}, {\\'item_id\\': \\'48240\\', \\'item_name\\': \\'Anno 2070\\', \\'playtime_forever\\': 723, \\'playtime_2weeks\\': 0}, {\\'item_id\\': \\'41070\\', \\'item_name\\': \\'Serious Sam 3: BFE\\', \\'playtime_forever\\': 112, \\'playtime_2weeks\\': 0}, {\\'item_id\\': \\'61310\\', \\'item_name\\': \\'Fractal: Make Blooms Not War\\', \\'playtime_forever\\': 0, \\'playtime_2weeks\\': 0}, {\\'item_id\\': \\'24480\\', \\'item_name\\': \\'King Arthur II - The Role-playing Wargame\\', \\'playtime_forever\\': 0, \\'playtime_2weeks\\': 0}, {\\'item_id\\': \\'1600\\', \\'item_name\\': \\'Dangerous Waters\\', \\'playtime_forever\\': 0, \\'playtime_2weeks\\': 0}, {\\'item_id\\': \\'205790\\', \\'item_name\\': \\'Dota 2 Test\\', \\'playtime_forever\\': 0, \\'playtime_2weeks\\': 0}, {\\'item_id\\': \\'41900\\', \\'item_name\\': \"The Bard\\'s Tale\", \\'playtime_forever\\': 0, \\'playtime_2weeks\\': 0}, {\\'item_id\\': \\'105450\\', \\'item_name\\': \\'Age of Empires® III: Complete Collection\\', \\'playtime_forever\\': 285, \\'playtime_2weeks\\': 0}, {\\'item_id\\': \\'8650\\', \\'item_name\\': \\'RACE 07: Andy Priaulx Crowne Plaza Raceway\\', \\'playtime_forever\\': 0, \\'playtime_2weeks\\': 0}, {\\'item_id\\': \\'48000\\', \\'item_name\\': \\'LIMBO\\', \\'playtime_forever\\': 0, \\'playtime_2weeks\\': 0}, {\\'item_id\\': \\'115110\\', \\'item_name\\': \\'Stacking\\', \\'playtime_forever\\': 164, \\'playtime_2weeks\\': 0}, {\\'item_id\\': \\'207170\\', \\'item_name\\': \\'Legend of Grimrock\\', \\'playtime_forever\\': 0, \\'playtime_2weeks\\': 0}, {\\'item_id\\': \\'207650\\', \\'item_name\\': \\'A Virus Named TOM\\', \\'playtime_forever\\': 116, \\'playtime_2weeks\\': 0}, {\\'item_id\\': \\'108200\\', \\'item_name\\': \\'Ticket to Ride\\', \\'playtime_forever\\': 0, \\'playtime_2weeks\\': 0}, {\\'item_id\\': \\'102600\\', \\'item_name\\': \\'Orcs Must Die!\\', \\'playtime_forever\\': 0, \\'playtime_2weeks\\': 0}, {\\'item_id\\': \\'208600\\', \\'item_name\\': \\'Lunar Flight\\', \\'playtime_forever\\': 57, \\'playtime_2weeks\\': 0}, {\\'item_id\\': \\'209610\\', \\'item_name\\': \\'Roller Coaster Rampage\\', \\'playtime_forever\\': 0, \\'playtime_2weeks\\': 0}, {\\'item_id\\': \\'15560\\', \\'item_name\\': \\'AaaaaAAaaaAAAaaAAAAaAAAAA!!! for the Awesome\\', \\'playtime_forever\\': 0, \\'playtime_2weeks\\': 0}, {\\'item_id\\': \\'209360\\', \\'item_name\\': \\'AZMD! Scorepocalypse \\', \\'playtime_forever\\': 0, \\'playtime_2weeks\\': 0}, {\\'item_id\\': \\'50510\\', \\'item_name\\': \\'Burn Zombie Burn\\', \\'playtime_forever\\': 0, \\'playtime_2weeks\\': 0}, {\\'item_id\\': \\'207690\\', \\'item_name\\': \\'Botanicula\\', \\'playtime_forever\\': 0, \\'playtime_2weeks\\': 0}, {\\'item_id\\': \\'210150\\', \\'item_name\\': \\'Pole Position 2012\\', \\'playtime_forever\\': 0, \\'playtime_2weeks\\': 0}, {\\'item_id\\': \\'207610\\', \\'item_name\\': \\'The Walking Dead\\', \\'playtime_forever\\': 793, \\'playtime_2weeks\\': 0}, {\\'item_id\\': \\'205610\\', \\'item_name\\': \\'Port Royale 3\\', \\'playtime_forever\\': 102, \\'playtime_2weeks\\': 0}, {\\'item_id\\': \\'205350\\', \\'item_name\\': \\'Mortal Kombat Kollection\\', \\'playtime_forever\\': 0, \\'playtime_2weeks\\': 0}, {\\'item_id\\': \\'104900\\', \\'item_name\\': \\'ORION: Prelude\\', \\'playtime_forever\\': 120, \\'playtime_2weeks\\': 0}, {\\'item_id\\': \\'205530\\', \\'item_name\\': \\'Gratuitous Tank Battles\\', \\'playtime_forever\\': 0, \\'playtime_2weeks\\': 0}, {\\'item_id\\': \\'3990\\', \\'item_name\\': \"Sid Meier\\'s Civilization IV: Warlords\", \\'playtime_forever\\': 0, \\'playtime_2weeks\\': 0}, {\\'item_id\\': \\'8800\\', \\'item_name\\': \"Sid Meier\\'s Civilization IV: Beyond the Sword\", \\'playtime_forever\\': 0, \\'playtime_2weeks\\': 0}, {\\'item_id\\': \\'16810\\', \\'item_name\\': \"Sid Meier\\'s Civilization IV: Colonization\", \\'playtime_forever\\': 0, \\'playtime_2weeks\\': 0}, {\\'item_id\\': \\'34450\\', \\'item_name\\': \"Sid Meier\\'s Civilization IV: Warlords\", \\'playtime_forever\\': 0, \\'playtime_2weeks\\': 0}, {\\'item_id\\': \\'34460\\', \\'item_name\\': \"Sid Meier\\'s Civilization IV: Beyond the Sword\", \\'playtime_forever\\': 0, \\'playtime_2weeks\\': 0}, {\\'item_id\\': \\'211360\\', \\'item_name\\': \\'Offspring Fling!\\', \\'playtime_forever\\': 136, \\'playtime_2weeks\\': 0}, {\\'item_id\\': \\'200260\\', \\'item_name\\': \\'Batman: Arkham City GOTY\\', \\'playtime_forever\\': 1066, \\'playtime_2weeks\\': 0}, {\\'item_id\\': \\'98400\\', \\'item_name\\': \\'Hard Reset\\', \\'playtime_forever\\': 0, \\'playtime_2weeks\\': 0}, {\\'item_id\\': \\'204180\\', \\'item_name\\': \\'Waveform\\', \\'playtime_forever\\': 220, \\'playtime_2weeks\\': 0}, {\\'item_id\\': \\'108800\\', \\'item_name\\': \\'Crysis 2 Maximum Edition\\', \\'playtime_forever\\': 36, \\'playtime_2weeks\\': 0}, {\\'item_id\\': \\'207730\\', \\'item_name\\': \\'Arena Wars 2\\', \\'playtime_forever\\': 0, \\'playtime_2weeks\\': 0}, {\\'item_id\\': \\'204100\\', \\'item_name\\': \\'Max Payne 3\\', \\'playtime_forever\\': 140, \\'playtime_2weeks\\': 0}, {\\'item_id\\': \\'207080\\', \\'item_name\\': \\'Indie Game: The Movie\\', \\'playtime_forever\\': 281, \\'playtime_2weeks\\': 0}, {\\'item_id\\': \\'209790\\', \\'item_name\\': \\'Splice\\', \\'playtime_forever\\': 0, \\'playtime_2weeks\\': 0}, {\\'item_id\\': \\'213330\\', \\'item_name\\': \\'LEGO Batman 2\\', \\'playtime_forever\\': 0, \\'playtime_2weeks\\': 0}, {\\'item_id\\': \\'211120\\', \\'item_name\\': \\'The Political Machine\\', \\'playtime_forever\\': 4, \\'playtime_2weeks\\': 0}, {\\'item_id\\': \\'212010\\', \\'item_name\\': \\'Galaxy on Fire 2™ Full HD\\', \\'playtime_forever\\': 0, \\'playtime_2weeks\\': 0}, {\\'item_id\\': \\'214360\\', \\'item_name\\': \\'Tower Wars\\', \\'playtime_forever\\': 99, \\'playtime_2weeks\\': 0}, {\\'item_id\\': \\'234740\\', \\'item_name\\': \\'Tower Wars Editor\\', \\'playtime_forever\\': 0, \\'playtime_2weeks\\': 0}, {\\'item_id\\': \\'201790\\', \\'item_name\\': \\'Orcs Must Die! 2\\', \\'playtime_forever\\': 406, \\'playtime_2weeks\\': 0}, {\\'item_id\\': \\'35140\\', \\'item_name\\': \\'Batman: Arkham Asylum GOTY Edition\\', \\'playtime_forever\\': 727, \\'playtime_2weeks\\': 0}, {\\'item_id\\': \\'113200\\', \\'item_name\\': \\'The Binding of Isaac\\', \\'playtime_forever\\': 121, \\'playtime_2weeks\\': 0}, {\\'item_id\\': \\'204300\\', \\'item_name\\': \\'Awesomenauts\\', \\'playtime_forever\\': 499, \\'playtime_2weeks\\': 0}, {\\'item_id\\': \\'108700\\', \\'item_name\\': \\'Death Rally\\', \\'playtime_forever\\': 10, \\'playtime_2weeks\\': 0}, {\\'item_id\\': \\'204220\\', \\'item_name\\': \\'Snapshot\\', \\'playtime_forever\\': 0, \\'playtime_2weeks\\': 0}, {\\'item_id\\': \\'202170\\', \\'item_name\\': \\'Sleeping Dogs™\\', \\'playtime_forever\\': 1195, \\'playtime_2weeks\\': 0}, {\\'item_id\\': \\'49520\\', \\'item_name\\': \\'Borderlands 2\\', \\'playtime_forever\\': 266, \\'playtime_2weeks\\': 0}, {\\'item_id\\': \\'33600\\', \\'item_name\\': \\'Broken Sword 2 - the Smoking Mirror: Remastered\\', \\'playtime_forever\\': 0, \\'playtime_2weeks\\': 0}, {\\'item_id\\': \\'214790\\', \\'item_name\\': \\'The Basement Collection\\', \\'playtime_forever\\': 0, \\'playtime_2weeks\\': 0}, {\\'item_id\\': \\'72000\\', \\'item_name\\': \\'Closure\\', \\'playtime_forever\\': 63, \\'playtime_2weeks\\': 0}, {\\'item_id\\': \\'215510\\', \\'item_name\\': \\'Rocketbirds: Hardboiled Chicken\\', \\'playtime_forever\\': 0, \\'playtime_2weeks\\': 0}, {\\'item_id\\': \\'200510\\', \\'item_name\\': \\'XCOM: Enemy Unknown\\', \\'playtime_forever\\': 192, \\'playtime_2weeks\\': 0}, {\\'item_id\\': \\'218640\\', \\'item_name\\': \\'Lucius\\', \\'playtime_forever\\': 122, \\'playtime_2weeks\\': 0}, {\\'item_id\\': \\'209540\\', \\'item_name\\': \\'Strike Suit Zero\\', \\'playtime_forever\\': 58, \\'playtime_2weeks\\': 0}, {\\'item_id\\': \\'212680\\', \\'item_name\\': \\'FTL: Faster Than Light\\', \\'playtime_forever\\': 748, \\'playtime_2weeks\\': 0}, {\\'item_id\\': \\'214560\\', \\'item_name\\': \\'Mark of the Ninja\\', \\'playtime_forever\\': 268, \\'playtime_2weeks\\': 0}, {\\'item_id\\': \\'206440\\', \\'item_name\\': \\'To the Moon\\', \\'playtime_forever\\': 61, \\'playtime_2weeks\\': 0}, {\\'item_id\\': \\'220780\\', \\'item_name\\': \\'Thomas Was Alone\\', \\'playtime_forever\\': 0, \\'playtime_2weeks\\': 0}, {\\'item_id\\': \\'204360\\', \\'item_name\\': \\'Castle Crashers\\', \\'playtime_forever\\': 114, \\'playtime_2weeks\\': 0}, {\\'item_id\\': \\'221260\\', \\'item_name\\': \\'Little Inferno\\', \\'playtime_forever\\': 0, \\'playtime_2weeks\\': 0}, {\\'item_id\\': \\'215790\\', \\'item_name\\': \\'Dream Pinball 3D\\', \\'playtime_forever\\': 0, \\'playtime_2weeks\\': 0}, {\\'item_id\\': \\'200710\\', \\'item_name\\': \\'Torchlight II\\', \\'playtime_forever\\': 106, \\'playtime_2weeks\\': 0}, {\\'item_id\\': \\'219910\\', \\'item_name\\': \"Edna & Harvey: Harvey\\'s New Eyes\", \\'playtime_forever\\': 103, \\'playtime_2weeks\\': 0}, {\\'item_id\\': \\'220860\\', \\'item_name\\': \\'McPixel\\', \\'playtime_forever\\': 219, \\'playtime_2weeks\\': 0}, {\\'item_id\\': \\'65740\\', \\'item_name\\': \\'Carrier Command: Gaea Mission\\', \\'playtime_forever\\': 0, \\'playtime_2weeks\\': 0}, {\\'item_id\\': \\'4700\\', \\'item_name\\': \\'Medieval II: Total War\\', \\'playtime_forever\\': 100, \\'playtime_2weeks\\': 0}, {\\'item_id\\': \\'10500\\', \\'item_name\\': \\'Empire: Total War\\', \\'playtime_forever\\': 55, \\'playtime_2weeks\\': 0}, {\\'item_id\\': \\'34030\\', \\'item_name\\': \\'Napoleon: Total War\\', \\'playtime_forever\\': 60, \\'playtime_2weeks\\': 0}, {\\'item_id\\': \\'34330\\', \\'item_name\\': \\'Total War: SHOGUN 2\\', \\'playtime_forever\\': 178, \\'playtime_2weeks\\': 0}, {\\'item_id\\': \\'211160\\', \\'item_name\\': \\'Viking: Battle for Asgard\\', \\'playtime_forever\\': 1, \\'playtime_2weeks\\': 0}, {\\'item_id\\': \\'217060\\', \\'item_name\\': \\'Total War Battles: SHOGUN\\', \\'playtime_forever\\': 0, \\'playtime_2weeks\\': 0}, {\\'item_id\\': \\'43100\\', \\'item_name\\': \\'World of Zoo\\', \\'playtime_forever\\': 0, \\'playtime_2weeks\\': 0}, {\\'item_id\\': \\'219150\\', \\'item_name\\': \\'Hotline Miami\\', \\'playtime_forever\\': 218, \\'playtime_2weeks\\': 0}, {\\'item_id\\': \\'205100\\', \\'item_name\\': \\'Dishonored\\', \\'playtime_forever\\': 696, \\'playtime_2weeks\\': 0}, {\\'item_id\\': \\'217790\\', \\'item_name\\': \\'Dogfight 1942\\', \\'playtime_forever\\': 0, \\'playtime_2weeks\\': 0}, {\\'item_id\\': \\'218680\\', \\'item_name\\': \\'Scribblenauts Unlimited\\', \\'playtime_forever\\': 195, \\'playtime_2weeks\\': 0}, {\\'item_id\\': \\'223220\\', \\'item_name\\': \\'Giana Sisters: Twisted Dreams\\', \\'playtime_forever\\': 105, \\'playtime_2weeks\\': 0}, {\\'item_id\\': \\'4920\\', \\'item_name\\': \\'Natural Selection 2\\', \\'playtime_forever\\': 103, \\'playtime_2weeks\\': 0}, {\\'item_id\\': \\'33670\\', \\'item_name\\': \\'Disciples III: Renaissance\\', \\'playtime_forever\\': 0, \\'playtime_2weeks\\': 0}, {\\'item_id\\': \\'218740\\', \\'item_name\\': \\'Pid \\', \\'playtime_forever\\': 0, \\'playtime_2weeks\\': 0}, {\\'item_id\\': \\'219950\\', \\'item_name\\': \\'NiGHTS into Dreams...\\', \\'playtime_forever\\': 0, \\'playtime_2weeks\\': 0}, {\\'item_id\\': \\'38600\\', \\'item_name\\': \\'Faerie Solitaire\\', \\'playtime_forever\\': 194, \\'playtime_2weeks\\': 0}, {\\'item_id\\': \\'224900\\', \\'item_name\\': \\'Iron Sky Invasion\\', \\'playtime_forever\\': 0, \\'playtime_2weeks\\': 0}, {\\'item_id\\': \\'223470\\', \\'item_name\\': \\'POSTAL 2\\', \\'playtime_forever\\': 114, \\'playtime_2weeks\\': 0}, {\\'item_id\\': \\'220240\\', \\'item_name\\': \\'Far Cry® 3\\', \\'playtime_forever\\': 1643, \\'playtime_2weeks\\': 0}, {\\'item_id\\': \\'223630\\', \\'item_name\\': \\'AirBuccaneers\\', \\'playtime_forever\\': 88, \\'playtime_2weeks\\': 0}, {\\'item_id\\': \\'203140\\', \\'item_name\\': \\'Hitman: Absolution\\', \\'playtime_forever\\': 227, \\'playtime_2weeks\\': 0}, {\\'item_id\\': \\'205930\\', \\'item_name\\': \\'Hitman: Sniper Challenge\\', \\'playtime_forever\\': 0, \\'playtime_2weeks\\': 0}, {\\'item_id\\': \\'4560\\', \\'item_name\\': \\'Company of Heroes\\', \\'playtime_forever\\': 26, \\'playtime_2weeks\\': 0}, {\\'item_id\\': \\'9340\\', \\'item_name\\': \\'Company of Heroes: Opposing Fronts\\', \\'playtime_forever\\': 0, \\'playtime_2weeks\\': 0}, {\\'item_id\\': \\'20540\\', \\'item_name\\': \\'Company of Heroes: Tales of Valor\\', \\'playtime_forever\\': 0, \\'playtime_2weeks\\': 0}, {\\'item_id\\': \\'43110\\', \\'item_name\\': \\'Metro 2033\\', \\'playtime_forever\\': 0, \\'playtime_2weeks\\': 0}, {\\'item_id\\': \\'50620\\', \\'item_name\\': \\'Darksiders\\', \\'playtime_forever\\': 0, \\'playtime_2weeks\\': 0}, {\\'item_id\\': \\'55110\\', \\'item_name\\': \\'Red Faction: Armageddon\\', \\'playtime_forever\\': 0, \\'playtime_2weeks\\': 0}, {\\'item_id\\': \\'228200\\', \\'item_name\\': \\'Company of Heroes (New Steam Version)\\', \\'playtime_forever\\': 0, \\'playtime_2weeks\\': 0}, {\\'item_id\\': \\'17460\\', \\'item_name\\': \\'Mass Effect\\', \\'playtime_forever\\': 299, \\'playtime_2weeks\\': 0}, {\\'item_id\\': \\'209190\\', \\'item_name\\': \\'Stealth Bastard Deluxe\\', \\'playtime_forever\\': 124, \\'playtime_2weeks\\': 0}, {\\'item_id\\': \\'226120\\', \\'item_name\\': \\'Weird Worlds: Return to Infinite Space\\', \\'playtime_forever\\': 0, \\'playtime_2weeks\\': 0}, {\\'item_id\\': \\'221640\\', \\'item_name\\': \\'Super Hexagon\\', \\'playtime_forever\\': 21, \\'playtime_2weeks\\': 0}, {\\'item_id\\': \\'34870\\', \\'item_name\\': \\'Sniper Ghost Warrior 2\\', \\'playtime_forever\\': 0, \\'playtime_2weeks\\': 0}, {\\'item_id\\': \\'224420\\', \\'item_name\\': \\'Afterfall InSanity Extended Edition\\', \\'playtime_forever\\': 126, \\'playtime_2weeks\\': 0}, {\\'item_id\\': \\'105000\\', \\'item_name\\': \\'A New Beginning - Final Cut\\', \\'playtime_forever\\': 0, \\'playtime_2weeks\\': 0}, {\\'item_id\\': \\'221300\\', \\'item_name\\': \\'Monopoly\\', \\'playtime_forever\\': 70, \\'playtime_2weeks\\': 0}, {\\'item_id\\': \\'209950\\', \\'item_name\\': \\'Triple Town\\', \\'playtime_forever\\': 239, \\'playtime_2weeks\\': 0}, {\\'item_id\\': \\'4570\\', \\'item_name\\': \\'Warhammer 40,000: Dawn of War - Game of the Year Edition\\', \\'playtime_forever\\': 256, \\'playtime_2weeks\\': 0}, {\\'item_id\\': \\'71230\\', \\'item_name\\': \\'Crazy Taxi\\', \\'playtime_forever\\': 14, \\'playtime_2weeks\\': 0}, {\\'item_id\\': \\'71240\\', \\'item_name\\': \\'SEGA Bass Fishing\\', \\'playtime_forever\\': 0, \\'playtime_2weeks\\': 0}, {\\'item_id\\': \\'71250\\', \\'item_name\\': \\'Sonic Adventure DX\\', \\'playtime_forever\\': 0, \\'playtime_2weeks\\': 0}, {\\'item_id\\': \\'71260\\', \\'item_name\\': \\'Space Channel 5: Part 2\\', \\'playtime_forever\\': 0, \\'playtime_2weeks\\': 0}, {\\'item_id\\': \\'222980\\', \\'item_name\\': \\'Dead Pixels\\', \\'playtime_forever\\': 0, \\'playtime_2weeks\\': 0}, {\\'item_id\\': \\'200900\\', \\'item_name\\': \\'Cave Story+\\', \\'playtime_forever\\': 0, \\'playtime_2weeks\\': 0}, {\\'item_id\\': \\'35720\\', \\'item_name\\': \\'Trine 2\\', \\'playtime_forever\\': 100, \\'playtime_2weeks\\': 0}, {\\'item_id\\': \\'209270\\', \\'item_name\\': \\'Hero Academy\\', \\'playtime_forever\\': 15, \\'playtime_2weeks\\': 0}, {\\'item_id\\': \\'224700\\', \\'item_name\\': \\'The Game of Life\\', \\'playtime_forever\\': 20, \\'playtime_2weeks\\': 0}, {\\'item_id\\': \\'227300\\', \\'item_name\\': \\'Euro Truck Simulator 2\\', \\'playtime_forever\\': 551, \\'playtime_2weeks\\': 0}, {\\'item_id\\': \\'204080\\', \\'item_name\\': \\'The Showdown Effect\\', \\'playtime_forever\\': 152, \\'playtime_2weeks\\': 0}, {\\'item_id\\': \\'219890\\', \\'item_name\\': \\'Antichamber\\', \\'playtime_forever\\': 80, \\'playtime_2weeks\\': 0}, {\\'item_id\\': \\'223850\\', \\'item_name\\': \\'3DMark\\', \\'playtime_forever\\': 26, \\'playtime_2weeks\\': 0}, {\\'item_id\\': \\'286080\\', \\'item_name\\': \\'Thinking with Time Machine\\', \\'playtime_forever\\': 68, \\'playtime_2weeks\\': 0}, {\\'item_id\\': \\'224580\\', \\'item_name\\': \\'Arma 2: DayZ Mod\\', \\'playtime_forever\\': 0, \\'playtime_2weeks\\': 0}, {\\'item_id\\': \\'225260\\', \\'item_name\\': \\'Brütal Legend\\', \\'playtime_forever\\': 436, \\'playtime_2weeks\\': 0}, {\\'item_id\\': \\'218060\\', \\'item_name\\': \\'BIT.TRIP Presents... Runner2: Future Legend of Rhythm Alien\\', \\'playtime_forever\\': 185, \\'playtime_2weeks\\': 0}, {\\'item_id\\': \\'217920\\', \\'item_name\\': \\'Alien Rage - Unlimited\\', \\'playtime_forever\\': 0, \\'playtime_2weeks\\': 0}, {\\'item_id\\': \\'227260\\', \\'item_name\\': \\'DisplayFusion\\', \\'playtime_forever\\': 28, \\'playtime_2weeks\\': 0}, {\\'item_id\\': \\'203160\\', \\'item_name\\': \\'Tomb Raider\\', \\'playtime_forever\\': 1142, \\'playtime_2weeks\\': 0}, {\\'item_id\\': \\'232950\\', \\'item_name\\': \\'Bridge Project\\', \\'playtime_forever\\': 0, \\'playtime_2weeks\\': 0}, {\\'item_id\\': \\'230150\\', \\'item_name\\': \\'Incredipede\\', \\'playtime_forever\\': 0, \\'playtime_2weeks\\': 0}, {\\'item_id\\': \\'225420\\', \\'item_name\\': \\'Cities in Motion 2\\', \\'playtime_forever\\': 84, \\'playtime_2weeks\\': 0}, {\\'item_id\\': \\'234490\\', \\'item_name\\': \\'Rush Bros\\', \\'playtime_forever\\': 157, \\'playtime_2weeks\\': 0}, {\\'item_id\\': \\'227080\\', \\'item_name\\': \\'Papo & Yo\\', \\'playtime_forever\\': 0, \\'playtime_2weeks\\': 0}, {\\'item_id\\': \\'233740\\', \\'item_name\\': \"Organ Trail: Director\\'s Cut\", \\'playtime_forever\\': 169, \\'playtime_2weeks\\': 0}, {\\'item_id\\': \\'233450\\', \\'item_name\\': \\'Prison Architect\\', \\'playtime_forever\\': 679, \\'playtime_2weeks\\': 0}, {\\'item_id\\': \\'235360\\', \\'item_name\\': \\'Prime World: Defenders\\', \\'playtime_forever\\': 142, \\'playtime_2weeks\\': 0}, {\\'item_id\\': \\'234900\\', \\'item_name\\': \\'Anodyne\\', \\'playtime_forever\\': 160, \\'playtime_2weeks\\': 0}, {\\'item_id\\': \\'233720\\', \\'item_name\\': \\'Surgeon Simulator\\', \\'playtime_forever\\': 137, \\'playtime_2weeks\\': 0}, {\\'item_id\\': \\'234710\\', \\'item_name\\': \\'Poker Night 2\\', \\'playtime_forever\\': 450, \\'playtime_2weeks\\': 0}, {\\'item_id\\': \\'220900\\', \\'item_name\\': \\'Jack Lumber\\', \\'playtime_forever\\': 47, \\'playtime_2weeks\\': 0}, {\\'item_id\\': \\'210770\\', \\'item_name\\': \\'Sanctum 2\\', \\'playtime_forever\\': 121, \\'playtime_2weeks\\': 0}, {\\'item_id\\': \\'113020\\', \\'item_name\\': \\'Monaco\\', \\'playtime_forever\\': 116, \\'playtime_2weeks\\': 0}, {\\'item_id\\': \\'22300\\', \\'item_name\\': \\'Fallout 3\\', \\'playtime_forever\\': 0, \\'playtime_2weeks\\': 0}, {\\'item_id\\': \\'235250\\', \\'item_name\\': \\'Super Sanctum TD\\', \\'playtime_forever\\': 63, \\'playtime_2weeks\\': 0}, {\\'item_id\\': \\'219740\\', \\'item_name\\': \"Don\\'t Starve\", \\'playtime_forever\\': 75, \\'playtime_2weeks\\': 0}, {\\'item_id\\': \\'322330\\', \\'item_name\\': \"Don\\'t Starve Together\", \\'playtime_forever\\': 420, \\'playtime_2weeks\\': 0}, {\\'item_id\\': \\'224760\\', \\'item_name\\': \\'FEZ\\', \\'playtime_forever\\': 0, \\'playtime_2weeks\\': 0}, {\\'item_id\\': \\'234650\\', \\'item_name\\': \\'Shadowrun Returns\\', \\'playtime_forever\\': 224, \\'playtime_2weeks\\': 0}, {\\'item_id\\': \\'204450\\', \\'item_name\\': \\'Call of Juarez Gunslinger\\', \\'playtime_forever\\': 369, \\'playtime_2weeks\\': 0}, {\\'item_id\\': \\'236730\\', \\'item_name\\': \\'Anomaly 2\\', \\'playtime_forever\\': 53, \\'playtime_2weeks\\': 0}, {\\'item_id\\': \\'233270\\', \\'item_name\\': \\'Far Cry® 3 Blood Dragon\\', \\'playtime_forever\\': 75, \\'playtime_2weeks\\': 0}, {\\'item_id\\': \\'215690\\', \\'item_name\\': \\'Zeno Clash 2\\', \\'playtime_forever\\': 102, \\'playtime_2weeks\\': 0}, {\\'item_id\\': \\'222730\\', \\'item_name\\': \\'Reus\\', \\'playtime_forever\\': 78, \\'playtime_2weeks\\': 0}, {\\'item_id\\': \\'57640\\', \\'item_name\\': \"Broken Sword 1 - Shadow of the Templars: Director\\'s Cut\", \\'playtime_forever\\': 0, \\'playtime_2weeks\\': 0}, {\\'item_id\\': \\'236090\\', \\'item_name\\': \\'Dust: An Elysian Tail\\', \\'playtime_forever\\': 73, \\'playtime_2weeks\\': 0}, {\\'item_id\\': \\'18490\\', \\'item_name\\': \\'The Whispered World\\', \\'playtime_forever\\': 0, \\'playtime_2weeks\\': 0}, {\\'item_id\\': \\'268540\\', \\'item_name\\': \\'The Whispered World Special Edition\\', \\'playtime_forever\\': 96, \\'playtime_2weeks\\': 0}, {\\'item_id\\': \\'231160\\', \\'item_name\\': \\'The Swapper\\', \\'playtime_forever\\': 59, \\'playtime_2weeks\\': 0}, {\\'item_id\\': \\'231740\\', \\'item_name\\': \\'Knights of Pen and Paper +1\\', \\'playtime_forever\\': 82, \\'playtime_2weeks\\': 0}, {\\'item_id\\': \\'41800\\', \\'item_name\\': \\'Gratuitous Space Battles\\', \\'playtime_forever\\': 135, \\'playtime_2weeks\\': 0}, {\\'item_id\\': \\'242760\\', \\'item_name\\': \\'The Forest\\', \\'playtime_forever\\': 118, \\'playtime_2weeks\\': 0}, {\\'item_id\\': \\'242800\\', \\'item_name\\': \"Day One: Garry\\'s Incident\", \\'playtime_forever\\': 55, \\'playtime_2weeks\\': 0}, {\\'item_id\\': \\'242920\\', \\'item_name\\': \\'Banished\\', \\'playtime_forever\\': 20, \\'playtime_2weeks\\': 0}, {\\'item_id\\': \\'243120\\', \\'item_name\\': \\'Betrayer\\', \\'playtime_forever\\': 109, \\'playtime_2weeks\\': 0}, {\\'item_id\\': \\'228960\\', \\'item_name\\': \\'Skulls of the Shogun\\', \\'playtime_forever\\': 229, \\'playtime_2weeks\\': 0}, {\\'item_id\\': \\'242110\\', \\'item_name\\': \\'Joe Danger 2: The Movie\\', \\'playtime_forever\\': 83, \\'playtime_2weeks\\': 0}, {\\'item_id\\': \\'238050\\', \\'item_name\\': \\'The Apogee Throwback Pack\\', \\'playtime_forever\\': 0, \\'playtime_2weeks\\': 0}, {\\'item_id\\': \\'95000\\', \\'item_name\\': \\'Super Splatters\\', \\'playtime_forever\\': 180, \\'playtime_2weeks\\': 0}, {\\'item_id\\': \\'201420\\', \\'item_name\\': \\'Toki Tori 2+\\', \\'playtime_forever\\': 65, \\'playtime_2weeks\\': 0}, {\\'item_id\\': \\'237530\\', \\'item_name\\': \\'Toki Tori 2+ Level Editor\\', \\'playtime_forever\\': 0, \\'playtime_2weeks\\': 0}, {\\'item_id\\': \\'33910\\', \\'item_name\\': \\'Arma 2\\', \\'playtime_forever\\': 0, \\'playtime_2weeks\\': 0}, {\\'item_id\\': \\'244770\\', \\'item_name\\': \\'StarMade\\', \\'playtime_forever\\': 15, \\'playtime_2weeks\\': 0}, {\\'item_id\\': \\'244850\\', \\'item_name\\': \\'Space Engineers\\', \\'playtime_forever\\': 218, \\'playtime_2weeks\\': 0}, {\\'item_id\\': \\'244890\\', \\'item_name\\': \\'Velocity®Ultra\\', \\'playtime_forever\\': 219, \\'playtime_2weeks\\': 0}, {\\'item_id\\': \\'9480\\', \\'item_name\\': \\'Saints Row 2\\', \\'playtime_forever\\': 30, \\'playtime_2weeks\\': 0}, {\\'item_id\\': \\'40390\\', \\'item_name\\': \\'Risen 2 - Dark Waters\\', \\'playtime_forever\\': 178, \\'playtime_2weeks\\': 0}, {\\'item_id\\': \\'225640\\', \\'item_name\\': \\'Sacred 2 Gold\\', \\'playtime_forever\\': 0, \\'playtime_2weeks\\': 0}, {\\'item_id\\': \\'91310\\', \\'item_name\\': \\'Dead Island\\', \\'playtime_forever\\': 179, \\'playtime_2weeks\\': 0}, {\\'item_id\\': \\'246420\\', \\'item_name\\': \\'Kingdom Rush\\', \\'playtime_forever\\': 110, \\'playtime_2weeks\\': 0}, {\\'item_id\\': \\'40300\\', \\'item_name\\': \\'Risen\\', \\'playtime_forever\\': 140, \\'playtime_2weeks\\': 0}, {\\'item_id\\': \\'207930\\', \\'item_name\\': \\'Sacred Citadel\\', \\'playtime_forever\\': 0, \\'playtime_2weeks\\': 0}, {\\'item_id\\': \\'234390\\', \\'item_name\\': \\'Teleglitch: Die More Edition\\', \\'playtime_forever\\': 55, \\'playtime_2weeks\\': 0}, {\\'item_id\\': \\'246680\\', \\'item_name\\': \\'Secrets of Rætikon\\', \\'playtime_forever\\': 0, \\'playtime_2weeks\\': 0}, {\\'item_id\\': \\'246900\\', \\'item_name\\': \\'Viscera Cleanup Detail\\', \\'playtime_forever\\': 272, \\'playtime_2weeks\\': 0}, {\\'item_id\\': \\'255520\\', \\'item_name\\': \\'Viscera Cleanup Detail: Shadow Warrior\\', \\'playtime_forever\\': 0, \\'playtime_2weeks\\': 0}, {\\'item_id\\': \\'265210\\', \\'item_name\\': \"Viscera Cleanup Detail: Santa\\'s Rampage\", \\'playtime_forever\\': 0, \\'playtime_2weeks\\': 0}, {\\'item_id\\': \\'247020\\', \\'item_name\\': \\'Cook, Serve, Delicious!\\', \\'playtime_forever\\': 90, \\'playtime_2weeks\\': 0}, {\\'item_id\\': \\'214770\\', \\'item_name\\': \\'Guacamelee! Gold Edition\\', \\'playtime_forever\\': 101, \\'playtime_2weeks\\': 0}, {\\'item_id\\': \\'241620\\', \\'item_name\\': \\'Inquisitor\\', \\'playtime_forever\\': 216, \\'playtime_2weeks\\': 0}, {\\'item_id\\': \\'225080\\', \\'item_name\\': \\'Brothers - A Tale of Two Sons\\', \\'playtime_forever\\': 0, \\'playtime_2weeks\\': 0}, {\\'item_id\\': \\'244070\\', \\'item_name\\': \"Sid Meier\\'s Ace Patrol\", \\'playtime_forever\\': 106, \\'playtime_2weeks\\': 0}, {\\'item_id\\': \\'239030\\', \\'item_name\\': \\'Papers, Please\\', \\'playtime_forever\\': 349, \\'playtime_2weeks\\': 0}, {\\'item_id\\': \\'243780\\', \\'item_name\\': \\'PixelJunk™ Monsters Ultimate\\', \\'playtime_forever\\': 288, \\'playtime_2weeks\\': 0}, {\\'item_id\\': \\'244590\\', \\'item_name\\': \\'Epigenesis\\', \\'playtime_forever\\': 75, \\'playtime_2weeks\\': 0}, {\\'item_id\\': \\'248370\\', \\'item_name\\': \\'Bridge It (plus)\\', \\'playtime_forever\\': 0, \\'playtime_2weeks\\': 0}, {\\'item_id\\': \\'248470\\', \\'item_name\\': \\'Doorways: Prelude\\', \\'playtime_forever\\': 157, \\'playtime_2weeks\\': 0}, {\\'item_id\\': \\'248490\\', \\'item_name\\': \\'1953 - KGB Unleashed\\', \\'playtime_forever\\': 0, \\'playtime_2weeks\\': 0}, {\\'item_id\\': \\'248710\\', \\'item_name\\': \\'Iesabel\\', \\'playtime_forever\\': 0, \\'playtime_2weeks\\': 0}, {\\'item_id\\': \\'248820\\', \\'item_name\\': \\'Risk of Rain\\', \\'playtime_forever\\': 235, \\'playtime_2weeks\\': 0}, {\\'item_id\\': \\'218620\\', \\'item_name\\': \\'PAYDAY 2\\', \\'playtime_forever\\': 139, \\'playtime_2weeks\\': 0}, {\\'item_id\\': \\'206420\\', \\'item_name\\': \\'Saints Row IV\\', \\'playtime_forever\\': 1943, \\'playtime_2weeks\\': 0}, {\\'item_id\\': \\'47790\\', \\'item_name\\': \\'Medal of Honor(TM) Single Player\\', \\'playtime_forever\\': 0, \\'playtime_2weeks\\': 0}, {\\'item_id\\': \\'47830\\', \\'item_name\\': \\'Medal of Honor(TM) Multiplayer\\', \\'playtime_forever\\': 0, \\'playtime_2weeks\\': 0}, {\\'item_id\\': \\'209000\\', \\'item_name\\': \\'Batman™: Arkham Origins\\', \\'playtime_forever\\': 1412, \\'playtime_2weeks\\': 0}, {\\'item_id\\': \\'239820\\', \\'item_name\\': \\'Game Dev Tycoon\\', \\'playtime_forever\\': 117, \\'playtime_2weeks\\': 0}, {\\'item_id\\': \\'250260\\', \\'item_name\\': \\'Jazzpunk\\', \\'playtime_forever\\': 212, \\'playtime_2weeks\\': 0}, {\\'item_id\\': \\'250320\\', \\'item_name\\': \\'The Wolf Among Us\\', \\'playtime_forever\\': 766, \\'playtime_2weeks\\': 0}, {\\'item_id\\': \\'250460\\', \\'item_name\\': \\'Bridge Constructor\\', \\'playtime_forever\\': 0, \\'playtime_2weeks\\': 0}, {\\'item_id\\': \\'250580\\', \\'item_name\\': \\'Paranautical Activity: Deluxe Atonement Edition\\', \\'playtime_forever\\': 75, \\'playtime_2weeks\\': 0}, {\\'item_id\\': \\'214550\\', \\'item_name\\': \\'Eets Munchies\\', \\'playtime_forever\\': 81, \\'playtime_2weeks\\': 0}, {\\'item_id\\': \\'111900\\', \\'item_name\\': \\'Guardians of Middle-earth\\', \\'playtime_forever\\': 47, \\'playtime_2weeks\\': 0}, {\\'item_id\\': \\'251530\\', \\'item_name\\': \\'Anomaly Korea\\', \\'playtime_forever\\': 61, \\'playtime_2weeks\\': 0}, {\\'item_id\\': \\'251610\\', \\'item_name\\': \\'Barbie™ Dreamhouse Party™\\', \\'playtime_forever\\': 84, \\'playtime_2weeks\\': 0}, {\\'item_id\\': \\'252010\\', \\'item_name\\': \\'Oniken\\', \\'playtime_forever\\': 359, \\'playtime_2weeks\\': 0}, {\\'item_id\\': \\'252170\\', \\'item_name\\': \\'Anomaly Warzone Earth Mobile Campaign\\', \\'playtime_forever\\': 213, \\'playtime_2weeks\\': 0}, {\\'item_id\\': \\'252310\\', \\'item_name\\': \\'Syder Arcade\\', \\'playtime_forever\\': 117, \\'playtime_2weeks\\': 0}, {\\'item_id\\': \\'252370\\', \\'item_name\\': \\'The Shivah\\', \\'playtime_forever\\': 62, \\'playtime_2weeks\\': 0}, {\\'item_id\\': \\'252490\\', \\'item_name\\': \\'Rust\\', \\'playtime_forever\\': 219, \\'playtime_2weeks\\': 0}, {\\'item_id\\': \\'252570\\', \\'item_name\\': \\'Depths of Fear :: Knossos\\', \\'playtime_forever\\': 133, \\'playtime_2weeks\\': 0}, {\\'item_id\\': \\'252830\\', \\'item_name\\': \\'Claire\\', \\'playtime_forever\\': 197, \\'playtime_2weeks\\': 0}, {\\'item_id\\': \\'252910\\', \\'item_name\\': \\'Skyscraper Simulator\\', \\'playtime_forever\\': 0, \\'playtime_2weeks\\': 0}, {\\'item_id\\': \\'253130\\', \\'item_name\\': \\'Rescue: Everyday Heroes\\', \\'playtime_forever\\': 0, \\'playtime_2weeks\\': 0}, {\\'item_id\\': \\'253410\\', \\'item_name\\': \\'Ravensword: Shadowlands\\', \\'playtime_forever\\': 0, \\'playtime_2weeks\\': 0}, {\\'item_id\\': \\'253630\\', \\'item_name\\': \\'Steam Marines\\', \\'playtime_forever\\': 322, \\'playtime_2weeks\\': 0}, {\\'item_id\\': \\'253650\\', \\'item_name\\': \\'Sparkle 2 Evo\\', \\'playtime_forever\\': 183, \\'playtime_2weeks\\': 0}, {\\'item_id\\': \\'253880\\', \\'item_name\\': \\'Earth 2150 Trilogy\\', \\'playtime_forever\\': 0, \\'playtime_2weeks\\': 0}, {\\'item_id\\': \\'259280\\', \\'item_name\\': \\'Earth 2150: The Moon Project\\', \\'playtime_forever\\': 0, \\'playtime_2weeks\\': 0}, {\\'item_id\\': \\'259300\\', \\'item_name\\': \\'Earth 2150: Lost Souls\\', \\'playtime_forever\\': 0, \\'playtime_2weeks\\': 0}, {\\'item_id\\': \\'3370\\', \\'item_name\\': \\'BookWorm Deluxe\\', \\'playtime_forever\\': 0, \\'playtime_2weeks\\': 0}, {\\'item_id\\': \\'3390\\', \\'item_name\\': \\'Feeding Frenzy 2: Shipwreck Showdown Deluxe\\', \\'playtime_forever\\': 0, \\'playtime_2weeks\\': 0}, {\\'item_id\\': \\'3480\\', \\'item_name\\': \\'Peggle Deluxe\\', \\'playtime_forever\\': 0, \\'playtime_2weeks\\': 0}, {\\'item_id\\': \\'3600\\', \\'item_name\\': \\'Escape Rosecliff Island\\', \\'playtime_forever\\': 0, \\'playtime_2weeks\\': 0}, {\\'item_id\\': \\'78000\\', \\'item_name\\': \\'Bejeweled 3\\', \\'playtime_forever\\': 0, \\'playtime_2weeks\\': 0}, {\\'item_id\\': \\'3540\\', \\'item_name\\': \\'Peggle Nights\\', \\'playtime_forever\\': 0, \\'playtime_2weeks\\': 0}, {\\'item_id\\': \\'3590\\', \\'item_name\\': \\'Plants vs. Zombies: Game of the Year\\', \\'playtime_forever\\': 21, \\'playtime_2weeks\\': 0}, {\\'item_id\\': \\'3620\\', \\'item_name\\': \"Zuma\\'s Revenge\", \\'playtime_forever\\': 0, \\'playtime_2weeks\\': 0}, {\\'item_id\\': \\'255320\\', \\'item_name\\': \\'Edna & Harvey: The Breakout\\', \\'playtime_forever\\': 197, \\'playtime_2weeks\\': 0}, {\\'item_id\\': \\'241540\\', \\'item_name\\': \\'State of Decay\\', \\'playtime_forever\\': 645, \\'playtime_2weeks\\': 0}, {\\'item_id\\': \\'224860\\', \\'item_name\\': \\'Arma Tactics\\', \\'playtime_forever\\': 75, \\'playtime_2weeks\\': 0}, {\\'item_id\\': \\'58520\\', \\'item_name\\': \\'Blood Bowl: Legendary Edition\\', \\'playtime_forever\\': 0, \\'playtime_2weeks\\': 0}, {\\'item_id\\': \\'204560\\', \\'item_name\\': \\'Confrontation\\', \\'playtime_forever\\': 0, \\'playtime_2weeks\\': 0}, {\\'item_id\\': \\'208730\\', \\'item_name\\': \\'Game of Thrones \\', \\'playtime_forever\\': 0, \\'playtime_2weeks\\': 0}, {\\'item_id\\': \\'209730\\', \\'item_name\\': \\'RAW - Realms of Ancient War\\', \\'playtime_forever\\': 0, \\'playtime_2weeks\\': 0}, {\\'item_id\\': \\'219780\\', \\'item_name\\': \"Divinity II: Developer\\'s Cut\", \\'playtime_forever\\': 0, \\'playtime_2weeks\\': 0}, {\\'item_id\\': \\'231140\\', \\'item_name\\': \\'Cities XL Platinum\\', \\'playtime_forever\\': 2, \\'playtime_2weeks\\': 0}, {\\'item_id\\': \\'58610\\', \\'item_name\\': \\'Wargame: European Escalation\\', \\'playtime_forever\\': 0, \\'playtime_2weeks\\': 0}, {\\'item_id\\': \\'205650\\', \\'item_name\\': \\'The Testament of Sherlock Holmes\\', \\'playtime_forever\\': 85, \\'playtime_2weeks\\': 0}, {\\'item_id\\': \\'255870\\', \\'item_name\\': \\'PixelJunk™ Shooter\\', \\'playtime_forever\\': 198, \\'playtime_2weeks\\': 0}, {\\'item_id\\': \\'29900\\', \\'item_name\\': \\'Dark Sector\\', \\'playtime_forever\\': 0, \\'playtime_2weeks\\': 0}, {\\'item_id\\': \\'91100\\', \\'item_name\\': \\'SkyDrift\\', \\'playtime_forever\\': 0, \\'playtime_2weeks\\': 0}, {\\'item_id\\': \\'207040\\', \\'item_name\\': \\'Sine Mora\\', \\'playtime_forever\\': 0, \\'playtime_2weeks\\': 0}, {\\'item_id\\': \\'217690\\', \\'item_name\\': \\'Anna - Extended Edition\\', \\'playtime_forever\\': 58, \\'playtime_2weeks\\': 0}, {\\'item_id\\': \\'57690\\', \\'item_name\\': \\'Tropico 4\\', \\'playtime_forever\\': 1943, \\'playtime_2weeks\\': 0}, {\\'item_id\\': \\'57740\\', \\'item_name\\': \\'Jagged Alliance - Back in Action\\', \\'playtime_forever\\': 135, \\'playtime_2weeks\\': 0}, {\\'item_id\\': \\'245620\\', \\'item_name\\': \\'Tropico 5\\', \\'playtime_forever\\': 151, \\'playtime_2weeks\\': 0}, {\\'item_id\\': \\'247120\\', \\'item_name\\': \\'Portal 2 Sixense Perceptual Pack\\', \\'playtime_forever\\': 0, \\'playtime_2weeks\\': 0}, {\\'item_id\\': \\'242050\\', \\'item_name\\': \"Assassin\\'s Creed IV Black Flag\", \\'playtime_forever\\': 2137, \\'playtime_2weeks\\': 0}, {\\'item_id\\': \\'239160\\', \\'item_name\\': \\'Thief\\', \\'playtime_forever\\': 289, \\'playtime_2weeks\\': 0}, {\\'item_id\\': \\'233130\\', \\'item_name\\': \\'Shadow Warrior\\', \\'playtime_forever\\': 116, \\'playtime_2weeks\\': 0}, {\\'item_id\\': \\'213670\\', \\'item_name\\': \\'South Park™: The Stick of Truth™\\', \\'playtime_forever\\': 0, \\'playtime_2weeks\\': 0}, {\\'item_id\\': \\'9350\\', \\'item_name\\': \\'Supreme Commander\\', \\'playtime_forever\\': 0, \\'playtime_2weeks\\': 0}, {\\'item_id\\': \\'9420\\', \\'item_name\\': \\'Supreme Commander: Forged Alliance\\', \\'playtime_forever\\': 0, \\'playtime_2weeks\\': 0}, {\\'item_id\\': \\'39650\\', \\'item_name\\': \\'The Guild II\\', \\'playtime_forever\\': 11, \\'playtime_2weeks\\': 0}, {\\'item_id\\': \\'39690\\', \\'item_name\\': \\'ArcaniA\\', \\'playtime_forever\\': 0, \\'playtime_2weeks\\': 0}, {\\'item_id\\': \\'50650\\', \\'item_name\\': \\'Darksiders II\\', \\'playtime_forever\\': 0, \\'playtime_2weeks\\': 0}, {\\'item_id\\': \\'65530\\', \\'item_name\\': \\'SpellForce 2 - Faith in Destiny\\', \\'playtime_forever\\': 0, \\'playtime_2weeks\\': 0}, {\\'item_id\\': \\'214870\\', \\'item_name\\': \\'Painkiller Hell & Damnation\\', \\'playtime_forever\\': 135, \\'playtime_2weeks\\': 0}, {\\'item_id\\': \\'257690\\', \\'item_name\\': \\'J.U.L.I.A.: Among the Stars\\', \\'playtime_forever\\': 423, \\'playtime_2weeks\\': 0}, {\\'item_id\\': \\'257830\\', \\'item_name\\': \\'Violett\\', \\'playtime_forever\\': 179, \\'playtime_2weeks\\': 0}, {\\'item_id\\': \\'209390\\', \\'item_name\\': \\'Dungeonbowl Knockout Edition\\', \\'playtime_forever\\': 278, \\'playtime_2weeks\\': 0}, {\\'item_id\\': \\'231720\\', \\'item_name\\': \\'Bad Hotel\\', \\'playtime_forever\\': 108, \\'playtime_2weeks\\': 0}, {\\'item_id\\': \\'233210\\', \\'item_name\\': \\'Air Conflicts: Vietnam\\', \\'playtime_forever\\': 0, \\'playtime_2weeks\\': 0}, {\\'item_id\\': \\'235800\\', \\'item_name\\': \\'Audiosurf 2\\', \\'playtime_forever\\': 73, \\'playtime_2weeks\\': 0}, {\\'item_id\\': \\'45500\\', \\'item_name\\': \\'Clickr\\', \\'playtime_forever\\': 88, \\'playtime_2weeks\\': 0}, {\\'item_id\\': \\'258880\\', \\'item_name\\': \\'Professional Farmer 2014\\', \\'playtime_forever\\': 0, \\'playtime_2weeks\\': 0}, {\\'item_id\\': \\'258890\\', \\'item_name\\': \\'Type:Rider\\', \\'playtime_forever\\': 142, \\'playtime_2weeks\\': 0}, {\\'item_id\\': \\'258950\\', \\'item_name\\': \"Montague\\'s Mount\", \\'playtime_forever\\': 75, \\'playtime_2weeks\\': 0}, {\\'item_id\\': \\'238010\\', \\'item_name\\': \"Deus Ex: Human Revolution - Director\\'s Cut\", \\'playtime_forever\\': 2963, \\'playtime_2weeks\\': 0}, {\\'item_id\\': \\'259390\\', \\'item_name\\': \\'Ballpoint Universe: Infinite\\', \\'playtime_forever\\': 126, \\'playtime_2weeks\\': 0}, {\\'item_id\\': \\'259530\\', \\'item_name\\': \\'Savant - Ascent\\', \\'playtime_forever\\': 0, \\'playtime_2weeks\\': 0}, {\\'item_id\\': \\'259570\\', \\'item_name\\': \\'Eden Star :: Destroy - Build - Protect\\', \\'playtime_forever\\': 0, \\'playtime_2weeks\\': 0}, {\\'item_id\\': \\'259620\\', \\'item_name\\': \\'3079 -- Block Action RPG\\', \\'playtime_forever\\': 95, \\'playtime_2weeks\\': 0}, {\\'item_id\\': \\'259780\\', \\'item_name\\': \\'Nimble Quest\\', \\'playtime_forever\\': 278, \\'playtime_2weeks\\': 0}, {\\'item_id\\': \\'212480\\', \\'item_name\\': \\'Sonic & All-Stars Racing Transformed\\', \\'playtime_forever\\': 107, \\'playtime_2weeks\\': 0}, {\\'item_id\\': \\'259870\\', \\'item_name\\': \\'OMG Zombies!\\', \\'playtime_forever\\': 248, \\'playtime_2weeks\\': 0}, {\\'item_id\\': \\'259890\\', \\'item_name\\': \\'Agricultural Simulator: Historical Farming\\', \\'playtime_forever\\': 7, \\'playtime_2weeks\\': 0}, {\\'item_id\\': \\'221910\\', \\'item_name\\': \\'The Stanley Parable\\', \\'playtime_forever\\': 229, \\'playtime_2weeks\\': 0}, {\\'item_id\\': \\'244090\\', \\'item_name\\': \"Sid Meier\\'s Ace Patrol: Pacific Skies\", \\'playtime_forever\\': 102, \\'playtime_2weeks\\': 0}, {\\'item_id\\': \\'261030\\', \\'item_name\\': \\'The Walking Dead: Season Two\\', \\'playtime_forever\\': 50, \\'playtime_2weeks\\': 0}, {\\'item_id\\': \\'207750\\', \\'item_name\\': \\'Symphony\\', \\'playtime_forever\\': 0, \\'playtime_2weeks\\': 0}, {\\'item_id\\': \\'3020\\', \\'item_name\\': \\'Call of Juarez\\', \\'playtime_forever\\': 94, \\'playtime_2weeks\\': 0}, {\\'item_id\\': \\'252150\\', \\'item_name\\': \\'Grimm\\', \\'playtime_forever\\': 124, \\'playtime_2weeks\\': 0}, {\\'item_id\\': \\'262260\\', \\'item_name\\': \"Jets\\'n\\'Guns Gold\", \\'playtime_forever\\': 59, \\'playtime_2weeks\\': 0}, {\\'item_id\\': \\'221380\\', \\'item_name\\': \\'Age of Empires II: HD Edition\\', \\'playtime_forever\\': 182, \\'playtime_2weeks\\': 0}, {\\'item_id\\': \\'262830\\', \\'item_name\\': \\'Crimsonland\\', \\'playtime_forever\\': 545, \\'playtime_2weeks\\': 0}, {\\'item_id\\': \\'263080\\', \\'item_name\\': \\'Pixel Boy and the Ever Expanding Dungeon\\', \\'playtime_forever\\': 214, \\'playtime_2weeks\\': 0}, {\\'item_id\\': \\'263280\\', \\'item_name\\': \\'Spintires\\', \\'playtime_forever\\': 446, \\'playtime_2weeks\\': 0}, {\\'item_id\\': \\'367690\\', \\'item_name\\': \\'Spintires Editor\\', \\'playtime_forever\\': 0, \\'playtime_2weeks\\': 0}, {\\'item_id\\': \\'263360\\', \\'item_name\\': \\'3089 -- Futuristic Action RPG\\', \\'playtime_forever\\': 74, \\'playtime_2weeks\\': 0}, {\\'item_id\\': \\'263520\\', \\'item_name\\': \\'Enola\\', \\'playtime_forever\\': 322, \\'playtime_2weeks\\': 0}, {\\'item_id\\': \\'263700\\', \\'item_name\\': \\'Muffin Knight\\', \\'playtime_forever\\': 0, \\'playtime_2weeks\\': 0}, {\\'item_id\\': \\'263980\\', \\'item_name\\': \\'Out There Somewhere\\', \\'playtime_forever\\': 224, \\'playtime_2weeks\\': 0}, {\\'item_id\\': \\'264140\\', \\'item_name\\': \\'Pixel Piracy\\', \\'playtime_forever\\': 277, \\'playtime_2weeks\\': 0}, {\\'item_id\\': \\'264280\\', \\'item_name\\': \\'99 Levels To Hell\\', \\'playtime_forever\\': 173, \\'playtime_2weeks\\': 0}, {\\'item_id\\': \\'264300\\', \\'item_name\\': \"Guns\\'N\\'Zombies\", \\'playtime_forever\\': 77, \\'playtime_2weeks\\': 0}, {\\'item_id\\': \\'260750\\', \\'item_name\\': \\'Neighbours from Hell\\', \\'playtime_forever\\': 0, \\'playtime_2weeks\\': 0}, {\\'item_id\\': \\'260770\\', \\'item_name\\': \\'Neighbours from Hell 2\\', \\'playtime_forever\\': 0, \\'playtime_2weeks\\': 0}, {\\'item_id\\': \\'264730\\', \\'item_name\\': \\'Deadly 30\\', \\'playtime_forever\\': 73, \\'playtime_2weeks\\': 0}, {\\'item_id\\': \\'70210\\', \\'item_name\\': \\'Governor of Poker 2: Premium Edition\\', \\'playtime_forever\\': 0, \\'playtime_2weeks\\': 0}, {\\'item_id\\': \\'265870\\', \\'item_name\\': \\'Alpha Kimori™ Episode One \\', \\'playtime_forever\\': 234, \\'playtime_2weeks\\': 0}, {\\'item_id\\': \\'265930\\', \\'item_name\\': \\'Goat Simulator\\', \\'playtime_forever\\': 95, \\'playtime_2weeks\\': 0}, {\\'item_id\\': \\'266010\\', \\'item_name\\': \\'LYNE\\', \\'playtime_forever\\': 141, \\'playtime_2weeks\\': 0}, {\\'item_id\\': \\'266330\\', \\'item_name\\': \\'Ethan: Meteor Hunter\\', \\'playtime_forever\\': 96, \\'playtime_2weeks\\': 0}, {\\'item_id\\': \\'266390\\', \\'item_name\\': \\'Farm for your Life\\', \\'playtime_forever\\': 14, \\'playtime_2weeks\\': 0}, {\\'item_id\\': \\'266840\\', \\'item_name\\': \\'Age of Mythology: Extended Edition\\', \\'playtime_forever\\': 326, \\'playtime_2weeks\\': 0}, {\\'item_id\\': \\'266940\\', \\'item_name\\': \\'Alex Hunter - Lord of the Mind\\', \\'playtime_forever\\': 35, \\'playtime_2weeks\\': 0}, {\\'item_id\\': \\'267060\\', \\'item_name\\': \\'Gravity Badgers\\', \\'playtime_forever\\': 214, \\'playtime_2weeks\\': 0}, {\\'item_id\\': \\'267600\\', \\'item_name\\': \\'Airport Simulator 2014\\', \\'playtime_forever\\': 3, \\'playtime_2weeks\\': 0}, {\\'item_id\\': \\'267610\\', \\'item_name\\': \\'Woodcutter Simulator 2013\\', \\'playtime_forever\\': 0, \\'playtime_2weeks\\': 0}, {\\'item_id\\': \\'267960\\', \\'item_name\\': \\'Hyper Fighters\\', \\'playtime_forever\\': 0, \\'playtime_2weeks\\': 0}, {\\'item_id\\': \\'268650\\', \\'item_name\\': \\'From The Depths\\', \\'playtime_forever\\': 0, \\'playtime_2weeks\\': 0}, {\\'item_id\\': \\'268830\\', \\'item_name\\': \\'Doctor Who: The Adventure Games\\', \\'playtime_forever\\': 114, \\'playtime_2weeks\\': 0}, {\\'item_id\\': \\'268850\\', \\'item_name\\': \\'EVGA Precision XOC\\', \\'playtime_forever\\': 177, \\'playtime_2weeks\\': 0}, {\\'item_id\\': \\'269270\\', \\'item_name\\': \\'Love\\', \\'playtime_forever\\': 178, \\'playtime_2weeks\\': 0}, {\\'item_id\\': \\'270190\\', \\'item_name\\': \\'1Heart\\', \\'playtime_forever\\': 115, \\'playtime_2weeks\\': 0}, {\\'item_id\\': \\'270330\\', \\'item_name\\': \\'Ku: Shroud of the Morrigan\\', \\'playtime_forever\\': 244, \\'playtime_2weeks\\': 0}, {\\'item_id\\': \\'270550\\', \\'item_name\\': \\'Yet Another Zombie Defense\\', \\'playtime_forever\\': 219, \\'playtime_2weeks\\': 0}, {\\'item_id\\': \\'550\\', \\'item_name\\': \\'Left 4 Dead 2\\', \\'playtime_forever\\': 83, \\'playtime_2weeks\\': 0}, {\\'item_id\\': \\'223530\\', \\'item_name\\': \\'Left 4 Dead 2 Beta\\', \\'playtime_forever\\': 0, \\'playtime_2weeks\\': 0}, {\\'item_id\\': \\'7670\\', \\'item_name\\': \\'BioShock\\', \\'playtime_forever\\': 0, \\'playtime_2weeks\\': 0}, {\\'item_id\\': \\'8850\\', \\'item_name\\': \\'BioShock 2\\', \\'playtime_forever\\': 0, \\'playtime_2weeks\\': 0}, {\\'item_id\\': \\'8870\\', \\'item_name\\': \\'BioShock Infinite\\', \\'playtime_forever\\': 111, \\'playtime_2weeks\\': 0}, {\\'item_id\\': \\'409710\\', \\'item_name\\': \\'BioShock Remastered\\', \\'playtime_forever\\': 166, \\'playtime_2weeks\\': 166}, {\\'item_id\\': \\'409720\\', \\'item_name\\': \\'BioShock 2 Remastered\\', \\'playtime_forever\\': 0, \\'playtime_2weeks\\': 0}, {\\'item_id\\': \\'267670\\', \\'item_name\\': \\'Realms of Arkania 1 - Blade of Destiny Classic\\', \\'playtime_forever\\': 66, \\'playtime_2weeks\\': 0}, {\\'item_id\\': \\'270750\\', \\'item_name\\': \\'Realms of Arkania 2 - Star Trail Classic\\', \\'playtime_forever\\': 57, \\'playtime_2weeks\\': 0}, {\\'item_id\\': \\'270760\\', \\'item_name\\': \\'Realms of Arkania 3 - Shadows over Riva Classic\\', \\'playtime_forever\\': 58, \\'playtime_2weeks\\': 0}, {\\'item_id\\': \\'96200\\', \\'item_name\\': \\'Steel Storm: Burning Retribution\\', \\'playtime_forever\\': 306, \\'playtime_2weeks\\': 0}, {\\'item_id\\': \\'237950\\', \\'item_name\\': \\'UFO: Afterlight\\', \\'playtime_forever\\': 0, \\'playtime_2weeks\\': 0}, {\\'item_id\\': \\'65780\\', \\'item_name\\': \\'Arma: Gold Edition\\', \\'playtime_forever\\': 0, \\'playtime_2weeks\\': 0}, {\\'item_id\\': \\'260210\\', \\'item_name\\': \"Assassin\\'s Creed Liberation\", \\'playtime_forever\\': 133, \\'playtime_2weeks\\': 0}, {\\'item_id\\': \\'272990\\', \\'item_name\\': \\'GAUGE\\', \\'playtime_forever\\': 0, \\'playtime_2weeks\\': 0}, {\\'item_id\\': \\'273760\\', \\'item_name\\': \\'Towtruck Simulator 2015\\', \\'playtime_forever\\': 0, \\'playtime_2weeks\\': 0}, {\\'item_id\\': \\'273940\\', \\'item_name\\': \\'Warehouse and Logistics Simulator\\', \\'playtime_forever\\': 0, \\'playtime_2weeks\\': 0}, {\\'item_id\\': \\'208670\\', \\'item_name\\': \\'Blades of Time\\', \\'playtime_forever\\': 0, \\'playtime_2weeks\\': 0}, {\\'item_id\\': \\'224480\\', \\'item_name\\': \\'Octodad: Dadliest Catch\\', \\'playtime_forever\\': 180, \\'playtime_2weeks\\': 0}, {\\'item_id\\': \\'11450\\', \\'item_name\\': \\'Overlord\\', \\'playtime_forever\\': 0, \\'playtime_2weeks\\': 0}, {\\'item_id\\': \\'12710\\', \\'item_name\\': \\'Overlord: Raising Hell\\', \\'playtime_forever\\': 0, \\'playtime_2weeks\\': 0}, {\\'item_id\\': \\'12770\\', \\'item_name\\': \\'Rise of the Argonauts\\', \\'playtime_forever\\': 0, \\'playtime_2weeks\\': 0}, {\\'item_id\\': \\'44340\\', \\'item_name\\': \\'Operation Flashpoint: Red River\\', \\'playtime_forever\\': 0, \\'playtime_2weeks\\': 0}, {\\'item_id\\': \\'12810\\', \\'item_name\\': \\'Overlord II\\', \\'playtime_forever\\': 0, \\'playtime_2weeks\\': 0}, {\\'item_id\\': \\'44320\\', \\'item_name\\': \\'DiRT 3\\', \\'playtime_forever\\': 0, \\'playtime_2weeks\\': 0}, {\\'item_id\\': \\'201700\\', \\'item_name\\': \\'DiRT Showdown\\', \\'playtime_forever\\': 0, \\'playtime_2weeks\\': 0}, {\\'item_id\\': \\'321040\\', \\'item_name\\': \\'DiRT 3 Complete Edition\\', \\'playtime_forever\\': 75, \\'playtime_2weeks\\': 0}, {\\'item_id\\': \\'222880\\', \\'item_name\\': \\'Insurgency\\', \\'playtime_forever\\': 55, \\'playtime_2weeks\\': 0}, {\\'item_id\\': \\'274560\\', \\'item_name\\': \\'Revolution Ace\\', \\'playtime_forever\\': 163, \\'playtime_2weeks\\': 0}, {\\'item_id\\': \\'275080\\', \\'item_name\\': \\'Post Master \\', \\'playtime_forever\\': 55, \\'playtime_2weeks\\': 0}, {\\'item_id\\': \\'275490\\', \\'item_name\\': \\'Canyon Capers\\', \\'playtime_forever\\': 141, \\'playtime_2weeks\\': 0}, {\\'item_id\\': \\'225840\\', \\'item_name\\': \\'Sven Co-op\\', \\'playtime_forever\\': 0, \\'playtime_2weeks\\': 0}, {\\'item_id\\': \\'277430\\', \\'item_name\\': \\'Halo: Spartan Assault\\', \\'playtime_forever\\': 72, \\'playtime_2weeks\\': 0}, {\\'item_id\\': \\'277500\\', \\'item_name\\': \\'Farming World\\', \\'playtime_forever\\': 136, \\'playtime_2weeks\\': 0}, {\\'item_id\\': \\'277590\\', \\'item_name\\': \"Assassin\\'s Creed Freedom Cry\", \\'playtime_forever\\': 0, \\'playtime_2weeks\\': 0}, {\\'item_id\\': \\'34800\\', \\'item_name\\': \\'Chronicles of Mystery: The Scorpio Ritual\\', \\'playtime_forever\\': 0, \\'playtime_2weeks\\': 0}, {\\'item_id\\': \\'10270\\', \\'item_name\\': \\'Disciples III: Reincarnation\\', \\'playtime_forever\\': 0, \\'playtime_2weeks\\': 0}, {\\'item_id\\': \\'222900\\', \\'item_name\\': \\'Dead Island: Epidemic\\', \\'playtime_forever\\': 0, \\'playtime_2weeks\\': 0}, {\\'item_id\\': \\'279140\\', \\'item_name\\': \\'Making History: The Great War\\', \\'playtime_forever\\': 321, \\'playtime_2weeks\\': 0}, {\\'item_id\\': \\'281410\\', \\'item_name\\': \\'Ubersoldier II\\', \\'playtime_forever\\': 0, \\'playtime_2weeks\\': 0}, {\\'item_id\\': \\'281690\\', \\'item_name\\': \\'The Legend of Korra™\\', \\'playtime_forever\\': 37, \\'playtime_2weeks\\': 0}, {\\'item_id\\': \\'246620\\', \\'item_name\\': \\'Plague Inc: Evolved\\', \\'playtime_forever\\': 224, \\'playtime_2weeks\\': 0}, {\\'item_id\\': \\'282100\\', \\'item_name\\': \\'Fearless Fantasy\\', \\'playtime_forever\\': 382, \\'playtime_2weeks\\': 0}, {\\'item_id\\': \\'282140\\', \\'item_name\\': \\'SOMA\\', \\'playtime_forever\\': 345, \\'playtime_2weeks\\': 0}, {\\'item_id\\': \\'282440\\', \\'item_name\\': \\'Quake Live\\', \\'playtime_forever\\': 0, \\'playtime_2weeks\\': 0}, {\\'item_id\\': \\'282800\\', \\'item_name\\': \\'100% Orange Juice\\', \\'playtime_forever\\': 233, \\'playtime_2weeks\\': 0}, {\\'item_id\\': \\'283040\\', \\'item_name\\': \\'Paper Dungeons\\', \\'playtime_forever\\': 319, \\'playtime_2weeks\\': 0}, {\\'item_id\\': \\'283180\\', \\'item_name\\': \\'The Samaritan Paradox\\', \\'playtime_forever\\': 140, \\'playtime_2weeks\\': 0}, {\\'item_id\\': \\'283390\\', \\'item_name\\': \\'Incoming Forces\\', \\'playtime_forever\\': 267, \\'playtime_2weeks\\': 0}, {\\'item_id\\': \\'283880\\', \\'item_name\\': \"Heroine\\'s Quest: The Herald of Ragnarok\", \\'playtime_forever\\': 0, \\'playtime_2weeks\\': 0}, {\\'item_id\\': \\'283960\\', \\'item_name\\': \"Pajama Sam in No Need to Hide When It\\'s Dark Outside\", \\'playtime_forever\\': 321, \\'playtime_2weeks\\': 0}, {\\'item_id\\': \\'286320\\', \\'item_name\\': \\'Oknytt\\', \\'playtime_forever\\': 258, \\'playtime_2weeks\\': 0}, {\\'item_id\\': \\'286500\\', \\'item_name\\': \\'House of 1,000 Doors - Family Secrets\\', \\'playtime_forever\\': 199, \\'playtime_2weeks\\': 0}, {\\'item_id\\': \\'286540\\', \\'item_name\\': \"Nearwood - Collector\\'s Edition\", \\'playtime_forever\\': 0, \\'playtime_2weeks\\': 0}, {\\'item_id\\': \\'231430\\', \\'item_name\\': \\'Company of Heroes 2\\', \\'playtime_forever\\': 105, \\'playtime_2weeks\\': 0}, {\\'item_id\\': \\'258180\\', \\'item_name\\': \\'Deus Ex: The Fall\\', \\'playtime_forever\\': 193, \\'playtime_2weeks\\': 0}, {\\'item_id\\': \\'287840\\', \\'item_name\\': \\'TY the Tasmanian Tiger 4\\', \\'playtime_forever\\': 234, \\'playtime_2weeks\\': 0}, {\\'item_id\\': \\'288160\\', \\'item_name\\': \\'The Room\\', \\'playtime_forever\\': 213, \\'playtime_2weeks\\': 0}, {\\'item_id\\': \\'289650\\', \\'item_name\\': \"Assassin\\'s Creed Unity\", \\'playtime_forever\\': 1974, \\'playtime_2weeks\\': 0}, {\\'item_id\\': \\'233290\\', \\'item_name\\': \\'MURDERED: SOUL SUSPECT™\\', \\'playtime_forever\\': 516, \\'playtime_2weeks\\': 0}, {\\'item_id\\': \\'289760\\', \\'item_name\\': \\'ROCKETSROCKETSROCKETS\\', \\'playtime_forever\\': 456, \\'playtime_2weeks\\': 0}, {\\'item_id\\': \\'291170\\', \\'item_name\\': \\'Royal Defense\\', \\'playtime_forever\\': 135, \\'playtime_2weeks\\': 0}, {\\'item_id\\': \\'291270\\', \\'item_name\\': \\'Vitrum\\', \\'playtime_forever\\': 209, \\'playtime_2weeks\\': 0}, {\\'item_id\\': \\'292410\\', \\'item_name\\': \\'Street Racing Syndicate\\', \\'playtime_forever\\': 55, \\'playtime_2weeks\\': 0}, {\\'item_id\\': \\'115210\\', \\'item_name\\': \\'American Conquest\\', \\'playtime_forever\\': 0, \\'playtime_2weeks\\': 0}, {\\'item_id\\': \\'4880\\', \\'item_name\\': \\'Cossacks: European Wars\\', \\'playtime_forever\\': 0, \\'playtime_2weeks\\': 0}, {\\'item_id\\': \\'115200\\', \\'item_name\\': \\'Cossacks II: Napoleonic Wars\\', \\'playtime_forever\\': 0, \\'playtime_2weeks\\': 0}, {\\'item_id\\': \\'294020\\', \\'item_name\\': \\'Merchants of Kaidan\\', \\'playtime_forever\\': 381, \\'playtime_2weeks\\': 0}, {\\'item_id\\': \\'294230\\', \\'item_name\\': \\'Millie\\', \\'playtime_forever\\': 179, \\'playtime_2weeks\\': 0}, {\\'item_id\\': \\'201810\\', \\'item_name\\': \\'Wolfenstein: The New Order\\', \\'playtime_forever\\': 0, \\'playtime_2weeks\\': 0}, {\\'item_id\\': \\'294530\\', \\'item_name\\': \\'Freddi Fish 2: The Case of the Haunted Schoolhouse\\', \\'playtime_forever\\': 8, \\'playtime_2weeks\\': 0}, {\\'item_id\\': \\'294670\\', \\'item_name\\': \\'Putt-Putt Travels Through Time\\', \\'playtime_forever\\': 7, \\'playtime_2weeks\\': 0}, {\\'item_id\\': \\'3050\\', \\'item_name\\': \\'Xpand Rally Xtreme\\', \\'playtime_forever\\': 0, \\'playtime_2weeks\\': 0}, {\\'item_id\\': \\'200370\\', \\'item_name\\': \\'A Game of Dwarves\\', \\'playtime_forever\\': 0, \\'playtime_2weeks\\': 0}, {\\'item_id\\': \\'296470\\', \\'item_name\\': \\'Mount Your Friends\\', \\'playtime_forever\\': 113, \\'playtime_2weeks\\': 0}, {\\'item_id\\': \\'296630\\', \\'item_name\\': \\'Kraven Manor\\', \\'playtime_forever\\': 0, \\'playtime_2weeks\\': 0}, {\\'item_id\\': \\'35450\\', \\'item_name\\': \\'Rising Storm/Red Orchestra 2 Multiplayer\\', \\'playtime_forever\\': 129, \\'playtime_2weeks\\': 0}, {\\'item_id\\': \\'236830\\', \\'item_name\\': \\'Red Orchestra 2: Heroes of Stalingrad - Single Player\\', \\'playtime_forever\\': 0, \\'playtime_2weeks\\': 0}, {\\'item_id\\': \\'238460\\', \\'item_name\\': \\'BattleBlock Theater\\', \\'playtime_forever\\': 323, \\'playtime_2weeks\\': 67}, {\\'item_id\\': \\'299580\\', \\'item_name\\': \\'Abducted\\', \\'playtime_forever\\': 0, \\'playtime_2weeks\\': 0}, {\\'item_id\\': \\'300550\\', \\'item_name\\': \"Shadowrun: Dragonfall - Director\\'s Cut\", \\'playtime_forever\\': 252, \\'playtime_2weeks\\': 0}, {\\'item_id\\': \\'1500\\', \\'item_name\\': \\'Darwinia\\', \\'playtime_forever\\': 0, \\'playtime_2weeks\\': 0}, {\\'item_id\\': \\'1510\\', \\'item_name\\': \\'Uplink\\', \\'playtime_forever\\': 0, \\'playtime_2weeks\\': 0}, {\\'item_id\\': \\'1520\\', \\'item_name\\': \\'DEFCON\\', \\'playtime_forever\\': 0, \\'playtime_2weeks\\': 0}, {\\'item_id\\': \\'1530\\', \\'item_name\\': \\'Multiwinia\\', \\'playtime_forever\\': 0, \\'playtime_2weeks\\': 0}, {\\'item_id\\': \\'300820\\', \\'item_name\\': \\'Toy Story 3\\', \\'playtime_forever\\': 0, \\'playtime_2weeks\\': 0}, {\\'item_id\\': \\'301190\\', \\'item_name\\': \\'Frederic: Resurrection of Music\\', \\'playtime_forever\\': 255, \\'playtime_2weeks\\': 0}, {\\'item_id\\': \\'301200\\', \\'item_name\\': \\'Frederic: Evil Strikes Back\\', \\'playtime_forever\\': 179, \\'playtime_2weeks\\': 0}, {\\'item_id\\': \\'286690\\', \\'item_name\\': \\'Metro 2033 Redux\\', \\'playtime_forever\\': 223, \\'playtime_2weeks\\': 0}, {\\'item_id\\': \\'287390\\', \\'item_name\\': \\'Metro: Last Light Redux\\', \\'playtime_forever\\': 219, \\'playtime_2weeks\\': 0}, {\\'item_id\\': \\'301480\\', \\'item_name\\': \\'GEARCRACK Arena\\', \\'playtime_forever\\': 35, \\'playtime_2weeks\\': 0}, {\\'item_id\\': \\'302120\\', \\'item_name\\': \"House of 1000 Doors: The Palm of Zoroaster Collector\\'s Edition\", \\'playtime_forever\\': 217, \\'playtime_2weeks\\': 0}, {\\'item_id\\': \\'302130\\', \\'item_name\\': \\'Brink of Consciousness: Dorian Gray Syndrome\\', \\'playtime_forever\\': 0, \\'playtime_2weeks\\': 0}, {\\'item_id\\': \\'302460\\', \\'item_name\\': \\'I Am Vegend\\', \\'playtime_forever\\': 0, \\'playtime_2weeks\\': 0}, {\\'item_id\\': \\'244160\\', \\'item_name\\': \\'Homeworld Remastered Collection\\', \\'playtime_forever\\': 247, \\'playtime_2weeks\\': 0}, {\\'item_id\\': \\'303390\\', \\'item_name\\': \\'Dead Bits\\', \\'playtime_forever\\': 75, \\'playtime_2weeks\\': 0}, {\\'item_id\\': \\'304460\\', \\'item_name\\': \\'Qora\\', \\'playtime_forever\\': 233, \\'playtime_2weeks\\': 0}, {\\'item_id\\': \\'306020\\', \\'item_name\\': \\'Bloons TD5\\', \\'playtime_forever\\': 126, \\'playtime_2weeks\\': 0}, {\\'item_id\\': \\'306040\\', \\'item_name\\': \\'The Howler\\', \\'playtime_forever\\': 224, \\'playtime_2weeks\\': 0}, {\\'item_id\\': \\'250400\\', \\'item_name\\': \\'How to Survive\\', \\'playtime_forever\\': 58, \\'playtime_2weeks\\': 0}, {\\'item_id\\': \\'306350\\', \\'item_name\\': \\'Slipstream 5000\\', \\'playtime_forever\\': 245, \\'playtime_2weeks\\': 0}, {\\'item_id\\': \\'306410\\', \\'item_name\\': \\'Crystals of Time\\', \\'playtime_forever\\': 234, \\'playtime_2weeks\\': 0}, {\\'item_id\\': \\'202090\\', \\'item_name\\': \\'Magicka: Wizard Wars\\', \\'playtime_forever\\': 77, \\'playtime_2weeks\\': 0}, {\\'item_id\\': \\'63380\\', \\'item_name\\': \\'Sniper Elite V2\\', \\'playtime_forever\\': 172, \\'playtime_2weeks\\': 0}, {\\'item_id\\': \\'307050\\', \\'item_name\\': \\'Shan Gui\\', \\'playtime_forever\\': 224, \\'playtime_2weeks\\': 0}, {\\'item_id\\': \\'307230\\', \\'item_name\\': \\'I, Zombie\\', \\'playtime_forever\\': 167, \\'playtime_2weeks\\': 0}, {\\'item_id\\': \\'307760\\', \\'item_name\\': \\'Zoo Park\\', \\'playtime_forever\\': 0, \\'playtime_2weeks\\': 0}, {\\'item_id\\': \\'308330\\', \\'item_name\\': \\'Lost Chronicles of Zerzura\\', \\'playtime_forever\\': 0, \\'playtime_2weeks\\': 0}, {\\'item_id\\': \\'237850\\', \\'item_name\\': \\'Dreamfall Chapters\\', \\'playtime_forever\\': 333, \\'playtime_2weeks\\': 0}, {\\'item_id\\': \\'311850\\', \\'item_name\\': \\'Zombie Solitaire\\', \\'playtime_forever\\': 0, \\'playtime_2weeks\\': 0}, {\\'item_id\\': \\'312280\\', \\'item_name\\': \\'Simply Chess\\', \\'playtime_forever\\': 11, \\'playtime_2weeks\\': 0}, {\\'item_id\\': \\'316080\\', \\'item_name\\': \\'Parcel\\', \\'playtime_forever\\': 224, \\'playtime_2weeks\\': 0}, {\\'item_id\\': \\'317250\\', \\'item_name\\': \\'Airscape: The Fall of Gravity\\', \\'playtime_forever\\': 237, \\'playtime_2weeks\\': 0}, {\\'item_id\\': \\'317400\\', \\'item_name\\': \\'Portal Stories: Mel\\', \\'playtime_forever\\': 494, \\'playtime_2weeks\\': 0}, {\\'item_id\\': \\'317610\\', \\'item_name\\': \\'Prophour23\\', \\'playtime_forever\\': 206, \\'playtime_2weeks\\': 0}, {\\'item_id\\': \\'253510\\', \\'item_name\\': \\'Warmachine Tactics\\', \\'playtime_forever\\': 342, \\'playtime_2weeks\\': 0}, {\\'item_id\\': \\'318100\\', \\'item_name\\': \\'AXYOS\\', \\'playtime_forever\\': 316, \\'playtime_2weeks\\': 0}, {\\'item_id\\': \\'318230\\', \\'item_name\\': \\'Convoy\\', \\'playtime_forever\\': 301, \\'playtime_2weeks\\': 0}, {\\'item_id\\': \\'318350\\', \\'item_name\\': \"Disney Fairies: Tinker Bell\\'s Adventure\", \\'playtime_forever\\': 0, \\'playtime_2weeks\\': 0}, {\\'item_id\\': \\'318950\\', \\'item_name\\': \"Disney\\'s Tangled\", \\'playtime_forever\\': 0, \\'playtime_2weeks\\': 0}, {\\'item_id\\': \\'319230\\', \\'item_name\\': \\'Gold Rush! Anniversary\\', \\'playtime_forever\\': 186, \\'playtime_2weeks\\': 0}, {\\'item_id\\': \\'319270\\', \\'item_name\\': \\'Great Permutator\\', \\'playtime_forever\\': 55, \\'playtime_2weeks\\': 0}, {\\'item_id\\': \\'319400\\', \\'item_name\\': \\'Disney Winnie the Pooh\\', \\'playtime_forever\\': 0, \\'playtime_2weeks\\': 0}, {\\'item_id\\': \\'319970\\', \\'item_name\\': \\'The Detail\\', \\'playtime_forever\\': 227, \\'playtime_2weeks\\': 0}, {\\'item_id\\': \\'320300\\', \\'item_name\\': \\'Car Mechanic Simulator 2015\\', \\'playtime_forever\\': 0, \\'playtime_2weeks\\': 0}, {\\'item_id\\': \\'241930\\', \\'item_name\\': \\'Middle-earth: Shadow of Mordor\\', \\'playtime_forever\\': 1630, \\'playtime_2weeks\\': 0}, {\\'item_id\\': \\'45100\\', \\'item_name\\': \\'Secret of the Magic Crystal\\', \\'playtime_forever\\': 110, \\'playtime_2weeks\\': 0}, {\\'item_id\\': \\'289930\\', \\'item_name\\': \\'TransOcean: The Shipping Company\\', \\'playtime_forever\\': 217, \\'playtime_2weeks\\': 0}, {\\'item_id\\': \\'7860\\', \\'item_name\\': \\'NecroVisioN\\', \\'playtime_forever\\': 0, \\'playtime_2weeks\\': 0}, {\\'item_id\\': \\'46250\\', \\'item_name\\': \\'NecroVisioN: Lost Company\\', \\'playtime_forever\\': 0, \\'playtime_2weeks\\': 0}, {\\'item_id\\': \\'287450\\', \\'item_name\\': \\'Rise of Nations: Extended Edition\\', \\'playtime_forever\\': 132, \\'playtime_2weeks\\': 0}, {\\'item_id\\': \\'323320\\', \\'item_name\\': \\'Grow Home\\', \\'playtime_forever\\': 218, \\'playtime_2weeks\\': 0}, {\\'item_id\\': \\'241260\\', \\'item_name\\': \\'Sherlock Holmes: Crimes and Punishments\\', \\'playtime_forever\\': 691, \\'playtime_2weeks\\': 0}, {\\'item_id\\': \\'323430\\', \\'item_name\\': \\'Crow\\', \\'playtime_forever\\': 0, \\'playtime_2weeks\\': 0}, {\\'item_id\\': \\'302510\\', \\'item_name\\': \\'Ryse: Son of Rome\\', \\'playtime_forever\\': 488, \\'playtime_2weeks\\': 0}, {\\'item_id\\': \\'214490\\', \\'item_name\\': \\'Alien: Isolation\\', \\'playtime_forever\\': 279, \\'playtime_2weeks\\': 0}, {\\'item_id\\': \\'221540\\', \\'item_name\\': \\'Defense Grid 2\\', \\'playtime_forever\\': 414, \\'playtime_2weeks\\': 0}, {\\'item_id\\': \\'307690\\', \\'item_name\\': \\'Sleeping Dogs: Definitive Edition\\', \\'playtime_forever\\': 0, \\'playtime_2weeks\\': 0}, {\\'item_id\\': \\'326190\\', \\'item_name\\': \\'Alchemy Mysteries: Prague Legends\\', \\'playtime_forever\\': 218, \\'playtime_2weeks\\': 0}, {\\'item_id\\': \\'245300\\', \\'item_name\\': \\'Disney Epic Mickey 2\\', \\'playtime_forever\\': 364, \\'playtime_2weeks\\': 0}, {\\'item_id\\': \\'286880\\', \\'item_name\\': \\'Disney Planes\\', \\'playtime_forever\\': 218, \\'playtime_2weeks\\': 0}, {\\'item_id\\': \\'297860\\', \\'item_name\\': \\'Split/Second\\', \\'playtime_forever\\': 399, \\'playtime_2weeks\\': 0}, {\\'item_id\\': \\'301760\\', \\'item_name\\': \\'Cars 2\\', \\'playtime_forever\\': 0, \\'playtime_2weeks\\': 0}, {\\'item_id\\': \\'301980\\', \\'item_name\\': \\'Pirates of the Caribbean - At Worlds End\\', \\'playtime_forever\\': 278, \\'playtime_2weeks\\': 0}, {\\'item_id\\': \\'311770\\', \\'item_name\\': \\'LEGO® Pirates of the Caribbean The Video Game\\', \\'playtime_forever\\': 343, \\'playtime_2weeks\\': 0}, {\\'item_id\\': \\'315440\\', \\'item_name\\': \\'TRON: Evolution\\', \\'playtime_forever\\': 399, \\'playtime_2weeks\\': 0}, {\\'item_id\\': \\'316030\\', \\'item_name\\': \\'Alice in Wonderland\\', \\'playtime_forever\\': 286, \\'playtime_2weeks\\': 0}, {\\'item_id\\': \\'316260\\', \\'item_name\\': \\'Disney Universe\\', \\'playtime_forever\\': 278, \\'playtime_2weeks\\': 0}, {\\'item_id\\': \\'316320\\', \\'item_name\\': \\'Cars Toon\\', \\'playtime_forever\\': 0, \\'playtime_2weeks\\': 0}, {\\'item_id\\': \\'317580\\', \\'item_name\\': \\'Toy Story Mania\\', \\'playtime_forever\\': 0, \\'playtime_2weeks\\': 0}, {\\'item_id\\': \\'319170\\', \\'item_name\\': \\'G-Force\\', \\'playtime_forever\\': 279, \\'playtime_2weeks\\': 0}, {\\'item_id\\': \\'322600\\', \\'item_name\\': \\'PURE\\', \\'playtime_forever\\': 421, \\'playtime_2weeks\\': 0}, {\\'item_id\\': \\'327740\\', \\'item_name\\': \\'Tron 2.0\\', \\'playtime_forever\\': 279, \\'playtime_2weeks\\': 0}, {\\'item_id\\': \\'327370\\', \\'item_name\\': \\'Brink of Consciousness: The Lonely Hearts Murders\\', \\'playtime_forever\\': 0, \\'playtime_2weeks\\': 0}, {\\'item_id\\': \\'327860\\', \\'item_name\\': \\'Salt\\', \\'playtime_forever\\': 0, \\'playtime_2weeks\\': 0}, {\\'item_id\\': \\'24240\\', \\'item_name\\': \\'PAYDAY: The Heist\\', \\'playtime_forever\\': 136, \\'playtime_2weeks\\': 0}, {\\'item_id\\': \\'328880\\', \\'item_name\\': \\'Space Legends: At the Edge of the Universe\\', \\'playtime_forever\\': 0, \\'playtime_2weeks\\': 0}, {\\'item_id\\': \\'329650\\', \\'item_name\\': \\'NAM\\', \\'playtime_forever\\': 0, \\'playtime_2weeks\\': 0}, {\\'item_id\\': \\'329830\\', \\'item_name\\': \\'The Moon Sliver\\', \\'playtime_forever\\': 55, \\'playtime_2weeks\\': 0}, {\\'item_id\\': \\'329950\\', \\'item_name\\': \\'The Slaughtering Grounds\\', \\'playtime_forever\\': 213, \\'playtime_2weeks\\': 0}, {\\'item_id\\': \\'211420\\', \\'item_name\\': \\'Dark Souls: Prepare to Die Edition\\', \\'playtime_forever\\': 15, \\'playtime_2weeks\\': 0}, {\\'item_id\\': \\'330350\\', \\'item_name\\': \\'Robotex\\', \\'playtime_forever\\': 214, \\'playtime_2weeks\\': 0}, {\\'item_id\\': \\'330370\\', \\'item_name\\': \\'Reload\\', \\'playtime_forever\\': 0, \\'playtime_2weeks\\': 0}, {\\'item_id\\': \\'330660\\', \\'item_name\\': \"Luna\\'s Wandering Stars\", \\'playtime_forever\\': 219, \\'playtime_2weeks\\': 0}, {\\'item_id\\': \\'330840\\', \\'item_name\\': \\'Game of Thrones - A Telltale Games Series\\', \\'playtime_forever\\': 0, \\'playtime_2weeks\\': 0}, {\\'item_id\\': \\'730\\', \\'item_name\\': \\'Counter-Strike: Global Offensive\\', \\'playtime_forever\\': 265, \\'playtime_2weeks\\': 0}, {\\'item_id\\': \\'331790\\', \\'item_name\\': \\'Data Hacker: Reboot\\', \\'playtime_forever\\': 214, \\'playtime_2weeks\\': 0}, {\\'item_id\\': \\'305620\\', \\'item_name\\': \\'The Long Dark\\', \\'playtime_forever\\': 37, \\'playtime_2weeks\\': 0}, {\\'item_id\\': \\'332480\\', \\'item_name\\': \\'Phoenix Force\\', \\'playtime_forever\\': 214, \\'playtime_2weeks\\': 0}, {\\'item_id\\': \\'332710\\', \\'item_name\\': \\'1Quest\\', \\'playtime_forever\\': 184, \\'playtime_2weeks\\': 0}, {\\'item_id\\': \\'333740\\', \\'item_name\\': \\'The Falling Sun\\', \\'playtime_forever\\': 222, \\'playtime_2weeks\\': 0}, {\\'item_id\\': \\'334620\\', \\'item_name\\': \\'Soccertron\\', \\'playtime_forever\\': 181, \\'playtime_2weeks\\': 0}, {\\'item_id\\': \\'334840\\', \\'item_name\\': \\'Drive to Hell\\', \\'playtime_forever\\': 242, \\'playtime_2weeks\\': 0}, {\\'item_id\\': \\'335200\\', \\'item_name\\': \\'ManaCollect\\', \\'playtime_forever\\': 262, \\'playtime_2weeks\\': 0}, {\\'item_id\\': \\'335240\\', \\'item_name\\': \\'Transformice\\', \\'playtime_forever\\': 8, \\'playtime_2weeks\\': 0}, {\\'item_id\\': \\'337420\\', \\'item_name\\': \\'Final Dusk\\', \\'playtime_forever\\': 182, \\'playtime_2weeks\\': 0}, {\\'item_id\\': \\'257510\\', \\'item_name\\': \\'The Talos Principle\\', \\'playtime_forever\\': 194, \\'playtime_2weeks\\': 0}, {\\'item_id\\': \\'339200\\', \\'item_name\\': \\'Oceanhorn: Monster of Uncharted Seas\\', \\'playtime_forever\\': 245, \\'playtime_2weeks\\': 0}, {\\'item_id\\': \\'319630\\', \\'item_name\\': \\'Life Is Strange™\\', \\'playtime_forever\\': 1299, \\'playtime_2weeks\\': 0}, {\\'item_id\\': \\'339800\\', \\'item_name\\': \\'HuniePop\\', \\'playtime_forever\\': 247, \\'playtime_2weeks\\': 0}, {\\'item_id\\': \\'340070\\', \\'item_name\\': \\'Battle Ranch\\', \\'playtime_forever\\': 231, \\'playtime_2weeks\\': 0}, {\\'item_id\\': \\'340300\\', \\'item_name\\': \\'Teddy Floppy Ear - Mountain Adventure\\', \\'playtime_forever\\': 199, \\'playtime_2weeks\\': 0}, {\\'item_id\\': \\'340310\\', \\'item_name\\': \\'Teddy Floppy Ear - Kayaking\\', \\'playtime_forever\\': 213, \\'playtime_2weeks\\': 0}, {\\'item_id\\': \\'341080\\', \\'item_name\\': \\'Nexus : One Core\\', \\'playtime_forever\\': 0, \\'playtime_2weeks\\': 0}, {\\'item_id\\': \\'341150\\', \\'item_name\\': \\'Age of Fear 2: The Chaos Lord\\', \\'playtime_forever\\': 261, \\'playtime_2weeks\\': 0}, {\\'item_id\\': \\'341500\\', \\'item_name\\': \\'Camera Obscura\\', \\'playtime_forever\\': 380, \\'playtime_2weeks\\': 0}, {\\'item_id\\': \\'341550\\', \\'item_name\\': \\'Super Cyborg\\', \\'playtime_forever\\': 217, \\'playtime_2weeks\\': 0}, {\\'item_id\\': \\'342360\\', \\'item_name\\': \\'Train of Afterlife\\', \\'playtime_forever\\': 203, \\'playtime_2weeks\\': 0}, {\\'item_id\\': \\'343390\\', \\'item_name\\': \\'Elementary My Dear Majesty!\\', \\'playtime_forever\\': 170, \\'playtime_2weeks\\': 0}, {\\'item_id\\': \\'335660\\', \\'item_name\\': \\'CAFE 0 ~The Drowned Mermaid~\\', \\'playtime_forever\\': 202, \\'playtime_2weeks\\': 0}, {\\'item_id\\': \\'344030\\', \\'item_name\\': \\'Ghost Pirates of Vooju Island\\', \\'playtime_forever\\': 0, \\'playtime_2weeks\\': 0}, {\\'item_id\\': \\'344040\\', \\'item_name\\': \\'Voxelized\\', \\'playtime_forever\\': 218, \\'playtime_2weeks\\': 0}, {\\'item_id\\': \\'344790\\', \\'item_name\\': \\'Mystery Masters: Psycho Train Deluxe Edition\\', \\'playtime_forever\\': 243, \\'playtime_2weeks\\': 0}, {\\'item_id\\': \\'215080\\', \\'item_name\\': \\'WAKFU\\', \\'playtime_forever\\': 0, \\'playtime_2weeks\\': 0}, {\\'item_id\\': \\'301910\\', \\'item_name\\': \\'Saints Row: Gat out of Hell\\', \\'playtime_forever\\': 437, \\'playtime_2weeks\\': 0}, {\\'item_id\\': \\'345440\\', \\'item_name\\': \\'Vapour\\', \\'playtime_forever\\': 271, \\'playtime_2weeks\\': 0}, {\\'item_id\\': \\'346010\\', \\'item_name\\': \\'Besiege\\', \\'playtime_forever\\': 51, \\'playtime_2weeks\\': 0}, {\\'item_id\\': \\'346040\\', \\'item_name\\': \"Joe\\'s Diner\", \\'playtime_forever\\': 177, \\'playtime_2weeks\\': 0}, {\\'item_id\\': \\'346110\\', \\'item_name\\': \\'ARK: Survival Evolved\\', \\'playtime_forever\\': 1, \\'playtime_2weeks\\': 0}, {\\'item_id\\': \\'407530\\', \\'item_name\\': \\'ARK: Survival Of The Fittest\\', \\'playtime_forever\\': 0, \\'playtime_2weeks\\': 0}, {\\'item_id\\': \\'346140\\', \\'item_name\\': \\'Hidden Object Bundle 5 in 1\\', \\'playtime_forever\\': 55, \\'playtime_2weeks\\': 0}, {\\'item_id\\': \\'346290\\', \\'item_name\\': \\'Penumbra: Necrologue\\', \\'playtime_forever\\': 0, \\'playtime_2weeks\\': 0}, {\\'item_id\\': \\'346900\\', \\'item_name\\': \\'AdVenture Capitalist\\', \\'playtime_forever\\': 60, \\'playtime_2weeks\\': 0}, {\\'item_id\\': \\'347350\\', \\'item_name\\': \\'The Making of Grim Fandango Remastered\\', \\'playtime_forever\\': 0, \\'playtime_2weeks\\': 0}, {\\'item_id\\': \\'347360\\', \\'item_name\\': \\'The Making of Grim Fandango Remastered: E3 and Beyond\\', \\'playtime_forever\\': 0, \\'playtime_2weeks\\': 0}, {\\'item_id\\': \\'347370\\', \\'item_name\\': \\'The Making of Grim Fandango Remastered: The Remastered Treatment\\', \\'playtime_forever\\': 0, \\'playtime_2weeks\\': 0}, {\\'item_id\\': \\'495400\\', \\'item_name\\': \\'The Making of Grim Fandango Remastered: Developing the Game\\', \\'playtime_forever\\': 0, \\'playtime_2weeks\\': 0}, {\\'item_id\\': \\'347430\\', \\'item_name\\': \\'Frankenstein: Master of Death\\', \\'playtime_forever\\': 244, \\'playtime_2weeks\\': 0}, {\\'item_id\\': \\'347590\\', \\'item_name\\': \\'Heroes of Hellas 3: Athens\\', \\'playtime_forever\\': 63, \\'playtime_2weeks\\': 0}, {\\'item_id\\': \\'347560\\', \\'item_name\\': \\'Terra Incognita ~ Chapter One: The Descendant\\', \\'playtime_forever\\': 218, \\'playtime_2weeks\\': 0}, {\\'item_id\\': \\'348360\\', \\'item_name\\': \\'Doodle God\\', \\'playtime_forever\\': 240, \\'playtime_2weeks\\': 0}, {\\'item_id\\': \\'348670\\', \\'item_name\\': \\'Immune\\', \\'playtime_forever\\': 202, \\'playtime_2weeks\\': 0}, {\\'item_id\\': \\'349260\\', \\'item_name\\': \\'BlastZone 2\\', \\'playtime_forever\\': 337, \\'playtime_2weeks\\': 0}, {\\'item_id\\': \\'349500\\', \\'item_name\\': \\'Cubicle Quest\\', \\'playtime_forever\\': 158, \\'playtime_2weeks\\': 0}, {\\'item_id\\': \\'351340\\', \\'item_name\\': \\'Belladonna\\', \\'playtime_forever\\': 319, \\'playtime_2weeks\\': 0}, {\\'item_id\\': \\'351490\\', \\'item_name\\': \\'Intergalactic Bubbles\\', \\'playtime_forever\\': 249, \\'playtime_2weeks\\': 0}, {\\'item_id\\': \\'352190\\', \\'item_name\\': \\'Spirit Of War\\', \\'playtime_forever\\': 179, \\'playtime_2weeks\\': 0}, {\\'item_id\\': \\'331160\\', \\'item_name\\': \\'Cars\\', \\'playtime_forever\\': 0, \\'playtime_2weeks\\': 0}, {\\'item_id\\': \\'331450\\', \\'item_name\\': \\'Finding Nemo\\', \\'playtime_forever\\': 0, \\'playtime_2weeks\\': 0}, {\\'item_id\\': \\'331750\\', \\'item_name\\': \\'WALL E\\', \\'playtime_forever\\': 0, \\'playtime_2weeks\\': 0}, {\\'item_id\\': \\'331970\\', \\'item_name\\': \\'Treasure Planet Battle at Procyon\\', \\'playtime_forever\\': 0, \\'playtime_2weeks\\': 0}, {\\'item_id\\': \\'332260\\', \\'item_name\\': \\'Cars Mater-National\\', \\'playtime_forever\\': 0, \\'playtime_2weeks\\': 0}, {\\'item_id\\': \\'338300\\', \\'item_name\\': \\'Chicken Little Ace in Action\\', \\'playtime_forever\\': 0, \\'playtime_2weeks\\': 0}, {\\'item_id\\': \\'339040\\', \\'item_name\\': \\'Chicken Little\\', \\'playtime_forever\\': 0, \\'playtime_2weeks\\': 0}, {\\'item_id\\': \\'340990\\', \\'item_name\\': \\'Bolt\\', \\'playtime_forever\\': 0, \\'playtime_2weeks\\': 0}, {\\'item_id\\': \\'343140\\', \\'item_name\\': \\'Cars Radiator Springs Adventures\\', \\'playtime_forever\\': 0, \\'playtime_2weeks\\': 0}, {\\'item_id\\': \\'353640\\', \\'item_name\\': \\'Train Valley\\', \\'playtime_forever\\': 329, \\'playtime_2weeks\\': 0}, {\\'item_id\\': \\'311560\\', \\'item_name\\': \"Assassin\\'s Creed Rogue\", \\'playtime_forever\\': 790, \\'playtime_2weeks\\': 0}, {\\'item_id\\': \\'354500\\', \\'item_name\\': \\'PAYDAY: The Web Series\\', \\'playtime_forever\\': 0, \\'playtime_2weeks\\': 0}, {\\'item_id\\': \\'354510\\', \\'item_name\\': \\'PAYDAY: The Web Series: The Vault\\', \\'playtime_forever\\': 0, \\'playtime_2weeks\\': 0}, {\\'item_id\\': \\'354520\\', \\'item_name\\': \\'PAYDAY: The Web Series: Hector\\', \\'playtime_forever\\': 0, \\'playtime_2weeks\\': 0}, {\\'item_id\\': \\'354530\\', \\'item_name\\': \\'PAYDAY: The Web Series: The Elephant\\', \\'playtime_forever\\': 0, \\'playtime_2weeks\\': 0}, {\\'item_id\\': \\'354540\\', \\'item_name\\': \\'PAYDAY: The Web Series: Greta: The Assassin\\', \\'playtime_forever\\': 0, \\'playtime_2weeks\\': 0}, {\\'item_id\\': \\'354550\\', \\'item_name\\': \\'PAYDAY: The Web Series: Vlad & Gage\\', \\'playtime_forever\\': 0, \\'playtime_2weeks\\': 0}, {\\'item_id\\': \\'494710\\', \\'item_name\\': \\'PAYDAY: The Web Series: First World Bank\\', \\'playtime_forever\\': 0, \\'playtime_2weeks\\': 0}, {\\'item_id\\': \\'354640\\', \\'item_name\\': \\'The Settlers Online\\', \\'playtime_forever\\': 0, \\'playtime_2weeks\\': 0}, {\\'item_id\\': \\'355150\\', \\'item_name\\': \\'Gravilon\\', \\'playtime_forever\\': 232, \\'playtime_2weeks\\': 0}, {\\'item_id\\': \\'255710\\', \\'item_name\\': \\'Cities: Skylines\\', \\'playtime_forever\\': 126, \\'playtime_2weeks\\': 0}, {\\'item_id\\': \\'355950\\', \\'item_name\\': \\'Age of Empires II HD: The African Kingdoms\\', \\'playtime_forever\\': 0, \\'playtime_2weeks\\': 0}, {\\'item_id\\': \\'356040\\', \\'item_name\\': \\'Sheltered\\', \\'playtime_forever\\': 314, \\'playtime_2weeks\\': 0}, {\\'item_id\\': \\'356570\\', \\'item_name\\': \\'Party Hard\\', \\'playtime_forever\\': 233, \\'playtime_2weeks\\': 0}, {\\'item_id\\': \\'359040\\', \\'item_name\\': \\'The Music Machine\\', \\'playtime_forever\\': 182, \\'playtime_2weeks\\': 0}, {\\'item_id\\': \\'359050\\', \\'item_name\\': \\'Shower With Your Dad Simulator 2015: Do You Still Shower With Your Dad\\', \\'playtime_forever\\': 218, \\'playtime_2weeks\\': 0}, {\\'item_id\\': \\'359320\\', \\'item_name\\': \\'Elite Dangerous\\', \\'playtime_forever\\': 0, \\'playtime_2weeks\\': 0}, {\\'item_id\\': \\'360590\\', \\'item_name\\': \\'Once Bitten, Twice Dead\\', \\'playtime_forever\\': 118, \\'playtime_2weeks\\': 0}, {\\'item_id\\': \\'360640\\', \\'item_name\\': \\'12 Labours of Hercules II: The Cretan Bull\\', \\'playtime_forever\\': 285, \\'playtime_2weeks\\': 0}, {\\'item_id\\': \\'360730\\', \\'item_name\\': \\'Cards and Castles\\', \\'playtime_forever\\': 278, \\'playtime_2weeks\\': 0}, {\\'item_id\\': \\'360750\\', \\'item_name\\': \\'StarFence: Heroic Edition\\', \\'playtime_forever\\': 0, \\'playtime_2weeks\\': 0}, {\\'item_id\\': \\'361160\\', \\'item_name\\': \"Steamalot: Epoch\\'s Journey\", \\'playtime_forever\\': 178, \\'playtime_2weeks\\': 0}, {\\'item_id\\': \\'361190\\', \\'item_name\\': \\'Sparkle 3 Genesis\\', \\'playtime_forever\\': 259, \\'playtime_2weeks\\': 0}, {\\'item_id\\': \\'361400\\', \\'item_name\\': \\'Are You Smarter Than a 5th Grader\\', \\'playtime_forever\\': 316, \\'playtime_2weeks\\': 0}, {\\'item_id\\': \\'47780\\', \\'item_name\\': \\'Dead Space 2\\', \\'playtime_forever\\': 0, \\'playtime_2weeks\\': 0}, {\\'item_id\\': \\'362620\\', \\'item_name\\': \\'Software Inc.\\', \\'playtime_forever\\': 29, \\'playtime_2weeks\\': 0}, {\\'item_id\\': \\'346680\\', \\'item_name\\': \\'Black Mesa Dedicated Server\\', \\'playtime_forever\\': 0, \\'playtime_2weeks\\': 0}, {\\'item_id\\': \\'362890\\', \\'item_name\\': \\'Black Mesa\\', \\'playtime_forever\\': 338, \\'playtime_2weeks\\': 0}, {\\'item_id\\': \\'363460\\', \\'item_name\\': \\'Spermination\\', \\'playtime_forever\\': 233, \\'playtime_2weeks\\': 0}, {\\'item_id\\': \\'363490\\', \\'item_name\\': \\'Escape Machines\\', \\'playtime_forever\\': 215, \\'playtime_2weeks\\': 0}, {\\'item_id\\': \\'363600\\', \\'item_name\\': \\'Holy Potatoes! A Weapon Shop?!\\', \\'playtime_forever\\': 573, \\'playtime_2weeks\\': 0}, {\\'item_id\\': \\'364270\\', \\'item_name\\': \\'Lilly and Sasha: Curse of the Immortals\\', \\'playtime_forever\\': 214, \\'playtime_2weeks\\': 0}, {\\'item_id\\': \\'365450\\', \\'item_name\\': \\'Hacknet\\', \\'playtime_forever\\': 266, \\'playtime_2weeks\\': 0}, {\\'item_id\\': \\'366990\\', \\'item_name\\': \\'Puzzle Station 15th Anniversary Retro Release\\', \\'playtime_forever\\': 0, \\'playtime_2weeks\\': 0}, {\\'item_id\\': \\'238370\\', \\'item_name\\': \\'Magicka 2\\', \\'playtime_forever\\': 282, \\'playtime_2weeks\\': 0}, {\\'item_id\\': \\'397080\\', \\'item_name\\': \\'Magicka 2: Spell Balance Beta\\', \\'playtime_forever\\': 0, \\'playtime_2weeks\\': 0}, {\\'item_id\\': \\'363580\\', \\'item_name\\': \\'PING 1.5+\\', \\'playtime_forever\\': 217, \\'playtime_2weeks\\': 0}, {\\'item_id\\': \\'370510\\', \\'item_name\\': \\'Marble Mayhem: Fragile Ball\\', \\'playtime_forever\\': 225, \\'playtime_2weeks\\': 0}, {\\'item_id\\': \\'370550\\', \\'item_name\\': \\'Sparkle 2\\', \\'playtime_forever\\': 228, \\'playtime_2weeks\\': 0}, {\\'item_id\\': \\'370640\\', \\'item_name\\': \"Midnight\\'s Blessing\", \\'playtime_forever\\': 0, \\'playtime_2weeks\\': 0}, {\\'item_id\\': \\'371420\\', \\'item_name\\': \\'Teddy Floppy Ear - The Race\\', \\'playtime_forever\\': 340, \\'playtime_2weeks\\': 0}, {\\'item_id\\': \\'371500\\', \\'item_name\\': \\'Grey Cubes\\', \\'playtime_forever\\': 0, \\'playtime_2weeks\\': 0}, {\\'item_id\\': \\'371510\\', \\'item_name\\': \\'Gunnheim\\', \\'playtime_forever\\': 284, \\'playtime_2weeks\\': 0}, {\\'item_id\\': \\'371670\\', \\'item_name\\': \\'Rolling Sun\\', \\'playtime_forever\\': 232, \\'playtime_2weeks\\': 0}, {\\'item_id\\': \\'372030\\', \\'item_name\\': \\'Starship Rubicon\\', \\'playtime_forever\\': 246, \\'playtime_2weeks\\': 0}, {\\'item_id\\': \\'373110\\', \\'item_name\\': \\'Temper Tantrum\\', \\'playtime_forever\\': 286, \\'playtime_2weeks\\': 0}, {\\'item_id\\': \\'375250\\', \\'item_name\\': \\'Pizza Express\\', \\'playtime_forever\\': 247, \\'playtime_2weeks\\': 0}, {\\'item_id\\': \\'375460\\', \\'item_name\\': \\'16bit Trader\\', \\'playtime_forever\\': 265, \\'playtime_2weeks\\': 0}, {\\'item_id\\': \\'375510\\', \\'item_name\\': \\'New kind of adventure\\', \\'playtime_forever\\': 220, \\'playtime_2weeks\\': 0}, {\\'item_id\\': \\'267750\\', \\'item_name\\': \\'Shadowrun Chronicles - Boston Lockdown\\', \\'playtime_forever\\': 307, \\'playtime_2weeks\\': 0}, {\\'item_id\\': \\'376870\\', \\'item_name\\': \\'Minecraft: Story Mode - A Telltale Games Series\\', \\'playtime_forever\\': 229, \\'playtime_2weeks\\': 0}, {\\'item_id\\': \\'312530\\', \\'item_name\\': \\'Duck Game\\', \\'playtime_forever\\': 229, \\'playtime_2weeks\\': 0}, {\\'item_id\\': \\'380700\\', \\'item_name\\': \\'Zombie Killtime\\', \\'playtime_forever\\': 258, \\'playtime_2weeks\\': 0}, {\\'item_id\\': \\'208650\\', \\'item_name\\': \\'Batman™: Arkham Knight\\', \\'playtime_forever\\': 1851, \\'playtime_2weeks\\': 0}, {\\'item_id\\': \\'267490\\', \\'item_name\\': \\'Batman™: Arkham Origins Blackgate - Deluxe Edition\\', \\'playtime_forever\\': 122, \\'playtime_2weeks\\': 0}, {\\'item_id\\': \\'383330\\', \\'item_name\\': \\'Star Chronicles: Delta Quadrant\\', \\'playtime_forever\\': 220, \\'playtime_2weeks\\': 0}, {\\'item_id\\': \\'383560\\', \\'item_name\\': \\'Squarelands\\', \\'playtime_forever\\': 0, \\'playtime_2weeks\\': 0}, {\\'item_id\\': \\'383800\\', \\'item_name\\': \\'Close Order\\', \\'playtime_forever\\': 358, \\'playtime_2weeks\\': 0}, {\\'item_id\\': \\'384480\\', \\'item_name\\': \\'Six Sides of the World\\', \\'playtime_forever\\': 225, \\'playtime_2weeks\\': 0}, {\\'item_id\\': \\'383870\\', \\'item_name\\': \\'Firewatch\\', \\'playtime_forever\\': 533, \\'playtime_2weeks\\': 0}, {\\'item_id\\': \\'384740\\', \\'item_name\\': \\'CAT Interstellar\\', \\'playtime_forever\\': 220, \\'playtime_2weeks\\': 0}, {\\'item_id\\': \\'367580\\', \\'item_name\\': \\'Hook\\', \\'playtime_forever\\': 221, \\'playtime_2weeks\\': 0}, {\\'item_id\\': \\'385080\\', \\'item_name\\': \\'Guardians of Victoria\\', \\'playtime_forever\\': 314, \\'playtime_2weeks\\': 0}, {\\'item_id\\': \\'385830\\', \\'item_name\\': \\'Burgers\\', \\'playtime_forever\\': 389, \\'playtime_2weeks\\': 0}, {\\'item_id\\': \\'386330\\', \\'item_name\\': \\'HoD: A pirate adventure\\', \\'playtime_forever\\': 0, \\'playtime_2weeks\\': 0}, {\\'item_id\\': \\'387840\\', \\'item_name\\': \\'Alpha Runner\\', \\'playtime_forever\\': 182, \\'playtime_2weeks\\': 0}, {\\'item_id\\': \\'388080\\', \\'item_name\\': \\'Borderless Gaming\\', \\'playtime_forever\\': 5, \\'playtime_2weeks\\': 0}, {\\'item_id\\': \\'388160\\', \\'item_name\\': \\'Project Druid - 2D Labyrinth Explorer-\\', \\'playtime_forever\\': 0, \\'playtime_2weeks\\': 0}, {\\'item_id\\': \\'391070\\', \\'item_name\\': \\'Stellar 2D\\', \\'playtime_forever\\': 241, \\'playtime_2weeks\\': 0}, {\\'item_id\\': \\'391540\\', \\'item_name\\': \\'Undertale\\', \\'playtime_forever\\': 330, \\'playtime_2weeks\\': 30}, {\\'item_id\\': \\'391420\\', \\'item_name\\': \\'Gun Rocket\\', \\'playtime_forever\\': 220, \\'playtime_2weeks\\': 0}, {\\'item_id\\': \\'394310\\', \\'item_name\\': \\'Punch Club\\', \\'playtime_forever\\': 364, \\'playtime_2weeks\\': 0}, {\\'item_id\\': \\'394540\\', \\'item_name\\': \\'Spaceport Hope\\', \\'playtime_forever\\': 211, \\'playtime_2weeks\\': 0}, {\\'item_id\\': \\'395270\\', \\'item_name\\': \\'A Wolf in Autumn\\', \\'playtime_forever\\': 0, \\'playtime_2weeks\\': 0}, {\\'item_id\\': \\'396260\\', \\'item_name\\': \"World\\'s Fastest Pizza\", \\'playtime_forever\\': 0, \\'playtime_2weeks\\': 0}, {\\'item_id\\': \\'398710\\', \\'item_name\\': \\'Timberman\\', \\'playtime_forever\\': 235, \\'playtime_2weeks\\': 0}, {\\'item_id\\': \\'399430\\', \\'item_name\\': \\'Tinboy\\', \\'playtime_forever\\': 215, \\'playtime_2weeks\\': 0}, {\\'item_id\\': \\'402670\\', \\'item_name\\': \\'Space Thinger\\', \\'playtime_forever\\': 0, \\'playtime_2weeks\\': 0}, {\\'item_id\\': \\'403560\\', \\'item_name\\': \\'Eaten Alive\\', \\'playtime_forever\\': 250, \\'playtime_2weeks\\': 0}, {\\'item_id\\': \\'403570\\', \\'item_name\\': \\'Stigmat\\', \\'playtime_forever\\': 222, \\'playtime_2weeks\\': 0}, {\\'item_id\\': \\'403900\\', \\'item_name\\': \\'Clergy Splode\\', \\'playtime_forever\\': 235, \\'playtime_2weeks\\': 0}, {\\'item_id\\': \\'403740\\', \\'item_name\\': \\'GabeN: The Final Decision\\', \\'playtime_forever\\': 218, \\'playtime_2weeks\\': 0}, {\\'item_id\\': \\'404480\\', \\'item_name\\': \\'SC2VN - The eSports Visual Novel\\', \\'playtime_forever\\': 0, \\'playtime_2weeks\\': 0}, {\\'item_id\\': \\'405640\\', \\'item_name\\': \\'Pony Island\\', \\'playtime_forever\\': 216, \\'playtime_2weeks\\': 0}, {\\'item_id\\': \\'408940\\', \\'item_name\\': \\'The Sources of Tremendous Corporation\\', \\'playtime_forever\\': 0, \\'playtime_2weeks\\': 0}, {\\'item_id\\': \\'410210\\', \\'item_name\\': \\'Ampersand\\', \\'playtime_forever\\': 225, \\'playtime_2weeks\\': 0}, {\\'item_id\\': \\'411960\\', \\'item_name\\': \\'TY the Tasmanian Tiger\\', \\'playtime_forever\\': 1, \\'playtime_2weeks\\': 0}, {\\'item_id\\': \\'412600\\', \\'item_name\\': \\'Lup\\', \\'playtime_forever\\': 215, \\'playtime_2weeks\\': 0}, {\\'item_id\\': \\'413150\\', \\'item_name\\': \\'Stardew Valley\\', \\'playtime_forever\\': 275, \\'playtime_2weeks\\': 0}, {\\'item_id\\': \\'272890\\', \\'item_name\\': \\'Vertiginous Golf\\', \\'playtime_forever\\': 0, \\'playtime_2weeks\\': 0}, {\\'item_id\\': \\'415420\\', \\'item_name\\': \\'Nyan Cat: Lost In Space\\', \\'playtime_forever\\': 278, \\'playtime_2weeks\\': 0}, {\\'item_id\\': \\'416080\\', \\'item_name\\': \\'God Game : The Odyssey\\', \\'playtime_forever\\': 202, \\'playtime_2weeks\\': 0}, {\\'item_id\\': \\'416550\\', \\'item_name\\': \\'Rubber Ducky and the Rainbow Gun\\', \\'playtime_forever\\': 219, \\'playtime_2weeks\\': 0}, {\\'item_id\\': \\'418070\\', \\'item_name\\': \\'Turbo Pug\\', \\'playtime_forever\\': 224, \\'playtime_2weeks\\': 0}, {\\'item_id\\': \\'418910\\', \\'item_name\\': \\'Idle Civilization\\', \\'playtime_forever\\': 414, \\'playtime_2weeks\\': 0}, {\\'item_id\\': \\'2700\\', \\'item_name\\': \\'RollerCoaster Tycoon 3: Platinum!\\', \\'playtime_forever\\': 0, \\'playtime_2weeks\\': 0}, {\\'item_id\\': \\'285310\\', \\'item_name\\': \\'RollerCoaster Tycoon: Deluxe\\', \\'playtime_forever\\': 0, \\'playtime_2weeks\\': 0}, {\\'item_id\\': \\'285330\\', \\'item_name\\': \\'RollerCoaster Tycoon 2: Triple Thrill Pack\\', \\'playtime_forever\\': 1, \\'playtime_2weeks\\': 0}, {\\'item_id\\': \\'427520\\', \\'item_name\\': \\'Factorio\\', \\'playtime_forever\\': 1115, \\'playtime_2weeks\\': 0}, {\\'item_id\\': \\'431240\\', \\'item_name\\': \\'Golf With Your Friends\\', \\'playtime_forever\\': 0, \\'playtime_2weeks\\': 0}, {\\'item_id\\': \\'432020\\', \\'item_name\\': \"What\\'s under your blanket !?\", \\'playtime_forever\\': 212, \\'playtime_2weeks\\': 0}, {\\'item_id\\': \\'440430\\', \\'item_name\\': \"Life Is Strange™ - Directors\\' Commentary - 1.Two directors\", \\'playtime_forever\\': 0, \\'playtime_2weeks\\': 0}, {\\'item_id\\': \\'440431\\', \\'item_name\\': \"Life Is Strange™ - Directors\\' Commentary - 2. Let\\'s play Life is Strange\", \\'playtime_forever\\': 0, \\'playtime_2weeks\\': 0}, {\\'item_id\\': \\'440432\\', \\'item_name\\': \"Life Is Strange™ - Directors\\' Commentary - 3. Intentions\", \\'playtime_forever\\': 0, \\'playtime_2weeks\\': 0}, {\\'item_id\\': \\'440433\\', \\'item_name\\': \"Life Is Strange™ - Directors\\' Commentary - 4. A matter of choice\", \\'playtime_forever\\': 0, \\'playtime_2weeks\\': 0}, {\\'item_id\\': \\'440434\\', \\'item_name\\': \"Life Is Strange™ - Directors\\' Commentary - 5. A lively world\", \\'playtime_forever\\': 0, \\'playtime_2weeks\\': 0}, {\\'item_id\\': \\'440435\\', \\'item_name\\': \"Life Is Strange™ - Directors\\' Commentary - 6. Capturing the moment\", \\'playtime_forever\\': 0, \\'playtime_2weeks\\': 0}, {\\'item_id\\': \\'440436\\', \\'item_name\\': \"Life Is Strange™ - Directors\\' Commentary - 7. Social issues\", \\'playtime_forever\\': 0, \\'playtime_2weeks\\': 0}, {\\'item_id\\': \\'440437\\', \\'item_name\\': \"Life Is Strange™ - Directors\\' Commentary - 8. Getting things right\", \\'playtime_forever\\': 0, \\'playtime_2weeks\\': 0}, {\\'item_id\\': \\'440438\\', \\'item_name\\': \"Life Is Strange™ - Directors\\' Commentary - 9. Voices of Arcadia Bay\", \\'playtime_forever\\': 0, \\'playtime_2weeks\\': 0}, {\\'item_id\\': \\'433950\\', \\'item_name\\': \\'Bit Blaster XL\\', \\'playtime_forever\\': 221, \\'playtime_2weeks\\': 0}, {\\'item_id\\': \\'264240\\', \\'item_name\\': \\'CONSORTIUM\\', \\'playtime_forever\\': 218, \\'playtime_2weeks\\': 0}, {\\'item_id\\': \\'438010\\', \\'item_name\\': \\'PulseCharge\\', \\'playtime_forever\\': 218, \\'playtime_2weeks\\': 0}, {\\'item_id\\': \\'438020\\', \\'item_name\\': \\'AI: Rampage\\', \\'playtime_forever\\': 0, \\'playtime_2weeks\\': 0}, {\\'item_id\\': \\'438030\\', \\'item_name\\': \\'Dead6hot\\', \\'playtime_forever\\': 223, \\'playtime_2weeks\\': 0}, {\\'item_id\\': \\'438080\\', \\'item_name\\': \\'Surfingers\\', \\'playtime_forever\\': 217, \\'playtime_2weeks\\': 0}, {\\'item_id\\': \\'438180\\', \\'item_name\\': \\'Super Mustache\\', \\'playtime_forever\\': 186, \\'playtime_2weeks\\': 0}, {\\'item_id\\': \\'310380\\', \\'item_name\\': \\'Fractured Space\\', \\'playtime_forever\\': 0, \\'playtime_2weeks\\': 0}, {\\'item_id\\': \\'439260\\', \\'item_name\\': \\'BUTTS\\', \\'playtime_forever\\': 0, \\'playtime_2weeks\\': 0}, {\\'item_id\\': \\'4720\\', \\'item_name\\': \\'Condemned: Criminal Origins\\', \\'playtime_forever\\': 0, \\'playtime_2weeks\\': 0}, {\\'item_id\\': \\'34270\\', \\'item_name\\': \\'SEGA Mega Drive & Genesis Classics\\', \\'playtime_forever\\': 0, \\'playtime_2weeks\\': 0}, {\\'item_id\\': \\'203750\\', \\'item_name\\': \\'Binary Domain\\', \\'playtime_forever\\': 0, \\'playtime_2weeks\\': 0}, {\\'item_id\\': \\'444480\\', \\'item_name\\': \\'Broken Dreams\\', \\'playtime_forever\\': 222, \\'playtime_2weeks\\': 0}, {\\'item_id\\': \\'444560\\', \\'item_name\\': \\'Agent Origins: Escape\\', \\'playtime_forever\\': 10, \\'playtime_2weeks\\': 0}, {\\'item_id\\': \\'448630\\', \\'item_name\\': \\'Rabiez: Epidemic\\', \\'playtime_forever\\': 0, \\'playtime_2weeks\\': 0}, {\\'item_id\\': \\'448660\\', \\'item_name\\': \\'Shake Your Money Simulator 2016\\', \\'playtime_forever\\': 226, \\'playtime_2weeks\\': 0}, {\\'item_id\\': \\'449200\\', \\'item_name\\': \\'Calcu-Late\\', \\'playtime_forever\\': 250, \\'playtime_2weeks\\': 0}, {\\'item_id\\': \\'449540\\', \\'item_name\\': \"There\\'s Poop In My Soup\", \\'playtime_forever\\': 342, \\'playtime_2weeks\\': 0}, {\\'item_id\\': \\'451880\\', \\'item_name\\': \\'Catch a Falling Star\\', \\'playtime_forever\\': 240, \\'playtime_2weeks\\': 0}, {\\'item_id\\': \\'454200\\', \\'item_name\\': \\'Neon Hardcorps\\', \\'playtime_forever\\': 237, \\'playtime_2weeks\\': 0}, {\\'item_id\\': \\'454890\\', \\'item_name\\': \\'Project Starship\\', \\'playtime_forever\\': 223, \\'playtime_2weeks\\': 0}, {\\'item_id\\': \\'463210\\', \\'item_name\\': \\'State of Anarchy\\', \\'playtime_forever\\': 205, \\'playtime_2weeks\\': 0}, {\\'item_id\\': \\'463220\\', \\'item_name\\': \\'Dungeon of Zolthan\\', \\'playtime_forever\\': 198, \\'playtime_2weeks\\': 0}, {\\'item_id\\': \\'463350\\', \\'item_name\\': \\'Storm of Spears\\', \\'playtime_forever\\': 241, \\'playtime_2weeks\\': 0}, {\\'item_id\\': \\'466840\\', \\'item_name\\': \\'Super Space Pug\\', \\'playtime_forever\\': 218, \\'playtime_2weeks\\': 0}, {\\'item_id\\': \\'469730\\', \\'item_name\\': \\'Super Mega Neo Pug\\', \\'playtime_forever\\': 218, \\'playtime_2weeks\\': 0}, {\\'item_id\\': \\'473450\\', \\'item_name\\': \\'The Narrator is a DICK\\', \\'playtime_forever\\': 831, \\'playtime_2weeks\\': 0}, {\\'item_id\\': \\'485330\\', \\'item_name\\': \\'Star Drifter\\', \\'playtime_forever\\': 237, \\'playtime_2weeks\\': 0}, {\\'item_id\\': \\'485890\\', \\'item_name\\': \\'Summer Sale\\', \\'playtime_forever\\': 251, \\'playtime_2weeks\\': 0}, {\\'item_id\\': \\'491330\\', \\'item_name\\': \\'12 Labours of Hercules V: Kids of Hellas\\', \\'playtime_forever\\': 285, \\'playtime_2weeks\\': 0}, {\\'item_id\\': \\'397060\\', \\'item_name\\': \\'Faeria\\', \\'playtime_forever\\': 0, \\'playtime_2weeks\\': 0}]',\n",
       " \"Columna: items_count   // Tipo dato: <class 'numpy.float64'>   //  Informacion: 888.0\"]"
      ]
     },
     "execution_count": 219,
     "metadata": {},
     "output_type": "execute_result"
    }
   ],
   "source": [
    "conocer_archivo (df_steam,1)"
   ]
  },
  {
   "cell_type": "code",
   "execution_count": 220,
   "metadata": {},
   "outputs": [
    {
     "data": {
      "text/plain": [
       "{'item_id': '20',\n",
       " 'item_name': 'Team Fortress Classic',\n",
       " 'playtime_forever': 0,\n",
       " 'playtime_2weeks': 0}"
      ]
     },
     "execution_count": 220,
     "metadata": {},
     "output_type": "execute_result"
    }
   ],
   "source": [
    "df_steam.iloc[0,17][1]"
   ]
  },
  {
   "cell_type": "code",
   "execution_count": 221,
   "metadata": {},
   "outputs": [
    {
     "data": {
      "text/plain": [
       "Index(['publisher', 'genres', 'app_name', 'title', 'url', 'release_date',\n",
       "       'tags', 'reviews_url', 'discount_price', 'specs', 'price',\n",
       "       'early_access', 'id', 'metascore', 'developer', 'user_id', 'steam_id',\n",
       "       'items', 'items_count'],\n",
       "      dtype='object')"
      ]
     },
     "execution_count": 221,
     "metadata": {},
     "output_type": "execute_result"
    }
   ],
   "source": [
    "df_steam.columns"
   ]
  },
  {
   "cell_type": "code",
   "execution_count": 222,
   "metadata": {},
   "outputs": [],
   "source": [
    "# luego de ver las funciones que se piden y los datos que tengo, decido quedarme con las siguientes columnas\n",
    "df_steam_redu = df_steam[['genres','release_date', 'price','id', 'developer']]\n",
    "df_steam_redu = df_steam_redu.rename(columns={'id': 'item_id'})"
   ]
  },
  {
   "cell_type": "code",
   "execution_count": 224,
   "metadata": {},
   "outputs": [
    {
     "data": {
      "text/plain": [
       "(120445, 5)"
      ]
     },
     "execution_count": 224,
     "metadata": {},
     "output_type": "execute_result"
    }
   ],
   "source": [
    "df_steam_redu.shape"
   ]
  },
  {
   "cell_type": "code",
   "execution_count": 232,
   "metadata": {},
   "outputs": [
    {
     "data": {
      "text/plain": [
       "88310"
      ]
     },
     "execution_count": 232,
     "metadata": {},
     "output_type": "execute_result"
    }
   ],
   "source": [
    "## cantidad de filas completamente vacias\n",
    "df_steam_redu.isna().all(axis=1).sum()"
   ]
  },
  {
   "cell_type": "code",
   "execution_count": 233,
   "metadata": {},
   "outputs": [],
   "source": [
    "# elimino las filas que estan completamnete bacias\n",
    "df_steam_redu = df_steam_redu.dropna(how='all')"
   ]
  },
  {
   "cell_type": "code",
   "execution_count": 234,
   "metadata": {},
   "outputs": [
    {
     "data": {
      "text/plain": [
       "user_id             0\n",
       "items_count         0\n",
       "steam_id            0\n",
       "user_url            0\n",
       "item_id             0\n",
       "item_name           0\n",
       "playtime_forever    0\n",
       "playtime_2weeks     0\n",
       "dtype: int64"
      ]
     },
     "execution_count": 234,
     "metadata": {},
     "output_type": "execute_result"
    }
   ],
   "source": [
    "# Registros duplicados\n",
    "df_items_des[df_items_des.duplicated()].count()"
   ]
  },
  {
   "cell_type": "code",
   "execution_count": 235,
   "metadata": {},
   "outputs": [
    {
     "data": {
      "text/plain": [
       "genres          3283\n",
       "release_date    2067\n",
       "price           1377\n",
       "item_id            2\n",
       "developer       3299\n",
       "dtype: int64"
      ]
     },
     "execution_count": 235,
     "metadata": {},
     "output_type": "execute_result"
    }
   ],
   "source": [
    "df_steam_redu.isna().sum()"
   ]
  },
  {
   "cell_type": "markdown",
   "metadata": {},
   "source": [
    "Analisis columna 'item_id':\n",
    "- Se exploro cantidad de nulos y duplicados. Se eliminaron dichos registros\n",
    "- Se exploro registros que tienen todos los campos nulos exepto 'item_id'. Se eliminaron"
   ]
  },
  {
   "cell_type": "code",
   "execution_count": 236,
   "metadata": {},
   "outputs": [
    {
     "name": "stdout",
     "output_type": "stream",
     "text": [
      "Cantidad nulos: 2\n",
      "Tipo de dato y cantidad:\n",
      "<class 'str'>      32133\n",
      "<class 'float'>        2\n",
      "Name: item_id, dtype: int64\n"
     ]
    }
   ],
   "source": [
    "print(conocer_columna (df_steam_redu,'item_id'))"
   ]
  },
  {
   "cell_type": "code",
   "execution_count": 237,
   "metadata": {},
   "outputs": [],
   "source": [
    "# elimino valores nulos\n",
    "df_steam_redu = df_steam_redu.dropna(subset=['item_id'])"
   ]
  },
  {
   "cell_type": "code",
   "execution_count": 240,
   "metadata": {},
   "outputs": [
    {
     "data": {
      "text/plain": [
       "1"
      ]
     },
     "execution_count": 240,
     "metadata": {},
     "output_type": "execute_result"
    }
   ],
   "source": [
    "# Analisis de elementos duplicados\n",
    "df_steam_redu['item_id'].duplicated().sum()"
   ]
  },
  {
   "cell_type": "code",
   "execution_count": 241,
   "metadata": {},
   "outputs": [],
   "source": [
    "# elimino duplicados\n",
    "df_steam_redu = df_steam_redu.drop_duplicates(subset=['item_id'])"
   ]
  },
  {
   "cell_type": "code",
   "execution_count": 248,
   "metadata": {},
   "outputs": [
    {
     "name": "stdout",
     "output_type": "stream",
     "text": [
      "genres            0\n",
      "release_date      0\n",
      "price             0\n",
      "item_id         116\n",
      "developer         0\n",
      "dtype: int64\n"
     ]
    }
   ],
   "source": [
    "# Evaluo si tengo registros que tienen todos los campos nulos exepto 'item_id'\n",
    "nulos = df_steam_redu[['release_date', 'genres', 'price', 'developer']].isna().all(axis=1)\n",
    "print(df_steam_redu[nulos].count())"
   ]
  },
  {
   "cell_type": "code",
   "execution_count": 249,
   "metadata": {},
   "outputs": [],
   "source": [
    "# Se eliminan estos registros ya que si no tengo 'ited_id' no me sirve\n",
    "df_steam_redu = df_steam_redu.drop(df_steam_redu[nulos].index)"
   ]
  },
  {
   "cell_type": "markdown",
   "metadata": {},
   "source": [
    "Analisis columna 'release_date':\n",
    "- Se realizó un análisis exploratorio para revisar los datos existentes.\n",
    "- Se reemplazaron los datos nulos por \"1900-01-01\".\n",
    "- Se realizaron reemplazos de fechas específicas que arrojaban errores.\n",
    "- Se transformaron los datos posibles al formato de fecha.\n",
    "- Los datos que no pudieron ser transformados al formato de fecha debido a la falta de información (por ejemplo, 'Oct 2010') o por que eran outliers se convirtieron en nulos y se reemplazaron por \"1900-01-01\".\n",
    "- Se agregó una columna año.\n",
    "- Se evaluo la cantidad que presentaba la fecha \"1900-01-01\" en relacion al total de los datos. Se decidio eliminar esos datos, ya que son pocos en comparación con el total de datos"
   ]
  },
  {
   "cell_type": "code",
   "execution_count": 301,
   "metadata": {},
   "outputs": [
    {
     "name": "stdout",
     "output_type": "stream",
     "text": [
      "Cantidad nulos: 1950\n",
      "Tipo de dato y cantidad:\n",
      "<class 'str'>      30066\n",
      "<class 'float'>     1950\n",
      "Name: release_date, dtype: int64\n"
     ]
    }
   ],
   "source": [
    "print(conocer_columna (df_steam_redu,'release_date'))"
   ]
  },
  {
   "cell_type": "code",
   "execution_count": null,
   "metadata": {},
   "outputs": [],
   "source": [
    "# Se exportan los datos para poder ver mas detalles\n",
    "#df_steam_redu[['release_date','item_id']].to_json(\"DataSets/release_date.json\", orient=\"records\", lines=True)"
   ]
  },
  {
   "cell_type": "code",
   "execution_count": 302,
   "metadata": {},
   "outputs": [],
   "source": [
    "df_steam_redu_fecha = df_steam_redu.copy()"
   ]
  },
  {
   "cell_type": "code",
   "execution_count": 303,
   "metadata": {},
   "outputs": [],
   "source": [
    "# Se observaron varios errores en los datos de esta columna\n",
    "\n",
    "# remplazo los nulos por \"1900-01-01\"\n",
    "df_steam_redu_fecha['release_date']=df_steam_redu_fecha['release_date'].fillna(\"1900-01-01\")\n",
    "\n",
    "# hay un registro que tiene cambiado el formato de fecha, se lo arregla\n",
    "indice = df_steam_redu_fecha[df_steam_redu_fecha['release_date']=='15.01.2018'].index[0]\n",
    "df_steam_redu_fecha.loc[indice, 'release_date'] = '2018/01/15'\n",
    "\n",
    "# llevo a formato fecha\n",
    "# los registros que son'Oct 2010' o algun oulier se convierten en nulos\n",
    "df_steam_redu_fecha['release_date'] = pd.to_datetime(df_steam_redu_fecha['release_date'], errors='coerce')\n",
    "\n",
    "# los registros nulos se remplazan por \"1900-01-01\"\n",
    "df_steam_redu_fecha['release_date']=df_steam_redu_fecha['release_date'].fillna(\"1900-01-01\")"
   ]
  },
  {
   "cell_type": "code",
   "execution_count": 304,
   "metadata": {},
   "outputs": [
    {
     "name": "stdout",
     "output_type": "stream",
     "text": [
      "Cantidad nulos: 0\n",
      "Tipo de dato y cantidad:\n",
      "<class 'pandas._libs.tslibs.timestamps.Timestamp'>    32016\n",
      "Name: release_date, dtype: int64\n"
     ]
    }
   ],
   "source": [
    "print(conocer_columna (df_steam_redu_fecha,'release_date'))"
   ]
  },
  {
   "cell_type": "markdown",
   "metadata": {},
   "source": [
    "En el siguiente gráfico se pueden observar que la cantidad de datos que fueron reemplazados por \"1900-01-01\" podrían eliminarse, ya que son pocos en comparación con el total de datos"
   ]
  },
  {
   "cell_type": "code",
   "execution_count": 333,
   "metadata": {},
   "outputs": [
    {
     "data": {
      "image/png": "[encoded data removed]",
      "text/plain": [
       "<Figure size 576x432 with 1 Axes>"
      ]
     },
     "metadata": {},
     "output_type": "display_data"
    }
   ],
   "source": [
    "# Calculo la cantidad total de fechas y la cantidad que son igual a '1900-01-01'\n",
    "fechas_1900 = (df_steam_redu_fecha['release_date'] == pd.to_datetime('1900-01-01')).sum()\n",
    "fechas_total = df_steam_redu_fecha.shape[0]\n",
    "\n",
    "plt.figure(figsize=(8, 6))\n",
    "sns.barplot(x=['1900-01-01', 'Total Fechas'], y=[fechas_1900, fechas_total])\n",
    "\n",
    "plt.xlabel('Fechas')\n",
    "plt.ylabel('Cantidad de Fechas')\n",
    "plt.title('Total de fechas vs Fecha \"1900-01-01\" ', fontsize=20)\n",
    "plt.show()\n"
   ]
  },
  {
   "cell_type": "code",
   "execution_count": 334,
   "metadata": {},
   "outputs": [],
   "source": [
    "# se eliminan las fechas = '1900-01-01'\n",
    "df_steam_redu_fecha = df_steam_redu_fecha[df_steam_redu_fecha['release_date'] != pd.to_datetime('1900-01-01')]"
   ]
  },
  {
   "cell_type": "code",
   "execution_count": 336,
   "metadata": {},
   "outputs": [
    {
     "data": {
      "text/plain": [
       "(29892, 6)"
      ]
     },
     "execution_count": 336,
     "metadata": {},
     "output_type": "execute_result"
    }
   ],
   "source": [
    "df_steam_redu_fecha.shape"
   ]
  },
  {
   "cell_type": "code",
   "execution_count": null,
   "metadata": {},
   "outputs": [],
   "source": [
    "# agrego una columna 'Año'\n",
    "df_steam_redu_fecha['año'] = df_steam_redu_fecha['release_date'].dt.year"
   ]
  },
  {
   "cell_type": "markdown",
   "metadata": {},
   "source": [
    "En el siguiente gráfico vemos un notorio aumento en la cantidad de juegos lanzados en la plataforma a medida que pasan los años."
   ]
  },
  {
   "cell_type": "code",
   "execution_count": 340,
   "metadata": {},
   "outputs": [
    {
     "data": {
      "image/png": "[encoded data removed]",
      "text/plain": [
       "<Figure size 720x432 with 1 Axes>"
      ]
     },
     "metadata": {},
     "output_type": "display_data"
    }
   ],
   "source": [
    "# agrupo la cantidad de items por año\n",
    "df_item_por_año = df_steam_redu_fecha.groupby('año')['item_id'].nunique()\n",
    "\n",
    "\n",
    "plt.figure(figsize=(10, 6))\n",
    "plt.bar(df_item_por_año.index, df_item_por_año.values)\n",
    "plt.xlim(2000, 2018)\n",
    "plt.xlabel('Año')\n",
    "plt.ylabel('Cantidad de Juegos lanzados')\n",
    "plt.title('Cantidad de Juegos lanzados por Año', fontsize=20)\n",
    "plt.show()"
   ]
  },
  {
   "cell_type": "markdown",
   "metadata": {},
   "source": [
    "Analisis columna 'genres'"
   ]
  },
  {
   "cell_type": "code",
   "execution_count": 341,
   "metadata": {},
   "outputs": [
    {
     "name": "stdout",
     "output_type": "stream",
     "text": [
      "Cantidad nulos: 1234\n",
      "Tipo de dato y cantidad:\n",
      "<class 'list'>     28658\n",
      "<class 'float'>     1234\n",
      "Name: genres, dtype: int64\n"
     ]
    }
   ],
   "source": [
    "print(conocer_columna (df_steam_redu_fecha,'genres'))"
   ]
  },
  {
   "cell_type": "markdown",
   "metadata": {},
   "source": [
    "Analisis columna 'developer'"
   ]
  },
  {
   "cell_type": "code",
   "execution_count": 342,
   "metadata": {},
   "outputs": [
    {
     "name": "stdout",
     "output_type": "stream",
     "text": [
      "Cantidad nulos: 1250\n",
      "Tipo de dato y cantidad:\n",
      "<class 'str'>      28642\n",
      "<class 'float'>     1250\n",
      "Name: developer, dtype: int64\n"
     ]
    }
   ],
   "source": [
    "print(conocer_columna (df_steam_redu_fecha,'developer'))"
   ]
  },
  {
   "cell_type": "markdown",
   "metadata": {},
   "source": [
    "Analisis de la columna 'price':\n",
    "- Se exploró si existían datos con valor igual a cero y la cantidad de valores que empezaban con la palabra 'Free'.\n",
    "- Se reemplazaron todos los valores que fueran tipo string y contenían la palabra 'Free' por cero.\n",
    "- Se exploró qué valores de tipo string quedaban, los que hacían referencia a valores \"FREE\" se los reemplazó por cero y los demás se eliminaron."
   ]
  },
  {
   "cell_type": "code",
   "execution_count": 343,
   "metadata": {},
   "outputs": [
    {
     "name": "stdout",
     "output_type": "stream",
     "text": [
      "Cantidad nulos: 1076\n",
      "Tipo de dato y cantidad:\n",
      "<class 'float'>    28313\n",
      "<class 'str'>       1579\n",
      "Name: price, dtype: int64\n"
     ]
    }
   ],
   "source": [
    "print(conocer_columna (df_steam_redu_fecha,'price'))"
   ]
  },
  {
   "cell_type": "code",
   "execution_count": 344,
   "metadata": {},
   "outputs": [
    {
     "data": {
      "text/plain": [
       "Series([], Name: price, dtype: object)"
      ]
     },
     "execution_count": 344,
     "metadata": {},
     "output_type": "execute_result"
    }
   ],
   "source": [
    "# evaluo los datoas flotates\n",
    "numero= df_steam_redu_fecha[df_steam_redu_fecha['price'].apply(lambda x: isinstance(x, float))]['price']\n",
    "# veo si hay flotantes igual a cero \n",
    "numero[numero==float(0)]"
   ]
  },
  {
   "cell_type": "code",
   "execution_count": 345,
   "metadata": {},
   "outputs": [
    {
     "data": {
      "text/plain": [
       "1579"
      ]
     },
     "execution_count": 345,
     "metadata": {},
     "output_type": "execute_result"
    }
   ],
   "source": [
    "# evaluo la cantidad de valores free\n",
    "df_steam_redu_fecha['price'].str.startswith('Free').count()"
   ]
  },
  {
   "cell_type": "code",
   "execution_count": 346,
   "metadata": {},
   "outputs": [],
   "source": [
    "# remplazo todos los str que sean free por cero en formato float\n",
    "\n",
    "df_steam_redu_fecha_price=df_steam_redu_fecha.copy()\n",
    "free_str = (df_steam_redu_fecha_price['price'].str.startswith('Free')) & (df_steam_redu_fecha_price['price'].apply(type) == str)\n",
    "df_steam_redu_fecha_price.loc[free_str, 'price'] = 0.0"
   ]
  },
  {
   "cell_type": "code",
   "execution_count": 347,
   "metadata": {},
   "outputs": [
    {
     "name": "stdout",
     "output_type": "stream",
     "text": [
      "Cantidad nulos: 1076\n",
      "Tipo de dato y cantidad:\n",
      "<class 'float'>    29880\n",
      "<class 'str'>         12\n",
      "Name: price, dtype: int64\n"
     ]
    }
   ],
   "source": [
    "print(conocer_columna (df_steam_redu_fecha_price,'price'))"
   ]
  },
  {
   "cell_type": "code",
   "execution_count": 348,
   "metadata": {},
   "outputs": [
    {
     "data": {
      "text/plain": [
       "89279                    Play for Free!\n",
       "89291                    Play for Free!\n",
       "90715                       Install Now\n",
       "91181     Play WARMACHINE: Tactics Demo\n",
       "92142                     Install Theme\n",
       "92228                       Third-party\n",
       "92336                          Play Now\n",
       "111044                    Play the Demo\n",
       "113310              Starting at $499.00\n",
       "113311              Starting at $449.00\n",
       "114527                         Play Now\n",
       "120148                      Third-party\n",
       "Name: price, dtype: object"
      ]
     },
     "execution_count": 348,
     "metadata": {},
     "output_type": "execute_result"
    }
   ],
   "source": [
    "# veo cuales son los str que quedaron\n",
    "df_steam_redu_fecha_price['price'][df_steam_redu_fecha_price['price'].apply(type) == str]"
   ]
  },
  {
   "cell_type": "code",
   "execution_count": 349,
   "metadata": {},
   "outputs": [],
   "source": [
    "# Play for Free! lo pongo 0.0\n",
    "free = df_steam_redu_fecha_price['price'] == 'Play for Free!'\n",
    "df_steam_redu_fecha_price.loc[free, 'price'] = 0.0"
   ]
  },
  {
   "cell_type": "code",
   "execution_count": 350,
   "metadata": {},
   "outputs": [],
   "source": [
    "# elimino el resto de outliers\n",
    "eliminar = ['Play WARMACHINE: Tactics Demo', 'Install Theme', 'Third-party', 'Play Now', 'Starting at $499.00',\n",
    "            'Install Now', 'Play the Demo']\n",
    "df_steam_redu_fecha_price = df_steam_redu_fecha_price[~df_steam_redu_fecha_price['price'].isin(eliminar)]"
   ]
  },
  {
   "cell_type": "code",
   "execution_count": 351,
   "metadata": {},
   "outputs": [
    {
     "data": {
      "text/plain": [
       "113311    Starting at $449.00\n",
       "Name: price, dtype: object"
      ]
     },
     "execution_count": 351,
     "metadata": {},
     "output_type": "execute_result"
    }
   ],
   "source": [
    "# veo si queda algun str\n",
    "df_steam_redu_fecha_price['price'][df_steam_redu_fecha_price['price'].apply(type) == str]"
   ]
  },
  {
   "cell_type": "code",
   "execution_count": 352,
   "metadata": {},
   "outputs": [],
   "source": [
    "# convierto el que me queda\n",
    "free = df_steam_redu_fecha_price.index==113311\n",
    "df_steam_redu_fecha_price.loc[free, 'price'] = 0.0"
   ]
  },
  {
   "cell_type": "code",
   "execution_count": 353,
   "metadata": {},
   "outputs": [
    {
     "name": "stdout",
     "output_type": "stream",
     "text": [
      "Cantidad nulos: 1076\n",
      "Tipo de dato y cantidad:\n",
      "<class 'float'>    29883\n",
      "Name: price, dtype: int64\n"
     ]
    }
   ],
   "source": [
    "print(conocer_columna (df_steam_redu_fecha_price,'price'))"
   ]
  },
  {
   "cell_type": "code",
   "execution_count": 354,
   "metadata": {},
   "outputs": [
    {
     "data": {
      "text/html": [
       "<div>\n",
       "<style scoped>\n",
       "    .dataframe tbody tr th:only-of-type {\n",
       "        vertical-align: middle;\n",
       "    }\n",
       "\n",
       "    .dataframe tbody tr th {\n",
       "        vertical-align: top;\n",
       "    }\n",
       "\n",
       "    .dataframe thead th {\n",
       "        text-align: right;\n",
       "    }\n",
       "</style>\n",
       "<table border=\"1\" class=\"dataframe\">\n",
       "  <thead>\n",
       "    <tr style=\"text-align: right;\">\n",
       "      <th></th>\n",
       "      <th>genres</th>\n",
       "      <th>release_date</th>\n",
       "      <th>price</th>\n",
       "      <th>item_id</th>\n",
       "      <th>developer</th>\n",
       "      <th>año</th>\n",
       "    </tr>\n",
       "  </thead>\n",
       "  <tbody>\n",
       "    <tr>\n",
       "      <th>88310</th>\n",
       "      <td>[Action, Casual, Indie, Simulation, Strategy]</td>\n",
       "      <td>2018-01-04</td>\n",
       "      <td>4.99</td>\n",
       "      <td>761140</td>\n",
       "      <td>Kotoshiro</td>\n",
       "      <td>2018</td>\n",
       "    </tr>\n",
       "  </tbody>\n",
       "</table>\n",
       "</div>"
      ],
      "text/plain": [
       "                                              genres release_date price  \\\n",
       "88310  [Action, Casual, Indie, Simulation, Strategy]   2018-01-04  4.99   \n",
       "\n",
       "      item_id  developer   año  \n",
       "88310  761140  Kotoshiro  2018  "
      ]
     },
     "execution_count": 354,
     "metadata": {},
     "output_type": "execute_result"
    }
   ],
   "source": [
    "df_steam_final = df_steam_redu_fecha_price.copy()\n",
    "df_steam_final.head(1)"
   ]
  },
  {
   "cell_type": "markdown",
   "metadata": {},
   "source": [
    "# FUNCIONES"
   ]
  },
  {
   "cell_type": "markdown",
   "metadata": {},
   "source": [
    " - Se trabajó con cada función de manera independiente con el principal objetivo de generar un archivo tipo JSON lo más pequeño posible para que este sea consumido desde la API. Reduciendo así el almacenamiento usado en la plataforma Render y la velocidad de respuesta de la API."
   ]
  },
  {
   "cell_type": "markdown",
   "metadata": {},
   "source": [
    "# Funcion COUNTREVIEWS"
   ]
  },
  {
   "cell_type": "markdown",
   "metadata": {},
   "source": [
    "def countreviews( YYYY-MM-DD y YYYY-MM-DD : str ): Cantidad de usuarios que realizaron reviews entre las fechas dadas y, el porcentaje de recomendación de los mismos en base a reviews.recommend."
   ]
  },
  {
   "cell_type": "markdown",
   "metadata": {},
   "source": [
    "- Se filtraron las columnas necesarias para preparar los archivos para la función.\n",
    "- Se determinó la existencia de nulos o duplicados, y se eliminaron en los casos necesarios.\n",
    "- Se eliminaron las columnas que no usará la función.\n",
    "- Se exportó el DataFrame en formato JSON."
   ]
  },
  {
   "cell_type": "code",
   "execution_count": 355,
   "metadata": {},
   "outputs": [
    {
     "data": {
      "text/html": [
       "<div>\n",
       "<style scoped>\n",
       "    .dataframe tbody tr th:only-of-type {\n",
       "        vertical-align: middle;\n",
       "    }\n",
       "\n",
       "    .dataframe tbody tr th {\n",
       "        vertical-align: top;\n",
       "    }\n",
       "\n",
       "    .dataframe thead th {\n",
       "        text-align: right;\n",
       "    }\n",
       "</style>\n",
       "<table border=\"1\" class=\"dataframe\">\n",
       "  <thead>\n",
       "    <tr style=\"text-align: right;\">\n",
       "      <th></th>\n",
       "      <th>user_id</th>\n",
       "      <th>user_url</th>\n",
       "      <th>item_id</th>\n",
       "      <th>recommend</th>\n",
       "      <th>sentiment_analysis</th>\n",
       "      <th>posted_ok</th>\n",
       "      <th>año</th>\n",
       "    </tr>\n",
       "  </thead>\n",
       "  <tbody>\n",
       "    <tr>\n",
       "      <th>0</th>\n",
       "      <td>76561197970982479</td>\n",
       "      <td>http://steamcommunity.com/profiles/76561197970...</td>\n",
       "      <td>1250</td>\n",
       "      <td>1</td>\n",
       "      <td>2</td>\n",
       "      <td>2011-11-05</td>\n",
       "      <td>2011</td>\n",
       "    </tr>\n",
       "  </tbody>\n",
       "</table>\n",
       "</div>"
      ],
      "text/plain": [
       "             user_id                                           user_url  \\\n",
       "0  76561197970982479  http://steamcommunity.com/profiles/76561197970...   \n",
       "\n",
       "  item_id  recommend  sentiment_analysis  posted_ok   año  \n",
       "0    1250          1                   2 2011-11-05  2011  "
      ]
     },
     "execution_count": 355,
     "metadata": {},
     "output_type": "execute_result"
    }
   ],
   "source": [
    "df_review_final.head(1)"
   ]
  },
  {
   "cell_type": "code",
   "execution_count": 356,
   "metadata": {},
   "outputs": [
    {
     "data": {
      "text/html": [
       "<div>\n",
       "<style scoped>\n",
       "    .dataframe tbody tr th:only-of-type {\n",
       "        vertical-align: middle;\n",
       "    }\n",
       "\n",
       "    .dataframe tbody tr th {\n",
       "        vertical-align: top;\n",
       "    }\n",
       "\n",
       "    .dataframe thead th {\n",
       "        text-align: right;\n",
       "    }\n",
       "</style>\n",
       "<table border=\"1\" class=\"dataframe\">\n",
       "  <thead>\n",
       "    <tr style=\"text-align: right;\">\n",
       "      <th></th>\n",
       "      <th>user_id</th>\n",
       "      <th>item_id</th>\n",
       "      <th>posted_ok</th>\n",
       "      <th>recommend</th>\n",
       "    </tr>\n",
       "  </thead>\n",
       "  <tbody>\n",
       "    <tr>\n",
       "      <th>0</th>\n",
       "      <td>76561197970982479</td>\n",
       "      <td>1250</td>\n",
       "      <td>2011-11-05</td>\n",
       "      <td>1</td>\n",
       "    </tr>\n",
       "  </tbody>\n",
       "</table>\n",
       "</div>"
      ],
      "text/plain": [
       "             user_id item_id  posted_ok  recommend\n",
       "0  76561197970982479    1250 2011-11-05          1"
      ]
     },
     "execution_count": 356,
     "metadata": {},
     "output_type": "execute_result"
    }
   ],
   "source": [
    "# Me quedo con 'user_id','posted_ok'y'recommend' que es lo que necesito, \n",
    "# y con 'item_id', ya que 'posted_ok'y'recommend' estan a nivel de 'item_id'\n",
    "# Si hay 'posted_ok' tambien hubo reviews.\n",
    "\n",
    "df_countreviews = df_review_final[['user_id','item_id', 'posted_ok','recommend']]\n",
    "df_countreviews.head(1)"
   ]
  },
  {
   "cell_type": "code",
   "execution_count": 360,
   "metadata": {},
   "outputs": [
    {
     "data": {
      "text/plain": [
       "user_id      0\n",
       "item_id      0\n",
       "posted_ok    0\n",
       "recommend    0\n",
       "dtype: int64"
      ]
     },
     "execution_count": 360,
     "metadata": {},
     "output_type": "execute_result"
    }
   ],
   "source": [
    "# Registros completamente vacios\n",
    "df_countreviews[df_countreviews.isna().all(axis=1)].count()"
   ]
  },
  {
   "cell_type": "code",
   "execution_count": 359,
   "metadata": {},
   "outputs": [
    {
     "data": {
      "text/plain": [
       "user_id      0\n",
       "item_id      0\n",
       "posted_ok    0\n",
       "recommend    0\n",
       "dtype: int64"
      ]
     },
     "execution_count": 359,
     "metadata": {},
     "output_type": "execute_result"
    }
   ],
   "source": [
    "# Registros duplicados\n",
    "df_countreviews[df_countreviews.duplicated()].count()"
   ]
  },
  {
   "cell_type": "code",
   "execution_count": 361,
   "metadata": {},
   "outputs": [],
   "source": [
    "# Ahora que ya corrobore que no hay nulos ni duplicados, puedo elimnar la columna item_id\n",
    "df_countreviews = df_countreviews.drop(columns=['item_id','user_id'])"
   ]
  },
  {
   "cell_type": "code",
   "execution_count": 496,
   "metadata": {},
   "outputs": [],
   "source": [
    "# Convierto la fecha a formato '%Y-%m-%d'\n",
    "df_countreviews['posted_ok'] = pd.to_datetime(df_countreviews['posted_ok'])\n",
    "df_countreviews['posted_ok'] = df_countreviews['posted_ok'].dt.strftime('%Y-%m-%d')\n"
   ]
  },
  {
   "cell_type": "code",
   "execution_count": 497,
   "metadata": {},
   "outputs": [
    {
     "data": {
      "text/plain": [
       "(48498, 2)"
      ]
     },
     "execution_count": 497,
     "metadata": {},
     "output_type": "execute_result"
    }
   ],
   "source": [
    "df_countreviews.shape"
   ]
  },
  {
   "cell_type": "code",
   "execution_count": 498,
   "metadata": {},
   "outputs": [
    {
     "data": {
      "text/html": [
       "<div>\n",
       "<style scoped>\n",
       "    .dataframe tbody tr th:only-of-type {\n",
       "        vertical-align: middle;\n",
       "    }\n",
       "\n",
       "    .dataframe tbody tr th {\n",
       "        vertical-align: top;\n",
       "    }\n",
       "\n",
       "    .dataframe thead th {\n",
       "        text-align: right;\n",
       "    }\n",
       "</style>\n",
       "<table border=\"1\" class=\"dataframe\">\n",
       "  <thead>\n",
       "    <tr style=\"text-align: right;\">\n",
       "      <th></th>\n",
       "      <th>posted_ok</th>\n",
       "      <th>recommend</th>\n",
       "    </tr>\n",
       "  </thead>\n",
       "  <tbody>\n",
       "    <tr>\n",
       "      <th>0</th>\n",
       "      <td>2011-11-05</td>\n",
       "      <td>1</td>\n",
       "    </tr>\n",
       "  </tbody>\n",
       "</table>\n",
       "</div>"
      ],
      "text/plain": [
       "    posted_ok  recommend\n",
       "0  2011-11-05          1"
      ]
     },
     "execution_count": 498,
     "metadata": {},
     "output_type": "execute_result"
    }
   ],
   "source": [
    "df_countreviews.head(1)"
   ]
  },
  {
   "cell_type": "code",
   "execution_count": 499,
   "metadata": {},
   "outputs": [],
   "source": [
    "#df_countreviews.to_json(\"DataSets/df_countreviews.json\", orient=\"records\", lines=True)"
   ]
  },
  {
   "cell_type": "markdown",
   "metadata": {},
   "source": [
    "# Funcion GENRES"
   ]
  },
  {
   "cell_type": "markdown",
   "metadata": {},
   "source": [
    "def genre( género : str ): Devuelve el puesto en el que se encuentra un género sobre el ranking de los mismos analizado bajo la columna PlayTimeForever."
   ]
  },
  {
   "cell_type": "markdown",
   "metadata": {},
   "source": [
    "- Se filtraron las columnas necesarias para preparar los archivos para la función.\n",
    "- Se determinó la existencia de nulos o duplicados, y se eliminaron en los casos necesarios.\n",
    "- En este caso se trabajó primero con la columna género del archivo Steam. Se exploró la columna género con la función explode(). Se eliminaron nulos y se analizó qué palabras únicas se encontraban dentro. Se eliminó todo lo que no era género de videojuegos.\n",
    "- Luego se unió con las columnas necesarias del archivo Item utilizando la función pd.merge() usando 'item_id' como clave.\n",
    "- Se agrupó la información por géneros usando groupby() y luego se ordenó con sort_values().\n",
    "- Se agregó una columna que indica el ranking de cada género.\n",
    "- Se pasó a minúscula la columna género con lower().\n",
    "- Se eliminaron las columnas que no usará la función.\n",
    "- Se exportó el DataFrame en formato JSON."
   ]
  },
  {
   "cell_type": "code",
   "execution_count": 365,
   "metadata": {},
   "outputs": [],
   "source": [
    "df_item_genres = df_steam_final[['genres', 'item_id']]"
   ]
  },
  {
   "cell_type": "code",
   "execution_count": 366,
   "metadata": {},
   "outputs": [],
   "source": [
    "# descompongo la lista de generos\n",
    "df_item_genres = df_item_genres.explode('genres')"
   ]
  },
  {
   "cell_type": "code",
   "execution_count": 367,
   "metadata": {},
   "outputs": [
    {
     "data": {
      "text/plain": [
       "1233"
      ]
     },
     "execution_count": 367,
     "metadata": {},
     "output_type": "execute_result"
    }
   ],
   "source": [
    "df_item_genres['genres'].isna().sum()"
   ]
  },
  {
   "cell_type": "code",
   "execution_count": 368,
   "metadata": {},
   "outputs": [],
   "source": [
    "# Elimino los registros donde 'genres' es nulo\n",
    "df_item_genres = df_item_genres.dropna(subset=['genres'])"
   ]
  },
  {
   "cell_type": "code",
   "execution_count": 369,
   "metadata": {},
   "outputs": [
    {
     "data": {
      "text/plain": [
       "array(['Action', 'Casual', 'Indie', 'Simulation', 'Strategy',\n",
       "       'Free to Play', 'RPG', 'Sports', 'Adventure', 'Racing',\n",
       "       'Massively Multiplayer', 'Early Access',\n",
       "       'Animation &amp; Modeling', 'Video Production', 'Web Publishing',\n",
       "       'Education', 'Software Training', 'Utilities',\n",
       "       'Design &amp; Illustration', 'Audio Production', 'Photo Editing',\n",
       "       'Accounting'], dtype=object)"
      ]
     },
     "execution_count": 369,
     "metadata": {},
     "output_type": "execute_result"
    }
   ],
   "source": [
    "# Veo que hay adentro de 'genres'\n",
    "df_item_genres['genres'].unique()"
   ]
  },
  {
   "cell_type": "code",
   "execution_count": 370,
   "metadata": {},
   "outputs": [],
   "source": [
    "# Elimino todo lo que no es genero de pelicula\n",
    "\n",
    "eliminar = ['Free to Play','Early Access','Animation &amp; Modeling','Video Production','Utilities',\n",
    "            'Web Publishing','Education','Software Training','Design &amp; Illustration',\n",
    "            'Audio Production','Photo Editing','Accounting']\n",
    "\n",
    "condicion = ~df_item_genres['genres'].isin(eliminar)\n",
    "df_item_genres = df_item_genres[condicion]"
   ]
  },
  {
   "cell_type": "code",
   "execution_count": 371,
   "metadata": {},
   "outputs": [
    {
     "data": {
      "text/plain": [
       "(65764, 2)"
      ]
     },
     "execution_count": 371,
     "metadata": {},
     "output_type": "execute_result"
    }
   ],
   "source": [
    "df_item_genres.shape"
   ]
  },
  {
   "cell_type": "code",
   "execution_count": 372,
   "metadata": {},
   "outputs": [
    {
     "data": {
      "text/html": [
       "<div>\n",
       "<style scoped>\n",
       "    .dataframe tbody tr th:only-of-type {\n",
       "        vertical-align: middle;\n",
       "    }\n",
       "\n",
       "    .dataframe tbody tr th {\n",
       "        vertical-align: top;\n",
       "    }\n",
       "\n",
       "    .dataframe thead th {\n",
       "        text-align: right;\n",
       "    }\n",
       "</style>\n",
       "<table border=\"1\" class=\"dataframe\">\n",
       "  <thead>\n",
       "    <tr style=\"text-align: right;\">\n",
       "      <th></th>\n",
       "      <th>genres</th>\n",
       "      <th>item_id</th>\n",
       "    </tr>\n",
       "  </thead>\n",
       "  <tbody>\n",
       "    <tr>\n",
       "      <th>88310</th>\n",
       "      <td>Action</td>\n",
       "      <td>761140</td>\n",
       "    </tr>\n",
       "  </tbody>\n",
       "</table>\n",
       "</div>"
      ],
      "text/plain": [
       "       genres item_id\n",
       "88310  Action  761140"
      ]
     },
     "execution_count": 372,
     "metadata": {},
     "output_type": "execute_result"
    }
   ],
   "source": [
    "df_item_genres.head(1)"
   ]
  },
  {
   "cell_type": "code",
   "execution_count": 373,
   "metadata": {},
   "outputs": [],
   "source": [
    "# creo un df con 'item' y 'playtime_forever'\n",
    "df_item_playtime = df_items_final[['item_id','playtime_forever']]"
   ]
  },
  {
   "cell_type": "code",
   "execution_count": 374,
   "metadata": {},
   "outputs": [
    {
     "data": {
      "text/plain": [
       "0"
      ]
     },
     "execution_count": 374,
     "metadata": {},
     "output_type": "execute_result"
    }
   ],
   "source": [
    "df_item_playtime['playtime_forever'].isna().sum()"
   ]
  },
  {
   "cell_type": "code",
   "execution_count": 375,
   "metadata": {},
   "outputs": [
    {
     "data": {
      "text/plain": [
       "(5094105, 2)"
      ]
     },
     "execution_count": 375,
     "metadata": {},
     "output_type": "execute_result"
    }
   ],
   "source": [
    "df_item_playtime.shape"
   ]
  },
  {
   "cell_type": "code",
   "execution_count": 376,
   "metadata": {},
   "outputs": [
    {
     "data": {
      "text/html": [
       "<div>\n",
       "<style scoped>\n",
       "    .dataframe tbody tr th:only-of-type {\n",
       "        vertical-align: middle;\n",
       "    }\n",
       "\n",
       "    .dataframe tbody tr th {\n",
       "        vertical-align: top;\n",
       "    }\n",
       "\n",
       "    .dataframe thead th {\n",
       "        text-align: right;\n",
       "    }\n",
       "</style>\n",
       "<table border=\"1\" class=\"dataframe\">\n",
       "  <thead>\n",
       "    <tr style=\"text-align: right;\">\n",
       "      <th></th>\n",
       "      <th>item_id</th>\n",
       "      <th>playtime_forever</th>\n",
       "    </tr>\n",
       "  </thead>\n",
       "  <tbody>\n",
       "    <tr>\n",
       "      <th>0</th>\n",
       "      <td>10</td>\n",
       "      <td>6.0</td>\n",
       "    </tr>\n",
       "  </tbody>\n",
       "</table>\n",
       "</div>"
      ],
      "text/plain": [
       "  item_id  playtime_forever\n",
       "0      10               6.0"
      ]
     },
     "execution_count": 376,
     "metadata": {},
     "output_type": "execute_result"
    }
   ],
   "source": [
    "df_item_playtime.head(1)"
   ]
  },
  {
   "cell_type": "code",
   "execution_count": 377,
   "metadata": {},
   "outputs": [],
   "source": [
    "# junto las dos tablas a travez del 'item_id'\n",
    "df_genre = pd.merge(df_item_genres,df_item_playtime, on='item_id')"
   ]
  },
  {
   "cell_type": "code",
   "execution_count": 378,
   "metadata": {},
   "outputs": [],
   "source": [
    "df_genre = df_genre.drop(columns=['item_id'])"
   ]
  },
  {
   "cell_type": "code",
   "execution_count": 379,
   "metadata": {},
   "outputs": [
    {
     "data": {
      "text/html": [
       "<div>\n",
       "<style scoped>\n",
       "    .dataframe tbody tr th:only-of-type {\n",
       "        vertical-align: middle;\n",
       "    }\n",
       "\n",
       "    .dataframe tbody tr th {\n",
       "        vertical-align: top;\n",
       "    }\n",
       "\n",
       "    .dataframe thead th {\n",
       "        text-align: right;\n",
       "    }\n",
       "</style>\n",
       "<table border=\"1\" class=\"dataframe\">\n",
       "  <thead>\n",
       "    <tr style=\"text-align: right;\">\n",
       "      <th></th>\n",
       "      <th>genres</th>\n",
       "      <th>playtime_forever</th>\n",
       "    </tr>\n",
       "  </thead>\n",
       "  <tbody>\n",
       "    <tr>\n",
       "      <th>0</th>\n",
       "      <td>Action</td>\n",
       "      <td>5.0</td>\n",
       "    </tr>\n",
       "  </tbody>\n",
       "</table>\n",
       "</div>"
      ],
      "text/plain": [
       "   genres  playtime_forever\n",
       "0  Action               5.0"
      ]
     },
     "execution_count": 379,
     "metadata": {},
     "output_type": "execute_result"
    }
   ],
   "source": [
    "df_genre.head(1)"
   ]
  },
  {
   "cell_type": "code",
   "execution_count": 380,
   "metadata": {},
   "outputs": [
    {
     "data": {
      "text/html": [
       "<div>\n",
       "<style scoped>\n",
       "    .dataframe tbody tr th:only-of-type {\n",
       "        vertical-align: middle;\n",
       "    }\n",
       "\n",
       "    .dataframe tbody tr th {\n",
       "        vertical-align: top;\n",
       "    }\n",
       "\n",
       "    .dataframe thead th {\n",
       "        text-align: right;\n",
       "    }\n",
       "</style>\n",
       "<table border=\"1\" class=\"dataframe\">\n",
       "  <thead>\n",
       "    <tr style=\"text-align: right;\">\n",
       "      <th></th>\n",
       "      <th>genres</th>\n",
       "      <th>playtime_forever</th>\n",
       "    </tr>\n",
       "  </thead>\n",
       "  <tbody>\n",
       "    <tr>\n",
       "      <th>0</th>\n",
       "      <td>Action</td>\n",
       "      <td>3.070370e+09</td>\n",
       "    </tr>\n",
       "    <tr>\n",
       "      <th>1</th>\n",
       "      <td>Adventure</td>\n",
       "      <td>8.940376e+08</td>\n",
       "    </tr>\n",
       "    <tr>\n",
       "      <th>2</th>\n",
       "      <td>Casual</td>\n",
       "      <td>2.490610e+08</td>\n",
       "    </tr>\n",
       "  </tbody>\n",
       "</table>\n",
       "</div>"
      ],
      "text/plain": [
       "      genres  playtime_forever\n",
       "0     Action      3.070370e+09\n",
       "1  Adventure      8.940376e+08\n",
       "2     Casual      2.490610e+08"
      ]
     },
     "execution_count": 380,
     "metadata": {},
     "output_type": "execute_result"
    }
   ],
   "source": [
    "# agrupo por 'item_id' y sumo  los 'price'\n",
    "df_genre = df_genre.groupby('genres')['playtime_forever'].sum().reset_index()\n",
    "df_genre.head(3)"
   ]
  },
  {
   "cell_type": "code",
   "execution_count": 381,
   "metadata": {},
   "outputs": [],
   "source": [
    "# ordeno segun los valores de la columna 'playtime_forever'\n",
    "df_genre_orden = df_genre.sort_values(by='playtime_forever', ascending=False)"
   ]
  },
  {
   "cell_type": "code",
   "execution_count": 382,
   "metadata": {},
   "outputs": [],
   "source": [
    "# agrego una columna para enumerar el orden\n",
    "df_genre_orden['ranking'] = range(1, 11)"
   ]
  },
  {
   "cell_type": "code",
   "execution_count": 383,
   "metadata": {},
   "outputs": [
    {
     "data": {
      "text/html": [
       "<div>\n",
       "<style scoped>\n",
       "    .dataframe tbody tr th:only-of-type {\n",
       "        vertical-align: middle;\n",
       "    }\n",
       "\n",
       "    .dataframe tbody tr th {\n",
       "        vertical-align: top;\n",
       "    }\n",
       "\n",
       "    .dataframe thead th {\n",
       "        text-align: right;\n",
       "    }\n",
       "</style>\n",
       "<table border=\"1\" class=\"dataframe\">\n",
       "  <thead>\n",
       "    <tr style=\"text-align: right;\">\n",
       "      <th></th>\n",
       "      <th>genres</th>\n",
       "      <th>playtime_forever</th>\n",
       "      <th>ranking</th>\n",
       "    </tr>\n",
       "  </thead>\n",
       "  <tbody>\n",
       "    <tr>\n",
       "      <th>0</th>\n",
       "      <td>Action</td>\n",
       "      <td>3.070370e+09</td>\n",
       "      <td>1</td>\n",
       "    </tr>\n",
       "    <tr>\n",
       "      <th>3</th>\n",
       "      <td>Indie</td>\n",
       "      <td>1.475225e+09</td>\n",
       "      <td>2</td>\n",
       "    </tr>\n",
       "    <tr>\n",
       "      <th>5</th>\n",
       "      <td>RPG</td>\n",
       "      <td>1.027724e+09</td>\n",
       "      <td>3</td>\n",
       "    </tr>\n",
       "  </tbody>\n",
       "</table>\n",
       "</div>"
      ],
      "text/plain": [
       "   genres  playtime_forever  ranking\n",
       "0  Action      3.070370e+09        1\n",
       "3   Indie      1.475225e+09        2\n",
       "5     RPG      1.027724e+09        3"
      ]
     },
     "execution_count": 383,
     "metadata": {},
     "output_type": "execute_result"
    }
   ],
   "source": [
    "df_genre_orden.head(3)"
   ]
  },
  {
   "cell_type": "code",
   "execution_count": 387,
   "metadata": {},
   "outputs": [],
   "source": [
    "df_genre_ranking = df_genre_orden[['genres','ranking']].copy()\n",
    "\n",
    "# convierto a minuscula para evitar errores\n",
    "df_genre_ranking['genres'] = df_genre_ranking['genres'].str.lower()"
   ]
  },
  {
   "cell_type": "code",
   "execution_count": 388,
   "metadata": {},
   "outputs": [
    {
     "data": {
      "text/html": [
       "<div>\n",
       "<style scoped>\n",
       "    .dataframe tbody tr th:only-of-type {\n",
       "        vertical-align: middle;\n",
       "    }\n",
       "\n",
       "    .dataframe tbody tr th {\n",
       "        vertical-align: top;\n",
       "    }\n",
       "\n",
       "    .dataframe thead th {\n",
       "        text-align: right;\n",
       "    }\n",
       "</style>\n",
       "<table border=\"1\" class=\"dataframe\">\n",
       "  <thead>\n",
       "    <tr style=\"text-align: right;\">\n",
       "      <th></th>\n",
       "      <th>genres</th>\n",
       "      <th>ranking</th>\n",
       "    </tr>\n",
       "  </thead>\n",
       "  <tbody>\n",
       "    <tr>\n",
       "      <th>0</th>\n",
       "      <td>action</td>\n",
       "      <td>1</td>\n",
       "    </tr>\n",
       "  </tbody>\n",
       "</table>\n",
       "</div>"
      ],
      "text/plain": [
       "   genres  ranking\n",
       "0  action        1"
      ]
     },
     "execution_count": 388,
     "metadata": {},
     "output_type": "execute_result"
    }
   ],
   "source": [
    "df_genre_ranking.head(1)"
   ]
  },
  {
   "cell_type": "code",
   "execution_count": 389,
   "metadata": {},
   "outputs": [],
   "source": [
    "#df_genre_ranking.to_json(\"DataSets/df_genre.json\", orient=\"records\", lines=True)"
   ]
  },
  {
   "cell_type": "markdown",
   "metadata": {},
   "source": [
    "# Funcion USERFORGENRE"
   ]
  },
  {
   "cell_type": "markdown",
   "metadata": {},
   "source": [
    "def userforgenre( género : str ): Top 5 de usuarios con más horas de juego en el género dado, con su URL (del user) y user_id."
   ]
  },
  {
   "cell_type": "markdown",
   "metadata": {},
   "source": [
    "- Se filtraron las columnas necesarias para preparar los archivos para la función.\n",
    "- Se determinó la existencia de nulos o duplicados, y se eliminaron en los casos necesarios.\n",
    "- Se unió las columnas utilizando la función pd.merge() usando 'item_id' como clave.\n",
    "- Diseñe la funcion ranking_genero (genero) que recibe un genero y devulve un df con un Top 5 de usuarios con más horas de juego (sum de playtime_forever) en el género dado, su user_url y user_id. Apliqué esta función a cada uno de los generos existentes y luego concatene los DataFrame usando pd.concat()\n",
    "- Se pasó a minúscula la columna género con lower().\n",
    "- Se eliminaron las columnas que no usará la función.\n",
    "- Se exportó el DataFrame en formato JSON."
   ]
  },
  {
   "cell_type": "code",
   "execution_count": 390,
   "metadata": {},
   "outputs": [
    {
     "data": {
      "text/html": [
       "<div>\n",
       "<style scoped>\n",
       "    .dataframe tbody tr th:only-of-type {\n",
       "        vertical-align: middle;\n",
       "    }\n",
       "\n",
       "    .dataframe tbody tr th {\n",
       "        vertical-align: top;\n",
       "    }\n",
       "\n",
       "    .dataframe thead th {\n",
       "        text-align: right;\n",
       "    }\n",
       "</style>\n",
       "<table border=\"1\" class=\"dataframe\">\n",
       "  <thead>\n",
       "    <tr style=\"text-align: right;\">\n",
       "      <th></th>\n",
       "      <th>genres</th>\n",
       "      <th>item_id</th>\n",
       "    </tr>\n",
       "  </thead>\n",
       "  <tbody>\n",
       "    <tr>\n",
       "      <th>88310</th>\n",
       "      <td>Action</td>\n",
       "      <td>761140</td>\n",
       "    </tr>\n",
       "  </tbody>\n",
       "</table>\n",
       "</div>"
      ],
      "text/plain": [
       "       genres item_id\n",
       "88310  Action  761140"
      ]
     },
     "execution_count": 390,
     "metadata": {},
     "output_type": "execute_result"
    }
   ],
   "source": [
    "df_item_genres.head(1)"
   ]
  },
  {
   "cell_type": "code",
   "execution_count": 391,
   "metadata": {},
   "outputs": [
    {
     "data": {
      "text/html": [
       "<div>\n",
       "<style scoped>\n",
       "    .dataframe tbody tr th:only-of-type {\n",
       "        vertical-align: middle;\n",
       "    }\n",
       "\n",
       "    .dataframe tbody tr th {\n",
       "        vertical-align: top;\n",
       "    }\n",
       "\n",
       "    .dataframe thead th {\n",
       "        text-align: right;\n",
       "    }\n",
       "</style>\n",
       "<table border=\"1\" class=\"dataframe\">\n",
       "  <thead>\n",
       "    <tr style=\"text-align: right;\">\n",
       "      <th></th>\n",
       "      <th>user_id</th>\n",
       "      <th>item_id</th>\n",
       "      <th>user_url</th>\n",
       "      <th>playtime_forever</th>\n",
       "    </tr>\n",
       "  </thead>\n",
       "  <tbody>\n",
       "    <tr>\n",
       "      <th>0</th>\n",
       "      <td>76561197970982479</td>\n",
       "      <td>10</td>\n",
       "      <td>http://steamcommunity.com/profiles/76561197970...</td>\n",
       "      <td>6.0</td>\n",
       "    </tr>\n",
       "  </tbody>\n",
       "</table>\n",
       "</div>"
      ],
      "text/plain": [
       "             user_id item_id  \\\n",
       "0  76561197970982479      10   \n",
       "\n",
       "                                            user_url  playtime_forever  \n",
       "0  http://steamcommunity.com/profiles/76561197970...               6.0  "
      ]
     },
     "execution_count": 391,
     "metadata": {},
     "output_type": "execute_result"
    }
   ],
   "source": [
    "df_items_final.head(1)"
   ]
  },
  {
   "cell_type": "code",
   "execution_count": 392,
   "metadata": {},
   "outputs": [],
   "source": [
    "# junto las dos tablas a travez del 'item_id'\n",
    "df_userforgenre_inicial = pd.merge(df_item_genres,df_items_final, on='item_id')"
   ]
  },
  {
   "cell_type": "code",
   "execution_count": 393,
   "metadata": {},
   "outputs": [],
   "source": [
    "df_userforgenre_inicial = df_userforgenre_inicial.drop(columns=['item_id','user_url']) # elimino columnas"
   ]
  },
  {
   "cell_type": "code",
   "execution_count": 394,
   "metadata": {},
   "outputs": [
    {
     "data": {
      "text/html": [
       "<div>\n",
       "<style scoped>\n",
       "    .dataframe tbody tr th:only-of-type {\n",
       "        vertical-align: middle;\n",
       "    }\n",
       "\n",
       "    .dataframe tbody tr th {\n",
       "        vertical-align: top;\n",
       "    }\n",
       "\n",
       "    .dataframe thead th {\n",
       "        text-align: right;\n",
       "    }\n",
       "</style>\n",
       "<table border=\"1\" class=\"dataframe\">\n",
       "  <thead>\n",
       "    <tr style=\"text-align: right;\">\n",
       "      <th></th>\n",
       "      <th>genres</th>\n",
       "      <th>user_id</th>\n",
       "      <th>playtime_forever</th>\n",
       "    </tr>\n",
       "  </thead>\n",
       "  <tbody>\n",
       "    <tr>\n",
       "      <th>0</th>\n",
       "      <td>Action</td>\n",
       "      <td>UTNerd24</td>\n",
       "      <td>5.0</td>\n",
       "    </tr>\n",
       "    <tr>\n",
       "      <th>1</th>\n",
       "      <td>Action</td>\n",
       "      <td>I_DID_911_JUST_SAYING</td>\n",
       "      <td>0.0</td>\n",
       "    </tr>\n",
       "  </tbody>\n",
       "</table>\n",
       "</div>"
      ],
      "text/plain": [
       "   genres                user_id  playtime_forever\n",
       "0  Action               UTNerd24               5.0\n",
       "1  Action  I_DID_911_JUST_SAYING               0.0"
      ]
     },
     "execution_count": 394,
     "metadata": {},
     "output_type": "execute_result"
    }
   ],
   "source": [
    "df_userforgenre_inicial.head(2)"
   ]
  },
  {
   "cell_type": "code",
   "execution_count": 395,
   "metadata": {},
   "outputs": [],
   "source": [
    "def ranking_genero (genero):\n",
    "    ''' Esta funcion recibe un genero y devulve un df con un Top 5 de usuarios \n",
    "    con más horas de juego (sum de playtime_forever) en el género dado, su user_url y user_id '''\n",
    "\n",
    "    df_final = pd.DataFrame()\n",
    "    df_final = df_userforgenre_inicial[df_userforgenre_inicial['genres'] == genero] # hago un df por genero\n",
    "    df_final = df_final.drop(columns=['genres']) # elimino columna genero\n",
    "    df_final = df_final.groupby('user_id')['playtime_forever'].sum().reset_index() # agrupo por 'user_id' y sumo 'play'\n",
    "    df_final = df_final.sort_values(by='playtime_forever', ascending=False) # ordeno segun los valores de la columna 'playtime_forever'\n",
    "    df_final = df_final.head(5).copy() # me quedo con los 5 primeros\n",
    "    df_final['ranking'] = range(1, 6)# agrego una columna para enumerar el orden\n",
    "    df_final['genres'] = genero # agrego la columna de genero\n",
    "    df_final['user_url'] = None # genero una columna de url\n",
    "\n",
    "    # para ponerle el 'user_url' a cada 'user_id'\n",
    "    for elemento in df_final['user_id']:\n",
    "        filtrado = df_items_final.loc[df_items_final['user_id'] == elemento, 'user_url']\n",
    "        df_final.loc[df_final['user_id'] == elemento, 'user_url'] = filtrado.values[0]\n",
    "    return df_final"
   ]
  },
  {
   "cell_type": "code",
   "execution_count": 396,
   "metadata": {},
   "outputs": [
    {
     "data": {
      "text/plain": [
       "array(['Action', 'Indie', 'Racing', 'Strategy', 'RPG', 'Simulation',\n",
       "       'Casual', 'Adventure', 'Sports', 'Massively Multiplayer'],\n",
       "      dtype=object)"
      ]
     },
     "execution_count": 396,
     "metadata": {},
     "output_type": "execute_result"
    }
   ],
   "source": [
    "df_userforgenre_inicial['genres'].unique()"
   ]
  },
  {
   "cell_type": "code",
   "execution_count": 397,
   "metadata": {},
   "outputs": [
    {
     "data": {
      "text/html": [
       "<div>\n",
       "<style scoped>\n",
       "    .dataframe tbody tr th:only-of-type {\n",
       "        vertical-align: middle;\n",
       "    }\n",
       "\n",
       "    .dataframe tbody tr th {\n",
       "        vertical-align: top;\n",
       "    }\n",
       "\n",
       "    .dataframe thead th {\n",
       "        text-align: right;\n",
       "    }\n",
       "</style>\n",
       "<table border=\"1\" class=\"dataframe\">\n",
       "  <thead>\n",
       "    <tr style=\"text-align: right;\">\n",
       "      <th></th>\n",
       "      <th>user_id</th>\n",
       "      <th>playtime_forever</th>\n",
       "      <th>ranking</th>\n",
       "      <th>genres</th>\n",
       "      <th>user_url</th>\n",
       "    </tr>\n",
       "  </thead>\n",
       "  <tbody>\n",
       "    <tr>\n",
       "      <th>50650</th>\n",
       "      <td>Sp3ctre</td>\n",
       "      <td>1697650.0</td>\n",
       "      <td>1</td>\n",
       "      <td>Action</td>\n",
       "      <td>http://steamcommunity.com/id/Sp3ctre</td>\n",
       "    </tr>\n",
       "  </tbody>\n",
       "</table>\n",
       "</div>"
      ],
      "text/plain": [
       "       user_id  playtime_forever  ranking  genres  \\\n",
       "50650  Sp3ctre         1697650.0        1  Action   \n",
       "\n",
       "                                   user_url  \n",
       "50650  http://steamcommunity.com/id/Sp3ctre  "
      ]
     },
     "execution_count": 397,
     "metadata": {},
     "output_type": "execute_result"
    }
   ],
   "source": [
    "genero = 'Action'\n",
    "df_userforgenre_action = ranking_genero (genero)\n",
    "df_userforgenre_action.head(1)"
   ]
  },
  {
   "cell_type": "code",
   "execution_count": 399,
   "metadata": {},
   "outputs": [
    {
     "data": {
      "text/html": [
       "<div>\n",
       "<style scoped>\n",
       "    .dataframe tbody tr th:only-of-type {\n",
       "        vertical-align: middle;\n",
       "    }\n",
       "\n",
       "    .dataframe tbody tr th {\n",
       "        vertical-align: top;\n",
       "    }\n",
       "\n",
       "    .dataframe thead th {\n",
       "        text-align: right;\n",
       "    }\n",
       "</style>\n",
       "<table border=\"1\" class=\"dataframe\">\n",
       "  <thead>\n",
       "    <tr style=\"text-align: right;\">\n",
       "      <th></th>\n",
       "      <th>user_id</th>\n",
       "      <th>playtime_forever</th>\n",
       "      <th>ranking</th>\n",
       "      <th>genres</th>\n",
       "      <th>user_url</th>\n",
       "    </tr>\n",
       "  </thead>\n",
       "  <tbody>\n",
       "    <tr>\n",
       "      <th>46547</th>\n",
       "      <td>REBAS_AS_F-T</td>\n",
       "      <td>2402994.0</td>\n",
       "      <td>1</td>\n",
       "      <td>Indie</td>\n",
       "      <td>http://steamcommunity.com/id/REBAS_AS_F-T</td>\n",
       "    </tr>\n",
       "  </tbody>\n",
       "</table>\n",
       "</div>"
      ],
      "text/plain": [
       "            user_id  playtime_forever  ranking genres  \\\n",
       "46547  REBAS_AS_F-T         2402994.0        1  Indie   \n",
       "\n",
       "                                        user_url  \n",
       "46547  http://steamcommunity.com/id/REBAS_AS_F-T  "
      ]
     },
     "execution_count": 399,
     "metadata": {},
     "output_type": "execute_result"
    }
   ],
   "source": [
    "genero = 'Indie'\n",
    "df_userforgenre_indie = ranking_genero (genero)\n",
    "df_userforgenre_indie.head(1)"
   ]
  },
  {
   "cell_type": "code",
   "execution_count": 400,
   "metadata": {},
   "outputs": [
    {
     "data": {
      "text/html": [
       "<div>\n",
       "<style scoped>\n",
       "    .dataframe tbody tr th:only-of-type {\n",
       "        vertical-align: middle;\n",
       "    }\n",
       "\n",
       "    .dataframe tbody tr th {\n",
       "        vertical-align: top;\n",
       "    }\n",
       "\n",
       "    .dataframe thead th {\n",
       "        text-align: right;\n",
       "    }\n",
       "</style>\n",
       "<table border=\"1\" class=\"dataframe\">\n",
       "  <thead>\n",
       "    <tr style=\"text-align: right;\">\n",
       "      <th></th>\n",
       "      <th>user_id</th>\n",
       "      <th>playtime_forever</th>\n",
       "      <th>ranking</th>\n",
       "      <th>genres</th>\n",
       "      <th>user_url</th>\n",
       "    </tr>\n",
       "  </thead>\n",
       "  <tbody>\n",
       "    <tr>\n",
       "      <th>16798</th>\n",
       "      <td>DownSyndromeKid</td>\n",
       "      <td>743445.0</td>\n",
       "      <td>1</td>\n",
       "      <td>Racing</td>\n",
       "      <td>http://steamcommunity.com/id/DownSyndromeKid</td>\n",
       "    </tr>\n",
       "  </tbody>\n",
       "</table>\n",
       "</div>"
      ],
      "text/plain": [
       "               user_id  playtime_forever  ranking  genres  \\\n",
       "16798  DownSyndromeKid          743445.0        1  Racing   \n",
       "\n",
       "                                           user_url  \n",
       "16798  http://steamcommunity.com/id/DownSyndromeKid  "
      ]
     },
     "execution_count": 400,
     "metadata": {},
     "output_type": "execute_result"
    }
   ],
   "source": [
    "genero = 'Racing'\n",
    "df_userforgenre_racing = ranking_genero (genero)\n",
    "df_userforgenre_racing.head(1)"
   ]
  },
  {
   "cell_type": "code",
   "execution_count": 401,
   "metadata": {},
   "outputs": [
    {
     "data": {
      "text/html": [
       "<div>\n",
       "<style scoped>\n",
       "    .dataframe tbody tr th:only-of-type {\n",
       "        vertical-align: middle;\n",
       "    }\n",
       "\n",
       "    .dataframe tbody tr th {\n",
       "        vertical-align: top;\n",
       "    }\n",
       "\n",
       "    .dataframe thead th {\n",
       "        text-align: right;\n",
       "    }\n",
       "</style>\n",
       "<table border=\"1\" class=\"dataframe\">\n",
       "  <thead>\n",
       "    <tr style=\"text-align: right;\">\n",
       "      <th></th>\n",
       "      <th>user_id</th>\n",
       "      <th>playtime_forever</th>\n",
       "      <th>ranking</th>\n",
       "      <th>genres</th>\n",
       "      <th>user_url</th>\n",
       "    </tr>\n",
       "  </thead>\n",
       "  <tbody>\n",
       "    <tr>\n",
       "      <th>52336</th>\n",
       "      <td>shinomegami</td>\n",
       "      <td>1141546.0</td>\n",
       "      <td>1</td>\n",
       "      <td>Strategy</td>\n",
       "      <td>http://steamcommunity.com/id/shinomegami</td>\n",
       "    </tr>\n",
       "  </tbody>\n",
       "</table>\n",
       "</div>"
      ],
      "text/plain": [
       "           user_id  playtime_forever  ranking    genres  \\\n",
       "52336  shinomegami         1141546.0        1  Strategy   \n",
       "\n",
       "                                       user_url  \n",
       "52336  http://steamcommunity.com/id/shinomegami  "
      ]
     },
     "execution_count": 401,
     "metadata": {},
     "output_type": "execute_result"
    }
   ],
   "source": [
    "genero = 'Strategy'\n",
    "df_userforgenre_strategy = ranking_genero (genero)\n",
    "df_userforgenre_strategy.head(1)"
   ]
  },
  {
   "cell_type": "code",
   "execution_count": 402,
   "metadata": {},
   "outputs": [
    {
     "data": {
      "text/html": [
       "<div>\n",
       "<style scoped>\n",
       "    .dataframe tbody tr th:only-of-type {\n",
       "        vertical-align: middle;\n",
       "    }\n",
       "\n",
       "    .dataframe tbody tr th {\n",
       "        vertical-align: top;\n",
       "    }\n",
       "\n",
       "    .dataframe thead th {\n",
       "        text-align: right;\n",
       "    }\n",
       "</style>\n",
       "<table border=\"1\" class=\"dataframe\">\n",
       "  <thead>\n",
       "    <tr style=\"text-align: right;\">\n",
       "      <th></th>\n",
       "      <th>user_id</th>\n",
       "      <th>playtime_forever</th>\n",
       "      <th>ranking</th>\n",
       "      <th>genres</th>\n",
       "      <th>user_url</th>\n",
       "    </tr>\n",
       "  </thead>\n",
       "  <tbody>\n",
       "    <tr>\n",
       "      <th>56591</th>\n",
       "      <td>shinomegami</td>\n",
       "      <td>1060592.0</td>\n",
       "      <td>1</td>\n",
       "      <td>RPG</td>\n",
       "      <td>http://steamcommunity.com/id/shinomegami</td>\n",
       "    </tr>\n",
       "  </tbody>\n",
       "</table>\n",
       "</div>"
      ],
      "text/plain": [
       "           user_id  playtime_forever  ranking genres  \\\n",
       "56591  shinomegami         1060592.0        1    RPG   \n",
       "\n",
       "                                       user_url  \n",
       "56591  http://steamcommunity.com/id/shinomegami  "
      ]
     },
     "execution_count": 402,
     "metadata": {},
     "output_type": "execute_result"
    }
   ],
   "source": [
    "genero = 'RPG'\n",
    "df_userforgenre_rpg = ranking_genero (genero)\n",
    "df_userforgenre_rpg.head(1)"
   ]
  },
  {
   "cell_type": "code",
   "execution_count": 403,
   "metadata": {},
   "outputs": [
    {
     "data": {
      "text/html": [
       "<div>\n",
       "<style scoped>\n",
       "    .dataframe tbody tr th:only-of-type {\n",
       "        vertical-align: middle;\n",
       "    }\n",
       "\n",
       "    .dataframe tbody tr th {\n",
       "        vertical-align: top;\n",
       "    }\n",
       "\n",
       "    .dataframe thead th {\n",
       "        text-align: right;\n",
       "    }\n",
       "</style>\n",
       "<table border=\"1\" class=\"dataframe\">\n",
       "  <thead>\n",
       "    <tr style=\"text-align: right;\">\n",
       "      <th></th>\n",
       "      <th>user_id</th>\n",
       "      <th>playtime_forever</th>\n",
       "      <th>ranking</th>\n",
       "      <th>genres</th>\n",
       "      <th>user_url</th>\n",
       "    </tr>\n",
       "  </thead>\n",
       "  <tbody>\n",
       "    <tr>\n",
       "      <th>50396</th>\n",
       "      <td>jimmynoe</td>\n",
       "      <td>1062130.0</td>\n",
       "      <td>1</td>\n",
       "      <td>Simulation</td>\n",
       "      <td>http://steamcommunity.com/id/jimmynoe</td>\n",
       "    </tr>\n",
       "  </tbody>\n",
       "</table>\n",
       "</div>"
      ],
      "text/plain": [
       "        user_id  playtime_forever  ranking      genres  \\\n",
       "50396  jimmynoe         1062130.0        1  Simulation   \n",
       "\n",
       "                                    user_url  \n",
       "50396  http://steamcommunity.com/id/jimmynoe  "
      ]
     },
     "execution_count": 403,
     "metadata": {},
     "output_type": "execute_result"
    }
   ],
   "source": [
    "genero = 'Simulation'\n",
    "df_userforgenre_simulation = ranking_genero (genero)\n",
    "df_userforgenre_simulation.head(1)"
   ]
  },
  {
   "cell_type": "code",
   "execution_count": 404,
   "metadata": {},
   "outputs": [
    {
     "data": {
      "text/html": [
       "<div>\n",
       "<style scoped>\n",
       "    .dataframe tbody tr th:only-of-type {\n",
       "        vertical-align: middle;\n",
       "    }\n",
       "\n",
       "    .dataframe tbody tr th {\n",
       "        vertical-align: top;\n",
       "    }\n",
       "\n",
       "    .dataframe thead th {\n",
       "        text-align: right;\n",
       "    }\n",
       "</style>\n",
       "<table border=\"1\" class=\"dataframe\">\n",
       "  <thead>\n",
       "    <tr style=\"text-align: right;\">\n",
       "      <th></th>\n",
       "      <th>user_id</th>\n",
       "      <th>playtime_forever</th>\n",
       "      <th>ranking</th>\n",
       "      <th>genres</th>\n",
       "      <th>user_url</th>\n",
       "    </tr>\n",
       "  </thead>\n",
       "  <tbody>\n",
       "    <tr>\n",
       "      <th>39757</th>\n",
       "      <td>REBAS_AS_F-T</td>\n",
       "      <td>1224933.0</td>\n",
       "      <td>1</td>\n",
       "      <td>Casual</td>\n",
       "      <td>http://steamcommunity.com/id/REBAS_AS_F-T</td>\n",
       "    </tr>\n",
       "  </tbody>\n",
       "</table>\n",
       "</div>"
      ],
      "text/plain": [
       "            user_id  playtime_forever  ranking  genres  \\\n",
       "39757  REBAS_AS_F-T         1224933.0        1  Casual   \n",
       "\n",
       "                                        user_url  \n",
       "39757  http://steamcommunity.com/id/REBAS_AS_F-T  "
      ]
     },
     "execution_count": 404,
     "metadata": {},
     "output_type": "execute_result"
    }
   ],
   "source": [
    "genero = 'Casual'\n",
    "df_userforgenre_casual = ranking_genero (genero)\n",
    "df_userforgenre_casual.head(1)"
   ]
  },
  {
   "cell_type": "code",
   "execution_count": 405,
   "metadata": {},
   "outputs": [
    {
     "data": {
      "text/html": [
       "<div>\n",
       "<style scoped>\n",
       "    .dataframe tbody tr th:only-of-type {\n",
       "        vertical-align: middle;\n",
       "    }\n",
       "\n",
       "    .dataframe tbody tr th {\n",
       "        vertical-align: top;\n",
       "    }\n",
       "\n",
       "    .dataframe thead th {\n",
       "        text-align: right;\n",
       "    }\n",
       "</style>\n",
       "<table border=\"1\" class=\"dataframe\">\n",
       "  <thead>\n",
       "    <tr style=\"text-align: right;\">\n",
       "      <th></th>\n",
       "      <th>user_id</th>\n",
       "      <th>playtime_forever</th>\n",
       "      <th>ranking</th>\n",
       "      <th>genres</th>\n",
       "      <th>user_url</th>\n",
       "    </tr>\n",
       "  </thead>\n",
       "  <tbody>\n",
       "    <tr>\n",
       "      <th>44711</th>\n",
       "      <td>REBAS_AS_F-T</td>\n",
       "      <td>2183682.0</td>\n",
       "      <td>1</td>\n",
       "      <td>Adventure</td>\n",
       "      <td>http://steamcommunity.com/id/REBAS_AS_F-T</td>\n",
       "    </tr>\n",
       "  </tbody>\n",
       "</table>\n",
       "</div>"
      ],
      "text/plain": [
       "            user_id  playtime_forever  ranking     genres  \\\n",
       "44711  REBAS_AS_F-T         2183682.0        1  Adventure   \n",
       "\n",
       "                                        user_url  \n",
       "44711  http://steamcommunity.com/id/REBAS_AS_F-T  "
      ]
     },
     "execution_count": 405,
     "metadata": {},
     "output_type": "execute_result"
    }
   ],
   "source": [
    "genero = 'Adventure'\n",
    "df_userforgenre_adventure = ranking_genero (genero)\n",
    "df_userforgenre_adventure.head(1)"
   ]
  },
  {
   "cell_type": "code",
   "execution_count": 406,
   "metadata": {},
   "outputs": [
    {
     "data": {
      "text/html": [
       "<div>\n",
       "<style scoped>\n",
       "    .dataframe tbody tr th:only-of-type {\n",
       "        vertical-align: middle;\n",
       "    }\n",
       "\n",
       "    .dataframe tbody tr th {\n",
       "        vertical-align: top;\n",
       "    }\n",
       "\n",
       "    .dataframe thead th {\n",
       "        text-align: right;\n",
       "    }\n",
       "</style>\n",
       "<table border=\"1\" class=\"dataframe\">\n",
       "  <thead>\n",
       "    <tr style=\"text-align: right;\">\n",
       "      <th></th>\n",
       "      <th>user_id</th>\n",
       "      <th>playtime_forever</th>\n",
       "      <th>ranking</th>\n",
       "      <th>genres</th>\n",
       "      <th>user_url</th>\n",
       "    </tr>\n",
       "  </thead>\n",
       "  <tbody>\n",
       "    <tr>\n",
       "      <th>1476</th>\n",
       "      <td>76561197995725436</td>\n",
       "      <td>193206.0</td>\n",
       "      <td>1</td>\n",
       "      <td>Sports</td>\n",
       "      <td>http://steamcommunity.com/profiles/76561197995...</td>\n",
       "    </tr>\n",
       "  </tbody>\n",
       "</table>\n",
       "</div>"
      ],
      "text/plain": [
       "                user_id  playtime_forever  ranking  genres  \\\n",
       "1476  76561197995725436          193206.0        1  Sports   \n",
       "\n",
       "                                               user_url  \n",
       "1476  http://steamcommunity.com/profiles/76561197995...  "
      ]
     },
     "execution_count": 406,
     "metadata": {},
     "output_type": "execute_result"
    }
   ],
   "source": [
    "genero ='Sports'\n",
    "df_userforgenre_sports = ranking_genero (genero)\n",
    "df_userforgenre_sports.head(1)"
   ]
  },
  {
   "cell_type": "code",
   "execution_count": 407,
   "metadata": {},
   "outputs": [
    {
     "data": {
      "text/html": [
       "<div>\n",
       "<style scoped>\n",
       "    .dataframe tbody tr th:only-of-type {\n",
       "        vertical-align: middle;\n",
       "    }\n",
       "\n",
       "    .dataframe tbody tr th {\n",
       "        vertical-align: top;\n",
       "    }\n",
       "\n",
       "    .dataframe thead th {\n",
       "        text-align: right;\n",
       "    }\n",
       "</style>\n",
       "<table border=\"1\" class=\"dataframe\">\n",
       "  <thead>\n",
       "    <tr style=\"text-align: right;\">\n",
       "      <th></th>\n",
       "      <th>user_id</th>\n",
       "      <th>playtime_forever</th>\n",
       "      <th>ranking</th>\n",
       "      <th>genres</th>\n",
       "      <th>user_url</th>\n",
       "    </tr>\n",
       "  </thead>\n",
       "  <tbody>\n",
       "    <tr>\n",
       "      <th>35215</th>\n",
       "      <td>Evilutional</td>\n",
       "      <td>688260.0</td>\n",
       "      <td>1</td>\n",
       "      <td>Massively Multiplayer</td>\n",
       "      <td>http://steamcommunity.com/id/Evilutional</td>\n",
       "    </tr>\n",
       "  </tbody>\n",
       "</table>\n",
       "</div>"
      ],
      "text/plain": [
       "           user_id  playtime_forever  ranking                 genres  \\\n",
       "35215  Evilutional          688260.0        1  Massively Multiplayer   \n",
       "\n",
       "                                       user_url  \n",
       "35215  http://steamcommunity.com/id/Evilutional  "
      ]
     },
     "execution_count": 407,
     "metadata": {},
     "output_type": "execute_result"
    }
   ],
   "source": [
    "genero = 'Massively Multiplayer'\n",
    "df_userforgenre_massi = ranking_genero (genero)\n",
    "df_userforgenre_massi.head(1)"
   ]
  },
  {
   "cell_type": "code",
   "execution_count": 408,
   "metadata": {},
   "outputs": [],
   "source": [
    "# concateno todos los ranking\n",
    "df_userforgenre = pd.concat([df_userforgenre_massi,df_userforgenre_action, df_userforgenre_adventure,\n",
    "                             df_userforgenre_casual, df_userforgenre_indie, df_userforgenre_strategy,\n",
    "                             df_userforgenre_racing, df_userforgenre_rpg, df_userforgenre_sports,\n",
    "                             df_userforgenre_simulation]).reset_index(drop=True)"
   ]
  },
  {
   "cell_type": "code",
   "execution_count": 409,
   "metadata": {},
   "outputs": [
    {
     "data": {
      "text/html": [
       "<div>\n",
       "<style scoped>\n",
       "    .dataframe tbody tr th:only-of-type {\n",
       "        vertical-align: middle;\n",
       "    }\n",
       "\n",
       "    .dataframe tbody tr th {\n",
       "        vertical-align: top;\n",
       "    }\n",
       "\n",
       "    .dataframe thead th {\n",
       "        text-align: right;\n",
       "    }\n",
       "</style>\n",
       "<table border=\"1\" class=\"dataframe\">\n",
       "  <thead>\n",
       "    <tr style=\"text-align: right;\">\n",
       "      <th></th>\n",
       "      <th>user_id</th>\n",
       "      <th>playtime_forever</th>\n",
       "      <th>ranking</th>\n",
       "      <th>genres</th>\n",
       "      <th>user_url</th>\n",
       "    </tr>\n",
       "  </thead>\n",
       "  <tbody>\n",
       "    <tr>\n",
       "      <th>0</th>\n",
       "      <td>Evilutional</td>\n",
       "      <td>688260.0</td>\n",
       "      <td>1</td>\n",
       "      <td>Massively Multiplayer</td>\n",
       "      <td>http://steamcommunity.com/id/Evilutional</td>\n",
       "    </tr>\n",
       "    <tr>\n",
       "      <th>1</th>\n",
       "      <td>shinomegami</td>\n",
       "      <td>638699.0</td>\n",
       "      <td>2</td>\n",
       "      <td>Massively Multiplayer</td>\n",
       "      <td>http://steamcommunity.com/id/shinomegami</td>\n",
       "    </tr>\n",
       "    <tr>\n",
       "      <th>2</th>\n",
       "      <td>76561198041627248</td>\n",
       "      <td>457103.0</td>\n",
       "      <td>3</td>\n",
       "      <td>Massively Multiplayer</td>\n",
       "      <td>http://steamcommunity.com/profiles/76561198041...</td>\n",
       "    </tr>\n",
       "    <tr>\n",
       "      <th>3</th>\n",
       "      <td>76561198050414588</td>\n",
       "      <td>454132.0</td>\n",
       "      <td>4</td>\n",
       "      <td>Massively Multiplayer</td>\n",
       "      <td>http://steamcommunity.com/profiles/76561198050...</td>\n",
       "    </tr>\n",
       "  </tbody>\n",
       "</table>\n",
       "</div>"
      ],
      "text/plain": [
       "             user_id  playtime_forever  ranking                 genres  \\\n",
       "0        Evilutional          688260.0        1  Massively Multiplayer   \n",
       "1        shinomegami          638699.0        2  Massively Multiplayer   \n",
       "2  76561198041627248          457103.0        3  Massively Multiplayer   \n",
       "3  76561198050414588          454132.0        4  Massively Multiplayer   \n",
       "\n",
       "                                            user_url  \n",
       "0           http://steamcommunity.com/id/Evilutional  \n",
       "1           http://steamcommunity.com/id/shinomegami  \n",
       "2  http://steamcommunity.com/profiles/76561198041...  \n",
       "3  http://steamcommunity.com/profiles/76561198050...  "
      ]
     },
     "execution_count": 409,
     "metadata": {},
     "output_type": "execute_result"
    }
   ],
   "source": [
    "df_userforgenre.head(4)"
   ]
  },
  {
   "cell_type": "code",
   "execution_count": 428,
   "metadata": {},
   "outputs": [],
   "source": [
    "df_userforgenre = df_userforgenre.drop(columns=['playtime_forever'])"
   ]
  },
  {
   "cell_type": "code",
   "execution_count": 410,
   "metadata": {},
   "outputs": [],
   "source": [
    "df_userforgenre['genres'] = df_userforgenre['genres'].str.lower()"
   ]
  },
  {
   "cell_type": "code",
   "execution_count": 429,
   "metadata": {},
   "outputs": [],
   "source": [
    "#df_userforgenre.to_json(\"DataSets/df_userforgenre.json\", orient=\"records\", lines=True)"
   ]
  },
  {
   "cell_type": "markdown",
   "metadata": {},
   "source": [
    "# Funcion DEVELOPER"
   ]
  },
  {
   "cell_type": "markdown",
   "metadata": {},
   "source": [
    "def developer( desarrollador : str ): Cantidad de items y porcentaje de contenido Free por año según empresa desarrolladora. Ejemplo de salida:"
   ]
  },
  {
   "cell_type": "markdown",
   "metadata": {},
   "source": [
    "- Se filtraron las columnas necesarias para preparar los archivos para la función.\n",
    "- Se determinó la existencia de nulos o duplicados, y se eliminaron en los casos necesarios.\n",
    "- Se evaluó la existencia de registros donde 'price' o 'devolper' fueran nulos. Se eliminaron ya que la informacion necesaria esta incompleta sin uno de los dos.\n",
    "- Se pasó a minúscula la columna 'developer' con lower().\n",
    "- Se eliminaron las columnas que no usará la función.\n",
    "- Se exportó el DataFrame en formato JSON."
   ]
  },
  {
   "cell_type": "code",
   "execution_count": 412,
   "metadata": {},
   "outputs": [
    {
     "data": {
      "text/html": [
       "<div>\n",
       "<style scoped>\n",
       "    .dataframe tbody tr th:only-of-type {\n",
       "        vertical-align: middle;\n",
       "    }\n",
       "\n",
       "    .dataframe tbody tr th {\n",
       "        vertical-align: top;\n",
       "    }\n",
       "\n",
       "    .dataframe thead th {\n",
       "        text-align: right;\n",
       "    }\n",
       "</style>\n",
       "<table border=\"1\" class=\"dataframe\">\n",
       "  <thead>\n",
       "    <tr style=\"text-align: right;\">\n",
       "      <th></th>\n",
       "      <th>genres</th>\n",
       "      <th>release_date</th>\n",
       "      <th>price</th>\n",
       "      <th>item_id</th>\n",
       "      <th>developer</th>\n",
       "      <th>año</th>\n",
       "    </tr>\n",
       "  </thead>\n",
       "  <tbody>\n",
       "    <tr>\n",
       "      <th>88310</th>\n",
       "      <td>[Action, Casual, Indie, Simulation, Strategy]</td>\n",
       "      <td>2018-01-04</td>\n",
       "      <td>4.99</td>\n",
       "      <td>761140</td>\n",
       "      <td>Kotoshiro</td>\n",
       "      <td>2018</td>\n",
       "    </tr>\n",
       "  </tbody>\n",
       "</table>\n",
       "</div>"
      ],
      "text/plain": [
       "                                              genres release_date price  \\\n",
       "88310  [Action, Casual, Indie, Simulation, Strategy]   2018-01-04  4.99   \n",
       "\n",
       "      item_id  developer   año  \n",
       "88310  761140  Kotoshiro  2018  "
      ]
     },
     "execution_count": 412,
     "metadata": {},
     "output_type": "execute_result"
    }
   ],
   "source": [
    "df_steam_final.head(1)"
   ]
  },
  {
   "cell_type": "code",
   "execution_count": 430,
   "metadata": {},
   "outputs": [],
   "source": [
    "# me quedo con la columnas necesarias\n",
    "df_steam_developer = df_steam_final[['año', 'price', 'item_id', 'developer']]"
   ]
  },
  {
   "cell_type": "code",
   "execution_count": 431,
   "metadata": {},
   "outputs": [
    {
     "data": {
      "text/html": [
       "<div>\n",
       "<style scoped>\n",
       "    .dataframe tbody tr th:only-of-type {\n",
       "        vertical-align: middle;\n",
       "    }\n",
       "\n",
       "    .dataframe tbody tr th {\n",
       "        vertical-align: top;\n",
       "    }\n",
       "\n",
       "    .dataframe thead th {\n",
       "        text-align: right;\n",
       "    }\n",
       "</style>\n",
       "<table border=\"1\" class=\"dataframe\">\n",
       "  <thead>\n",
       "    <tr style=\"text-align: right;\">\n",
       "      <th></th>\n",
       "      <th>año</th>\n",
       "      <th>price</th>\n",
       "      <th>item_id</th>\n",
       "      <th>developer</th>\n",
       "    </tr>\n",
       "  </thead>\n",
       "  <tbody>\n",
       "    <tr>\n",
       "      <th>88310</th>\n",
       "      <td>2018</td>\n",
       "      <td>4.99</td>\n",
       "      <td>761140</td>\n",
       "      <td>Kotoshiro</td>\n",
       "    </tr>\n",
       "    <tr>\n",
       "      <th>88311</th>\n",
       "      <td>2018</td>\n",
       "      <td>0.0</td>\n",
       "      <td>643980</td>\n",
       "      <td>Secret Level SRL</td>\n",
       "    </tr>\n",
       "    <tr>\n",
       "      <th>88312</th>\n",
       "      <td>2017</td>\n",
       "      <td>0.0</td>\n",
       "      <td>670290</td>\n",
       "      <td>Poolians.com</td>\n",
       "    </tr>\n",
       "    <tr>\n",
       "      <th>88313</th>\n",
       "      <td>2017</td>\n",
       "      <td>0.99</td>\n",
       "      <td>767400</td>\n",
       "      <td>彼岸领域</td>\n",
       "    </tr>\n",
       "    <tr>\n",
       "      <th>88315</th>\n",
       "      <td>2018</td>\n",
       "      <td>3.99</td>\n",
       "      <td>772540</td>\n",
       "      <td>Trickjump Games Ltd</td>\n",
       "    </tr>\n",
       "  </tbody>\n",
       "</table>\n",
       "</div>"
      ],
      "text/plain": [
       "        año price item_id            developer\n",
       "88310  2018  4.99  761140            Kotoshiro\n",
       "88311  2018   0.0  643980     Secret Level SRL\n",
       "88312  2017   0.0  670290         Poolians.com\n",
       "88313  2017  0.99  767400                 彼岸领域\n",
       "88315  2018  3.99  772540  Trickjump Games Ltd"
      ]
     },
     "execution_count": 431,
     "metadata": {},
     "output_type": "execute_result"
    }
   ],
   "source": [
    "df_steam_developer.head(5)"
   ]
  },
  {
   "cell_type": "code",
   "execution_count": 432,
   "metadata": {},
   "outputs": [
    {
     "name": "stdout",
     "output_type": "stream",
     "text": [
      "año          0\n",
      "price        0\n",
      "item_id      0\n",
      "developer    0\n",
      "dtype: int64\n",
      "año          0\n",
      "price        0\n",
      "item_id      0\n",
      "developer    0\n",
      "dtype: int64\n"
     ]
    }
   ],
   "source": [
    "# Registros completamente vacios\n",
    "print(df_steam_developer [df_steam_developer .isna().all(axis=1)].count())\n",
    "# Registros duplicados\n",
    "print(df_steam_developer [df_steam_developer .duplicated()].count())"
   ]
  },
  {
   "cell_type": "code",
   "execution_count": 433,
   "metadata": {},
   "outputs": [
    {
     "data": {
      "text/plain": [
       "(29883, 4)"
      ]
     },
     "execution_count": 433,
     "metadata": {},
     "output_type": "execute_result"
    }
   ],
   "source": [
    "df_steam_developer.shape"
   ]
  },
  {
   "cell_type": "code",
   "execution_count": 434,
   "metadata": {},
   "outputs": [],
   "source": [
    "# registros que price o devolper son nan (no hay ningun registro nulo en item_id)\n",
    "# los elimino porque tendre la infomacion incompleta\n",
    "eliminar = df_steam_developer[(df_steam_developer['price'].isnull() | df_steam_developer['developer'].isnull())]\n",
    "df_steam_developer_elim = df_steam_developer[~df_steam_developer.index.isin(eliminar.index)]"
   ]
  },
  {
   "cell_type": "code",
   "execution_count": null,
   "metadata": {},
   "outputs": [],
   "source": [
    "# convierto los developers a minuscula\n",
    "df_steam_developer_elim ['developer'] = df_steam_developer_elim ['developer'].str.lower()"
   ]
  },
  {
   "cell_type": "code",
   "execution_count": 436,
   "metadata": {},
   "outputs": [
    {
     "data": {
      "text/plain": [
       "(0, 4)"
      ]
     },
     "execution_count": 436,
     "metadata": {},
     "output_type": "execute_result"
    }
   ],
   "source": [
    "# veo cuantos Nan hay en 'developer'\n",
    "df_steam_developer_elim [df_steam_developer_elim ['developer'].isna()].shape"
   ]
  },
  {
   "cell_type": "code",
   "execution_count": 437,
   "metadata": {},
   "outputs": [
    {
     "data": {
      "text/plain": [
       "(0, 4)"
      ]
     },
     "execution_count": 437,
     "metadata": {},
     "output_type": "execute_result"
    }
   ],
   "source": [
    "# veo cuantos Nan hay en 'price'\n",
    "df_steam_developer_elim [df_steam_developer_elim ['price'].isna()].shape"
   ]
  },
  {
   "cell_type": "code",
   "execution_count": 438,
   "metadata": {},
   "outputs": [
    {
     "data": {
      "text/html": [
       "<div>\n",
       "<style scoped>\n",
       "    .dataframe tbody tr th:only-of-type {\n",
       "        vertical-align: middle;\n",
       "    }\n",
       "\n",
       "    .dataframe tbody tr th {\n",
       "        vertical-align: top;\n",
       "    }\n",
       "\n",
       "    .dataframe thead th {\n",
       "        text-align: right;\n",
       "    }\n",
       "</style>\n",
       "<table border=\"1\" class=\"dataframe\">\n",
       "  <thead>\n",
       "    <tr style=\"text-align: right;\">\n",
       "      <th></th>\n",
       "      <th>año</th>\n",
       "      <th>price</th>\n",
       "      <th>item_id</th>\n",
       "      <th>developer</th>\n",
       "    </tr>\n",
       "  </thead>\n",
       "  <tbody>\n",
       "    <tr>\n",
       "      <th>88310</th>\n",
       "      <td>2018</td>\n",
       "      <td>4.99</td>\n",
       "      <td>761140</td>\n",
       "      <td>kotoshiro</td>\n",
       "    </tr>\n",
       "    <tr>\n",
       "      <th>88311</th>\n",
       "      <td>2018</td>\n",
       "      <td>0.0</td>\n",
       "      <td>643980</td>\n",
       "      <td>secret level srl</td>\n",
       "    </tr>\n",
       "  </tbody>\n",
       "</table>\n",
       "</div>"
      ],
      "text/plain": [
       "        año price item_id         developer\n",
       "88310  2018  4.99  761140         kotoshiro\n",
       "88311  2018   0.0  643980  secret level srl"
      ]
     },
     "execution_count": 438,
     "metadata": {},
     "output_type": "execute_result"
    }
   ],
   "source": [
    "df_steam_developer_elim.head(2)"
   ]
  },
  {
   "cell_type": "code",
   "execution_count": 439,
   "metadata": {},
   "outputs": [],
   "source": [
    "#df_steam_developer_elim.to_json(\"DataSets/df_developer.json\", orient=\"records\", lines=True)"
   ]
  },
  {
   "cell_type": "markdown",
   "metadata": {},
   "source": [
    "# Funcion SENTIMENT_ANALYSIS"
   ]
  },
  {
   "cell_type": "markdown",
   "metadata": {},
   "source": [
    "def sentiment_analysis( año : int ): Según el año de lanzamiento, se devuelve una lista con la cantidad de registros de reseñas de usuarios que se encuentren categorizados con un análisis de sentimiento.\n",
    "\n",
    "                    Ejemplo de retorno: {Negative = 182, Neutral = 120, Positive = 278}"
   ]
  },
  {
   "cell_type": "markdown",
   "metadata": {},
   "source": [
    "- Se filtraron las columnas necesarias para preparar los archivos para la función.\n",
    "- Se determinó la existencia de nulos o duplicados, y se eliminaron en los casos necesarios.\n",
    "- Se unieron los datos de años y sentimientos a traves de pd.merge(on='item_id')\n",
    "- Se creó un dataframe para cargar los años y las cantidades de cada sentimiento. Luego se remplazo cada valor por la cantidad total de sentimientos 0, 1 o 2 que habia para cada año\n",
    "- Se eliminaron las columnas que no usará la función.\n",
    "- Se exportó el DataFrame en formato JSON."
   ]
  },
  {
   "cell_type": "code",
   "execution_count": 427,
   "metadata": {},
   "outputs": [
    {
     "data": {
      "text/html": [
       "<div>\n",
       "<style scoped>\n",
       "    .dataframe tbody tr th:only-of-type {\n",
       "        vertical-align: middle;\n",
       "    }\n",
       "\n",
       "    .dataframe tbody tr th {\n",
       "        vertical-align: top;\n",
       "    }\n",
       "\n",
       "    .dataframe thead th {\n",
       "        text-align: right;\n",
       "    }\n",
       "</style>\n",
       "<table border=\"1\" class=\"dataframe\">\n",
       "  <thead>\n",
       "    <tr style=\"text-align: right;\">\n",
       "      <th></th>\n",
       "      <th>genres</th>\n",
       "      <th>release_date</th>\n",
       "      <th>price</th>\n",
       "      <th>item_id</th>\n",
       "      <th>developer</th>\n",
       "      <th>año</th>\n",
       "    </tr>\n",
       "  </thead>\n",
       "  <tbody>\n",
       "    <tr>\n",
       "      <th>88310</th>\n",
       "      <td>[Action, Casual, Indie, Simulation, Strategy]</td>\n",
       "      <td>2018-01-04</td>\n",
       "      <td>4.99</td>\n",
       "      <td>761140</td>\n",
       "      <td>Kotoshiro</td>\n",
       "      <td>2018</td>\n",
       "    </tr>\n",
       "  </tbody>\n",
       "</table>\n",
       "</div>"
      ],
      "text/plain": [
       "                                              genres release_date price  \\\n",
       "88310  [Action, Casual, Indie, Simulation, Strategy]   2018-01-04  4.99   \n",
       "\n",
       "      item_id  developer   año  \n",
       "88310  761140  Kotoshiro  2018  "
      ]
     },
     "execution_count": 427,
     "metadata": {},
     "output_type": "execute_result"
    }
   ],
   "source": [
    "df_steam_final.head(1)"
   ]
  },
  {
   "cell_type": "code",
   "execution_count": 440,
   "metadata": {},
   "outputs": [],
   "source": [
    "df_item_date = df_steam_final[['año', 'item_id']]"
   ]
  },
  {
   "cell_type": "code",
   "execution_count": 442,
   "metadata": {},
   "outputs": [
    {
     "data": {
      "text/html": [
       "<div>\n",
       "<style scoped>\n",
       "    .dataframe tbody tr th:only-of-type {\n",
       "        vertical-align: middle;\n",
       "    }\n",
       "\n",
       "    .dataframe tbody tr th {\n",
       "        vertical-align: top;\n",
       "    }\n",
       "\n",
       "    .dataframe thead th {\n",
       "        text-align: right;\n",
       "    }\n",
       "</style>\n",
       "<table border=\"1\" class=\"dataframe\">\n",
       "  <thead>\n",
       "    <tr style=\"text-align: right;\">\n",
       "      <th></th>\n",
       "      <th>user_id</th>\n",
       "      <th>user_url</th>\n",
       "      <th>item_id</th>\n",
       "      <th>recommend</th>\n",
       "      <th>sentiment_analysis</th>\n",
       "      <th>posted_ok</th>\n",
       "      <th>año</th>\n",
       "    </tr>\n",
       "  </thead>\n",
       "  <tbody>\n",
       "    <tr>\n",
       "      <th>0</th>\n",
       "      <td>76561197970982479</td>\n",
       "      <td>http://steamcommunity.com/profiles/76561197970...</td>\n",
       "      <td>1250</td>\n",
       "      <td>1</td>\n",
       "      <td>2</td>\n",
       "      <td>2011-11-05</td>\n",
       "      <td>2011</td>\n",
       "    </tr>\n",
       "  </tbody>\n",
       "</table>\n",
       "</div>"
      ],
      "text/plain": [
       "             user_id                                           user_url  \\\n",
       "0  76561197970982479  http://steamcommunity.com/profiles/76561197970...   \n",
       "\n",
       "  item_id  recommend  sentiment_analysis  posted_ok   año  \n",
       "0    1250          1                   2 2011-11-05  2011  "
      ]
     },
     "execution_count": 442,
     "metadata": {},
     "output_type": "execute_result"
    }
   ],
   "source": [
    "df_review_final.head(1)"
   ]
  },
  {
   "cell_type": "code",
   "execution_count": 443,
   "metadata": {},
   "outputs": [],
   "source": [
    "df_item_sentiment = df_review_final[['item_id', 'sentiment_analysis']]"
   ]
  },
  {
   "cell_type": "code",
   "execution_count": 444,
   "metadata": {},
   "outputs": [],
   "source": [
    "df_sentiment_inicial = pd.merge(df_item_date, df_item_sentiment, on='item_id')"
   ]
  },
  {
   "cell_type": "code",
   "execution_count": 445,
   "metadata": {},
   "outputs": [],
   "source": [
    "df_sentiment_inicial = df_sentiment_inicial.drop(columns=['item_id'])"
   ]
  },
  {
   "cell_type": "code",
   "execution_count": 446,
   "metadata": {},
   "outputs": [
    {
     "data": {
      "text/plain": [
       "array([1998, 2006, 2005, 2000, 2007, 1995, 1994, 2001, 2004, 2003, 2008,\n",
       "       1997, 1993, 2009, 2002, 2010, 2011, 2013, 2012, 2015, 1996, 2014,\n",
       "       1992, 2016, 1989, 2017, 1999, 1991, 1990], dtype=int64)"
      ]
     },
     "execution_count": 446,
     "metadata": {},
     "output_type": "execute_result"
    }
   ],
   "source": [
    "df_sentiment_inicial['año'].unique()"
   ]
  },
  {
   "cell_type": "code",
   "execution_count": 447,
   "metadata": {},
   "outputs": [],
   "source": [
    "# creo un dataframe para cargar los años y las cantidades de cada sentimiento\n",
    "df_sentiment = pd.DataFrame(columns=['ano','cantidad_0','cantidad_1','cantidad_2'])\n",
    "df_sentiment['ano']=df_sentiment_inicial['año'].unique()"
   ]
  },
  {
   "cell_type": "code",
   "execution_count": 448,
   "metadata": {},
   "outputs": [],
   "source": [
    "# remplazo cada nan por la cantidad de sentimientos 0, 1 o 2 que hay para cada año\n",
    "for elemento in df_sentiment['ano']:\n",
    "    conteo_sentiment = df_sentiment_inicial['sentiment_analysis'][df_sentiment_inicial['año']==elemento].value_counts()\n",
    "\n",
    "    # si no hay elemento en ese año, le pongo 0\n",
    "    df_sentiment.loc[df_sentiment['ano'] == elemento, 'cantidad_0'] = conteo_sentiment.get(0,0) \n",
    "    df_sentiment.loc[df_sentiment['ano'] == elemento, 'cantidad_1'] = conteo_sentiment.get(1,0)\n",
    "    df_sentiment.loc[df_sentiment['ano'] == elemento, 'cantidad_2'] = conteo_sentiment.get(2,0) "
   ]
  },
  {
   "cell_type": "code",
   "execution_count": 449,
   "metadata": {},
   "outputs": [
    {
     "data": {
      "text/html": [
       "<div>\n",
       "<style scoped>\n",
       "    .dataframe tbody tr th:only-of-type {\n",
       "        vertical-align: middle;\n",
       "    }\n",
       "\n",
       "    .dataframe tbody tr th {\n",
       "        vertical-align: top;\n",
       "    }\n",
       "\n",
       "    .dataframe thead th {\n",
       "        text-align: right;\n",
       "    }\n",
       "</style>\n",
       "<table border=\"1\" class=\"dataframe\">\n",
       "  <thead>\n",
       "    <tr style=\"text-align: right;\">\n",
       "      <th></th>\n",
       "      <th>ano</th>\n",
       "      <th>cantidad_0</th>\n",
       "      <th>cantidad_1</th>\n",
       "      <th>cantidad_2</th>\n",
       "    </tr>\n",
       "  </thead>\n",
       "  <tbody>\n",
       "    <tr>\n",
       "      <th>0</th>\n",
       "      <td>1998</td>\n",
       "      <td>2</td>\n",
       "      <td>31</td>\n",
       "      <td>49</td>\n",
       "    </tr>\n",
       "    <tr>\n",
       "      <th>1</th>\n",
       "      <td>2006</td>\n",
       "      <td>122</td>\n",
       "      <td>640</td>\n",
       "      <td>1073</td>\n",
       "    </tr>\n",
       "  </tbody>\n",
       "</table>\n",
       "</div>"
      ],
      "text/plain": [
       "    ano cantidad_0 cantidad_1 cantidad_2\n",
       "0  1998          2         31         49\n",
       "1  2006        122        640       1073"
      ]
     },
     "execution_count": 449,
     "metadata": {},
     "output_type": "execute_result"
    }
   ],
   "source": [
    "df_sentiment.head(2)"
   ]
  },
  {
   "cell_type": "code",
   "execution_count": 450,
   "metadata": {},
   "outputs": [],
   "source": [
    "#df_sentiment.to_json(\"DataSets/df_sentiment.json\", orient=\"records\", lines=True)"
   ]
  },
  {
   "cell_type": "markdown",
   "metadata": {},
   "source": [
    "# Funcion USERDATA"
   ]
  },
  {
   "cell_type": "markdown",
   "metadata": {},
   "source": [
    "def userdata( User_id : str ): Debe devolver cantidad de dinero gastado por el usuario, el porcentaje de recomendación en base a reviews.recommend y cantidad de items."
   ]
  },
  {
   "cell_type": "markdown",
   "metadata": {},
   "source": [
    "- Se filtraron las columnas necesarias para preparar los archivos para la función.\n",
    "- Se determinó la existencia de nulos o duplicados y se eliminaron en los casos necesarios.\n",
    "- En este caso se generaron tres archivos JSON:\n",
    "- Se trabajó con las columnas necesarias del archivo review y se agrupó por 'user_id' para contar cuántas recomendaciones '0' o '1' había. Se convirtieron los datos obtenidos a porcentajes y se renombró la columna. Se eliminaron las columnas que no usará la función. Se exportó el DataFrame como df_porc_recomm.json.\n",
    "- Se trabajó con las columnas necesarias del archivo item. Se determinó la cantidad de nulos y duplicados y se eliminaron duplicados ya que cada ítem es jugado por un usuario. Se agrupó por 'user_id' y se contaron los 'item_id'. Se exportó el DataFrame como df_item_user_group.json.\n",
    "- Se trabajó con las columnas necesarias del archivo steam. Se determinó la cantidad de nulos y la cantidad total de datos en la columna price. Se eliminaron datos nulos y se generó el df_item_price. Se combinaron las columnas 'price' y 'user_id' con 'item_id' como clave. Se exploraron nulos y duplicados. Se convirtió la columna 'price' a formato flotante y se redondeó. Se exportó el DataFrame."
   ]
  },
  {
   "cell_type": "code",
   "execution_count": 451,
   "metadata": {},
   "outputs": [
    {
     "data": {
      "text/html": [
       "<div>\n",
       "<style scoped>\n",
       "    .dataframe tbody tr th:only-of-type {\n",
       "        vertical-align: middle;\n",
       "    }\n",
       "\n",
       "    .dataframe tbody tr th {\n",
       "        vertical-align: top;\n",
       "    }\n",
       "\n",
       "    .dataframe thead th {\n",
       "        text-align: right;\n",
       "    }\n",
       "</style>\n",
       "<table border=\"1\" class=\"dataframe\">\n",
       "  <thead>\n",
       "    <tr style=\"text-align: right;\">\n",
       "      <th></th>\n",
       "      <th>user_id</th>\n",
       "      <th>user_url</th>\n",
       "      <th>item_id</th>\n",
       "      <th>recommend</th>\n",
       "      <th>sentiment_analysis</th>\n",
       "      <th>posted_ok</th>\n",
       "      <th>año</th>\n",
       "    </tr>\n",
       "  </thead>\n",
       "  <tbody>\n",
       "    <tr>\n",
       "      <th>0</th>\n",
       "      <td>76561197970982479</td>\n",
       "      <td>http://steamcommunity.com/profiles/76561197970...</td>\n",
       "      <td>1250</td>\n",
       "      <td>1</td>\n",
       "      <td>2</td>\n",
       "      <td>2011-11-05</td>\n",
       "      <td>2011</td>\n",
       "    </tr>\n",
       "  </tbody>\n",
       "</table>\n",
       "</div>"
      ],
      "text/plain": [
       "             user_id                                           user_url  \\\n",
       "0  76561197970982479  http://steamcommunity.com/profiles/76561197970...   \n",
       "\n",
       "  item_id  recommend  sentiment_analysis  posted_ok   año  \n",
       "0    1250          1                   2 2011-11-05  2011  "
      ]
     },
     "execution_count": 451,
     "metadata": {},
     "output_type": "execute_result"
    }
   ],
   "source": [
    "df_review_final.head(1)"
   ]
  },
  {
   "cell_type": "code",
   "execution_count": 452,
   "metadata": {},
   "outputs": [
    {
     "data": {
      "text/html": [
       "<div>\n",
       "<style scoped>\n",
       "    .dataframe tbody tr th:only-of-type {\n",
       "        vertical-align: middle;\n",
       "    }\n",
       "\n",
       "    .dataframe tbody tr th {\n",
       "        vertical-align: top;\n",
       "    }\n",
       "\n",
       "    .dataframe thead th {\n",
       "        text-align: right;\n",
       "    }\n",
       "</style>\n",
       "<table border=\"1\" class=\"dataframe\">\n",
       "  <thead>\n",
       "    <tr style=\"text-align: right;\">\n",
       "      <th></th>\n",
       "      <th>user_id</th>\n",
       "      <th>item_id</th>\n",
       "      <th>recommend</th>\n",
       "    </tr>\n",
       "  </thead>\n",
       "  <tbody>\n",
       "    <tr>\n",
       "      <th>0</th>\n",
       "      <td>76561197970982479</td>\n",
       "      <td>1250</td>\n",
       "      <td>1</td>\n",
       "    </tr>\n",
       "  </tbody>\n",
       "</table>\n",
       "</div>"
      ],
      "text/plain": [
       "             user_id item_id  recommend\n",
       "0  76561197970982479    1250          1"
      ]
     },
     "execution_count": 452,
     "metadata": {},
     "output_type": "execute_result"
    }
   ],
   "source": [
    "# Me quedo con 'user_id' y 'recommend' que es lo que necesito, \n",
    "# y con 'item_id', ya que 'recommend' estan a nivel de 'item_id'\n",
    "\n",
    "df_user_recomm = df_review_final[['user_id', 'item_id','recommend']]\n",
    "df_user_recomm.head(1)"
   ]
  },
  {
   "cell_type": "code",
   "execution_count": 453,
   "metadata": {},
   "outputs": [
    {
     "name": "stdout",
     "output_type": "stream",
     "text": [
      "user_id      0\n",
      "item_id      0\n",
      "recommend    0\n",
      "dtype: int64\n",
      "user_id      0\n",
      "item_id      0\n",
      "recommend    0\n",
      "dtype: int64\n"
     ]
    }
   ],
   "source": [
    "# Registros completamente vacios\n",
    "print(df_user_recomm[df_user_recomm.isna().all(axis=1)].count())\n",
    "# Registros duplicados. \n",
    "print(df_user_recomm[df_user_recomm.duplicated()].count())"
   ]
  },
  {
   "cell_type": "code",
   "execution_count": 454,
   "metadata": {},
   "outputs": [],
   "source": [
    "# Ahora que ya corrobore que no hay nulos ni duplicados, puedo elimnar la colummna item_id\n",
    "df_user_recomm = df_user_recomm.drop(columns=['item_id'])"
   ]
  },
  {
   "cell_type": "code",
   "execution_count": 455,
   "metadata": {},
   "outputs": [],
   "source": [
    "# Agrupo por 'user_id' y cuento cuantas recomendaciones True o False hay\n",
    "# Coloco cero si no hay ese tipo de recomendación\n",
    "\n",
    "df_porc_recomm = df_user_recomm.groupby(['user_id', 'recommend'])['recommend'].count().unstack(fill_value=0).reset_index()"
   ]
  },
  {
   "cell_type": "code",
   "execution_count": 456,
   "metadata": {},
   "outputs": [
    {
     "data": {
      "text/html": [
       "<div>\n",
       "<style scoped>\n",
       "    .dataframe tbody tr th:only-of-type {\n",
       "        vertical-align: middle;\n",
       "    }\n",
       "\n",
       "    .dataframe tbody tr th {\n",
       "        vertical-align: top;\n",
       "    }\n",
       "\n",
       "    .dataframe thead th {\n",
       "        text-align: right;\n",
       "    }\n",
       "</style>\n",
       "<table border=\"1\" class=\"dataframe\">\n",
       "  <thead>\n",
       "    <tr style=\"text-align: right;\">\n",
       "      <th>recommend</th>\n",
       "      <th>user_id</th>\n",
       "      <th>0</th>\n",
       "      <th>1</th>\n",
       "    </tr>\n",
       "  </thead>\n",
       "  <tbody>\n",
       "    <tr>\n",
       "      <th>0</th>\n",
       "      <td>--000--</td>\n",
       "      <td>0</td>\n",
       "      <td>1</td>\n",
       "    </tr>\n",
       "    <tr>\n",
       "      <th>1</th>\n",
       "      <td>--ace--</td>\n",
       "      <td>0</td>\n",
       "      <td>2</td>\n",
       "    </tr>\n",
       "  </tbody>\n",
       "</table>\n",
       "</div>"
      ],
      "text/plain": [
       "recommend  user_id  0  1\n",
       "0          --000--  0  1\n",
       "1          --ace--  0  2"
      ]
     },
     "execution_count": 456,
     "metadata": {},
     "output_type": "execute_result"
    }
   ],
   "source": [
    "df_porc_recomm.head(2)"
   ]
  },
  {
   "cell_type": "code",
   "execution_count": 457,
   "metadata": {},
   "outputs": [],
   "source": [
    "# Conviero los valores a porcentaje\n",
    "df_porc_recomm[1] = round((df_porc_recomm[1] / (df_porc_recomm[1] + df_porc_recomm[0])) * 100,1)\n",
    "\n",
    "# Renombro la columna\n",
    "df_porc_recomm = df_porc_recomm.rename(columns={1: 'Recomendacion'})"
   ]
  },
  {
   "cell_type": "code",
   "execution_count": 458,
   "metadata": {},
   "outputs": [],
   "source": [
    "# elimino columna de los False\n",
    "df_porc_recomm = df_porc_recomm.drop(columns={0})"
   ]
  },
  {
   "cell_type": "code",
   "execution_count": 459,
   "metadata": {},
   "outputs": [
    {
     "data": {
      "text/html": [
       "<div>\n",
       "<style scoped>\n",
       "    .dataframe tbody tr th:only-of-type {\n",
       "        vertical-align: middle;\n",
       "    }\n",
       "\n",
       "    .dataframe tbody tr th {\n",
       "        vertical-align: top;\n",
       "    }\n",
       "\n",
       "    .dataframe thead th {\n",
       "        text-align: right;\n",
       "    }\n",
       "</style>\n",
       "<table border=\"1\" class=\"dataframe\">\n",
       "  <thead>\n",
       "    <tr style=\"text-align: right;\">\n",
       "      <th>recommend</th>\n",
       "      <th>user_id</th>\n",
       "      <th>Recomendacion</th>\n",
       "    </tr>\n",
       "  </thead>\n",
       "  <tbody>\n",
       "    <tr>\n",
       "      <th>0</th>\n",
       "      <td>--000--</td>\n",
       "      <td>100.0</td>\n",
       "    </tr>\n",
       "    <tr>\n",
       "      <th>1</th>\n",
       "      <td>--ace--</td>\n",
       "      <td>100.0</td>\n",
       "    </tr>\n",
       "  </tbody>\n",
       "</table>\n",
       "</div>"
      ],
      "text/plain": [
       "recommend  user_id  Recomendacion\n",
       "0          --000--          100.0\n",
       "1          --ace--          100.0"
      ]
     },
     "execution_count": 459,
     "metadata": {},
     "output_type": "execute_result"
    }
   ],
   "source": [
    "df_porc_recomm.head(2)"
   ]
  },
  {
   "cell_type": "code",
   "execution_count": 460,
   "metadata": {},
   "outputs": [],
   "source": [
    "#df_porc_recomm.to_json(\"DataSets/df_porc_recomm.json\", orient=\"records\", lines=True)"
   ]
  },
  {
   "cell_type": "code",
   "execution_count": 461,
   "metadata": {},
   "outputs": [
    {
     "data": {
      "text/html": [
       "<div>\n",
       "<style scoped>\n",
       "    .dataframe tbody tr th:only-of-type {\n",
       "        vertical-align: middle;\n",
       "    }\n",
       "\n",
       "    .dataframe tbody tr th {\n",
       "        vertical-align: top;\n",
       "    }\n",
       "\n",
       "    .dataframe thead th {\n",
       "        text-align: right;\n",
       "    }\n",
       "</style>\n",
       "<table border=\"1\" class=\"dataframe\">\n",
       "  <thead>\n",
       "    <tr style=\"text-align: right;\">\n",
       "      <th></th>\n",
       "      <th>genres</th>\n",
       "      <th>release_date</th>\n",
       "      <th>price</th>\n",
       "      <th>item_id</th>\n",
       "      <th>developer</th>\n",
       "      <th>año</th>\n",
       "    </tr>\n",
       "  </thead>\n",
       "  <tbody>\n",
       "    <tr>\n",
       "      <th>88310</th>\n",
       "      <td>[Action, Casual, Indie, Simulation, Strategy]</td>\n",
       "      <td>2018-01-04</td>\n",
       "      <td>4.99</td>\n",
       "      <td>761140</td>\n",
       "      <td>Kotoshiro</td>\n",
       "      <td>2018</td>\n",
       "    </tr>\n",
       "  </tbody>\n",
       "</table>\n",
       "</div>"
      ],
      "text/plain": [
       "                                              genres release_date price  \\\n",
       "88310  [Action, Casual, Indie, Simulation, Strategy]   2018-01-04  4.99   \n",
       "\n",
       "      item_id  developer   año  \n",
       "88310  761140  Kotoshiro  2018  "
      ]
     },
     "execution_count": 461,
     "metadata": {},
     "output_type": "execute_result"
    }
   ],
   "source": [
    "df_steam_final.head(1)"
   ]
  },
  {
   "cell_type": "code",
   "execution_count": 462,
   "metadata": {},
   "outputs": [
    {
     "data": {
      "text/html": [
       "<div>\n",
       "<style scoped>\n",
       "    .dataframe tbody tr th:only-of-type {\n",
       "        vertical-align: middle;\n",
       "    }\n",
       "\n",
       "    .dataframe tbody tr th {\n",
       "        vertical-align: top;\n",
       "    }\n",
       "\n",
       "    .dataframe thead th {\n",
       "        text-align: right;\n",
       "    }\n",
       "</style>\n",
       "<table border=\"1\" class=\"dataframe\">\n",
       "  <thead>\n",
       "    <tr style=\"text-align: right;\">\n",
       "      <th></th>\n",
       "      <th>item_id</th>\n",
       "      <th>price</th>\n",
       "    </tr>\n",
       "  </thead>\n",
       "  <tbody>\n",
       "    <tr>\n",
       "      <th>88310</th>\n",
       "      <td>761140</td>\n",
       "      <td>4.99</td>\n",
       "    </tr>\n",
       "  </tbody>\n",
       "</table>\n",
       "</div>"
      ],
      "text/plain": [
       "      item_id price\n",
       "88310  761140  4.99"
      ]
     },
     "execution_count": 462,
     "metadata": {},
     "output_type": "execute_result"
    }
   ],
   "source": [
    "df_item_price = df_steam_final[['item_id','price']]\n",
    "df_item_price.head(1)"
   ]
  },
  {
   "cell_type": "code",
   "execution_count": 463,
   "metadata": {},
   "outputs": [
    {
     "name": "stdout",
     "output_type": "stream",
     "text": [
      "item_id    0\n",
      "price      0\n",
      "dtype: int64\n",
      "item_id    0\n",
      "price      0\n",
      "dtype: int64\n"
     ]
    }
   ],
   "source": [
    "# Registros completamente vacios\n",
    "print(df_item_price[df_item_price.isna().all(axis=1)].count())\n",
    "# Registros duplicados\n",
    "print(df_item_price[df_item_price.duplicated()].count())"
   ]
  },
  {
   "cell_type": "code",
   "execution_count": 468,
   "metadata": {},
   "outputs": [
    {
     "data": {
      "text/plain": [
       "(1076, 29883)"
      ]
     },
     "execution_count": 468,
     "metadata": {},
     "output_type": "execute_result"
    }
   ],
   "source": [
    "# Se determina cantidad de nulos y se compara con la cantidad total de datos\n",
    "df_item_price['price'].isna().sum(), df_item_price.shape[0]"
   ]
  },
  {
   "cell_type": "code",
   "execution_count": 469,
   "metadata": {},
   "outputs": [],
   "source": [
    "# Se eliminan datos nulos\n",
    "df_item_price = df_item_price.dropna(subset=['price'])"
   ]
  },
  {
   "cell_type": "code",
   "execution_count": 470,
   "metadata": {},
   "outputs": [
    {
     "data": {
      "text/html": [
       "<div>\n",
       "<style scoped>\n",
       "    .dataframe tbody tr th:only-of-type {\n",
       "        vertical-align: middle;\n",
       "    }\n",
       "\n",
       "    .dataframe tbody tr th {\n",
       "        vertical-align: top;\n",
       "    }\n",
       "\n",
       "    .dataframe thead th {\n",
       "        text-align: right;\n",
       "    }\n",
       "</style>\n",
       "<table border=\"1\" class=\"dataframe\">\n",
       "  <thead>\n",
       "    <tr style=\"text-align: right;\">\n",
       "      <th></th>\n",
       "      <th>item_id</th>\n",
       "      <th>price</th>\n",
       "    </tr>\n",
       "  </thead>\n",
       "  <tbody>\n",
       "    <tr>\n",
       "      <th>88310</th>\n",
       "      <td>761140</td>\n",
       "      <td>4.99</td>\n",
       "    </tr>\n",
       "  </tbody>\n",
       "</table>\n",
       "</div>"
      ],
      "text/plain": [
       "      item_id price\n",
       "88310  761140  4.99"
      ]
     },
     "execution_count": 470,
     "metadata": {},
     "output_type": "execute_result"
    }
   ],
   "source": [
    "df_item_price.head(1)"
   ]
  },
  {
   "cell_type": "code",
   "execution_count": null,
   "metadata": {},
   "outputs": [],
   "source": []
  },
  {
   "cell_type": "code",
   "execution_count": 471,
   "metadata": {},
   "outputs": [
    {
     "data": {
      "text/html": [
       "<div>\n",
       "<style scoped>\n",
       "    .dataframe tbody tr th:only-of-type {\n",
       "        vertical-align: middle;\n",
       "    }\n",
       "\n",
       "    .dataframe tbody tr th {\n",
       "        vertical-align: top;\n",
       "    }\n",
       "\n",
       "    .dataframe thead th {\n",
       "        text-align: right;\n",
       "    }\n",
       "</style>\n",
       "<table border=\"1\" class=\"dataframe\">\n",
       "  <thead>\n",
       "    <tr style=\"text-align: right;\">\n",
       "      <th></th>\n",
       "      <th>user_id</th>\n",
       "      <th>item_id</th>\n",
       "      <th>user_url</th>\n",
       "      <th>playtime_forever</th>\n",
       "    </tr>\n",
       "  </thead>\n",
       "  <tbody>\n",
       "    <tr>\n",
       "      <th>0</th>\n",
       "      <td>76561197970982479</td>\n",
       "      <td>10</td>\n",
       "      <td>http://steamcommunity.com/profiles/76561197970...</td>\n",
       "      <td>6.0</td>\n",
       "    </tr>\n",
       "  </tbody>\n",
       "</table>\n",
       "</div>"
      ],
      "text/plain": [
       "             user_id item_id  \\\n",
       "0  76561197970982479      10   \n",
       "\n",
       "                                            user_url  playtime_forever  \n",
       "0  http://steamcommunity.com/profiles/76561197970...               6.0  "
      ]
     },
     "execution_count": 471,
     "metadata": {},
     "output_type": "execute_result"
    }
   ],
   "source": [
    "df_items_final.head(1)"
   ]
  },
  {
   "cell_type": "code",
   "execution_count": 472,
   "metadata": {},
   "outputs": [
    {
     "data": {
      "text/html": [
       "<div>\n",
       "<style scoped>\n",
       "    .dataframe tbody tr th:only-of-type {\n",
       "        vertical-align: middle;\n",
       "    }\n",
       "\n",
       "    .dataframe tbody tr th {\n",
       "        vertical-align: top;\n",
       "    }\n",
       "\n",
       "    .dataframe thead th {\n",
       "        text-align: right;\n",
       "    }\n",
       "</style>\n",
       "<table border=\"1\" class=\"dataframe\">\n",
       "  <thead>\n",
       "    <tr style=\"text-align: right;\">\n",
       "      <th></th>\n",
       "      <th>user_id</th>\n",
       "      <th>item_id</th>\n",
       "    </tr>\n",
       "  </thead>\n",
       "  <tbody>\n",
       "    <tr>\n",
       "      <th>0</th>\n",
       "      <td>76561197970982479</td>\n",
       "      <td>10</td>\n",
       "    </tr>\n",
       "    <tr>\n",
       "      <th>1</th>\n",
       "      <td>76561197970982479</td>\n",
       "      <td>20</td>\n",
       "    </tr>\n",
       "    <tr>\n",
       "      <th>2</th>\n",
       "      <td>76561197970982479</td>\n",
       "      <td>30</td>\n",
       "    </tr>\n",
       "  </tbody>\n",
       "</table>\n",
       "</div>"
      ],
      "text/plain": [
       "             user_id item_id\n",
       "0  76561197970982479      10\n",
       "1  76561197970982479      20\n",
       "2  76561197970982479      30"
      ]
     },
     "execution_count": 472,
     "metadata": {},
     "output_type": "execute_result"
    }
   ],
   "source": [
    "df_item_user = df_items_final[['user_id','item_id']]\n",
    "df_item_user.head(3)"
   ]
  },
  {
   "cell_type": "code",
   "execution_count": 473,
   "metadata": {},
   "outputs": [
    {
     "name": "stdout",
     "output_type": "stream",
     "text": [
      "user_id    0\n",
      "item_id    0\n",
      "dtype: int64\n",
      "user_id    23\n",
      "item_id    23\n",
      "dtype: int64\n"
     ]
    }
   ],
   "source": [
    "# Registros completamente vacios\n",
    "print(df_item_user[df_item_user.isna().all(axis=1)].count())\n",
    "# Registros duplicados\n",
    "print(df_item_user[df_item_user.duplicated()].count())"
   ]
  },
  {
   "cell_type": "code",
   "execution_count": 474,
   "metadata": {},
   "outputs": [],
   "source": [
    "# Elimino Registros duplicados, ya que cada item es jugado por un usuario\n",
    "df_item_user = df_item_user.drop_duplicates()"
   ]
  },
  {
   "cell_type": "code",
   "execution_count": 475,
   "metadata": {},
   "outputs": [
    {
     "data": {
      "text/html": [
       "<div>\n",
       "<style scoped>\n",
       "    .dataframe tbody tr th:only-of-type {\n",
       "        vertical-align: middle;\n",
       "    }\n",
       "\n",
       "    .dataframe tbody tr th {\n",
       "        vertical-align: top;\n",
       "    }\n",
       "\n",
       "    .dataframe thead th {\n",
       "        text-align: right;\n",
       "    }\n",
       "</style>\n",
       "<table border=\"1\" class=\"dataframe\">\n",
       "  <thead>\n",
       "    <tr style=\"text-align: right;\">\n",
       "      <th></th>\n",
       "      <th>user_id</th>\n",
       "      <th>item_id</th>\n",
       "    </tr>\n",
       "  </thead>\n",
       "  <tbody>\n",
       "    <tr>\n",
       "      <th>0</th>\n",
       "      <td>--000--</td>\n",
       "      <td>58</td>\n",
       "    </tr>\n",
       "  </tbody>\n",
       "</table>\n",
       "</div>"
      ],
      "text/plain": [
       "   user_id  item_id\n",
       "0  --000--       58"
      ]
     },
     "execution_count": 475,
     "metadata": {},
     "output_type": "execute_result"
    }
   ],
   "source": [
    "# agrupo por 'user_id' y cuento los 'item_id'\n",
    "df_item_user_group = df_item_user[['user_id', 'item_id']].groupby('user_id').count().reset_index()\n",
    "df_item_user_group.head(1)"
   ]
  },
  {
   "cell_type": "code",
   "execution_count": 476,
   "metadata": {},
   "outputs": [],
   "source": [
    "# Renombro la columna\n",
    "df_item_user_group = df_item_user_group.rename(columns={'item_id': 'Cantidad_item_id'})"
   ]
  },
  {
   "cell_type": "code",
   "execution_count": 477,
   "metadata": {},
   "outputs": [],
   "source": [
    "#df_item_user_group.to_json(\"DataSets/df_item_user_group.json\", orient=\"records\", lines=True)"
   ]
  },
  {
   "cell_type": "code",
   "execution_count": null,
   "metadata": {},
   "outputs": [],
   "source": []
  },
  {
   "cell_type": "code",
   "execution_count": 478,
   "metadata": {},
   "outputs": [
    {
     "data": {
      "text/html": [
       "<div>\n",
       "<style scoped>\n",
       "    .dataframe tbody tr th:only-of-type {\n",
       "        vertical-align: middle;\n",
       "    }\n",
       "\n",
       "    .dataframe tbody tr th {\n",
       "        vertical-align: top;\n",
       "    }\n",
       "\n",
       "    .dataframe thead th {\n",
       "        text-align: right;\n",
       "    }\n",
       "</style>\n",
       "<table border=\"1\" class=\"dataframe\">\n",
       "  <thead>\n",
       "    <tr style=\"text-align: right;\">\n",
       "      <th></th>\n",
       "      <th>item_id</th>\n",
       "      <th>price</th>\n",
       "      <th>user_id</th>\n",
       "    </tr>\n",
       "  </thead>\n",
       "  <tbody>\n",
       "    <tr>\n",
       "      <th>0</th>\n",
       "      <td>282010</td>\n",
       "      <td>9.99</td>\n",
       "      <td>UTNerd24</td>\n",
       "    </tr>\n",
       "    <tr>\n",
       "      <th>1</th>\n",
       "      <td>282010</td>\n",
       "      <td>9.99</td>\n",
       "      <td>I_DID_911_JUST_SAYING</td>\n",
       "    </tr>\n",
       "    <tr>\n",
       "      <th>2</th>\n",
       "      <td>282010</td>\n",
       "      <td>9.99</td>\n",
       "      <td>76561197962104795</td>\n",
       "    </tr>\n",
       "  </tbody>\n",
       "</table>\n",
       "</div>"
      ],
      "text/plain": [
       "  item_id price                user_id\n",
       "0  282010  9.99               UTNerd24\n",
       "1  282010  9.99  I_DID_911_JUST_SAYING\n",
       "2  282010  9.99      76561197962104795"
      ]
     },
     "execution_count": 478,
     "metadata": {},
     "output_type": "execute_result"
    }
   ],
   "source": [
    "# Convino los registros utilizando 'item_id'\n",
    "df_user_price = pd.merge(df_item_price, df_item_user, on='item_id')\n",
    "df_user_price.head(3)"
   ]
  },
  {
   "cell_type": "code",
   "execution_count": 479,
   "metadata": {},
   "outputs": [
    {
     "name": "stdout",
     "output_type": "stream",
     "text": [
      "item_id    0\n",
      "price      0\n",
      "user_id    0\n",
      "dtype: int64\n",
      "item_id    0\n",
      "price      0\n",
      "user_id    0\n",
      "dtype: int64\n"
     ]
    }
   ],
   "source": [
    "# Registros completamente vacios\n",
    "print(df_user_price[df_user_price.isna().all(axis=1)].count())\n",
    "# Registros duplicados\n",
    "print(df_user_price[df_user_price.duplicated()].count())"
   ]
  },
  {
   "cell_type": "code",
   "execution_count": 480,
   "metadata": {},
   "outputs": [],
   "source": [
    "# Ahora que ya corrobore que no hay nulos ni duplicados, puedo elimnar la colummna item_id\n",
    "df_user_price = df_user_price.drop(columns=['item_id'])"
   ]
  },
  {
   "cell_type": "code",
   "execution_count": 481,
   "metadata": {},
   "outputs": [
    {
     "data": {
      "text/html": [
       "<div>\n",
       "<style scoped>\n",
       "    .dataframe tbody tr th:only-of-type {\n",
       "        vertical-align: middle;\n",
       "    }\n",
       "\n",
       "    .dataframe tbody tr th {\n",
       "        vertical-align: top;\n",
       "    }\n",
       "\n",
       "    .dataframe thead th {\n",
       "        text-align: right;\n",
       "    }\n",
       "</style>\n",
       "<table border=\"1\" class=\"dataframe\">\n",
       "  <thead>\n",
       "    <tr style=\"text-align: right;\">\n",
       "      <th></th>\n",
       "      <th>user_id</th>\n",
       "      <th>price</th>\n",
       "    </tr>\n",
       "  </thead>\n",
       "  <tbody>\n",
       "    <tr>\n",
       "      <th>0</th>\n",
       "      <td>--000--</td>\n",
       "      <td>397.78</td>\n",
       "    </tr>\n",
       "  </tbody>\n",
       "</table>\n",
       "</div>"
      ],
      "text/plain": [
       "   user_id   price\n",
       "0  --000--  397.78"
      ]
     },
     "execution_count": 481,
     "metadata": {},
     "output_type": "execute_result"
    }
   ],
   "source": [
    "# agrupo por 'user_id' y sumo los 'price'\n",
    "df_user_price = df_user_price.groupby('user_id')['price'].sum().reset_index()\n",
    "df_user_price.head(1)"
   ]
  },
  {
   "cell_type": "code",
   "execution_count": 483,
   "metadata": {},
   "outputs": [],
   "source": [
    "# paso la columna 'price' a flotante y redondeo el valor\n",
    "df_user_price['price'] = round(df_user_price['price'].astype(float),2)"
   ]
  },
  {
   "cell_type": "code",
   "execution_count": 484,
   "metadata": {},
   "outputs": [],
   "source": [
    "#df_user_price.to_json(\"DataSets/df_user_price.json\", orient=\"records\", lines=True)"
   ]
  },
  {
   "cell_type": "markdown",
   "metadata": {},
   "source": [
    "# Funcion MODELO DE RECOMENDACION"
   ]
  },
  {
   "cell_type": "markdown",
   "metadata": {},
   "source": [
    "Sistema de recomendación item-item:\n",
    "\n",
    "def recomendacion_juego( id de producto ): Ingresando el id de producto, deberíamos recibir una lista con 5 juegos recomendados similares al ingresado."
   ]
  },
  {
   "cell_type": "markdown",
   "metadata": {},
   "source": [
    "- Se armó el DataFrame con las columnas que voy a usar para el modelo de recomendación y se preparó el DataFrame para el modelo de recomendación. Es decir, un DataFrame con items en las filas y géneros y sentimientos en las columnas con valores binarios. Con get_dummies obtengo columnas binarias a partir de 'genres' y 'sentimientos'. Se concatenó el nuevo DataFrame con el anterior para que quede por 'item_id'.\n",
    "- Se juntaron las filas de un mismo 'item_id' agrupando por 'item_id' y utilizando la función sum(). Luego se le asignó el valor de 1 a todos los que tenían un valor mayor.\n",
    "- Se exportó el archivo en formato JSON."
   ]
  },
  {
   "cell_type": "code",
   "execution_count": 485,
   "metadata": {},
   "outputs": [
    {
     "data": {
      "text/html": [
       "<div>\n",
       "<style scoped>\n",
       "    .dataframe tbody tr th:only-of-type {\n",
       "        vertical-align: middle;\n",
       "    }\n",
       "\n",
       "    .dataframe tbody tr th {\n",
       "        vertical-align: top;\n",
       "    }\n",
       "\n",
       "    .dataframe thead th {\n",
       "        text-align: right;\n",
       "    }\n",
       "</style>\n",
       "<table border=\"1\" class=\"dataframe\">\n",
       "  <thead>\n",
       "    <tr style=\"text-align: right;\">\n",
       "      <th></th>\n",
       "      <th>genres</th>\n",
       "      <th>item_id</th>\n",
       "    </tr>\n",
       "  </thead>\n",
       "  <tbody>\n",
       "    <tr>\n",
       "      <th>88310</th>\n",
       "      <td>Action</td>\n",
       "      <td>761140</td>\n",
       "    </tr>\n",
       "  </tbody>\n",
       "</table>\n",
       "</div>"
      ],
      "text/plain": [
       "       genres item_id\n",
       "88310  Action  761140"
      ]
     },
     "execution_count": 485,
     "metadata": {},
     "output_type": "execute_result"
    }
   ],
   "source": [
    "df_item_genres.head(1)"
   ]
  },
  {
   "cell_type": "code",
   "execution_count": 486,
   "metadata": {},
   "outputs": [
    {
     "data": {
      "text/html": [
       "<div>\n",
       "<style scoped>\n",
       "    .dataframe tbody tr th:only-of-type {\n",
       "        vertical-align: middle;\n",
       "    }\n",
       "\n",
       "    .dataframe tbody tr th {\n",
       "        vertical-align: top;\n",
       "    }\n",
       "\n",
       "    .dataframe thead th {\n",
       "        text-align: right;\n",
       "    }\n",
       "</style>\n",
       "<table border=\"1\" class=\"dataframe\">\n",
       "  <thead>\n",
       "    <tr style=\"text-align: right;\">\n",
       "      <th></th>\n",
       "      <th>user_id</th>\n",
       "      <th>user_url</th>\n",
       "      <th>item_id</th>\n",
       "      <th>recommend</th>\n",
       "      <th>sentiment_analysis</th>\n",
       "      <th>posted_ok</th>\n",
       "      <th>año</th>\n",
       "    </tr>\n",
       "  </thead>\n",
       "  <tbody>\n",
       "    <tr>\n",
       "      <th>0</th>\n",
       "      <td>76561197970982479</td>\n",
       "      <td>http://steamcommunity.com/profiles/76561197970...</td>\n",
       "      <td>1250</td>\n",
       "      <td>1</td>\n",
       "      <td>2</td>\n",
       "      <td>2011-11-05</td>\n",
       "      <td>2011</td>\n",
       "    </tr>\n",
       "  </tbody>\n",
       "</table>\n",
       "</div>"
      ],
      "text/plain": [
       "             user_id                                           user_url  \\\n",
       "0  76561197970982479  http://steamcommunity.com/profiles/76561197970...   \n",
       "\n",
       "  item_id  recommend  sentiment_analysis  posted_ok   año  \n",
       "0    1250          1                   2 2011-11-05  2011  "
      ]
     },
     "execution_count": 486,
     "metadata": {},
     "output_type": "execute_result"
    }
   ],
   "source": [
    "df_review_final.head(1)"
   ]
  },
  {
   "cell_type": "code",
   "execution_count": 487,
   "metadata": {},
   "outputs": [
    {
     "data": {
      "text/html": [
       "<div>\n",
       "<style scoped>\n",
       "    .dataframe tbody tr th:only-of-type {\n",
       "        vertical-align: middle;\n",
       "    }\n",
       "\n",
       "    .dataframe tbody tr th {\n",
       "        vertical-align: top;\n",
       "    }\n",
       "\n",
       "    .dataframe thead th {\n",
       "        text-align: right;\n",
       "    }\n",
       "</style>\n",
       "<table border=\"1\" class=\"dataframe\">\n",
       "  <thead>\n",
       "    <tr style=\"text-align: right;\">\n",
       "      <th></th>\n",
       "      <th>genres</th>\n",
       "      <th>item_id</th>\n",
       "      <th>sentiment_analysis</th>\n",
       "    </tr>\n",
       "  </thead>\n",
       "  <tbody>\n",
       "    <tr>\n",
       "      <th>0</th>\n",
       "      <td>Action</td>\n",
       "      <td>70</td>\n",
       "      <td>1</td>\n",
       "    </tr>\n",
       "    <tr>\n",
       "      <th>1</th>\n",
       "      <td>Action</td>\n",
       "      <td>70</td>\n",
       "      <td>1</td>\n",
       "    </tr>\n",
       "  </tbody>\n",
       "</table>\n",
       "</div>"
      ],
      "text/plain": [
       "   genres item_id  sentiment_analysis\n",
       "0  Action      70                   1\n",
       "1  Action      70                   1"
      ]
     },
     "execution_count": 487,
     "metadata": {},
     "output_type": "execute_result"
    }
   ],
   "source": [
    "# Armo el df con las columnas que voy a usar para el modelo de recomendacion\n",
    "df_item_genre_sentim = pd.merge(df_item_genres, df_review_final[['item_id', 'sentiment_analysis']], on='item_id')\n",
    "df_item_genre_sentim.head(2)"
   ]
  },
  {
   "cell_type": "code",
   "execution_count": 488,
   "metadata": {},
   "outputs": [],
   "source": [
    "# Preparo el DF para el modelo de recomendacion. \n",
    "# Nececito tener un df con items en las filas y generos y sentimientos en las columnas con valores binarios\n",
    "\n",
    "# Con get dummies obtengo columnas binarias a partir de 'genres' y 'sentimientos'\n",
    "df_genres_binario = pd.get_dummies(df_item_genre_sentim['genres'])\n",
    "\n",
    "df_sentim_binario = pd.get_dummies(df_item_genre_sentim['sentiment_analysis'])"
   ]
  },
  {
   "cell_type": "code",
   "execution_count": 489,
   "metadata": {},
   "outputs": [],
   "source": [
    "# Concateno este nuevo df con el anterior para que me quede por 'item_id'\n",
    "df_item_genre_sentim_bi = pd.concat([df_item_genre_sentim['item_id'], df_genres_binario, df_sentim_binario], axis=1)"
   ]
  },
  {
   "cell_type": "code",
   "execution_count": 490,
   "metadata": {},
   "outputs": [],
   "source": [
    "# Tengo que juntar las filas de un mismo item_id\n",
    "\n",
    "# Agrupo por item_id y sumo los valores de las columnas \n",
    "df_item_genre_sentim_bi = df_item_genre_sentim_bi.groupby('item_id').sum()\n",
    "\n",
    "# Y si hay algun valor mayor a 1 le asigno 1\n",
    "df_item_genre_sentim_bi[df_item_genre_sentim_bi > 1] = 1"
   ]
  },
  {
   "cell_type": "code",
   "execution_count": 491,
   "metadata": {},
   "outputs": [
    {
     "data": {
      "text/html": [
       "<div>\n",
       "<style scoped>\n",
       "    .dataframe tbody tr th:only-of-type {\n",
       "        vertical-align: middle;\n",
       "    }\n",
       "\n",
       "    .dataframe tbody tr th {\n",
       "        vertical-align: top;\n",
       "    }\n",
       "\n",
       "    .dataframe thead th {\n",
       "        text-align: right;\n",
       "    }\n",
       "</style>\n",
       "<table border=\"1\" class=\"dataframe\">\n",
       "  <thead>\n",
       "    <tr style=\"text-align: right;\">\n",
       "      <th></th>\n",
       "      <th>Action</th>\n",
       "      <th>Adventure</th>\n",
       "      <th>Casual</th>\n",
       "      <th>Indie</th>\n",
       "      <th>Massively Multiplayer</th>\n",
       "      <th>RPG</th>\n",
       "      <th>Racing</th>\n",
       "      <th>Simulation</th>\n",
       "      <th>Sports</th>\n",
       "      <th>Strategy</th>\n",
       "      <th>0</th>\n",
       "      <th>1</th>\n",
       "      <th>2</th>\n",
       "    </tr>\n",
       "    <tr>\n",
       "      <th>item_id</th>\n",
       "      <th></th>\n",
       "      <th></th>\n",
       "      <th></th>\n",
       "      <th></th>\n",
       "      <th></th>\n",
       "      <th></th>\n",
       "      <th></th>\n",
       "      <th></th>\n",
       "      <th></th>\n",
       "      <th></th>\n",
       "      <th></th>\n",
       "      <th></th>\n",
       "      <th></th>\n",
       "    </tr>\n",
       "  </thead>\n",
       "  <tbody>\n",
       "    <tr>\n",
       "      <th>10</th>\n",
       "      <td>1.0</td>\n",
       "      <td>0.0</td>\n",
       "      <td>0.0</td>\n",
       "      <td>0.0</td>\n",
       "      <td>0.0</td>\n",
       "      <td>0.0</td>\n",
       "      <td>0.0</td>\n",
       "      <td>0.0</td>\n",
       "      <td>0.0</td>\n",
       "      <td>0.0</td>\n",
       "      <td>1.0</td>\n",
       "      <td>1.0</td>\n",
       "      <td>1.0</td>\n",
       "    </tr>\n",
       "    <tr>\n",
       "      <th>10090</th>\n",
       "      <td>1.0</td>\n",
       "      <td>0.0</td>\n",
       "      <td>0.0</td>\n",
       "      <td>0.0</td>\n",
       "      <td>0.0</td>\n",
       "      <td>0.0</td>\n",
       "      <td>0.0</td>\n",
       "      <td>0.0</td>\n",
       "      <td>0.0</td>\n",
       "      <td>0.0</td>\n",
       "      <td>1.0</td>\n",
       "      <td>1.0</td>\n",
       "      <td>1.0</td>\n",
       "    </tr>\n",
       "  </tbody>\n",
       "</table>\n",
       "</div>"
      ],
      "text/plain": [
       "         Action  Adventure  Casual  Indie  Massively Multiplayer  RPG  Racing  \\\n",
       "item_id                                                                         \n",
       "10          1.0        0.0     0.0    0.0                    0.0  0.0     0.0   \n",
       "10090       1.0        0.0     0.0    0.0                    0.0  0.0     0.0   \n",
       "\n",
       "         Simulation  Sports  Strategy    0    1    2  \n",
       "item_id                                               \n",
       "10              0.0     0.0       0.0  1.0  1.0  1.0  \n",
       "10090           0.0     0.0       0.0  1.0  1.0  1.0  "
      ]
     },
     "execution_count": 491,
     "metadata": {},
     "output_type": "execute_result"
    }
   ],
   "source": [
    "df_item_genre_sentim_bi.head(2)"
   ]
  },
  {
   "cell_type": "code",
   "execution_count": 492,
   "metadata": {},
   "outputs": [],
   "source": [
    "#df_item_genre_sentim_bi.to_json(\"DataSets/df_modelo.json\")"
   ]
  }
 ],
 "metadata": {
  "kernelspec": {
   "display_name": "Python 3",
   "language": "python",
   "name": "python3"
  },
  "language_info": {
   "codemirror_mode": {
    "name": "ipython",
    "version": 3
   },
   "file_extension": ".py",
   "mimetype": "text/x-python",
   "name": "python",
   "nbconvert_exporter": "python",
   "pygments_lexer": "ipython3",
   "version": "3.10.3"
  },
  "orig_nbformat": 4
 },
 "nbformat": 4,
 "nbformat_minor": 2
}
